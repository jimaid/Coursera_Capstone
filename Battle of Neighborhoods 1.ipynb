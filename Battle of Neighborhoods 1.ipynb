{
 "cells": [
  {
   "cell_type": "markdown",
   "metadata": {},
   "source": [
    "# The Battle of Suburbs"
   ]
  },
  {
   "cell_type": "markdown",
   "metadata": {},
   "source": [
    "## Picking up a location in Toronto for opening a new restaurant"
   ]
  },
  {
   "cell_type": "markdown",
   "metadata": {},
   "source": [
    "# BUSINESS PROBLEM"
   ]
  },
  {
   "cell_type": "markdown",
   "metadata": {},
   "source": [
    "As a professional in a consulting firm specialized in Restaurant Marketing, We just got a client who is looking to open a new restaurant in Toronto, however, he is not sure about the best location and marketing strategy for his new venue. So having been  assigned to help him to develop a comprehensive marketing program,I need to develop a comprehensive solution.\n",
    "\n",
    "Toronto is a vibrant city with lots of buzz almost all year round. Toronto is best known for among other things, its huge financial draw and its beautiful tourist attractions. A stroll and a drive around the city suburbs, will hardly give anyone any concrete hint as to the best spots and venues to set up or open a restaurant. Finding a clean niche to open up a new restaurants whiling keeping an eye for stern competition from established competitors will not a achieved without a data-driven methodology. \n",
    "\n",
    "This project will be focused on getting around the problem and finding the best neighborhood where a restaurant could be open."
   ]
  },
  {
   "cell_type": "markdown",
   "metadata": {},
   "source": [
    "# Description of Data and How it will be used to solve the Problem"
   ]
  },
  {
   "cell_type": "markdown",
   "metadata": {},
   "source": [
    "The following components are deemed as key factors in selecting restaurant location: demographics, the most popular venues, competitors or Potential competitors, and property rates etc.. We may not be able to solve all these factors in such a short period of time, however, some of these considerations could be addressed by using available public datasets by web-scrapping the Canadian Postal Codes data on Wikipedia.The Geospatial coordinates <code>latitude</code> and <code>Longitude</code>  values could be sourced tow ways \n",
    "\n",
    "- Getting them using geocoder.google\n",
    "- using an already scrapped coordinates downloaded in a CSV format. \n",
    "\n",
    "The data will be used to map Boroughs of Toronto.Then map the neighborhoods of specific boroughs. After getting neighborhoods, I will then look for the Venues in the specific neighborhood. \n",
    "\n",
    "This will give me an idea of the venues in the neighborhood and the type of venues or activities that are most patronized. It will be extended to check the venues of all the neighborhoods in that Borough. This is no way a very conclusive analysis.This data is quite limited and will not afford me the opportunity to explore a few other factors that are significant in selecting restaurant location. For example, the demographic composition, the customer flow rate and property rate, parking space etc."
   ]
  },
  {
   "cell_type": "markdown",
   "metadata": {},
   "source": [
    "# Part II - Start of the Solution"
   ]
  },
  {
   "cell_type": "code",
   "execution_count": null,
   "metadata": {},
   "outputs": [],
   "source": []
  }
 ],
 "metadata": {
  "kernelspec": {
   "display_name": "Python 3",
   "language": "python",
   "name": "python3"
  },
  "language_info": {
   "codemirror_mode": {
    "name": "ipython",
    "version": 3
   },
   "file_extension": ".py",
   "mimetype": "text/x-python",
   "name": "python",
   "nbconvert_exporter": "python",
   "pygments_lexer": "ipython3",
   "version": "3.7.3"
  },
  "toc": {
   "base_numbering": 1,
   "nav_menu": {},
   "number_sections": true,
   "sideBar": true,
   "skip_h1_title": false,
   "title_cell": "Table of Contents",
   "title_sidebar": "Contents",
   "toc_cell": false,
   "toc_position": {},
   "toc_section_display": true,
   "toc_window_display": false
  }
 },
 "nbformat": 4,
 "nbformat_minor": 2
}
