{
 "cells": [
  {
   "cell_type": "markdown",
   "metadata": {},
   "source": [
    "# The Battle of Suburbs"
   ]
  },
  {
   "cell_type": "markdown",
   "metadata": {},
   "source": [
    "## Picking up a location in Toronto for opening a new restaurant"
   ]
  },
  {
   "cell_type": "markdown",
   "metadata": {},
   "source": [
    "# BUSINESS PROBLEM"
   ]
  },
  {
   "cell_type": "markdown",
   "metadata": {},
   "source": [
    "As a professional in a consulting firm specialized in Restaurant Marketing, We just got a client who is looking to open a new restaurant in Toronto, however, he is not sure about the best location and marketing strategy for his new venue. So having been  assigned to help him to develop a comprehensive marketing program,I need to develop a comprehensive solution.\n",
    "\n",
    "Toronto is a vibrant city with lots of buzz almost all year round. Toronto is best known for among other things, its huge financial draw and its beautiful tourist attractions. A stroll and a drive around the city suburbs, will hardly give anyone any concrete hint as to the best spots and venues to set up or open a restaurant. Finding a clean niche to open up a new restaurants whiling keeping an eye for stern competition from established competitors will not a achieved without a data-driven methodology. \n",
    "\n",
    "This project will be focused on getting around the problem and finding the best neighborhood where a restaurant could be open."
   ]
  },
  {
   "cell_type": "code",
   "execution_count": null,
   "metadata": {},
   "outputs": [],
   "source": []
  }
 ],
 "metadata": {
  "kernelspec": {
   "display_name": "Python 3",
   "language": "python",
   "name": "python3"
  },
  "language_info": {
   "codemirror_mode": {
    "name": "ipython",
    "version": 3
   },
   "file_extension": ".py",
   "mimetype": "text/x-python",
   "name": "python",
   "nbconvert_exporter": "python",
   "pygments_lexer": "ipython3",
   "version": "3.7.3"
  },
  "toc": {
   "base_numbering": 1,
   "nav_menu": {},
   "number_sections": true,
   "sideBar": true,
   "skip_h1_title": false,
   "title_cell": "Table of Contents",
   "title_sidebar": "Contents",
   "toc_cell": false,
   "toc_position": {},
   "toc_section_display": true,
   "toc_window_display": false
  }
 },
 "nbformat": 4,
 "nbformat_minor": 2
}
