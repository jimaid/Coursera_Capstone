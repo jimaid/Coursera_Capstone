{
 "cells": [
  {
   "cell_type": "markdown",
   "metadata": {},
   "source": [
    "This is the final Project of the Coursera IBM Data Science Certificate Course. "
   ]
  },
  {
   "cell_type": "code",
   "execution_count": 1,
   "metadata": {},
   "outputs": [],
   "source": [
    "import pandas as pd"
   ]
  },
  {
   "cell_type": "code",
   "execution_count": 2,
   "metadata": {},
   "outputs": [],
   "source": [
    "import numpy as np"
   ]
  },
  {
   "cell_type": "code",
   "execution_count": 3,
   "metadata": {},
   "outputs": [
    {
     "name": "stdout",
     "output_type": "stream",
     "text": [
      "Hello Capstone Project Course!\n"
     ]
    }
   ],
   "source": [
    "print('Hello Capstone Project Course!')"
   ]
  },
  {
   "cell_type": "markdown",
   "metadata": {},
   "source": [
    "This is the beginning of the Segmentation and Clustering of Neighborhoods in Toronto project.\n",
    "\n",
    "I will start by scraping the dataset from Wikipedia"
   ]
  },
  {
   "cell_type": "code",
   "execution_count": 4,
   "metadata": {},
   "outputs": [],
   "source": [
    "#Import libraries and dependencies\n",
    "import requests\n",
    "from bs4 import BeautifulSoup\n",
    "from pandas.io.html import read_html"
   ]
  },
  {
   "cell_type": "markdown",
   "metadata": {},
   "source": [
    "### extracting dataset from the Wikipage"
   ]
  },
  {
   "cell_type": "code",
   "execution_count": 5,
   "metadata": {},
   "outputs": [],
   "source": [
    "url ='https://en.wikipedia.org/wiki/List_of_postal_codes_of_Canada:_M'"
   ]
  },
  {
   "cell_type": "code",
   "execution_count": 6,
   "metadata": {},
   "outputs": [],
   "source": [
    "tables = read_html(url, attrs = {\"class\":\"wikitable\"})"
   ]
  },
  {
   "cell_type": "code",
   "execution_count": 7,
   "metadata": {},
   "outputs": [
    {
     "data": {
      "text/html": [
       "<div>\n",
       "<style scoped>\n",
       "    .dataframe tbody tr th:only-of-type {\n",
       "        vertical-align: middle;\n",
       "    }\n",
       "\n",
       "    .dataframe tbody tr th {\n",
       "        vertical-align: top;\n",
       "    }\n",
       "\n",
       "    .dataframe thead th {\n",
       "        text-align: right;\n",
       "    }\n",
       "</style>\n",
       "<table border=\"1\" class=\"dataframe\">\n",
       "  <thead>\n",
       "    <tr style=\"text-align: right;\">\n",
       "      <th></th>\n",
       "      <th>Postal Code</th>\n",
       "      <th>Borough</th>\n",
       "      <th>Neighborhood</th>\n",
       "    </tr>\n",
       "  </thead>\n",
       "  <tbody>\n",
       "    <tr>\n",
       "      <th>0</th>\n",
       "      <td>M1A</td>\n",
       "      <td>Not assigned</td>\n",
       "      <td>NaN</td>\n",
       "    </tr>\n",
       "    <tr>\n",
       "      <th>1</th>\n",
       "      <td>M2A</td>\n",
       "      <td>Not assigned</td>\n",
       "      <td>NaN</td>\n",
       "    </tr>\n",
       "    <tr>\n",
       "      <th>2</th>\n",
       "      <td>M3A</td>\n",
       "      <td>North York</td>\n",
       "      <td>Parkwoods</td>\n",
       "    </tr>\n",
       "    <tr>\n",
       "      <th>3</th>\n",
       "      <td>M4A</td>\n",
       "      <td>North York</td>\n",
       "      <td>Victoria Village</td>\n",
       "    </tr>\n",
       "    <tr>\n",
       "      <th>4</th>\n",
       "      <td>M5A</td>\n",
       "      <td>Downtown Toronto</td>\n",
       "      <td>Regent Park, Harbourfront</td>\n",
       "    </tr>\n",
       "  </tbody>\n",
       "</table>\n",
       "</div>"
      ],
      "text/plain": [
       "  Postal Code           Borough               Neighborhood\n",
       "0         M1A      Not assigned                        NaN\n",
       "1         M2A      Not assigned                        NaN\n",
       "2         M3A        North York                  Parkwoods\n",
       "3         M4A        North York           Victoria Village\n",
       "4         M5A  Downtown Toronto  Regent Park, Harbourfront"
      ]
     },
     "execution_count": 7,
     "metadata": {},
     "output_type": "execute_result"
    }
   ],
   "source": [
    "tables[0].head()"
   ]
  },
  {
   "cell_type": "markdown",
   "metadata": {},
   "source": [
    "### Converting table to a Dataframe"
   ]
  },
  {
   "cell_type": "code",
   "execution_count": 8,
   "metadata": {},
   "outputs": [
    {
     "data": {
      "text/html": [
       "<div>\n",
       "<style scoped>\n",
       "    .dataframe tbody tr th:only-of-type {\n",
       "        vertical-align: middle;\n",
       "    }\n",
       "\n",
       "    .dataframe tbody tr th {\n",
       "        vertical-align: top;\n",
       "    }\n",
       "\n",
       "    .dataframe thead th {\n",
       "        text-align: right;\n",
       "    }\n",
       "</style>\n",
       "<table border=\"1\" class=\"dataframe\">\n",
       "  <thead>\n",
       "    <tr style=\"text-align: right;\">\n",
       "      <th></th>\n",
       "      <th>Postal Code</th>\n",
       "      <th>Borough</th>\n",
       "      <th>Neighborhood</th>\n",
       "    </tr>\n",
       "  </thead>\n",
       "  <tbody>\n",
       "    <tr>\n",
       "      <th>0</th>\n",
       "      <td>M1A</td>\n",
       "      <td>Not assigned</td>\n",
       "      <td>NaN</td>\n",
       "    </tr>\n",
       "    <tr>\n",
       "      <th>1</th>\n",
       "      <td>M2A</td>\n",
       "      <td>Not assigned</td>\n",
       "      <td>NaN</td>\n",
       "    </tr>\n",
       "    <tr>\n",
       "      <th>2</th>\n",
       "      <td>M3A</td>\n",
       "      <td>North York</td>\n",
       "      <td>Parkwoods</td>\n",
       "    </tr>\n",
       "    <tr>\n",
       "      <th>3</th>\n",
       "      <td>M4A</td>\n",
       "      <td>North York</td>\n",
       "      <td>Victoria Village</td>\n",
       "    </tr>\n",
       "    <tr>\n",
       "      <th>4</th>\n",
       "      <td>M5A</td>\n",
       "      <td>Downtown Toronto</td>\n",
       "      <td>Regent Park, Harbourfront</td>\n",
       "    </tr>\n",
       "  </tbody>\n",
       "</table>\n",
       "</div>"
      ],
      "text/plain": [
       "  Postal Code           Borough               Neighborhood\n",
       "0         M1A      Not assigned                        NaN\n",
       "1         M2A      Not assigned                        NaN\n",
       "2         M3A        North York                  Parkwoods\n",
       "3         M4A        North York           Victoria Village\n",
       "4         M5A  Downtown Toronto  Regent Park, Harbourfront"
      ]
     },
     "execution_count": 8,
     "metadata": {},
     "output_type": "execute_result"
    }
   ],
   "source": [
    "canada= pd.DataFrame(tables[0])\n",
    "canada.head()"
   ]
  },
  {
   "cell_type": "markdown",
   "metadata": {},
   "source": [
    "### Removing all Boroughs Not assigned"
   ]
  },
  {
   "cell_type": "code",
   "execution_count": 9,
   "metadata": {},
   "outputs": [
    {
     "data": {
      "text/html": [
       "<div>\n",
       "<style scoped>\n",
       "    .dataframe tbody tr th:only-of-type {\n",
       "        vertical-align: middle;\n",
       "    }\n",
       "\n",
       "    .dataframe tbody tr th {\n",
       "        vertical-align: top;\n",
       "    }\n",
       "\n",
       "    .dataframe thead th {\n",
       "        text-align: right;\n",
       "    }\n",
       "</style>\n",
       "<table border=\"1\" class=\"dataframe\">\n",
       "  <thead>\n",
       "    <tr style=\"text-align: right;\">\n",
       "      <th></th>\n",
       "      <th>Postal Code</th>\n",
       "      <th>Borough</th>\n",
       "      <th>Neighborhood</th>\n",
       "    </tr>\n",
       "  </thead>\n",
       "  <tbody>\n",
       "    <tr>\n",
       "      <th>2</th>\n",
       "      <td>M3A</td>\n",
       "      <td>North York</td>\n",
       "      <td>Parkwoods</td>\n",
       "    </tr>\n",
       "    <tr>\n",
       "      <th>3</th>\n",
       "      <td>M4A</td>\n",
       "      <td>North York</td>\n",
       "      <td>Victoria Village</td>\n",
       "    </tr>\n",
       "    <tr>\n",
       "      <th>4</th>\n",
       "      <td>M5A</td>\n",
       "      <td>Downtown Toronto</td>\n",
       "      <td>Regent Park, Harbourfront</td>\n",
       "    </tr>\n",
       "    <tr>\n",
       "      <th>5</th>\n",
       "      <td>M6A</td>\n",
       "      <td>North York</td>\n",
       "      <td>Lawrence Manor, Lawrence Heights</td>\n",
       "    </tr>\n",
       "    <tr>\n",
       "      <th>6</th>\n",
       "      <td>M7A</td>\n",
       "      <td>Downtown Toronto</td>\n",
       "      <td>Queen's Park, Ontario Provincial Government</td>\n",
       "    </tr>\n",
       "    <tr>\n",
       "      <th>8</th>\n",
       "      <td>M9A</td>\n",
       "      <td>Etobicoke</td>\n",
       "      <td>Islington Avenue, Humber Valley Village</td>\n",
       "    </tr>\n",
       "    <tr>\n",
       "      <th>9</th>\n",
       "      <td>M1B</td>\n",
       "      <td>Scarborough</td>\n",
       "      <td>Malvern, Rouge</td>\n",
       "    </tr>\n",
       "    <tr>\n",
       "      <th>11</th>\n",
       "      <td>M3B</td>\n",
       "      <td>North York</td>\n",
       "      <td>Don Mills</td>\n",
       "    </tr>\n",
       "    <tr>\n",
       "      <th>12</th>\n",
       "      <td>M4B</td>\n",
       "      <td>East York</td>\n",
       "      <td>Parkview Hill, Woodbine Gardens</td>\n",
       "    </tr>\n",
       "    <tr>\n",
       "      <th>13</th>\n",
       "      <td>M5B</td>\n",
       "      <td>Downtown Toronto</td>\n",
       "      <td>Garden District, Ryerson</td>\n",
       "    </tr>\n",
       "  </tbody>\n",
       "</table>\n",
       "</div>"
      ],
      "text/plain": [
       "   Postal Code           Borough                                 Neighborhood\n",
       "2          M3A        North York                                    Parkwoods\n",
       "3          M4A        North York                             Victoria Village\n",
       "4          M5A  Downtown Toronto                    Regent Park, Harbourfront\n",
       "5          M6A        North York             Lawrence Manor, Lawrence Heights\n",
       "6          M7A  Downtown Toronto  Queen's Park, Ontario Provincial Government\n",
       "8          M9A         Etobicoke      Islington Avenue, Humber Valley Village\n",
       "9          M1B       Scarborough                               Malvern, Rouge\n",
       "11         M3B        North York                                    Don Mills\n",
       "12         M4B         East York              Parkview Hill, Woodbine Gardens\n",
       "13         M5B  Downtown Toronto                     Garden District, Ryerson"
      ]
     },
     "execution_count": 9,
     "metadata": {},
     "output_type": "execute_result"
    }
   ],
   "source": [
    "df1=canada.loc[lambda x:x['Borough']!='Not assigned']\n",
    "df1.head(10)"
   ]
  },
  {
   "cell_type": "code",
   "execution_count": 10,
   "metadata": {},
   "outputs": [
    {
     "data": {
      "text/plain": [
       "(103, 3)"
      ]
     },
     "execution_count": 10,
     "metadata": {},
     "output_type": "execute_result"
    }
   ],
   "source": [
    "df1.shape"
   ]
  },
  {
   "cell_type": "code",
   "execution_count": 11,
   "metadata": {},
   "outputs": [
    {
     "data": {
      "text/html": [
       "<div>\n",
       "<style scoped>\n",
       "    .dataframe tbody tr th:only-of-type {\n",
       "        vertical-align: middle;\n",
       "    }\n",
       "\n",
       "    .dataframe tbody tr th {\n",
       "        vertical-align: top;\n",
       "    }\n",
       "\n",
       "    .dataframe thead th {\n",
       "        text-align: right;\n",
       "    }\n",
       "</style>\n",
       "<table border=\"1\" class=\"dataframe\">\n",
       "  <thead>\n",
       "    <tr style=\"text-align: right;\">\n",
       "      <th></th>\n",
       "      <th>Postal Code</th>\n",
       "      <th>Borough</th>\n",
       "      <th>Neighborhood</th>\n",
       "    </tr>\n",
       "  </thead>\n",
       "  <tbody>\n",
       "    <tr>\n",
       "      <th>0</th>\n",
       "      <td>M3A</td>\n",
       "      <td>North York</td>\n",
       "      <td>Parkwoods</td>\n",
       "    </tr>\n",
       "    <tr>\n",
       "      <th>1</th>\n",
       "      <td>M4A</td>\n",
       "      <td>North York</td>\n",
       "      <td>Victoria Village</td>\n",
       "    </tr>\n",
       "    <tr>\n",
       "      <th>2</th>\n",
       "      <td>M5A</td>\n",
       "      <td>Downtown Toronto</td>\n",
       "      <td>Regent Park, Harbourfront</td>\n",
       "    </tr>\n",
       "    <tr>\n",
       "      <th>3</th>\n",
       "      <td>M6A</td>\n",
       "      <td>North York</td>\n",
       "      <td>Lawrence Manor, Lawrence Heights</td>\n",
       "    </tr>\n",
       "    <tr>\n",
       "      <th>4</th>\n",
       "      <td>M7A</td>\n",
       "      <td>Downtown Toronto</td>\n",
       "      <td>Queen's Park, Ontario Provincial Government</td>\n",
       "    </tr>\n",
       "    <tr>\n",
       "      <th>5</th>\n",
       "      <td>M9A</td>\n",
       "      <td>Etobicoke</td>\n",
       "      <td>Islington Avenue, Humber Valley Village</td>\n",
       "    </tr>\n",
       "    <tr>\n",
       "      <th>6</th>\n",
       "      <td>M1B</td>\n",
       "      <td>Scarborough</td>\n",
       "      <td>Malvern, Rouge</td>\n",
       "    </tr>\n",
       "    <tr>\n",
       "      <th>7</th>\n",
       "      <td>M3B</td>\n",
       "      <td>North York</td>\n",
       "      <td>Don Mills</td>\n",
       "    </tr>\n",
       "    <tr>\n",
       "      <th>8</th>\n",
       "      <td>M4B</td>\n",
       "      <td>East York</td>\n",
       "      <td>Parkview Hill, Woodbine Gardens</td>\n",
       "    </tr>\n",
       "    <tr>\n",
       "      <th>9</th>\n",
       "      <td>M5B</td>\n",
       "      <td>Downtown Toronto</td>\n",
       "      <td>Garden District, Ryerson</td>\n",
       "    </tr>\n",
       "  </tbody>\n",
       "</table>\n",
       "</div>"
      ],
      "text/plain": [
       "  Postal Code           Borough                                 Neighborhood\n",
       "0         M3A        North York                                    Parkwoods\n",
       "1         M4A        North York                             Victoria Village\n",
       "2         M5A  Downtown Toronto                    Regent Park, Harbourfront\n",
       "3         M6A        North York             Lawrence Manor, Lawrence Heights\n",
       "4         M7A  Downtown Toronto  Queen's Park, Ontario Provincial Government\n",
       "5         M9A         Etobicoke      Islington Avenue, Humber Valley Village\n",
       "6         M1B       Scarborough                               Malvern, Rouge\n",
       "7         M3B        North York                                    Don Mills\n",
       "8         M4B         East York              Parkview Hill, Woodbine Gardens\n",
       "9         M5B  Downtown Toronto                     Garden District, Ryerson"
      ]
     },
     "execution_count": 11,
     "metadata": {},
     "output_type": "execute_result"
    }
   ],
   "source": [
    "df1.reset_index(drop=True).head(10)"
   ]
  },
  {
   "cell_type": "code",
   "execution_count": 12,
   "metadata": {},
   "outputs": [
    {
     "data": {
      "text/plain": [
       "(103, 3)"
      ]
     },
     "execution_count": 12,
     "metadata": {},
     "output_type": "execute_result"
    }
   ],
   "source": [
    "df1.shape"
   ]
  },
  {
   "cell_type": "markdown",
   "metadata": {},
   "source": [
    "### Import Location Coordinates"
   ]
  },
  {
   "cell_type": "code",
   "execution_count": 13,
   "metadata": {},
   "outputs": [
    {
     "data": {
      "text/html": [
       "<div>\n",
       "<style scoped>\n",
       "    .dataframe tbody tr th:only-of-type {\n",
       "        vertical-align: middle;\n",
       "    }\n",
       "\n",
       "    .dataframe tbody tr th {\n",
       "        vertical-align: top;\n",
       "    }\n",
       "\n",
       "    .dataframe thead th {\n",
       "        text-align: right;\n",
       "    }\n",
       "</style>\n",
       "<table border=\"1\" class=\"dataframe\">\n",
       "  <thead>\n",
       "    <tr style=\"text-align: right;\">\n",
       "      <th></th>\n",
       "      <th>Postal Code</th>\n",
       "      <th>Latitude</th>\n",
       "      <th>Longitude</th>\n",
       "    </tr>\n",
       "  </thead>\n",
       "  <tbody>\n",
       "    <tr>\n",
       "      <th>0</th>\n",
       "      <td>M1B</td>\n",
       "      <td>43.806686</td>\n",
       "      <td>-79.194353</td>\n",
       "    </tr>\n",
       "    <tr>\n",
       "      <th>1</th>\n",
       "      <td>M1C</td>\n",
       "      <td>43.784535</td>\n",
       "      <td>-79.160497</td>\n",
       "    </tr>\n",
       "    <tr>\n",
       "      <th>2</th>\n",
       "      <td>M1E</td>\n",
       "      <td>43.763573</td>\n",
       "      <td>-79.188711</td>\n",
       "    </tr>\n",
       "    <tr>\n",
       "      <th>3</th>\n",
       "      <td>M1G</td>\n",
       "      <td>43.770992</td>\n",
       "      <td>-79.216917</td>\n",
       "    </tr>\n",
       "    <tr>\n",
       "      <th>4</th>\n",
       "      <td>M1H</td>\n",
       "      <td>43.773136</td>\n",
       "      <td>-79.239476</td>\n",
       "    </tr>\n",
       "  </tbody>\n",
       "</table>\n",
       "</div>"
      ],
      "text/plain": [
       "  Postal Code   Latitude  Longitude\n",
       "0         M1B  43.806686 -79.194353\n",
       "1         M1C  43.784535 -79.160497\n",
       "2         M1E  43.763573 -79.188711\n",
       "3         M1G  43.770992 -79.216917\n",
       "4         M1H  43.773136 -79.239476"
      ]
     },
     "execution_count": 13,
     "metadata": {},
     "output_type": "execute_result"
    }
   ],
   "source": [
    "df2= pd.read_csv('Geospatial_Coordinates.csv')\n",
    "df2.head()"
   ]
  },
  {
   "cell_type": "markdown",
   "metadata": {},
   "source": [
    "### Merge the dataframes to create new dataframe with Longitude and Latitude Coordinates"
   ]
  },
  {
   "cell_type": "code",
   "execution_count": 14,
   "metadata": {},
   "outputs": [
    {
     "data": {
      "text/html": [
       "<div>\n",
       "<style scoped>\n",
       "    .dataframe tbody tr th:only-of-type {\n",
       "        vertical-align: middle;\n",
       "    }\n",
       "\n",
       "    .dataframe tbody tr th {\n",
       "        vertical-align: top;\n",
       "    }\n",
       "\n",
       "    .dataframe thead th {\n",
       "        text-align: right;\n",
       "    }\n",
       "</style>\n",
       "<table border=\"1\" class=\"dataframe\">\n",
       "  <thead>\n",
       "    <tr style=\"text-align: right;\">\n",
       "      <th></th>\n",
       "      <th>Postal Code</th>\n",
       "      <th>Borough</th>\n",
       "      <th>Neighborhood</th>\n",
       "      <th>Latitude</th>\n",
       "      <th>Longitude</th>\n",
       "    </tr>\n",
       "  </thead>\n",
       "  <tbody>\n",
       "    <tr>\n",
       "      <th>0</th>\n",
       "      <td>M3A</td>\n",
       "      <td>North York</td>\n",
       "      <td>Parkwoods</td>\n",
       "      <td>43.753259</td>\n",
       "      <td>-79.329656</td>\n",
       "    </tr>\n",
       "    <tr>\n",
       "      <th>1</th>\n",
       "      <td>M4A</td>\n",
       "      <td>North York</td>\n",
       "      <td>Victoria Village</td>\n",
       "      <td>43.725882</td>\n",
       "      <td>-79.315572</td>\n",
       "    </tr>\n",
       "    <tr>\n",
       "      <th>2</th>\n",
       "      <td>M5A</td>\n",
       "      <td>Downtown Toronto</td>\n",
       "      <td>Regent Park, Harbourfront</td>\n",
       "      <td>43.654260</td>\n",
       "      <td>-79.360636</td>\n",
       "    </tr>\n",
       "    <tr>\n",
       "      <th>3</th>\n",
       "      <td>M6A</td>\n",
       "      <td>North York</td>\n",
       "      <td>Lawrence Manor, Lawrence Heights</td>\n",
       "      <td>43.718518</td>\n",
       "      <td>-79.464763</td>\n",
       "    </tr>\n",
       "    <tr>\n",
       "      <th>4</th>\n",
       "      <td>M7A</td>\n",
       "      <td>Downtown Toronto</td>\n",
       "      <td>Queen's Park, Ontario Provincial Government</td>\n",
       "      <td>43.662301</td>\n",
       "      <td>-79.389494</td>\n",
       "    </tr>\n",
       "    <tr>\n",
       "      <th>5</th>\n",
       "      <td>M9A</td>\n",
       "      <td>Etobicoke</td>\n",
       "      <td>Islington Avenue, Humber Valley Village</td>\n",
       "      <td>43.667856</td>\n",
       "      <td>-79.532242</td>\n",
       "    </tr>\n",
       "    <tr>\n",
       "      <th>6</th>\n",
       "      <td>M1B</td>\n",
       "      <td>Scarborough</td>\n",
       "      <td>Malvern, Rouge</td>\n",
       "      <td>43.806686</td>\n",
       "      <td>-79.194353</td>\n",
       "    </tr>\n",
       "    <tr>\n",
       "      <th>7</th>\n",
       "      <td>M3B</td>\n",
       "      <td>North York</td>\n",
       "      <td>Don Mills</td>\n",
       "      <td>43.745906</td>\n",
       "      <td>-79.352188</td>\n",
       "    </tr>\n",
       "    <tr>\n",
       "      <th>8</th>\n",
       "      <td>M4B</td>\n",
       "      <td>East York</td>\n",
       "      <td>Parkview Hill, Woodbine Gardens</td>\n",
       "      <td>43.706397</td>\n",
       "      <td>-79.309937</td>\n",
       "    </tr>\n",
       "    <tr>\n",
       "      <th>9</th>\n",
       "      <td>M5B</td>\n",
       "      <td>Downtown Toronto</td>\n",
       "      <td>Garden District, Ryerson</td>\n",
       "      <td>43.657162</td>\n",
       "      <td>-79.378937</td>\n",
       "    </tr>\n",
       "    <tr>\n",
       "      <th>10</th>\n",
       "      <td>M6B</td>\n",
       "      <td>North York</td>\n",
       "      <td>Glencairn</td>\n",
       "      <td>43.709577</td>\n",
       "      <td>-79.445073</td>\n",
       "    </tr>\n",
       "    <tr>\n",
       "      <th>11</th>\n",
       "      <td>M9B</td>\n",
       "      <td>Etobicoke</td>\n",
       "      <td>West Deane Park, Princess Gardens, Martin Grov...</td>\n",
       "      <td>43.650943</td>\n",
       "      <td>-79.554724</td>\n",
       "    </tr>\n",
       "  </tbody>\n",
       "</table>\n",
       "</div>"
      ],
      "text/plain": [
       "   Postal Code           Borough  \\\n",
       "0          M3A        North York   \n",
       "1          M4A        North York   \n",
       "2          M5A  Downtown Toronto   \n",
       "3          M6A        North York   \n",
       "4          M7A  Downtown Toronto   \n",
       "5          M9A         Etobicoke   \n",
       "6          M1B       Scarborough   \n",
       "7          M3B        North York   \n",
       "8          M4B         East York   \n",
       "9          M5B  Downtown Toronto   \n",
       "10         M6B        North York   \n",
       "11         M9B         Etobicoke   \n",
       "\n",
       "                                         Neighborhood   Latitude  Longitude  \n",
       "0                                           Parkwoods  43.753259 -79.329656  \n",
       "1                                    Victoria Village  43.725882 -79.315572  \n",
       "2                           Regent Park, Harbourfront  43.654260 -79.360636  \n",
       "3                    Lawrence Manor, Lawrence Heights  43.718518 -79.464763  \n",
       "4         Queen's Park, Ontario Provincial Government  43.662301 -79.389494  \n",
       "5             Islington Avenue, Humber Valley Village  43.667856 -79.532242  \n",
       "6                                      Malvern, Rouge  43.806686 -79.194353  \n",
       "7                                           Don Mills  43.745906 -79.352188  \n",
       "8                     Parkview Hill, Woodbine Gardens  43.706397 -79.309937  \n",
       "9                            Garden District, Ryerson  43.657162 -79.378937  \n",
       "10                                          Glencairn  43.709577 -79.445073  \n",
       "11  West Deane Park, Princess Gardens, Martin Grov...  43.650943 -79.554724  "
      ]
     },
     "execution_count": 14,
     "metadata": {},
     "output_type": "execute_result"
    }
   ],
   "source": [
    "df=pd.merge(df1,df2, on='Postal Code')\n",
    "df.head(12)"
   ]
  },
  {
   "cell_type": "markdown",
   "metadata": {},
   "source": [
    "### Creating a map of Toronto and clustering the Neighborhoods"
   ]
  },
  {
   "cell_type": "code",
   "execution_count": 15,
   "metadata": {},
   "outputs": [],
   "source": [
    "import folium"
   ]
  },
  {
   "cell_type": "code",
   "execution_count": 16,
   "metadata": {},
   "outputs": [],
   "source": [
    "from geopy.geocoders import Nominatim"
   ]
  },
  {
   "cell_type": "code",
   "execution_count": 17,
   "metadata": {},
   "outputs": [
    {
     "name": "stdout",
     "output_type": "stream",
     "text": [
      "The geograpical coordinate of Toronto City are 43.6534817, -79.3839347.\n"
     ]
    }
   ],
   "source": [
    "address = 'Toronto, ON'\n",
    "\n",
    "geolocator = Nominatim(user_agent=\"ca_explorer\")\n",
    "location = geolocator.geocode(address)\n",
    "latitude = location.latitude\n",
    "longitude = location.longitude\n",
    "print('The geograpical coordinate of Toronto City are {}, {}.'.format(latitude, longitude))"
   ]
  },
  {
   "cell_type": "code",
   "execution_count": 18,
   "metadata": {},
   "outputs": [],
   "source": [
    "canada_map = folium.Map(location=[latitude, longitude], zoom_start = 11)\n"
   ]
  },
  {
   "cell_type": "code",
   "execution_count": 19,
   "metadata": {},
   "outputs": [
    {
     "data": {
      "text/html": [
       "<div style=\"width:100%;\"><div style=\"position:relative;width:100%;height:0;padding-bottom:60%;\"><iframe src=\"data:text/html;charset=utf-8;base64,PCFET0NUWVBFIGh0bWw+CjxoZWFkPiAgICAKICAgIDxtZXRhIGh0dHAtZXF1aXY9ImNvbnRlbnQtdHlwZSIgY29udGVudD0idGV4dC9odG1sOyBjaGFyc2V0PVVURi04IiAvPgogICAgCiAgICAgICAgPHNjcmlwdD4KICAgICAgICAgICAgTF9OT19UT1VDSCA9IGZhbHNlOwogICAgICAgICAgICBMX0RJU0FCTEVfM0QgPSBmYWxzZTsKICAgICAgICA8L3NjcmlwdD4KICAgIAogICAgPHNjcmlwdCBzcmM9Imh0dHBzOi8vY2RuLmpzZGVsaXZyLm5ldC9ucG0vbGVhZmxldEAxLjUuMS9kaXN0L2xlYWZsZXQuanMiPjwvc2NyaXB0PgogICAgPHNjcmlwdCBzcmM9Imh0dHBzOi8vY29kZS5qcXVlcnkuY29tL2pxdWVyeS0xLjEyLjQubWluLmpzIj48L3NjcmlwdD4KICAgIDxzY3JpcHQgc3JjPSJodHRwczovL21heGNkbi5ib290c3RyYXBjZG4uY29tL2Jvb3RzdHJhcC8zLjIuMC9qcy9ib290c3RyYXAubWluLmpzIj48L3NjcmlwdD4KICAgIDxzY3JpcHQgc3JjPSJodHRwczovL2NkbmpzLmNsb3VkZmxhcmUuY29tL2FqYXgvbGlicy9MZWFmbGV0LmF3ZXNvbWUtbWFya2Vycy8yLjAuMi9sZWFmbGV0LmF3ZXNvbWUtbWFya2Vycy5qcyI+PC9zY3JpcHQ+CiAgICA8bGluayByZWw9InN0eWxlc2hlZXQiIGhyZWY9Imh0dHBzOi8vY2RuLmpzZGVsaXZyLm5ldC9ucG0vbGVhZmxldEAxLjUuMS9kaXN0L2xlYWZsZXQuY3NzIi8+CiAgICA8bGluayByZWw9InN0eWxlc2hlZXQiIGhyZWY9Imh0dHBzOi8vbWF4Y2RuLmJvb3RzdHJhcGNkbi5jb20vYm9vdHN0cmFwLzMuMi4wL2Nzcy9ib290c3RyYXAubWluLmNzcyIvPgogICAgPGxpbmsgcmVsPSJzdHlsZXNoZWV0IiBocmVmPSJodHRwczovL21heGNkbi5ib290c3RyYXBjZG4uY29tL2Jvb3RzdHJhcC8zLjIuMC9jc3MvYm9vdHN0cmFwLXRoZW1lLm1pbi5jc3MiLz4KICAgIDxsaW5rIHJlbD0ic3R5bGVzaGVldCIgaHJlZj0iaHR0cHM6Ly9tYXhjZG4uYm9vdHN0cmFwY2RuLmNvbS9mb250LWF3ZXNvbWUvNC42LjMvY3NzL2ZvbnQtYXdlc29tZS5taW4uY3NzIi8+CiAgICA8bGluayByZWw9InN0eWxlc2hlZXQiIGhyZWY9Imh0dHBzOi8vY2RuanMuY2xvdWRmbGFyZS5jb20vYWpheC9saWJzL0xlYWZsZXQuYXdlc29tZS1tYXJrZXJzLzIuMC4yL2xlYWZsZXQuYXdlc29tZS1tYXJrZXJzLmNzcyIvPgogICAgPGxpbmsgcmVsPSJzdHlsZXNoZWV0IiBocmVmPSJodHRwczovL3Jhd2Nkbi5naXRoYWNrLmNvbS9weXRob24tdmlzdWFsaXphdGlvbi9mb2xpdW0vbWFzdGVyL2ZvbGl1bS90ZW1wbGF0ZXMvbGVhZmxldC5hd2Vzb21lLnJvdGF0ZS5jc3MiLz4KICAgIDxzdHlsZT5odG1sLCBib2R5IHt3aWR0aDogMTAwJTtoZWlnaHQ6IDEwMCU7bWFyZ2luOiAwO3BhZGRpbmc6IDA7fTwvc3R5bGU+CiAgICA8c3R5bGU+I21hcCB7cG9zaXRpb246YWJzb2x1dGU7dG9wOjA7Ym90dG9tOjA7cmlnaHQ6MDtsZWZ0OjA7fTwvc3R5bGU+CiAgICAKICAgICAgICAgICAgPG1ldGEgbmFtZT0idmlld3BvcnQiIGNvbnRlbnQ9IndpZHRoPWRldmljZS13aWR0aCwKICAgICAgICAgICAgICAgIGluaXRpYWwtc2NhbGU9MS4wLCBtYXhpbXVtLXNjYWxlPTEuMCwgdXNlci1zY2FsYWJsZT1ubyIgLz4KICAgICAgICAgICAgPHN0eWxlPgogICAgICAgICAgICAgICAgI21hcF9kNGQ0MzE1MzgyOTU0ODc1OWQ3YzdkMzUxNDQ4ZWU2OCB7CiAgICAgICAgICAgICAgICAgICAgcG9zaXRpb246IHJlbGF0aXZlOwogICAgICAgICAgICAgICAgICAgIHdpZHRoOiAxMDAuMCU7CiAgICAgICAgICAgICAgICAgICAgaGVpZ2h0OiAxMDAuMCU7CiAgICAgICAgICAgICAgICAgICAgbGVmdDogMC4wJTsKICAgICAgICAgICAgICAgICAgICB0b3A6IDAuMCU7CiAgICAgICAgICAgICAgICB9CiAgICAgICAgICAgIDwvc3R5bGU+CiAgICAgICAgCjwvaGVhZD4KPGJvZHk+ICAgIAogICAgCiAgICAgICAgICAgIDxkaXYgY2xhc3M9ImZvbGl1bS1tYXAiIGlkPSJtYXBfZDRkNDMxNTM4Mjk1NDg3NTlkN2M3ZDM1MTQ0OGVlNjgiID48L2Rpdj4KICAgICAgICAKPC9ib2R5Pgo8c2NyaXB0PiAgICAKICAgIAogICAgICAgICAgICB2YXIgbWFwX2Q0ZDQzMTUzODI5NTQ4NzU5ZDdjN2QzNTE0NDhlZTY4ID0gTC5tYXAoCiAgICAgICAgICAgICAgICAibWFwX2Q0ZDQzMTUzODI5NTQ4NzU5ZDdjN2QzNTE0NDhlZTY4IiwKICAgICAgICAgICAgICAgIHsKICAgICAgICAgICAgICAgICAgICBjZW50ZXI6IFs0My42NTM0ODE3LCAtNzkuMzgzOTM0N10sCiAgICAgICAgICAgICAgICAgICAgY3JzOiBMLkNSUy5FUFNHMzg1NywKICAgICAgICAgICAgICAgICAgICB6b29tOiAxMSwKICAgICAgICAgICAgICAgICAgICB6b29tQ29udHJvbDogdHJ1ZSwKICAgICAgICAgICAgICAgICAgICBwcmVmZXJDYW52YXM6IGZhbHNlLAogICAgICAgICAgICAgICAgfQogICAgICAgICAgICApOwoKICAgICAgICAgICAgCgogICAgICAgIAogICAgCiAgICAgICAgICAgIHZhciB0aWxlX2xheWVyXzgxNWI3MGU5NWEzZTQ3MzY4NGE1YjI4NTExOGIxNzEzID0gTC50aWxlTGF5ZXIoCiAgICAgICAgICAgICAgICAiaHR0cHM6Ly97c30udGlsZS5vcGVuc3RyZWV0bWFwLm9yZy97en0ve3h9L3t5fS5wbmciLAogICAgICAgICAgICAgICAgeyJhdHRyaWJ1dGlvbiI6ICJEYXRhIGJ5IFx1MDAyNmNvcHk7IFx1MDAzY2EgaHJlZj1cImh0dHA6Ly9vcGVuc3RyZWV0bWFwLm9yZ1wiXHUwMDNlT3BlblN0cmVldE1hcFx1MDAzYy9hXHUwMDNlLCB1bmRlciBcdTAwM2NhIGhyZWY9XCJodHRwOi8vd3d3Lm9wZW5zdHJlZXRtYXAub3JnL2NvcHlyaWdodFwiXHUwMDNlT0RiTFx1MDAzYy9hXHUwMDNlLiIsICJkZXRlY3RSZXRpbmEiOiBmYWxzZSwgIm1heE5hdGl2ZVpvb20iOiAxOCwgIm1heFpvb20iOiAxOCwgIm1pblpvb20iOiAwLCAibm9XcmFwIjogZmFsc2UsICJvcGFjaXR5IjogMSwgInN1YmRvbWFpbnMiOiAiYWJjIiwgInRtcyI6IGZhbHNlfQogICAgICAgICAgICApLmFkZFRvKG1hcF9kNGQ0MzE1MzgyOTU0ODc1OWQ3YzdkMzUxNDQ4ZWU2OCk7CiAgICAgICAgCiAgICAKICAgICAgICAgICAgdmFyIGNpcmNsZV9tYXJrZXJfMzNkZWVjMzMwYjE5NDg5OTk3Y2JhZjVmZDIyMDQxYzMgPSBMLmNpcmNsZU1hcmtlcigKICAgICAgICAgICAgICAgIFs0My43NTMyNTg2LCAtNzkuMzI5NjU2NV0sCiAgICAgICAgICAgICAgICB7ImJ1YmJsaW5nTW91c2VFdmVudHMiOiB0cnVlLCAiY29sb3IiOiAiYmx1ZSIsICJkYXNoQXJyYXkiOiBudWxsLCAiZGFzaE9mZnNldCI6IG51bGwsICJmaWxsIjogdHJ1ZSwgImZpbGxDb2xvciI6ICIjMzE4NmNjIiwgImZpbGxPcGFjaXR5IjogMC43LCAiZmlsbFJ1bGUiOiAiZXZlbm9kZCIsICJsaW5lQ2FwIjogInJvdW5kIiwgImxpbmVKb2luIjogInJvdW5kIiwgIm9wYWNpdHkiOiAxLjAsICJyYWRpdXMiOiA1LCAic3Ryb2tlIjogdHJ1ZSwgIndlaWdodCI6IDN9CiAgICAgICAgICAgICkuYWRkVG8obWFwX2Q0ZDQzMTUzODI5NTQ4NzU5ZDdjN2QzNTE0NDhlZTY4KTsKICAgICAgICAKICAgIAogICAgICAgIHZhciBwb3B1cF9lY2ZhNjhkNzA1NmQ0ZTJiYjIxOWRmNGYwZWIyZDg4YiA9IEwucG9wdXAoeyJtYXhXaWR0aCI6ICIxMDAlIn0pOwoKICAgICAgICAKICAgICAgICAgICAgdmFyIGh0bWxfYWY4YjRiMTJhNjY1NDRhNWI3YWNkNjhmMjU5OTNmODIgPSAkKGA8ZGl2IGlkPSJodG1sX2FmOGI0YjEyYTY2NTQ0YTViN2FjZDY4ZjI1OTkzZjgyIiBzdHlsZT0id2lkdGg6IDEwMC4wJTsgaGVpZ2h0OiAxMDAuMCU7Ij5QYXJrd29vZHMsIE5vcnRoIFlvcms8L2Rpdj5gKVswXTsKICAgICAgICAgICAgcG9wdXBfZWNmYTY4ZDcwNTZkNGUyYmIyMTlkZjRmMGViMmQ4OGIuc2V0Q29udGVudChodG1sX2FmOGI0YjEyYTY2NTQ0YTViN2FjZDY4ZjI1OTkzZjgyKTsKICAgICAgICAKCiAgICAgICAgY2lyY2xlX21hcmtlcl8zM2RlZWMzMzBiMTk0ODk5OTdjYmFmNWZkMjIwNDFjMy5iaW5kUG9wdXAocG9wdXBfZWNmYTY4ZDcwNTZkNGUyYmIyMTlkZjRmMGViMmQ4OGIpCiAgICAgICAgOwoKICAgICAgICAKICAgIAogICAgCiAgICAgICAgICAgIHZhciBjaXJjbGVfbWFya2VyXzhhYmYxODNlYWU4NjQxY2NhYTA4YmRlNDMzMjIyOGQ1ID0gTC5jaXJjbGVNYXJrZXIoCiAgICAgICAgICAgICAgICBbNDMuNzI1ODgyMjk5OTk5OTk1LCAtNzkuMzE1NTcxNTk5OTk5OThdLAogICAgICAgICAgICAgICAgeyJidWJibGluZ01vdXNlRXZlbnRzIjogdHJ1ZSwgImNvbG9yIjogImJsdWUiLCAiZGFzaEFycmF5IjogbnVsbCwgImRhc2hPZmZzZXQiOiBudWxsLCAiZmlsbCI6IHRydWUsICJmaWxsQ29sb3IiOiAiIzMxODZjYyIsICJmaWxsT3BhY2l0eSI6IDAuNywgImZpbGxSdWxlIjogImV2ZW5vZGQiLCAibGluZUNhcCI6ICJyb3VuZCIsICJsaW5lSm9pbiI6ICJyb3VuZCIsICJvcGFjaXR5IjogMS4wLCAicmFkaXVzIjogNSwgInN0cm9rZSI6IHRydWUsICJ3ZWlnaHQiOiAzfQogICAgICAgICAgICApLmFkZFRvKG1hcF9kNGQ0MzE1MzgyOTU0ODc1OWQ3YzdkMzUxNDQ4ZWU2OCk7CiAgICAgICAgCiAgICAKICAgICAgICB2YXIgcG9wdXBfMDM1MzRhZWIzMjBlNGNiZTk2NDRkZTI1NzFmOThiMzkgPSBMLnBvcHVwKHsibWF4V2lkdGgiOiAiMTAwJSJ9KTsKCiAgICAgICAgCiAgICAgICAgICAgIHZhciBodG1sXzE1NjRmZDNkNjY4NjQyYWZhZGQwYTMwYTc0MmE0YWNjID0gJChgPGRpdiBpZD0iaHRtbF8xNTY0ZmQzZDY2ODY0MmFmYWRkMGEzMGE3NDJhNGFjYyIgc3R5bGU9IndpZHRoOiAxMDAuMCU7IGhlaWdodDogMTAwLjAlOyI+VmljdG9yaWEgVmlsbGFnZSwgTm9ydGggWW9yazwvZGl2PmApWzBdOwogICAgICAgICAgICBwb3B1cF8wMzUzNGFlYjMyMGU0Y2JlOTY0NGRlMjU3MWY5OGIzOS5zZXRDb250ZW50KGh0bWxfMTU2NGZkM2Q2Njg2NDJhZmFkZDBhMzBhNzQyYTRhY2MpOwogICAgICAgIAoKICAgICAgICBjaXJjbGVfbWFya2VyXzhhYmYxODNlYWU4NjQxY2NhYTA4YmRlNDMzMjIyOGQ1LmJpbmRQb3B1cChwb3B1cF8wMzUzNGFlYjMyMGU0Y2JlOTY0NGRlMjU3MWY5OGIzOSkKICAgICAgICA7CgogICAgICAgIAogICAgCiAgICAKICAgICAgICAgICAgdmFyIGNpcmNsZV9tYXJrZXJfMjljMWY3MTY4YzY1NGRjNmEyZWQzODIwYTdiMmFiM2IgPSBMLmNpcmNsZU1hcmtlcigKICAgICAgICAgICAgICAgIFs0My42NTQyNTk5LCAtNzkuMzYwNjM1OV0sCiAgICAgICAgICAgICAgICB7ImJ1YmJsaW5nTW91c2VFdmVudHMiOiB0cnVlLCAiY29sb3IiOiAiYmx1ZSIsICJkYXNoQXJyYXkiOiBudWxsLCAiZGFzaE9mZnNldCI6IG51bGwsICJmaWxsIjogdHJ1ZSwgImZpbGxDb2xvciI6ICIjMzE4NmNjIiwgImZpbGxPcGFjaXR5IjogMC43LCAiZmlsbFJ1bGUiOiAiZXZlbm9kZCIsICJsaW5lQ2FwIjogInJvdW5kIiwgImxpbmVKb2luIjogInJvdW5kIiwgIm9wYWNpdHkiOiAxLjAsICJyYWRpdXMiOiA1LCAic3Ryb2tlIjogdHJ1ZSwgIndlaWdodCI6IDN9CiAgICAgICAgICAgICkuYWRkVG8obWFwX2Q0ZDQzMTUzODI5NTQ4NzU5ZDdjN2QzNTE0NDhlZTY4KTsKICAgICAgICAKICAgIAogICAgICAgIHZhciBwb3B1cF84ZmQ4OGYwM2FhMmE0ZDk2YmJiN2FkYmExOGY0YmZjZCA9IEwucG9wdXAoeyJtYXhXaWR0aCI6ICIxMDAlIn0pOwoKICAgICAgICAKICAgICAgICAgICAgdmFyIGh0bWxfY2M2NjEzMmY2ZTdhNGY1NDljZjk0NzAwYmI5ZmM5NWIgPSAkKGA8ZGl2IGlkPSJodG1sX2NjNjYxMzJmNmU3YTRmNTQ5Y2Y5NDcwMGJiOWZjOTViIiBzdHlsZT0id2lkdGg6IDEwMC4wJTsgaGVpZ2h0OiAxMDAuMCU7Ij5SZWdlbnQgUGFyaywgSGFyYm91cmZyb250LCBEb3dudG93biBUb3JvbnRvPC9kaXY+YClbMF07CiAgICAgICAgICAgIHBvcHVwXzhmZDg4ZjAzYWEyYTRkOTZiYmI3YWRiYTE4ZjRiZmNkLnNldENvbnRlbnQoaHRtbF9jYzY2MTMyZjZlN2E0ZjU0OWNmOTQ3MDBiYjlmYzk1Yik7CiAgICAgICAgCgogICAgICAgIGNpcmNsZV9tYXJrZXJfMjljMWY3MTY4YzY1NGRjNmEyZWQzODIwYTdiMmFiM2IuYmluZFBvcHVwKHBvcHVwXzhmZDg4ZjAzYWEyYTRkOTZiYmI3YWRiYTE4ZjRiZmNkKQogICAgICAgIDsKCiAgICAgICAgCiAgICAKICAgIAogICAgICAgICAgICB2YXIgY2lyY2xlX21hcmtlcl84YzMxMjgxZTEzNTE0MDcyOGIzMjBjODQ3N2NjNGRiMSA9IEwuY2lyY2xlTWFya2VyKAogICAgICAgICAgICAgICAgWzQzLjcxODUxNzk5OTk5OTk5NiwgLTc5LjQ2NDc2MzI5OTk5OTk5XSwKICAgICAgICAgICAgICAgIHsiYnViYmxpbmdNb3VzZUV2ZW50cyI6IHRydWUsICJjb2xvciI6ICJibHVlIiwgImRhc2hBcnJheSI6IG51bGwsICJkYXNoT2Zmc2V0IjogbnVsbCwgImZpbGwiOiB0cnVlLCAiZmlsbENvbG9yIjogIiMzMTg2Y2MiLCAiZmlsbE9wYWNpdHkiOiAwLjcsICJmaWxsUnVsZSI6ICJldmVub2RkIiwgImxpbmVDYXAiOiAicm91bmQiLCAibGluZUpvaW4iOiAicm91bmQiLCAib3BhY2l0eSI6IDEuMCwgInJhZGl1cyI6IDUsICJzdHJva2UiOiB0cnVlLCAid2VpZ2h0IjogM30KICAgICAgICAgICAgKS5hZGRUbyhtYXBfZDRkNDMxNTM4Mjk1NDg3NTlkN2M3ZDM1MTQ0OGVlNjgpOwogICAgICAgIAogICAgCiAgICAgICAgdmFyIHBvcHVwX2UzY2M0YmM4ZDg0MTQ3Y2ZiZmEwZWVlNDhhNGU2NWU3ID0gTC5wb3B1cCh7Im1heFdpZHRoIjogIjEwMCUifSk7CgogICAgICAgIAogICAgICAgICAgICB2YXIgaHRtbF85Yjc5NTNlZTA0NDg0ZmNjOTRiNTBiOGZlMzliMGY2YiA9ICQoYDxkaXYgaWQ9Imh0bWxfOWI3OTUzZWUwNDQ4NGZjYzk0YjUwYjhmZTM5YjBmNmIiIHN0eWxlPSJ3aWR0aDogMTAwLjAlOyBoZWlnaHQ6IDEwMC4wJTsiPkxhd3JlbmNlIE1hbm9yLCBMYXdyZW5jZSBIZWlnaHRzLCBOb3J0aCBZb3JrPC9kaXY+YClbMF07CiAgICAgICAgICAgIHBvcHVwX2UzY2M0YmM4ZDg0MTQ3Y2ZiZmEwZWVlNDhhNGU2NWU3LnNldENvbnRlbnQoaHRtbF85Yjc5NTNlZTA0NDg0ZmNjOTRiNTBiOGZlMzliMGY2Yik7CiAgICAgICAgCgogICAgICAgIGNpcmNsZV9tYXJrZXJfOGMzMTI4MWUxMzUxNDA3MjhiMzIwYzg0NzdjYzRkYjEuYmluZFBvcHVwKHBvcHVwX2UzY2M0YmM4ZDg0MTQ3Y2ZiZmEwZWVlNDhhNGU2NWU3KQogICAgICAgIDsKCiAgICAgICAgCiAgICAKICAgIAogICAgICAgICAgICB2YXIgY2lyY2xlX21hcmtlcl85YjVhNTIxNjBkYjQ0ZDdmYjUzYzg1NTFmNzM3Zjg4MSA9IEwuY2lyY2xlTWFya2VyKAogICAgICAgICAgICAgICAgWzQzLjY2MjMwMTUsIC03OS4zODk0OTM4XSwKICAgICAgICAgICAgICAgIHsiYnViYmxpbmdNb3VzZUV2ZW50cyI6IHRydWUsICJjb2xvciI6ICJibHVlIiwgImRhc2hBcnJheSI6IG51bGwsICJkYXNoT2Zmc2V0IjogbnVsbCwgImZpbGwiOiB0cnVlLCAiZmlsbENvbG9yIjogIiMzMTg2Y2MiLCAiZmlsbE9wYWNpdHkiOiAwLjcsICJmaWxsUnVsZSI6ICJldmVub2RkIiwgImxpbmVDYXAiOiAicm91bmQiLCAibGluZUpvaW4iOiAicm91bmQiLCAib3BhY2l0eSI6IDEuMCwgInJhZGl1cyI6IDUsICJzdHJva2UiOiB0cnVlLCAid2VpZ2h0IjogM30KICAgICAgICAgICAgKS5hZGRUbyhtYXBfZDRkNDMxNTM4Mjk1NDg3NTlkN2M3ZDM1MTQ0OGVlNjgpOwogICAgICAgIAogICAgCiAgICAgICAgdmFyIHBvcHVwXzAxOTMyZjU4Y2ViOTQxYTE5MDQ2NWQ3ZDM3MTFlOWFiID0gTC5wb3B1cCh7Im1heFdpZHRoIjogIjEwMCUifSk7CgogICAgICAgIAogICAgICAgICAgICB2YXIgaHRtbF9lNWIzM2ExZTNkNjA0NzkzYTFmMmVmODU4MWQ1OWIwMyA9ICQoYDxkaXYgaWQ9Imh0bWxfZTViMzNhMWUzZDYwNDc5M2ExZjJlZjg1ODFkNTliMDMiIHN0eWxlPSJ3aWR0aDogMTAwLjAlOyBoZWlnaHQ6IDEwMC4wJTsiPlF1ZWVuJiMzOTtzIFBhcmssIE9udGFyaW8gUHJvdmluY2lhbCBHb3Zlcm5tZW50LCBEb3dudG93biBUb3JvbnRvPC9kaXY+YClbMF07CiAgICAgICAgICAgIHBvcHVwXzAxOTMyZjU4Y2ViOTQxYTE5MDQ2NWQ3ZDM3MTFlOWFiLnNldENvbnRlbnQoaHRtbF9lNWIzM2ExZTNkNjA0NzkzYTFmMmVmODU4MWQ1OWIwMyk7CiAgICAgICAgCgogICAgICAgIGNpcmNsZV9tYXJrZXJfOWI1YTUyMTYwZGI0NGQ3ZmI1M2M4NTUxZjczN2Y4ODEuYmluZFBvcHVwKHBvcHVwXzAxOTMyZjU4Y2ViOTQxYTE5MDQ2NWQ3ZDM3MTFlOWFiKQogICAgICAgIDsKCiAgICAgICAgCiAgICAKICAgIAogICAgICAgICAgICB2YXIgY2lyY2xlX21hcmtlcl9kZjY1Y2IzZTA1ZWE0NTI4OTZkZjQzYzgwM2Y2MTliZSA9IEwuY2lyY2xlTWFya2VyKAogICAgICAgICAgICAgICAgWzQzLjY2Nzg1NTYsIC03OS41MzIyNDI0MDAwMDAwMl0sCiAgICAgICAgICAgICAgICB7ImJ1YmJsaW5nTW91c2VFdmVudHMiOiB0cnVlLCAiY29sb3IiOiAiYmx1ZSIsICJkYXNoQXJyYXkiOiBudWxsLCAiZGFzaE9mZnNldCI6IG51bGwsICJmaWxsIjogdHJ1ZSwgImZpbGxDb2xvciI6ICIjMzE4NmNjIiwgImZpbGxPcGFjaXR5IjogMC43LCAiZmlsbFJ1bGUiOiAiZXZlbm9kZCIsICJsaW5lQ2FwIjogInJvdW5kIiwgImxpbmVKb2luIjogInJvdW5kIiwgIm9wYWNpdHkiOiAxLjAsICJyYWRpdXMiOiA1LCAic3Ryb2tlIjogdHJ1ZSwgIndlaWdodCI6IDN9CiAgICAgICAgICAgICkuYWRkVG8obWFwX2Q0ZDQzMTUzODI5NTQ4NzU5ZDdjN2QzNTE0NDhlZTY4KTsKICAgICAgICAKICAgIAogICAgICAgIHZhciBwb3B1cF9kMDI1ZGM1YjY5MmE0ZTIxYTc5NGNmM2M1ZjdhM2ZjOCA9IEwucG9wdXAoeyJtYXhXaWR0aCI6ICIxMDAlIn0pOwoKICAgICAgICAKICAgICAgICAgICAgdmFyIGh0bWxfNzYxOGEzYzYwODBjNDE1ZWFkMjU0MzA5N2I5Y2U4M2MgPSAkKGA8ZGl2IGlkPSJodG1sXzc2MThhM2M2MDgwYzQxNWVhZDI1NDMwOTdiOWNlODNjIiBzdHlsZT0id2lkdGg6IDEwMC4wJTsgaGVpZ2h0OiAxMDAuMCU7Ij5Jc2xpbmd0b24gQXZlbnVlLCBIdW1iZXIgVmFsbGV5IFZpbGxhZ2UsIEV0b2JpY29rZTwvZGl2PmApWzBdOwogICAgICAgICAgICBwb3B1cF9kMDI1ZGM1YjY5MmE0ZTIxYTc5NGNmM2M1ZjdhM2ZjOC5zZXRDb250ZW50KGh0bWxfNzYxOGEzYzYwODBjNDE1ZWFkMjU0MzA5N2I5Y2U4M2MpOwogICAgICAgIAoKICAgICAgICBjaXJjbGVfbWFya2VyX2RmNjVjYjNlMDVlYTQ1Mjg5NmRmNDNjODAzZjYxOWJlLmJpbmRQb3B1cChwb3B1cF9kMDI1ZGM1YjY5MmE0ZTIxYTc5NGNmM2M1ZjdhM2ZjOCkKICAgICAgICA7CgogICAgICAgIAogICAgCiAgICAKICAgICAgICAgICAgdmFyIGNpcmNsZV9tYXJrZXJfZDAwYWY2ODA1OWUyNDc0MDljZmI3MGNlNDU5NzUwNjggPSBMLmNpcmNsZU1hcmtlcigKICAgICAgICAgICAgICAgIFs0My44MDY2ODYyOTk5OTk5OTYsIC03OS4xOTQzNTM0MDAwMDAwMV0sCiAgICAgICAgICAgICAgICB7ImJ1YmJsaW5nTW91c2VFdmVudHMiOiB0cnVlLCAiY29sb3IiOiAiYmx1ZSIsICJkYXNoQXJyYXkiOiBudWxsLCAiZGFzaE9mZnNldCI6IG51bGwsICJmaWxsIjogdHJ1ZSwgImZpbGxDb2xvciI6ICIjMzE4NmNjIiwgImZpbGxPcGFjaXR5IjogMC43LCAiZmlsbFJ1bGUiOiAiZXZlbm9kZCIsICJsaW5lQ2FwIjogInJvdW5kIiwgImxpbmVKb2luIjogInJvdW5kIiwgIm9wYWNpdHkiOiAxLjAsICJyYWRpdXMiOiA1LCAic3Ryb2tlIjogdHJ1ZSwgIndlaWdodCI6IDN9CiAgICAgICAgICAgICkuYWRkVG8obWFwX2Q0ZDQzMTUzODI5NTQ4NzU5ZDdjN2QzNTE0NDhlZTY4KTsKICAgICAgICAKICAgIAogICAgICAgIHZhciBwb3B1cF80YjMyM2Q1NjkwNWY0MzEyYTE5ZGNlYWI0OTgwNmFkYSA9IEwucG9wdXAoeyJtYXhXaWR0aCI6ICIxMDAlIn0pOwoKICAgICAgICAKICAgICAgICAgICAgdmFyIGh0bWxfYzRiMDNhZjI0YWE5NGRhY2FkN2M3MzY1ZTc2NGY2N2EgPSAkKGA8ZGl2IGlkPSJodG1sX2M0YjAzYWYyNGFhOTRkYWNhZDdjNzM2NWU3NjRmNjdhIiBzdHlsZT0id2lkdGg6IDEwMC4wJTsgaGVpZ2h0OiAxMDAuMCU7Ij5NYWx2ZXJuLCBSb3VnZSwgU2NhcmJvcm91Z2g8L2Rpdj5gKVswXTsKICAgICAgICAgICAgcG9wdXBfNGIzMjNkNTY5MDVmNDMxMmExOWRjZWFiNDk4MDZhZGEuc2V0Q29udGVudChodG1sX2M0YjAzYWYyNGFhOTRkYWNhZDdjNzM2NWU3NjRmNjdhKTsKICAgICAgICAKCiAgICAgICAgY2lyY2xlX21hcmtlcl9kMDBhZjY4MDU5ZTI0NzQwOWNmYjcwY2U0NTk3NTA2OC5iaW5kUG9wdXAocG9wdXBfNGIzMjNkNTY5MDVmNDMxMmExOWRjZWFiNDk4MDZhZGEpCiAgICAgICAgOwoKICAgICAgICAKICAgIAogICAgCiAgICAgICAgICAgIHZhciBjaXJjbGVfbWFya2VyXzM3YWE1YzBmNzQ2ODQ1ZDM4Mzk1MDFjNWU3Mjk4NjQwID0gTC5jaXJjbGVNYXJrZXIoCiAgICAgICAgICAgICAgICBbNDMuNzQ1OTA1Nzk5OTk5OTk2LCAtNzkuMzUyMTg4XSwKICAgICAgICAgICAgICAgIHsiYnViYmxpbmdNb3VzZUV2ZW50cyI6IHRydWUsICJjb2xvciI6ICJibHVlIiwgImRhc2hBcnJheSI6IG51bGwsICJkYXNoT2Zmc2V0IjogbnVsbCwgImZpbGwiOiB0cnVlLCAiZmlsbENvbG9yIjogIiMzMTg2Y2MiLCAiZmlsbE9wYWNpdHkiOiAwLjcsICJmaWxsUnVsZSI6ICJldmVub2RkIiwgImxpbmVDYXAiOiAicm91bmQiLCAibGluZUpvaW4iOiAicm91bmQiLCAib3BhY2l0eSI6IDEuMCwgInJhZGl1cyI6IDUsICJzdHJva2UiOiB0cnVlLCAid2VpZ2h0IjogM30KICAgICAgICAgICAgKS5hZGRUbyhtYXBfZDRkNDMxNTM4Mjk1NDg3NTlkN2M3ZDM1MTQ0OGVlNjgpOwogICAgICAgIAogICAgCiAgICAgICAgdmFyIHBvcHVwX2I3ZDM2NGYyMzIyMzQ0ZjlhNTA0N2E5MDUzNGViOTM2ID0gTC5wb3B1cCh7Im1heFdpZHRoIjogIjEwMCUifSk7CgogICAgICAgIAogICAgICAgICAgICB2YXIgaHRtbF9hNDllYzViMjRiZDM0ZDU3OGY0YzgwZjkyYjJkNmI0ZSA9ICQoYDxkaXYgaWQ9Imh0bWxfYTQ5ZWM1YjI0YmQzNGQ1NzhmNGM4MGY5MmIyZDZiNGUiIHN0eWxlPSJ3aWR0aDogMTAwLjAlOyBoZWlnaHQ6IDEwMC4wJTsiPkRvbiBNaWxscywgTm9ydGggWW9yazwvZGl2PmApWzBdOwogICAgICAgICAgICBwb3B1cF9iN2QzNjRmMjMyMjM0NGY5YTUwNDdhOTA1MzRlYjkzNi5zZXRDb250ZW50KGh0bWxfYTQ5ZWM1YjI0YmQzNGQ1NzhmNGM4MGY5MmIyZDZiNGUpOwogICAgICAgIAoKICAgICAgICBjaXJjbGVfbWFya2VyXzM3YWE1YzBmNzQ2ODQ1ZDM4Mzk1MDFjNWU3Mjk4NjQwLmJpbmRQb3B1cChwb3B1cF9iN2QzNjRmMjMyMjM0NGY5YTUwNDdhOTA1MzRlYjkzNikKICAgICAgICA7CgogICAgICAgIAogICAgCiAgICAKICAgICAgICAgICAgdmFyIGNpcmNsZV9tYXJrZXJfMDBlZTliYzVlMzg1NDY5NGIwMjdkOTFkOWI1OGRiMjQgPSBMLmNpcmNsZU1hcmtlcigKICAgICAgICAgICAgICAgIFs0My43MDYzOTcyLCAtNzkuMzA5OTM3XSwKICAgICAgICAgICAgICAgIHsiYnViYmxpbmdNb3VzZUV2ZW50cyI6IHRydWUsICJjb2xvciI6ICJibHVlIiwgImRhc2hBcnJheSI6IG51bGwsICJkYXNoT2Zmc2V0IjogbnVsbCwgImZpbGwiOiB0cnVlLCAiZmlsbENvbG9yIjogIiMzMTg2Y2MiLCAiZmlsbE9wYWNpdHkiOiAwLjcsICJmaWxsUnVsZSI6ICJldmVub2RkIiwgImxpbmVDYXAiOiAicm91bmQiLCAibGluZUpvaW4iOiAicm91bmQiLCAib3BhY2l0eSI6IDEuMCwgInJhZGl1cyI6IDUsICJzdHJva2UiOiB0cnVlLCAid2VpZ2h0IjogM30KICAgICAgICAgICAgKS5hZGRUbyhtYXBfZDRkNDMxNTM4Mjk1NDg3NTlkN2M3ZDM1MTQ0OGVlNjgpOwogICAgICAgIAogICAgCiAgICAgICAgdmFyIHBvcHVwXzBjYmEyYmFiZWYxMTQ4NWU4NGM3ZTg2OTFkYmM5YzFjID0gTC5wb3B1cCh7Im1heFdpZHRoIjogIjEwMCUifSk7CgogICAgICAgIAogICAgICAgICAgICB2YXIgaHRtbF81NGI3NGVkOGVmZTg0ODI3OGY2YTQ1YWNhYTExYTRhZiA9ICQoYDxkaXYgaWQ9Imh0bWxfNTRiNzRlZDhlZmU4NDgyNzhmNmE0NWFjYWExMWE0YWYiIHN0eWxlPSJ3aWR0aDogMTAwLjAlOyBoZWlnaHQ6IDEwMC4wJTsiPlBhcmt2aWV3IEhpbGwsIFdvb2RiaW5lIEdhcmRlbnMsIEVhc3QgWW9yazwvZGl2PmApWzBdOwogICAgICAgICAgICBwb3B1cF8wY2JhMmJhYmVmMTE0ODVlODRjN2U4NjkxZGJjOWMxYy5zZXRDb250ZW50KGh0bWxfNTRiNzRlZDhlZmU4NDgyNzhmNmE0NWFjYWExMWE0YWYpOwogICAgICAgIAoKICAgICAgICBjaXJjbGVfbWFya2VyXzAwZWU5YmM1ZTM4NTQ2OTRiMDI3ZDkxZDliNThkYjI0LmJpbmRQb3B1cChwb3B1cF8wY2JhMmJhYmVmMTE0ODVlODRjN2U4NjkxZGJjOWMxYykKICAgICAgICA7CgogICAgICAgIAogICAgCiAgICAKICAgICAgICAgICAgdmFyIGNpcmNsZV9tYXJrZXJfNTFhMWE3ZjhjYjc0NDMwMWE0NDk5OWJkYmVjM2Q1NTEgPSBMLmNpcmNsZU1hcmtlcigKICAgICAgICAgICAgICAgIFs0My42NTcxNjE4LCAtNzkuMzc4OTM3MDk5OTk5OTldLAogICAgICAgICAgICAgICAgeyJidWJibGluZ01vdXNlRXZlbnRzIjogdHJ1ZSwgImNvbG9yIjogImJsdWUiLCAiZGFzaEFycmF5IjogbnVsbCwgImRhc2hPZmZzZXQiOiBudWxsLCAiZmlsbCI6IHRydWUsICJmaWxsQ29sb3IiOiAiIzMxODZjYyIsICJmaWxsT3BhY2l0eSI6IDAuNywgImZpbGxSdWxlIjogImV2ZW5vZGQiLCAibGluZUNhcCI6ICJyb3VuZCIsICJsaW5lSm9pbiI6ICJyb3VuZCIsICJvcGFjaXR5IjogMS4wLCAicmFkaXVzIjogNSwgInN0cm9rZSI6IHRydWUsICJ3ZWlnaHQiOiAzfQogICAgICAgICAgICApLmFkZFRvKG1hcF9kNGQ0MzE1MzgyOTU0ODc1OWQ3YzdkMzUxNDQ4ZWU2OCk7CiAgICAgICAgCiAgICAKICAgICAgICB2YXIgcG9wdXBfMzNhYWQ1YzA1YzhlNDk0MGFmNmMxMGRkNDg2NDYxMmIgPSBMLnBvcHVwKHsibWF4V2lkdGgiOiAiMTAwJSJ9KTsKCiAgICAgICAgCiAgICAgICAgICAgIHZhciBodG1sX2Q2YjM0MjZkN2UzYTQ5NzZhNjVmNjQxMDEzY2Q1N2YzID0gJChgPGRpdiBpZD0iaHRtbF9kNmIzNDI2ZDdlM2E0OTc2YTY1ZjY0MTAxM2NkNTdmMyIgc3R5bGU9IndpZHRoOiAxMDAuMCU7IGhlaWdodDogMTAwLjAlOyI+R2FyZGVuIERpc3RyaWN0LCBSeWVyc29uLCBEb3dudG93biBUb3JvbnRvPC9kaXY+YClbMF07CiAgICAgICAgICAgIHBvcHVwXzMzYWFkNWMwNWM4ZTQ5NDBhZjZjMTBkZDQ4NjQ2MTJiLnNldENvbnRlbnQoaHRtbF9kNmIzNDI2ZDdlM2E0OTc2YTY1ZjY0MTAxM2NkNTdmMyk7CiAgICAgICAgCgogICAgICAgIGNpcmNsZV9tYXJrZXJfNTFhMWE3ZjhjYjc0NDMwMWE0NDk5OWJkYmVjM2Q1NTEuYmluZFBvcHVwKHBvcHVwXzMzYWFkNWMwNWM4ZTQ5NDBhZjZjMTBkZDQ4NjQ2MTJiKQogICAgICAgIDsKCiAgICAgICAgCiAgICAKICAgIAogICAgICAgICAgICB2YXIgY2lyY2xlX21hcmtlcl9iMjFjZWE0NWYzZWM0NWVjOWMzZjA0ZThlOWY1NDgyMCA9IEwuY2lyY2xlTWFya2VyKAogICAgICAgICAgICAgICAgWzQzLjcwOTU3NywgLTc5LjQ0NTA3MjU5OTk5OTk5XSwKICAgICAgICAgICAgICAgIHsiYnViYmxpbmdNb3VzZUV2ZW50cyI6IHRydWUsICJjb2xvciI6ICJibHVlIiwgImRhc2hBcnJheSI6IG51bGwsICJkYXNoT2Zmc2V0IjogbnVsbCwgImZpbGwiOiB0cnVlLCAiZmlsbENvbG9yIjogIiMzMTg2Y2MiLCAiZmlsbE9wYWNpdHkiOiAwLjcsICJmaWxsUnVsZSI6ICJldmVub2RkIiwgImxpbmVDYXAiOiAicm91bmQiLCAibGluZUpvaW4iOiAicm91bmQiLCAib3BhY2l0eSI6IDEuMCwgInJhZGl1cyI6IDUsICJzdHJva2UiOiB0cnVlLCAid2VpZ2h0IjogM30KICAgICAgICAgICAgKS5hZGRUbyhtYXBfZDRkNDMxNTM4Mjk1NDg3NTlkN2M3ZDM1MTQ0OGVlNjgpOwogICAgICAgIAogICAgCiAgICAgICAgdmFyIHBvcHVwXzM2MDFmYzViNjU0ZTQ0ODA4MmZkMmExMWM3NmY5YjFiID0gTC5wb3B1cCh7Im1heFdpZHRoIjogIjEwMCUifSk7CgogICAgICAgIAogICAgICAgICAgICB2YXIgaHRtbF9hODQ5ZTk0Y2Y0MTQ0NTE1OWNiOWQ0YTliMzUxMTlhOCA9ICQoYDxkaXYgaWQ9Imh0bWxfYTg0OWU5NGNmNDE0NDUxNTljYjlkNGE5YjM1MTE5YTgiIHN0eWxlPSJ3aWR0aDogMTAwLjAlOyBoZWlnaHQ6IDEwMC4wJTsiPkdsZW5jYWlybiwgTm9ydGggWW9yazwvZGl2PmApWzBdOwogICAgICAgICAgICBwb3B1cF8zNjAxZmM1YjY1NGU0NDgwODJmZDJhMTFjNzZmOWIxYi5zZXRDb250ZW50KGh0bWxfYTg0OWU5NGNmNDE0NDUxNTljYjlkNGE5YjM1MTE5YTgpOwogICAgICAgIAoKICAgICAgICBjaXJjbGVfbWFya2VyX2IyMWNlYTQ1ZjNlYzQ1ZWM5YzNmMDRlOGU5ZjU0ODIwLmJpbmRQb3B1cChwb3B1cF8zNjAxZmM1YjY1NGU0NDgwODJmZDJhMTFjNzZmOWIxYikKICAgICAgICA7CgogICAgICAgIAogICAgCiAgICAKICAgICAgICAgICAgdmFyIGNpcmNsZV9tYXJrZXJfNDhhNDJjNDI3OGNjNDE1Nzg5Yjc4NTRhNTkxMjU0Y2YgPSBMLmNpcmNsZU1hcmtlcigKICAgICAgICAgICAgICAgIFs0My42NTA5NDMyLCAtNzkuNTU0NzI0NDAwMDAwMDFdLAogICAgICAgICAgICAgICAgeyJidWJibGluZ01vdXNlRXZlbnRzIjogdHJ1ZSwgImNvbG9yIjogImJsdWUiLCAiZGFzaEFycmF5IjogbnVsbCwgImRhc2hPZmZzZXQiOiBudWxsLCAiZmlsbCI6IHRydWUsICJmaWxsQ29sb3IiOiAiIzMxODZjYyIsICJmaWxsT3BhY2l0eSI6IDAuNywgImZpbGxSdWxlIjogImV2ZW5vZGQiLCAibGluZUNhcCI6ICJyb3VuZCIsICJsaW5lSm9pbiI6ICJyb3VuZCIsICJvcGFjaXR5IjogMS4wLCAicmFkaXVzIjogNSwgInN0cm9rZSI6IHRydWUsICJ3ZWlnaHQiOiAzfQogICAgICAgICAgICApLmFkZFRvKG1hcF9kNGQ0MzE1MzgyOTU0ODc1OWQ3YzdkMzUxNDQ4ZWU2OCk7CiAgICAgICAgCiAgICAKICAgICAgICB2YXIgcG9wdXBfZDAyY2Q0MDM2NGRiNGQ4ZDlmNDI3YTlkNjdiNDExMzYgPSBMLnBvcHVwKHsibWF4V2lkdGgiOiAiMTAwJSJ9KTsKCiAgICAgICAgCiAgICAgICAgICAgIHZhciBodG1sXzQyZWJhMTJlNjJjYTQ4N2NiZDFmY2JhMTYzYTQ1NDBlID0gJChgPGRpdiBpZD0iaHRtbF80MmViYTEyZTYyY2E0ODdjYmQxZmNiYTE2M2E0NTQwZSIgc3R5bGU9IndpZHRoOiAxMDAuMCU7IGhlaWdodDogMTAwLjAlOyI+V2VzdCBEZWFuZSBQYXJrLCBQcmluY2VzcyBHYXJkZW5zLCBNYXJ0aW4gR3JvdmUsIElzbGluZ3RvbiwgQ2xvdmVyZGFsZSwgRXRvYmljb2tlPC9kaXY+YClbMF07CiAgICAgICAgICAgIHBvcHVwX2QwMmNkNDAzNjRkYjRkOGQ5ZjQyN2E5ZDY3YjQxMTM2LnNldENvbnRlbnQoaHRtbF80MmViYTEyZTYyY2E0ODdjYmQxZmNiYTE2M2E0NTQwZSk7CiAgICAgICAgCgogICAgICAgIGNpcmNsZV9tYXJrZXJfNDhhNDJjNDI3OGNjNDE1Nzg5Yjc4NTRhNTkxMjU0Y2YuYmluZFBvcHVwKHBvcHVwX2QwMmNkNDAzNjRkYjRkOGQ5ZjQyN2E5ZDY3YjQxMTM2KQogICAgICAgIDsKCiAgICAgICAgCiAgICAKICAgIAogICAgICAgICAgICB2YXIgY2lyY2xlX21hcmtlcl8zMDdjMzA2ZTVmMjk0MjY2YTU5ZWI4ODk1ZGFhNmY0YSA9IEwuY2lyY2xlTWFya2VyKAogICAgICAgICAgICAgICAgWzQzLjc4NDUzNTEsIC03OS4xNjA0OTcwOTk5OTk5OV0sCiAgICAgICAgICAgICAgICB7ImJ1YmJsaW5nTW91c2VFdmVudHMiOiB0cnVlLCAiY29sb3IiOiAiYmx1ZSIsICJkYXNoQXJyYXkiOiBudWxsLCAiZGFzaE9mZnNldCI6IG51bGwsICJmaWxsIjogdHJ1ZSwgImZpbGxDb2xvciI6ICIjMzE4NmNjIiwgImZpbGxPcGFjaXR5IjogMC43LCAiZmlsbFJ1bGUiOiAiZXZlbm9kZCIsICJsaW5lQ2FwIjogInJvdW5kIiwgImxpbmVKb2luIjogInJvdW5kIiwgIm9wYWNpdHkiOiAxLjAsICJyYWRpdXMiOiA1LCAic3Ryb2tlIjogdHJ1ZSwgIndlaWdodCI6IDN9CiAgICAgICAgICAgICkuYWRkVG8obWFwX2Q0ZDQzMTUzODI5NTQ4NzU5ZDdjN2QzNTE0NDhlZTY4KTsKICAgICAgICAKICAgIAogICAgICAgIHZhciBwb3B1cF8zMWU5MzQwODc5NzU0MTViYWU5YTVhMTU2OTUyZjRiNyA9IEwucG9wdXAoeyJtYXhXaWR0aCI6ICIxMDAlIn0pOwoKICAgICAgICAKICAgICAgICAgICAgdmFyIGh0bWxfYTZkZmQ0NGViNWQyNDUwMjg1Y2NjZWUwZjI3YThjMzggPSAkKGA8ZGl2IGlkPSJodG1sX2E2ZGZkNDRlYjVkMjQ1MDI4NWNjY2VlMGYyN2E4YzM4IiBzdHlsZT0id2lkdGg6IDEwMC4wJTsgaGVpZ2h0OiAxMDAuMCU7Ij5Sb3VnZSBIaWxsLCBQb3J0IFVuaW9uLCBIaWdobGFuZCBDcmVlaywgU2NhcmJvcm91Z2g8L2Rpdj5gKVswXTsKICAgICAgICAgICAgcG9wdXBfMzFlOTM0MDg3OTc1NDE1YmFlOWE1YTE1Njk1MmY0Yjcuc2V0Q29udGVudChodG1sX2E2ZGZkNDRlYjVkMjQ1MDI4NWNjY2VlMGYyN2E4YzM4KTsKICAgICAgICAKCiAgICAgICAgY2lyY2xlX21hcmtlcl8zMDdjMzA2ZTVmMjk0MjY2YTU5ZWI4ODk1ZGFhNmY0YS5iaW5kUG9wdXAocG9wdXBfMzFlOTM0MDg3OTc1NDE1YmFlOWE1YTE1Njk1MmY0YjcpCiAgICAgICAgOwoKICAgICAgICAKICAgIAogICAgCiAgICAgICAgICAgIHZhciBjaXJjbGVfbWFya2VyXzA2OWU4YzUyMThlZTQwZDVhNTQyZTI0YTZmODhmZjM0ID0gTC5jaXJjbGVNYXJrZXIoCiAgICAgICAgICAgICAgICBbNDMuNzI1ODk5NzAwMDAwMDEsIC03OS4zNDA5MjNdLAogICAgICAgICAgICAgICAgeyJidWJibGluZ01vdXNlRXZlbnRzIjogdHJ1ZSwgImNvbG9yIjogImJsdWUiLCAiZGFzaEFycmF5IjogbnVsbCwgImRhc2hPZmZzZXQiOiBudWxsLCAiZmlsbCI6IHRydWUsICJmaWxsQ29sb3IiOiAiIzMxODZjYyIsICJmaWxsT3BhY2l0eSI6IDAuNywgImZpbGxSdWxlIjogImV2ZW5vZGQiLCAibGluZUNhcCI6ICJyb3VuZCIsICJsaW5lSm9pbiI6ICJyb3VuZCIsICJvcGFjaXR5IjogMS4wLCAicmFkaXVzIjogNSwgInN0cm9rZSI6IHRydWUsICJ3ZWlnaHQiOiAzfQogICAgICAgICAgICApLmFkZFRvKG1hcF9kNGQ0MzE1MzgyOTU0ODc1OWQ3YzdkMzUxNDQ4ZWU2OCk7CiAgICAgICAgCiAgICAKICAgICAgICB2YXIgcG9wdXBfMGFlMzcwMDc0ODMwNGQwZjgxNDI4OWYxZDBjYjVjYWMgPSBMLnBvcHVwKHsibWF4V2lkdGgiOiAiMTAwJSJ9KTsKCiAgICAgICAgCiAgICAgICAgICAgIHZhciBodG1sX2M4MjBmNWE3ZTk1MDRmMDhhOWVkZWM1YmRmOWUwNjU3ID0gJChgPGRpdiBpZD0iaHRtbF9jODIwZjVhN2U5NTA0ZjA4YTllZGVjNWJkZjllMDY1NyIgc3R5bGU9IndpZHRoOiAxMDAuMCU7IGhlaWdodDogMTAwLjAlOyI+RG9uIE1pbGxzLCBOb3J0aCBZb3JrPC9kaXY+YClbMF07CiAgICAgICAgICAgIHBvcHVwXzBhZTM3MDA3NDgzMDRkMGY4MTQyODlmMWQwY2I1Y2FjLnNldENvbnRlbnQoaHRtbF9jODIwZjVhN2U5NTA0ZjA4YTllZGVjNWJkZjllMDY1Nyk7CiAgICAgICAgCgogICAgICAgIGNpcmNsZV9tYXJrZXJfMDY5ZThjNTIxOGVlNDBkNWE1NDJlMjRhNmY4OGZmMzQuYmluZFBvcHVwKHBvcHVwXzBhZTM3MDA3NDgzMDRkMGY4MTQyODlmMWQwY2I1Y2FjKQogICAgICAgIDsKCiAgICAgICAgCiAgICAKICAgIAogICAgICAgICAgICB2YXIgY2lyY2xlX21hcmtlcl8xNGRlYzk1N2VhNjU0MTIwODJhZmQ1YmFhNzRhZTA5YSA9IEwuY2lyY2xlTWFya2VyKAogICAgICAgICAgICAgICAgWzQzLjY5NTM0MzkwMDAwMDAwNSwgLTc5LjMxODM4ODddLAogICAgICAgICAgICAgICAgeyJidWJibGluZ01vdXNlRXZlbnRzIjogdHJ1ZSwgImNvbG9yIjogImJsdWUiLCAiZGFzaEFycmF5IjogbnVsbCwgImRhc2hPZmZzZXQiOiBudWxsLCAiZmlsbCI6IHRydWUsICJmaWxsQ29sb3IiOiAiIzMxODZjYyIsICJmaWxsT3BhY2l0eSI6IDAuNywgImZpbGxSdWxlIjogImV2ZW5vZGQiLCAibGluZUNhcCI6ICJyb3VuZCIsICJsaW5lSm9pbiI6ICJyb3VuZCIsICJvcGFjaXR5IjogMS4wLCAicmFkaXVzIjogNSwgInN0cm9rZSI6IHRydWUsICJ3ZWlnaHQiOiAzfQogICAgICAgICAgICApLmFkZFRvKG1hcF9kNGQ0MzE1MzgyOTU0ODc1OWQ3YzdkMzUxNDQ4ZWU2OCk7CiAgICAgICAgCiAgICAKICAgICAgICB2YXIgcG9wdXBfMGFiMzE1NzVmN2JlNGI1ZGE3YWFmMmZmNmM4N2VjZGUgPSBMLnBvcHVwKHsibWF4V2lkdGgiOiAiMTAwJSJ9KTsKCiAgICAgICAgCiAgICAgICAgICAgIHZhciBodG1sX2YyY2MwYThmMzYyNjQ2YWQ4ZGNiMzVjZDFiMTBhOGUyID0gJChgPGRpdiBpZD0iaHRtbF9mMmNjMGE4ZjM2MjY0NmFkOGRjYjM1Y2QxYjEwYThlMiIgc3R5bGU9IndpZHRoOiAxMDAuMCU7IGhlaWdodDogMTAwLjAlOyI+V29vZGJpbmUgSGVpZ2h0cywgRWFzdCBZb3JrPC9kaXY+YClbMF07CiAgICAgICAgICAgIHBvcHVwXzBhYjMxNTc1ZjdiZTRiNWRhN2FhZjJmZjZjODdlY2RlLnNldENvbnRlbnQoaHRtbF9mMmNjMGE4ZjM2MjY0NmFkOGRjYjM1Y2QxYjEwYThlMik7CiAgICAgICAgCgogICAgICAgIGNpcmNsZV9tYXJrZXJfMTRkZWM5NTdlYTY1NDEyMDgyYWZkNWJhYTc0YWUwOWEuYmluZFBvcHVwKHBvcHVwXzBhYjMxNTc1ZjdiZTRiNWRhN2FhZjJmZjZjODdlY2RlKQogICAgICAgIDsKCiAgICAgICAgCiAgICAKICAgIAogICAgICAgICAgICB2YXIgY2lyY2xlX21hcmtlcl9lODVmYTVlOTU5Yzc0ZWY4YTE0NGY5ZDk4YjIxYTZmMCA9IEwuY2lyY2xlTWFya2VyKAogICAgICAgICAgICAgICAgWzQzLjY1MTQ5MzksIC03OS4zNzU0MTc5XSwKICAgICAgICAgICAgICAgIHsiYnViYmxpbmdNb3VzZUV2ZW50cyI6IHRydWUsICJjb2xvciI6ICJibHVlIiwgImRhc2hBcnJheSI6IG51bGwsICJkYXNoT2Zmc2V0IjogbnVsbCwgImZpbGwiOiB0cnVlLCAiZmlsbENvbG9yIjogIiMzMTg2Y2MiLCAiZmlsbE9wYWNpdHkiOiAwLjcsICJmaWxsUnVsZSI6ICJldmVub2RkIiwgImxpbmVDYXAiOiAicm91bmQiLCAibGluZUpvaW4iOiAicm91bmQiLCAib3BhY2l0eSI6IDEuMCwgInJhZGl1cyI6IDUsICJzdHJva2UiOiB0cnVlLCAid2VpZ2h0IjogM30KICAgICAgICAgICAgKS5hZGRUbyhtYXBfZDRkNDMxNTM4Mjk1NDg3NTlkN2M3ZDM1MTQ0OGVlNjgpOwogICAgICAgIAogICAgCiAgICAgICAgdmFyIHBvcHVwX2U5ZGRiOWQ3ZWJmMDRmMDlhMTkyMmNmYjA3MDJjNDZkID0gTC5wb3B1cCh7Im1heFdpZHRoIjogIjEwMCUifSk7CgogICAgICAgIAogICAgICAgICAgICB2YXIgaHRtbF9kNjQ5ZTBkYWE3MTU0MjM1Yjc0NGI0ZjJjYmUyODJiZiA9ICQoYDxkaXYgaWQ9Imh0bWxfZDY0OWUwZGFhNzE1NDIzNWI3NDRiNGYyY2JlMjgyYmYiIHN0eWxlPSJ3aWR0aDogMTAwLjAlOyBoZWlnaHQ6IDEwMC4wJTsiPlN0LiBKYW1lcyBUb3duLCBEb3dudG93biBUb3JvbnRvPC9kaXY+YClbMF07CiAgICAgICAgICAgIHBvcHVwX2U5ZGRiOWQ3ZWJmMDRmMDlhMTkyMmNmYjA3MDJjNDZkLnNldENvbnRlbnQoaHRtbF9kNjQ5ZTBkYWE3MTU0MjM1Yjc0NGI0ZjJjYmUyODJiZik7CiAgICAgICAgCgogICAgICAgIGNpcmNsZV9tYXJrZXJfZTg1ZmE1ZTk1OWM3NGVmOGExNDRmOWQ5OGIyMWE2ZjAuYmluZFBvcHVwKHBvcHVwX2U5ZGRiOWQ3ZWJmMDRmMDlhMTkyMmNmYjA3MDJjNDZkKQogICAgICAgIDsKCiAgICAgICAgCiAgICAKICAgIAogICAgICAgICAgICB2YXIgY2lyY2xlX21hcmtlcl84NzM3NGFiN2FlZjA0OTVlODU3ZDJmZTE1ZGU4ZGZlZiA9IEwuY2lyY2xlTWFya2VyKAogICAgICAgICAgICAgICAgWzQzLjY5Mzc4MTMsIC03OS40MjgxOTE0MDAwMDAwMl0sCiAgICAgICAgICAgICAgICB7ImJ1YmJsaW5nTW91c2VFdmVudHMiOiB0cnVlLCAiY29sb3IiOiAiYmx1ZSIsICJkYXNoQXJyYXkiOiBudWxsLCAiZGFzaE9mZnNldCI6IG51bGwsICJmaWxsIjogdHJ1ZSwgImZpbGxDb2xvciI6ICIjMzE4NmNjIiwgImZpbGxPcGFjaXR5IjogMC43LCAiZmlsbFJ1bGUiOiAiZXZlbm9kZCIsICJsaW5lQ2FwIjogInJvdW5kIiwgImxpbmVKb2luIjogInJvdW5kIiwgIm9wYWNpdHkiOiAxLjAsICJyYWRpdXMiOiA1LCAic3Ryb2tlIjogdHJ1ZSwgIndlaWdodCI6IDN9CiAgICAgICAgICAgICkuYWRkVG8obWFwX2Q0ZDQzMTUzODI5NTQ4NzU5ZDdjN2QzNTE0NDhlZTY4KTsKICAgICAgICAKICAgIAogICAgICAgIHZhciBwb3B1cF9mNDBiZDU0ODhlODI0ZGMwYWFhYWI1ODNmYjJiMGZhNCA9IEwucG9wdXAoeyJtYXhXaWR0aCI6ICIxMDAlIn0pOwoKICAgICAgICAKICAgICAgICAgICAgdmFyIGh0bWxfMWExYjVhMmRhM2I0NDRmM2EzOTYzZDFkOGE5ZGRkZTMgPSAkKGA8ZGl2IGlkPSJodG1sXzFhMWI1YTJkYTNiNDQ0ZjNhMzk2M2QxZDhhOWRkZGUzIiBzdHlsZT0id2lkdGg6IDEwMC4wJTsgaGVpZ2h0OiAxMDAuMCU7Ij5IdW1ld29vZC1DZWRhcnZhbGUsIFlvcms8L2Rpdj5gKVswXTsKICAgICAgICAgICAgcG9wdXBfZjQwYmQ1NDg4ZTgyNGRjMGFhYWFiNTgzZmIyYjBmYTQuc2V0Q29udGVudChodG1sXzFhMWI1YTJkYTNiNDQ0ZjNhMzk2M2QxZDhhOWRkZGUzKTsKICAgICAgICAKCiAgICAgICAgY2lyY2xlX21hcmtlcl84NzM3NGFiN2FlZjA0OTVlODU3ZDJmZTE1ZGU4ZGZlZi5iaW5kUG9wdXAocG9wdXBfZjQwYmQ1NDg4ZTgyNGRjMGFhYWFiNTgzZmIyYjBmYTQpCiAgICAgICAgOwoKICAgICAgICAKICAgIAogICAgCiAgICAgICAgICAgIHZhciBjaXJjbGVfbWFya2VyXzBmNGEzYTJkMzQ5NTQ4NjJhYjI5ZGFlMDhhMzM5NmY3ID0gTC5jaXJjbGVNYXJrZXIoCiAgICAgICAgICAgICAgICBbNDMuNjQzNTE1MiwgLTc5LjU3NzIwMDc5OTk5OTk5XSwKICAgICAgICAgICAgICAgIHsiYnViYmxpbmdNb3VzZUV2ZW50cyI6IHRydWUsICJjb2xvciI6ICJibHVlIiwgImRhc2hBcnJheSI6IG51bGwsICJkYXNoT2Zmc2V0IjogbnVsbCwgImZpbGwiOiB0cnVlLCAiZmlsbENvbG9yIjogIiMzMTg2Y2MiLCAiZmlsbE9wYWNpdHkiOiAwLjcsICJmaWxsUnVsZSI6ICJldmVub2RkIiwgImxpbmVDYXAiOiAicm91bmQiLCAibGluZUpvaW4iOiAicm91bmQiLCAib3BhY2l0eSI6IDEuMCwgInJhZGl1cyI6IDUsICJzdHJva2UiOiB0cnVlLCAid2VpZ2h0IjogM30KICAgICAgICAgICAgKS5hZGRUbyhtYXBfZDRkNDMxNTM4Mjk1NDg3NTlkN2M3ZDM1MTQ0OGVlNjgpOwogICAgICAgIAogICAgCiAgICAgICAgdmFyIHBvcHVwXzBjYmQ3NDE0YjhiNTRhZTI5YWEzZDBmOTBiMGU4MDE0ID0gTC5wb3B1cCh7Im1heFdpZHRoIjogIjEwMCUifSk7CgogICAgICAgIAogICAgICAgICAgICB2YXIgaHRtbF9kMGRlY2FkOGE5ODc0NjIxOGNjZjQ4NjBiYmRiMTZmZSA9ICQoYDxkaXYgaWQ9Imh0bWxfZDBkZWNhZDhhOTg3NDYyMThjY2Y0ODYwYmJkYjE2ZmUiIHN0eWxlPSJ3aWR0aDogMTAwLjAlOyBoZWlnaHQ6IDEwMC4wJTsiPkVyaW5nYXRlLCBCbG9vcmRhbGUgR2FyZGVucywgT2xkIEJ1cm5oYW10aG9ycGUsIE1hcmtsYW5kIFdvb2QsIEV0b2JpY29rZTwvZGl2PmApWzBdOwogICAgICAgICAgICBwb3B1cF8wY2JkNzQxNGI4YjU0YWUyOWFhM2QwZjkwYjBlODAxNC5zZXRDb250ZW50KGh0bWxfZDBkZWNhZDhhOTg3NDYyMThjY2Y0ODYwYmJkYjE2ZmUpOwogICAgICAgIAoKICAgICAgICBjaXJjbGVfbWFya2VyXzBmNGEzYTJkMzQ5NTQ4NjJhYjI5ZGFlMDhhMzM5NmY3LmJpbmRQb3B1cChwb3B1cF8wY2JkNzQxNGI4YjU0YWUyOWFhM2QwZjkwYjBlODAxNCkKICAgICAgICA7CgogICAgICAgIAogICAgCiAgICAKICAgICAgICAgICAgdmFyIGNpcmNsZV9tYXJrZXJfNzE0OWNjOTA2NTBlNDkwNTg1ZDk5ZjY2M2VmZmIyNmYgPSBMLmNpcmNsZU1hcmtlcigKICAgICAgICAgICAgICAgIFs0My43NjM1NzI2LCAtNzkuMTg4NzExNV0sCiAgICAgICAgICAgICAgICB7ImJ1YmJsaW5nTW91c2VFdmVudHMiOiB0cnVlLCAiY29sb3IiOiAiYmx1ZSIsICJkYXNoQXJyYXkiOiBudWxsLCAiZGFzaE9mZnNldCI6IG51bGwsICJmaWxsIjogdHJ1ZSwgImZpbGxDb2xvciI6ICIjMzE4NmNjIiwgImZpbGxPcGFjaXR5IjogMC43LCAiZmlsbFJ1bGUiOiAiZXZlbm9kZCIsICJsaW5lQ2FwIjogInJvdW5kIiwgImxpbmVKb2luIjogInJvdW5kIiwgIm9wYWNpdHkiOiAxLjAsICJyYWRpdXMiOiA1LCAic3Ryb2tlIjogdHJ1ZSwgIndlaWdodCI6IDN9CiAgICAgICAgICAgICkuYWRkVG8obWFwX2Q0ZDQzMTUzODI5NTQ4NzU5ZDdjN2QzNTE0NDhlZTY4KTsKICAgICAgICAKICAgIAogICAgICAgIHZhciBwb3B1cF81YTY0ODEyZmM3YTA0YjE1OTczYzQ5NGI1ODA3NzMwZCA9IEwucG9wdXAoeyJtYXhXaWR0aCI6ICIxMDAlIn0pOwoKICAgICAgICAKICAgICAgICAgICAgdmFyIGh0bWxfZTMzZGU1YmNmMmFmNDM2NWIxODIxZjcxOTFmNDgyNmYgPSAkKGA8ZGl2IGlkPSJodG1sX2UzM2RlNWJjZjJhZjQzNjViMTgyMWY3MTkxZjQ4MjZmIiBzdHlsZT0id2lkdGg6IDEwMC4wJTsgaGVpZ2h0OiAxMDAuMCU7Ij5HdWlsZHdvb2QsIE1vcm5pbmdzaWRlLCBXZXN0IEhpbGwsIFNjYXJib3JvdWdoPC9kaXY+YClbMF07CiAgICAgICAgICAgIHBvcHVwXzVhNjQ4MTJmYzdhMDRiMTU5NzNjNDk0YjU4MDc3MzBkLnNldENvbnRlbnQoaHRtbF9lMzNkZTViY2YyYWY0MzY1YjE4MjFmNzE5MWY0ODI2Zik7CiAgICAgICAgCgogICAgICAgIGNpcmNsZV9tYXJrZXJfNzE0OWNjOTA2NTBlNDkwNTg1ZDk5ZjY2M2VmZmIyNmYuYmluZFBvcHVwKHBvcHVwXzVhNjQ4MTJmYzdhMDRiMTU5NzNjNDk0YjU4MDc3MzBkKQogICAgICAgIDsKCiAgICAgICAgCiAgICAKICAgIAogICAgICAgICAgICB2YXIgY2lyY2xlX21hcmtlcl83NGQ4OGM0MzhhMjk0OTc2YWJjMjQ0Yjk4Y2U4MTQwMiA9IEwuY2lyY2xlTWFya2VyKAogICAgICAgICAgICAgICAgWzQzLjY3NjM1NzM5OTk5OTk5LCAtNzkuMjkzMDMxMl0sCiAgICAgICAgICAgICAgICB7ImJ1YmJsaW5nTW91c2VFdmVudHMiOiB0cnVlLCAiY29sb3IiOiAiYmx1ZSIsICJkYXNoQXJyYXkiOiBudWxsLCAiZGFzaE9mZnNldCI6IG51bGwsICJmaWxsIjogdHJ1ZSwgImZpbGxDb2xvciI6ICIjMzE4NmNjIiwgImZpbGxPcGFjaXR5IjogMC43LCAiZmlsbFJ1bGUiOiAiZXZlbm9kZCIsICJsaW5lQ2FwIjogInJvdW5kIiwgImxpbmVKb2luIjogInJvdW5kIiwgIm9wYWNpdHkiOiAxLjAsICJyYWRpdXMiOiA1LCAic3Ryb2tlIjogdHJ1ZSwgIndlaWdodCI6IDN9CiAgICAgICAgICAgICkuYWRkVG8obWFwX2Q0ZDQzMTUzODI5NTQ4NzU5ZDdjN2QzNTE0NDhlZTY4KTsKICAgICAgICAKICAgIAogICAgICAgIHZhciBwb3B1cF8xNGJmOThlMWRkY2Y0NTg2YTZiNGEyZjA2MTk4OWY5YyA9IEwucG9wdXAoeyJtYXhXaWR0aCI6ICIxMDAlIn0pOwoKICAgICAgICAKICAgICAgICAgICAgdmFyIGh0bWxfMzI3MGJlYzcyN2M3NDU1OThmNzdkOWMwZDAyODhkOTkgPSAkKGA8ZGl2IGlkPSJodG1sXzMyNzBiZWM3MjdjNzQ1NTk4Zjc3ZDljMGQwMjg4ZDk5IiBzdHlsZT0id2lkdGg6IDEwMC4wJTsgaGVpZ2h0OiAxMDAuMCU7Ij5UaGUgQmVhY2hlcywgRWFzdCBUb3JvbnRvPC9kaXY+YClbMF07CiAgICAgICAgICAgIHBvcHVwXzE0YmY5OGUxZGRjZjQ1ODZhNmI0YTJmMDYxOTg5ZjljLnNldENvbnRlbnQoaHRtbF8zMjcwYmVjNzI3Yzc0NTU5OGY3N2Q5YzBkMDI4OGQ5OSk7CiAgICAgICAgCgogICAgICAgIGNpcmNsZV9tYXJrZXJfNzRkODhjNDM4YTI5NDk3NmFiYzI0NGI5OGNlODE0MDIuYmluZFBvcHVwKHBvcHVwXzE0YmY5OGUxZGRjZjQ1ODZhNmI0YTJmMDYxOTg5ZjljKQogICAgICAgIDsKCiAgICAgICAgCiAgICAKICAgIAogICAgICAgICAgICB2YXIgY2lyY2xlX21hcmtlcl9jZGRjNjZkMzc0NDU0OThjYjk2MTgwY2ZhNzQ2ZGRhNSA9IEwuY2lyY2xlTWFya2VyKAogICAgICAgICAgICAgICAgWzQzLjY0NDc3MDc5OTk5OTk5NiwgLTc5LjM3MzMwNjRdLAogICAgICAgICAgICAgICAgeyJidWJibGluZ01vdXNlRXZlbnRzIjogdHJ1ZSwgImNvbG9yIjogImJsdWUiLCAiZGFzaEFycmF5IjogbnVsbCwgImRhc2hPZmZzZXQiOiBudWxsLCAiZmlsbCI6IHRydWUsICJmaWxsQ29sb3IiOiAiIzMxODZjYyIsICJmaWxsT3BhY2l0eSI6IDAuNywgImZpbGxSdWxlIjogImV2ZW5vZGQiLCAibGluZUNhcCI6ICJyb3VuZCIsICJsaW5lSm9pbiI6ICJyb3VuZCIsICJvcGFjaXR5IjogMS4wLCAicmFkaXVzIjogNSwgInN0cm9rZSI6IHRydWUsICJ3ZWlnaHQiOiAzfQogICAgICAgICAgICApLmFkZFRvKG1hcF9kNGQ0MzE1MzgyOTU0ODc1OWQ3YzdkMzUxNDQ4ZWU2OCk7CiAgICAgICAgCiAgICAKICAgICAgICB2YXIgcG9wdXBfNWM1OTkyNjMwMDNjNDM5MDgyNTQzZDQ2YmZhMTZiYzggPSBMLnBvcHVwKHsibWF4V2lkdGgiOiAiMTAwJSJ9KTsKCiAgICAgICAgCiAgICAgICAgICAgIHZhciBodG1sX2IxNGE1YzAxMzAyMjQzNDY4MDg0YWZlNjAwMGFhN2M2ID0gJChgPGRpdiBpZD0iaHRtbF9iMTRhNWMwMTMwMjI0MzQ2ODA4NGFmZTYwMDBhYTdjNiIgc3R5bGU9IndpZHRoOiAxMDAuMCU7IGhlaWdodDogMTAwLjAlOyI+QmVyY3p5IFBhcmssIERvd250b3duIFRvcm9udG88L2Rpdj5gKVswXTsKICAgICAgICAgICAgcG9wdXBfNWM1OTkyNjMwMDNjNDM5MDgyNTQzZDQ2YmZhMTZiYzguc2V0Q29udGVudChodG1sX2IxNGE1YzAxMzAyMjQzNDY4MDg0YWZlNjAwMGFhN2M2KTsKICAgICAgICAKCiAgICAgICAgY2lyY2xlX21hcmtlcl9jZGRjNjZkMzc0NDU0OThjYjk2MTgwY2ZhNzQ2ZGRhNS5iaW5kUG9wdXAocG9wdXBfNWM1OTkyNjMwMDNjNDM5MDgyNTQzZDQ2YmZhMTZiYzgpCiAgICAgICAgOwoKICAgICAgICAKICAgIAogICAgCiAgICAgICAgICAgIHZhciBjaXJjbGVfbWFya2VyXzU4MjhiYjliMTc3NDRlODI5ZGExMTM1MDgyODcxODMyID0gTC5jaXJjbGVNYXJrZXIoCiAgICAgICAgICAgICAgICBbNDMuNjg5MDI1NiwgLTc5LjQ1MzUxMl0sCiAgICAgICAgICAgICAgICB7ImJ1YmJsaW5nTW91c2VFdmVudHMiOiB0cnVlLCAiY29sb3IiOiAiYmx1ZSIsICJkYXNoQXJyYXkiOiBudWxsLCAiZGFzaE9mZnNldCI6IG51bGwsICJmaWxsIjogdHJ1ZSwgImZpbGxDb2xvciI6ICIjMzE4NmNjIiwgImZpbGxPcGFjaXR5IjogMC43LCAiZmlsbFJ1bGUiOiAiZXZlbm9kZCIsICJsaW5lQ2FwIjogInJvdW5kIiwgImxpbmVKb2luIjogInJvdW5kIiwgIm9wYWNpdHkiOiAxLjAsICJyYWRpdXMiOiA1LCAic3Ryb2tlIjogdHJ1ZSwgIndlaWdodCI6IDN9CiAgICAgICAgICAgICkuYWRkVG8obWFwX2Q0ZDQzMTUzODI5NTQ4NzU5ZDdjN2QzNTE0NDhlZTY4KTsKICAgICAgICAKICAgIAogICAgICAgIHZhciBwb3B1cF9jODA1NmZiMzY2YmY0YWI3YmFmYmU1NjYxMmIwMjliYyA9IEwucG9wdXAoeyJtYXhXaWR0aCI6ICIxMDAlIn0pOwoKICAgICAgICAKICAgICAgICAgICAgdmFyIGh0bWxfMDlmZGE4NjBiZTQ1NGVmNDk2ODZmZmYxMjIwZjIzOTQgPSAkKGA8ZGl2IGlkPSJodG1sXzA5ZmRhODYwYmU0NTRlZjQ5Njg2ZmZmMTIyMGYyMzk0IiBzdHlsZT0id2lkdGg6IDEwMC4wJTsgaGVpZ2h0OiAxMDAuMCU7Ij5DYWxlZG9uaWEtRmFpcmJhbmtzLCBZb3JrPC9kaXY+YClbMF07CiAgICAgICAgICAgIHBvcHVwX2M4MDU2ZmIzNjZiZjRhYjdiYWZiZTU2NjEyYjAyOWJjLnNldENvbnRlbnQoaHRtbF8wOWZkYTg2MGJlNDU0ZWY0OTY4NmZmZjEyMjBmMjM5NCk7CiAgICAgICAgCgogICAgICAgIGNpcmNsZV9tYXJrZXJfNTgyOGJiOWIxNzc0NGU4MjlkYTExMzUwODI4NzE4MzIuYmluZFBvcHVwKHBvcHVwX2M4MDU2ZmIzNjZiZjRhYjdiYWZiZTU2NjEyYjAyOWJjKQogICAgICAgIDsKCiAgICAgICAgCiAgICAKICAgIAogICAgICAgICAgICB2YXIgY2lyY2xlX21hcmtlcl9hMThjM2JiMjBiOGM0MjBkOGZkNjk3M2FiMzY1ZmQxNyA9IEwuY2lyY2xlTWFya2VyKAogICAgICAgICAgICAgICAgWzQzLjc3MDk5MjEsIC03OS4yMTY5MTc0MDAwMDAwMV0sCiAgICAgICAgICAgICAgICB7ImJ1YmJsaW5nTW91c2VFdmVudHMiOiB0cnVlLCAiY29sb3IiOiAiYmx1ZSIsICJkYXNoQXJyYXkiOiBudWxsLCAiZGFzaE9mZnNldCI6IG51bGwsICJmaWxsIjogdHJ1ZSwgImZpbGxDb2xvciI6ICIjMzE4NmNjIiwgImZpbGxPcGFjaXR5IjogMC43LCAiZmlsbFJ1bGUiOiAiZXZlbm9kZCIsICJsaW5lQ2FwIjogInJvdW5kIiwgImxpbmVKb2luIjogInJvdW5kIiwgIm9wYWNpdHkiOiAxLjAsICJyYWRpdXMiOiA1LCAic3Ryb2tlIjogdHJ1ZSwgIndlaWdodCI6IDN9CiAgICAgICAgICAgICkuYWRkVG8obWFwX2Q0ZDQzMTUzODI5NTQ4NzU5ZDdjN2QzNTE0NDhlZTY4KTsKICAgICAgICAKICAgIAogICAgICAgIHZhciBwb3B1cF9kNDEyNTcyMGU4MWI0ZTZmYjkwODZhNzcwMTllZTE5MCA9IEwucG9wdXAoeyJtYXhXaWR0aCI6ICIxMDAlIn0pOwoKICAgICAgICAKICAgICAgICAgICAgdmFyIGh0bWxfZWQyYTI4OWY3NGQ2NGY0NDlkNDMwODE2ZjA2YzJlNmUgPSAkKGA8ZGl2IGlkPSJodG1sX2VkMmEyODlmNzRkNjRmNDQ5ZDQzMDgxNmYwNmMyZTZlIiBzdHlsZT0id2lkdGg6IDEwMC4wJTsgaGVpZ2h0OiAxMDAuMCU7Ij5Xb2J1cm4sIFNjYXJib3JvdWdoPC9kaXY+YClbMF07CiAgICAgICAgICAgIHBvcHVwX2Q0MTI1NzIwZTgxYjRlNmZiOTA4NmE3NzAxOWVlMTkwLnNldENvbnRlbnQoaHRtbF9lZDJhMjg5Zjc0ZDY0ZjQ0OWQ0MzA4MTZmMDZjMmU2ZSk7CiAgICAgICAgCgogICAgICAgIGNpcmNsZV9tYXJrZXJfYTE4YzNiYjIwYjhjNDIwZDhmZDY5NzNhYjM2NWZkMTcuYmluZFBvcHVwKHBvcHVwX2Q0MTI1NzIwZTgxYjRlNmZiOTA4NmE3NzAxOWVlMTkwKQogICAgICAgIDsKCiAgICAgICAgCiAgICAKICAgIAogICAgICAgICAgICB2YXIgY2lyY2xlX21hcmtlcl85NmI0MTJkYTM1N2Q0ZDE2ODFmZWQ2ZTJiZWE4N2Y1NSA9IEwuY2lyY2xlTWFya2VyKAogICAgICAgICAgICAgICAgWzQzLjcwOTA2MDQsIC03OS4zNjM0NTE3XSwKICAgICAgICAgICAgICAgIHsiYnViYmxpbmdNb3VzZUV2ZW50cyI6IHRydWUsICJjb2xvciI6ICJibHVlIiwgImRhc2hBcnJheSI6IG51bGwsICJkYXNoT2Zmc2V0IjogbnVsbCwgImZpbGwiOiB0cnVlLCAiZmlsbENvbG9yIjogIiMzMTg2Y2MiLCAiZmlsbE9wYWNpdHkiOiAwLjcsICJmaWxsUnVsZSI6ICJldmVub2RkIiwgImxpbmVDYXAiOiAicm91bmQiLCAibGluZUpvaW4iOiAicm91bmQiLCAib3BhY2l0eSI6IDEuMCwgInJhZGl1cyI6IDUsICJzdHJva2UiOiB0cnVlLCAid2VpZ2h0IjogM30KICAgICAgICAgICAgKS5hZGRUbyhtYXBfZDRkNDMxNTM4Mjk1NDg3NTlkN2M3ZDM1MTQ0OGVlNjgpOwogICAgICAgIAogICAgCiAgICAgICAgdmFyIHBvcHVwXzE5NmU5ZmY5YTY0NTQwMjZhYjJkYjk1Y2VjNDAwZjkzID0gTC5wb3B1cCh7Im1heFdpZHRoIjogIjEwMCUifSk7CgogICAgICAgIAogICAgICAgICAgICB2YXIgaHRtbF9lMDM4YTE3ODIyNGI0ZTkzYWFhYjk1NjQ3Yzk4ZDk2YyA9ICQoYDxkaXYgaWQ9Imh0bWxfZTAzOGExNzgyMjRiNGU5M2FhYWI5NTY0N2M5OGQ5NmMiIHN0eWxlPSJ3aWR0aDogMTAwLjAlOyBoZWlnaHQ6IDEwMC4wJTsiPkxlYXNpZGUsIEVhc3QgWW9yazwvZGl2PmApWzBdOwogICAgICAgICAgICBwb3B1cF8xOTZlOWZmOWE2NDU0MDI2YWIyZGI5NWNlYzQwMGY5My5zZXRDb250ZW50KGh0bWxfZTAzOGExNzgyMjRiNGU5M2FhYWI5NTY0N2M5OGQ5NmMpOwogICAgICAgIAoKICAgICAgICBjaXJjbGVfbWFya2VyXzk2YjQxMmRhMzU3ZDRkMTY4MWZlZDZlMmJlYTg3ZjU1LmJpbmRQb3B1cChwb3B1cF8xOTZlOWZmOWE2NDU0MDI2YWIyZGI5NWNlYzQwMGY5MykKICAgICAgICA7CgogICAgICAgIAogICAgCiAgICAKICAgICAgICAgICAgdmFyIGNpcmNsZV9tYXJrZXJfYWE1MzkzZWIyNDE1NDkyZWI2NTM1OWE2Yjg3M2RhNTEgPSBMLmNpcmNsZU1hcmtlcigKICAgICAgICAgICAgICAgIFs0My42NTc5NTI0LCAtNzkuMzg3MzgyNl0sCiAgICAgICAgICAgICAgICB7ImJ1YmJsaW5nTW91c2VFdmVudHMiOiB0cnVlLCAiY29sb3IiOiAiYmx1ZSIsICJkYXNoQXJyYXkiOiBudWxsLCAiZGFzaE9mZnNldCI6IG51bGwsICJmaWxsIjogdHJ1ZSwgImZpbGxDb2xvciI6ICIjMzE4NmNjIiwgImZpbGxPcGFjaXR5IjogMC43LCAiZmlsbFJ1bGUiOiAiZXZlbm9kZCIsICJsaW5lQ2FwIjogInJvdW5kIiwgImxpbmVKb2luIjogInJvdW5kIiwgIm9wYWNpdHkiOiAxLjAsICJyYWRpdXMiOiA1LCAic3Ryb2tlIjogdHJ1ZSwgIndlaWdodCI6IDN9CiAgICAgICAgICAgICkuYWRkVG8obWFwX2Q0ZDQzMTUzODI5NTQ4NzU5ZDdjN2QzNTE0NDhlZTY4KTsKICAgICAgICAKICAgIAogICAgICAgIHZhciBwb3B1cF8xNjQ5MWI1MzBhNDk0MjcxYjI4ZWQ0Y2ZkMzYzMmI4MiA9IEwucG9wdXAoeyJtYXhXaWR0aCI6ICIxMDAlIn0pOwoKICAgICAgICAKICAgICAgICAgICAgdmFyIGh0bWxfNDNlZDQyNDk2YTgwNGNiYzhjNzllZDkzYmVmYjZmNmUgPSAkKGA8ZGl2IGlkPSJodG1sXzQzZWQ0MjQ5NmE4MDRjYmM4Yzc5ZWQ5M2JlZmI2ZjZlIiBzdHlsZT0id2lkdGg6IDEwMC4wJTsgaGVpZ2h0OiAxMDAuMCU7Ij5DZW50cmFsIEJheSBTdHJlZXQsIERvd250b3duIFRvcm9udG88L2Rpdj5gKVswXTsKICAgICAgICAgICAgcG9wdXBfMTY0OTFiNTMwYTQ5NDI3MWIyOGVkNGNmZDM2MzJiODIuc2V0Q29udGVudChodG1sXzQzZWQ0MjQ5NmE4MDRjYmM4Yzc5ZWQ5M2JlZmI2ZjZlKTsKICAgICAgICAKCiAgICAgICAgY2lyY2xlX21hcmtlcl9hYTUzOTNlYjI0MTU0OTJlYjY1MzU5YTZiODczZGE1MS5iaW5kUG9wdXAocG9wdXBfMTY0OTFiNTMwYTQ5NDI3MWIyOGVkNGNmZDM2MzJiODIpCiAgICAgICAgOwoKICAgICAgICAKICAgIAogICAgCiAgICAgICAgICAgIHZhciBjaXJjbGVfbWFya2VyXzdiNjM0OTUyODc4YTRiMmNhOGFlOWExZjA3YzViYjNjID0gTC5jaXJjbGVNYXJrZXIoCiAgICAgICAgICAgICAgICBbNDMuNjY5NTQyLCAtNzkuNDIyNTYzN10sCiAgICAgICAgICAgICAgICB7ImJ1YmJsaW5nTW91c2VFdmVudHMiOiB0cnVlLCAiY29sb3IiOiAiYmx1ZSIsICJkYXNoQXJyYXkiOiBudWxsLCAiZGFzaE9mZnNldCI6IG51bGwsICJmaWxsIjogdHJ1ZSwgImZpbGxDb2xvciI6ICIjMzE4NmNjIiwgImZpbGxPcGFjaXR5IjogMC43LCAiZmlsbFJ1bGUiOiAiZXZlbm9kZCIsICJsaW5lQ2FwIjogInJvdW5kIiwgImxpbmVKb2luIjogInJvdW5kIiwgIm9wYWNpdHkiOiAxLjAsICJyYWRpdXMiOiA1LCAic3Ryb2tlIjogdHJ1ZSwgIndlaWdodCI6IDN9CiAgICAgICAgICAgICkuYWRkVG8obWFwX2Q0ZDQzMTUzODI5NTQ4NzU5ZDdjN2QzNTE0NDhlZTY4KTsKICAgICAgICAKICAgIAogICAgICAgIHZhciBwb3B1cF9mODIzZTI4MzViYmU0NzMwOGY5ZmQ5MjEyNmVkOWZiNiA9IEwucG9wdXAoeyJtYXhXaWR0aCI6ICIxMDAlIn0pOwoKICAgICAgICAKICAgICAgICAgICAgdmFyIGh0bWxfOWQ3NWNmODJiM2E5NDJmYmI0OGMxOTIzNzY0YzcwZDUgPSAkKGA8ZGl2IGlkPSJodG1sXzlkNzVjZjgyYjNhOTQyZmJiNDhjMTkyMzc2NGM3MGQ1IiBzdHlsZT0id2lkdGg6IDEwMC4wJTsgaGVpZ2h0OiAxMDAuMCU7Ij5DaHJpc3RpZSwgRG93bnRvd24gVG9yb250bzwvZGl2PmApWzBdOwogICAgICAgICAgICBwb3B1cF9mODIzZTI4MzViYmU0NzMwOGY5ZmQ5MjEyNmVkOWZiNi5zZXRDb250ZW50KGh0bWxfOWQ3NWNmODJiM2E5NDJmYmI0OGMxOTIzNzY0YzcwZDUpOwogICAgICAgIAoKICAgICAgICBjaXJjbGVfbWFya2VyXzdiNjM0OTUyODc4YTRiMmNhOGFlOWExZjA3YzViYjNjLmJpbmRQb3B1cChwb3B1cF9mODIzZTI4MzViYmU0NzMwOGY5ZmQ5MjEyNmVkOWZiNikKICAgICAgICA7CgogICAgICAgIAogICAgCiAgICAKICAgICAgICAgICAgdmFyIGNpcmNsZV9tYXJrZXJfOWQwNWFhMDg2N2JhNDUzYTkzYmMwMTg1MzA0ZmVjYzAgPSBMLmNpcmNsZU1hcmtlcigKICAgICAgICAgICAgICAgIFs0My43NzMxMzYsIC03OS4yMzk0NzYwOTk5OTk5OV0sCiAgICAgICAgICAgICAgICB7ImJ1YmJsaW5nTW91c2VFdmVudHMiOiB0cnVlLCAiY29sb3IiOiAiYmx1ZSIsICJkYXNoQXJyYXkiOiBudWxsLCAiZGFzaE9mZnNldCI6IG51bGwsICJmaWxsIjogdHJ1ZSwgImZpbGxDb2xvciI6ICIjMzE4NmNjIiwgImZpbGxPcGFjaXR5IjogMC43LCAiZmlsbFJ1bGUiOiAiZXZlbm9kZCIsICJsaW5lQ2FwIjogInJvdW5kIiwgImxpbmVKb2luIjogInJvdW5kIiwgIm9wYWNpdHkiOiAxLjAsICJyYWRpdXMiOiA1LCAic3Ryb2tlIjogdHJ1ZSwgIndlaWdodCI6IDN9CiAgICAgICAgICAgICkuYWRkVG8obWFwX2Q0ZDQzMTUzODI5NTQ4NzU5ZDdjN2QzNTE0NDhlZTY4KTsKICAgICAgICAKICAgIAogICAgICAgIHZhciBwb3B1cF82N2MxNTQ2NWEzY2I0M2QzYWIxOTRkYzZiZDQ0MmQ4MiA9IEwucG9wdXAoeyJtYXhXaWR0aCI6ICIxMDAlIn0pOwoKICAgICAgICAKICAgICAgICAgICAgdmFyIGh0bWxfMTkxMjRhYjFiZDZhNDEzZDhjNjNhY2NmOWZmNjkwOTkgPSAkKGA8ZGl2IGlkPSJodG1sXzE5MTI0YWIxYmQ2YTQxM2Q4YzYzYWNjZjlmZjY5MDk5IiBzdHlsZT0id2lkdGg6IDEwMC4wJTsgaGVpZ2h0OiAxMDAuMCU7Ij5DZWRhcmJyYWUsIFNjYXJib3JvdWdoPC9kaXY+YClbMF07CiAgICAgICAgICAgIHBvcHVwXzY3YzE1NDY1YTNjYjQzZDNhYjE5NGRjNmJkNDQyZDgyLnNldENvbnRlbnQoaHRtbF8xOTEyNGFiMWJkNmE0MTNkOGM2M2FjY2Y5ZmY2OTA5OSk7CiAgICAgICAgCgogICAgICAgIGNpcmNsZV9tYXJrZXJfOWQwNWFhMDg2N2JhNDUzYTkzYmMwMTg1MzA0ZmVjYzAuYmluZFBvcHVwKHBvcHVwXzY3YzE1NDY1YTNjYjQzZDNhYjE5NGRjNmJkNDQyZDgyKQogICAgICAgIDsKCiAgICAgICAgCiAgICAKICAgIAogICAgICAgICAgICB2YXIgY2lyY2xlX21hcmtlcl9hMmUxMjNkZTEzOTc0MTc4YTIzNGIzNjIyZjk4ZTAwMSA9IEwuY2lyY2xlTWFya2VyKAogICAgICAgICAgICAgICAgWzQzLjgwMzc2MjIsIC03OS4zNjM0NTE3XSwKICAgICAgICAgICAgICAgIHsiYnViYmxpbmdNb3VzZUV2ZW50cyI6IHRydWUsICJjb2xvciI6ICJibHVlIiwgImRhc2hBcnJheSI6IG51bGwsICJkYXNoT2Zmc2V0IjogbnVsbCwgImZpbGwiOiB0cnVlLCAiZmlsbENvbG9yIjogIiMzMTg2Y2MiLCAiZmlsbE9wYWNpdHkiOiAwLjcsICJmaWxsUnVsZSI6ICJldmVub2RkIiwgImxpbmVDYXAiOiAicm91bmQiLCAibGluZUpvaW4iOiAicm91bmQiLCAib3BhY2l0eSI6IDEuMCwgInJhZGl1cyI6IDUsICJzdHJva2UiOiB0cnVlLCAid2VpZ2h0IjogM30KICAgICAgICAgICAgKS5hZGRUbyhtYXBfZDRkNDMxNTM4Mjk1NDg3NTlkN2M3ZDM1MTQ0OGVlNjgpOwogICAgICAgIAogICAgCiAgICAgICAgdmFyIHBvcHVwXzc1NDAyZmI4ZjMyMDQzNjdiM2YyNzZjMTRmYWJjOGQxID0gTC5wb3B1cCh7Im1heFdpZHRoIjogIjEwMCUifSk7CgogICAgICAgIAogICAgICAgICAgICB2YXIgaHRtbF9jYTMzMWQ4NGE1OTE0M2U2YmMwZDhmYjMxNzRjZjI3NSA9ICQoYDxkaXYgaWQ9Imh0bWxfY2EzMzFkODRhNTkxNDNlNmJjMGQ4ZmIzMTc0Y2YyNzUiIHN0eWxlPSJ3aWR0aDogMTAwLjAlOyBoZWlnaHQ6IDEwMC4wJTsiPkhpbGxjcmVzdCBWaWxsYWdlLCBOb3J0aCBZb3JrPC9kaXY+YClbMF07CiAgICAgICAgICAgIHBvcHVwXzc1NDAyZmI4ZjMyMDQzNjdiM2YyNzZjMTRmYWJjOGQxLnNldENvbnRlbnQoaHRtbF9jYTMzMWQ4NGE1OTE0M2U2YmMwZDhmYjMxNzRjZjI3NSk7CiAgICAgICAgCgogICAgICAgIGNpcmNsZV9tYXJrZXJfYTJlMTIzZGUxMzk3NDE3OGEyMzRiMzYyMmY5OGUwMDEuYmluZFBvcHVwKHBvcHVwXzc1NDAyZmI4ZjMyMDQzNjdiM2YyNzZjMTRmYWJjOGQxKQogICAgICAgIDsKCiAgICAgICAgCiAgICAKICAgIAogICAgICAgICAgICB2YXIgY2lyY2xlX21hcmtlcl80YmQ0OWFlZWRjMjY0ODEwOGFjNWM5NTE1M2U3ZmJhNiA9IEwuY2lyY2xlTWFya2VyKAogICAgICAgICAgICAgICAgWzQzLjc1NDMyODMsIC03OS40NDIyNTkzXSwKICAgICAgICAgICAgICAgIHsiYnViYmxpbmdNb3VzZUV2ZW50cyI6IHRydWUsICJjb2xvciI6ICJibHVlIiwgImRhc2hBcnJheSI6IG51bGwsICJkYXNoT2Zmc2V0IjogbnVsbCwgImZpbGwiOiB0cnVlLCAiZmlsbENvbG9yIjogIiMzMTg2Y2MiLCAiZmlsbE9wYWNpdHkiOiAwLjcsICJmaWxsUnVsZSI6ICJldmVub2RkIiwgImxpbmVDYXAiOiAicm91bmQiLCAibGluZUpvaW4iOiAicm91bmQiLCAib3BhY2l0eSI6IDEuMCwgInJhZGl1cyI6IDUsICJzdHJva2UiOiB0cnVlLCAid2VpZ2h0IjogM30KICAgICAgICAgICAgKS5hZGRUbyhtYXBfZDRkNDMxNTM4Mjk1NDg3NTlkN2M3ZDM1MTQ0OGVlNjgpOwogICAgICAgIAogICAgCiAgICAgICAgdmFyIHBvcHVwX2Y5NTI0Y2NhZGU4NTQ2YzM5YWI4N2YyNjZlMmJkMjYzID0gTC5wb3B1cCh7Im1heFdpZHRoIjogIjEwMCUifSk7CgogICAgICAgIAogICAgICAgICAgICB2YXIgaHRtbF8yMDI3YzY5YTU4YTM0OTZjOTVkNmRkODIwNWEyMDQ4MyA9ICQoYDxkaXYgaWQ9Imh0bWxfMjAyN2M2OWE1OGEzNDk2Yzk1ZDZkZDgyMDVhMjA0ODMiIHN0eWxlPSJ3aWR0aDogMTAwLjAlOyBoZWlnaHQ6IDEwMC4wJTsiPkJhdGh1cnN0IE1hbm9yLCBXaWxzb24gSGVpZ2h0cywgRG93bnN2aWV3IE5vcnRoLCBOb3J0aCBZb3JrPC9kaXY+YClbMF07CiAgICAgICAgICAgIHBvcHVwX2Y5NTI0Y2NhZGU4NTQ2YzM5YWI4N2YyNjZlMmJkMjYzLnNldENvbnRlbnQoaHRtbF8yMDI3YzY5YTU4YTM0OTZjOTVkNmRkODIwNWEyMDQ4Myk7CiAgICAgICAgCgogICAgICAgIGNpcmNsZV9tYXJrZXJfNGJkNDlhZWVkYzI2NDgxMDhhYzVjOTUxNTNlN2ZiYTYuYmluZFBvcHVwKHBvcHVwX2Y5NTI0Y2NhZGU4NTQ2YzM5YWI4N2YyNjZlMmJkMjYzKQogICAgICAgIDsKCiAgICAgICAgCiAgICAKICAgIAogICAgICAgICAgICB2YXIgY2lyY2xlX21hcmtlcl8xNzgyMTMyZTNkMzY0MDRiOWNjZjdmYzRlNWE1ZDJkMyA9IEwuY2lyY2xlTWFya2VyKAogICAgICAgICAgICAgICAgWzQzLjcwNTM2ODksIC03OS4zNDkzNzE5MDAwMDAwMV0sCiAgICAgICAgICAgICAgICB7ImJ1YmJsaW5nTW91c2VFdmVudHMiOiB0cnVlLCAiY29sb3IiOiAiYmx1ZSIsICJkYXNoQXJyYXkiOiBudWxsLCAiZGFzaE9mZnNldCI6IG51bGwsICJmaWxsIjogdHJ1ZSwgImZpbGxDb2xvciI6ICIjMzE4NmNjIiwgImZpbGxPcGFjaXR5IjogMC43LCAiZmlsbFJ1bGUiOiAiZXZlbm9kZCIsICJsaW5lQ2FwIjogInJvdW5kIiwgImxpbmVKb2luIjogInJvdW5kIiwgIm9wYWNpdHkiOiAxLjAsICJyYWRpdXMiOiA1LCAic3Ryb2tlIjogdHJ1ZSwgIndlaWdodCI6IDN9CiAgICAgICAgICAgICkuYWRkVG8obWFwX2Q0ZDQzMTUzODI5NTQ4NzU5ZDdjN2QzNTE0NDhlZTY4KTsKICAgICAgICAKICAgIAogICAgICAgIHZhciBwb3B1cF9hNTM5NTA0YzE3MTk0OGY2YTVlMmRmYmY2ZWYwZmYxNiA9IEwucG9wdXAoeyJtYXhXaWR0aCI6ICIxMDAlIn0pOwoKICAgICAgICAKICAgICAgICAgICAgdmFyIGh0bWxfOGU4NTkwMzM0ZWM5NGI4YmJjM2FiYjUyZTRjMWE3YTQgPSAkKGA8ZGl2IGlkPSJodG1sXzhlODU5MDMzNGVjOTRiOGJiYzNhYmI1MmU0YzFhN2E0IiBzdHlsZT0id2lkdGg6IDEwMC4wJTsgaGVpZ2h0OiAxMDAuMCU7Ij5UaG9ybmNsaWZmZSBQYXJrLCBFYXN0IFlvcms8L2Rpdj5gKVswXTsKICAgICAgICAgICAgcG9wdXBfYTUzOTUwNGMxNzE5NDhmNmE1ZTJkZmJmNmVmMGZmMTYuc2V0Q29udGVudChodG1sXzhlODU5MDMzNGVjOTRiOGJiYzNhYmI1MmU0YzFhN2E0KTsKICAgICAgICAKCiAgICAgICAgY2lyY2xlX21hcmtlcl8xNzgyMTMyZTNkMzY0MDRiOWNjZjdmYzRlNWE1ZDJkMy5iaW5kUG9wdXAocG9wdXBfYTUzOTUwNGMxNzE5NDhmNmE1ZTJkZmJmNmVmMGZmMTYpCiAgICAgICAgOwoKICAgICAgICAKICAgIAogICAgCiAgICAgICAgICAgIHZhciBjaXJjbGVfbWFya2VyXzcxMTViOGE2NDNkYzQ4ZWM4ZmVmZjJiMTE3Y2Y0ZTdiID0gTC5jaXJjbGVNYXJrZXIoCiAgICAgICAgICAgICAgICBbNDMuNjUwNTcxMjAwMDAwMDEsIC03OS4zODQ1Njc1XSwKICAgICAgICAgICAgICAgIHsiYnViYmxpbmdNb3VzZUV2ZW50cyI6IHRydWUsICJjb2xvciI6ICJibHVlIiwgImRhc2hBcnJheSI6IG51bGwsICJkYXNoT2Zmc2V0IjogbnVsbCwgImZpbGwiOiB0cnVlLCAiZmlsbENvbG9yIjogIiMzMTg2Y2MiLCAiZmlsbE9wYWNpdHkiOiAwLjcsICJmaWxsUnVsZSI6ICJldmVub2RkIiwgImxpbmVDYXAiOiAicm91bmQiLCAibGluZUpvaW4iOiAicm91bmQiLCAib3BhY2l0eSI6IDEuMCwgInJhZGl1cyI6IDUsICJzdHJva2UiOiB0cnVlLCAid2VpZ2h0IjogM30KICAgICAgICAgICAgKS5hZGRUbyhtYXBfZDRkNDMxNTM4Mjk1NDg3NTlkN2M3ZDM1MTQ0OGVlNjgpOwogICAgICAgIAogICAgCiAgICAgICAgdmFyIHBvcHVwX2FiZWI2MGE5ODZjYzQ3NDM4ZGI3ZDgxNjA1NTIyMTQ0ID0gTC5wb3B1cCh7Im1heFdpZHRoIjogIjEwMCUifSk7CgogICAgICAgIAogICAgICAgICAgICB2YXIgaHRtbF8yZDg1NDcwODRkOTQ0M2MzYWIzZGY3MDQyZWY3ZmZmOCA9ICQoYDxkaXYgaWQ9Imh0bWxfMmQ4NTQ3MDg0ZDk0NDNjM2FiM2RmNzA0MmVmN2ZmZjgiIHN0eWxlPSJ3aWR0aDogMTAwLjAlOyBoZWlnaHQ6IDEwMC4wJTsiPlJpY2htb25kLCBBZGVsYWlkZSwgS2luZywgRG93bnRvd24gVG9yb250bzwvZGl2PmApWzBdOwogICAgICAgICAgICBwb3B1cF9hYmViNjBhOTg2Y2M0NzQzOGRiN2Q4MTYwNTUyMjE0NC5zZXRDb250ZW50KGh0bWxfMmQ4NTQ3MDg0ZDk0NDNjM2FiM2RmNzA0MmVmN2ZmZjgpOwogICAgICAgIAoKICAgICAgICBjaXJjbGVfbWFya2VyXzcxMTViOGE2NDNkYzQ4ZWM4ZmVmZjJiMTE3Y2Y0ZTdiLmJpbmRQb3B1cChwb3B1cF9hYmViNjBhOTg2Y2M0NzQzOGRiN2Q4MTYwNTUyMjE0NCkKICAgICAgICA7CgogICAgICAgIAogICAgCiAgICAKICAgICAgICAgICAgdmFyIGNpcmNsZV9tYXJrZXJfNDBmMTNiOWVjNjIzNGU1Y2IxZWY3NGVlYTczYWVkOTIgPSBMLmNpcmNsZU1hcmtlcigKICAgICAgICAgICAgICAgIFs0My42NjkwMDUxMDAwMDAwMSwgLTc5LjQ0MjI1OTNdLAogICAgICAgICAgICAgICAgeyJidWJibGluZ01vdXNlRXZlbnRzIjogdHJ1ZSwgImNvbG9yIjogImJsdWUiLCAiZGFzaEFycmF5IjogbnVsbCwgImRhc2hPZmZzZXQiOiBudWxsLCAiZmlsbCI6IHRydWUsICJmaWxsQ29sb3IiOiAiIzMxODZjYyIsICJmaWxsT3BhY2l0eSI6IDAuNywgImZpbGxSdWxlIjogImV2ZW5vZGQiLCAibGluZUNhcCI6ICJyb3VuZCIsICJsaW5lSm9pbiI6ICJyb3VuZCIsICJvcGFjaXR5IjogMS4wLCAicmFkaXVzIjogNSwgInN0cm9rZSI6IHRydWUsICJ3ZWlnaHQiOiAzfQogICAgICAgICAgICApLmFkZFRvKG1hcF9kNGQ0MzE1MzgyOTU0ODc1OWQ3YzdkMzUxNDQ4ZWU2OCk7CiAgICAgICAgCiAgICAKICAgICAgICB2YXIgcG9wdXBfZThjNjlkZTM2YTMzNDk0Nzg2ZjM4ZDBiMDcwYzdkMTEgPSBMLnBvcHVwKHsibWF4V2lkdGgiOiAiMTAwJSJ9KTsKCiAgICAgICAgCiAgICAgICAgICAgIHZhciBodG1sXzljMWE5Y2YzOGU2NDQwOTY4NDM3ODg4MWJhYmU2MDllID0gJChgPGRpdiBpZD0iaHRtbF85YzFhOWNmMzhlNjQ0MDk2ODQzNzg4ODFiYWJlNjA5ZSIgc3R5bGU9IndpZHRoOiAxMDAuMCU7IGhlaWdodDogMTAwLjAlOyI+RHVmZmVyaW4sIERvdmVyY291cnQgVmlsbGFnZSwgV2VzdCBUb3JvbnRvPC9kaXY+YClbMF07CiAgICAgICAgICAgIHBvcHVwX2U4YzY5ZGUzNmEzMzQ5NDc4NmYzOGQwYjA3MGM3ZDExLnNldENvbnRlbnQoaHRtbF85YzFhOWNmMzhlNjQ0MDk2ODQzNzg4ODFiYWJlNjA5ZSk7CiAgICAgICAgCgogICAgICAgIGNpcmNsZV9tYXJrZXJfNDBmMTNiOWVjNjIzNGU1Y2IxZWY3NGVlYTczYWVkOTIuYmluZFBvcHVwKHBvcHVwX2U4YzY5ZGUzNmEzMzQ5NDc4NmYzOGQwYjA3MGM3ZDExKQogICAgICAgIDsKCiAgICAgICAgCiAgICAKICAgIAogICAgICAgICAgICB2YXIgY2lyY2xlX21hcmtlcl9hMjQwNDRkNTQ3MjM0NDA1Yjk3ZTJmMjI0OGQyZWYyOSA9IEwuY2lyY2xlTWFya2VyKAogICAgICAgICAgICAgICAgWzQzLjc0NDczNDIsIC03OS4yMzk0NzYwOTk5OTk5OV0sCiAgICAgICAgICAgICAgICB7ImJ1YmJsaW5nTW91c2VFdmVudHMiOiB0cnVlLCAiY29sb3IiOiAiYmx1ZSIsICJkYXNoQXJyYXkiOiBudWxsLCAiZGFzaE9mZnNldCI6IG51bGwsICJmaWxsIjogdHJ1ZSwgImZpbGxDb2xvciI6ICIjMzE4NmNjIiwgImZpbGxPcGFjaXR5IjogMC43LCAiZmlsbFJ1bGUiOiAiZXZlbm9kZCIsICJsaW5lQ2FwIjogInJvdW5kIiwgImxpbmVKb2luIjogInJvdW5kIiwgIm9wYWNpdHkiOiAxLjAsICJyYWRpdXMiOiA1LCAic3Ryb2tlIjogdHJ1ZSwgIndlaWdodCI6IDN9CiAgICAgICAgICAgICkuYWRkVG8obWFwX2Q0ZDQzMTUzODI5NTQ4NzU5ZDdjN2QzNTE0NDhlZTY4KTsKICAgICAgICAKICAgIAogICAgICAgIHZhciBwb3B1cF8zMzJjYzhmZTVkZWE0NTA0YmM0OWYxYTZiNTNlYjQ5YSA9IEwucG9wdXAoeyJtYXhXaWR0aCI6ICIxMDAlIn0pOwoKICAgICAgICAKICAgICAgICAgICAgdmFyIGh0bWxfZjgyYmEyNGJmOGMxNGVlNzg3Njk0YTk0ZjE5ZGQ4YTIgPSAkKGA8ZGl2IGlkPSJodG1sX2Y4MmJhMjRiZjhjMTRlZTc4NzY5NGE5NGYxOWRkOGEyIiBzdHlsZT0id2lkdGg6IDEwMC4wJTsgaGVpZ2h0OiAxMDAuMCU7Ij5TY2FyYm9yb3VnaCBWaWxsYWdlLCBTY2FyYm9yb3VnaDwvZGl2PmApWzBdOwogICAgICAgICAgICBwb3B1cF8zMzJjYzhmZTVkZWE0NTA0YmM0OWYxYTZiNTNlYjQ5YS5zZXRDb250ZW50KGh0bWxfZjgyYmEyNGJmOGMxNGVlNzg3Njk0YTk0ZjE5ZGQ4YTIpOwogICAgICAgIAoKICAgICAgICBjaXJjbGVfbWFya2VyX2EyNDA0NGQ1NDcyMzQ0MDViOTdlMmYyMjQ4ZDJlZjI5LmJpbmRQb3B1cChwb3B1cF8zMzJjYzhmZTVkZWE0NTA0YmM0OWYxYTZiNTNlYjQ5YSkKICAgICAgICA7CgogICAgICAgIAogICAgCiAgICAKICAgICAgICAgICAgdmFyIGNpcmNsZV9tYXJrZXJfMmU5YjY3N2FkNDg3NDZiMWFjNTNjNjJiZmIxODk5NDggPSBMLmNpcmNsZU1hcmtlcigKICAgICAgICAgICAgICAgIFs0My43Nzg1MTc1LCAtNzkuMzQ2NTU1N10sCiAgICAgICAgICAgICAgICB7ImJ1YmJsaW5nTW91c2VFdmVudHMiOiB0cnVlLCAiY29sb3IiOiAiYmx1ZSIsICJkYXNoQXJyYXkiOiBudWxsLCAiZGFzaE9mZnNldCI6IG51bGwsICJmaWxsIjogdHJ1ZSwgImZpbGxDb2xvciI6ICIjMzE4NmNjIiwgImZpbGxPcGFjaXR5IjogMC43LCAiZmlsbFJ1bGUiOiAiZXZlbm9kZCIsICJsaW5lQ2FwIjogInJvdW5kIiwgImxpbmVKb2luIjogInJvdW5kIiwgIm9wYWNpdHkiOiAxLjAsICJyYWRpdXMiOiA1LCAic3Ryb2tlIjogdHJ1ZSwgIndlaWdodCI6IDN9CiAgICAgICAgICAgICkuYWRkVG8obWFwX2Q0ZDQzMTUzODI5NTQ4NzU5ZDdjN2QzNTE0NDhlZTY4KTsKICAgICAgICAKICAgIAogICAgICAgIHZhciBwb3B1cF82NTQ2YWQyODE0YmI0OTQ5OTczZDlhYzMzNWI3YTM0ZiA9IEwucG9wdXAoeyJtYXhXaWR0aCI6ICIxMDAlIn0pOwoKICAgICAgICAKICAgICAgICAgICAgdmFyIGh0bWxfZmVhYzQzNGUwOTMzNDg3YzhmYWUyMmFhMjllZjczMGIgPSAkKGA8ZGl2IGlkPSJodG1sX2ZlYWM0MzRlMDkzMzQ4N2M4ZmFlMjJhYTI5ZWY3MzBiIiBzdHlsZT0id2lkdGg6IDEwMC4wJTsgaGVpZ2h0OiAxMDAuMCU7Ij5GYWlydmlldywgSGVucnkgRmFybSwgT3Jpb2xlLCBOb3J0aCBZb3JrPC9kaXY+YClbMF07CiAgICAgICAgICAgIHBvcHVwXzY1NDZhZDI4MTRiYjQ5NDk5NzNkOWFjMzM1YjdhMzRmLnNldENvbnRlbnQoaHRtbF9mZWFjNDM0ZTA5MzM0ODdjOGZhZTIyYWEyOWVmNzMwYik7CiAgICAgICAgCgogICAgICAgIGNpcmNsZV9tYXJrZXJfMmU5YjY3N2FkNDg3NDZiMWFjNTNjNjJiZmIxODk5NDguYmluZFBvcHVwKHBvcHVwXzY1NDZhZDI4MTRiYjQ5NDk5NzNkOWFjMzM1YjdhMzRmKQogICAgICAgIDsKCiAgICAgICAgCiAgICAKICAgIAogICAgICAgICAgICB2YXIgY2lyY2xlX21hcmtlcl81YTczMDY5NmUyOWU0ZGIzYjg4YjFiZmVjMjZhOTk0MiA9IEwuY2lyY2xlTWFya2VyKAogICAgICAgICAgICAgICAgWzQzLjc2Nzk4MDMsIC03OS40ODcyNjE5MDAwMDAwMV0sCiAgICAgICAgICAgICAgICB7ImJ1YmJsaW5nTW91c2VFdmVudHMiOiB0cnVlLCAiY29sb3IiOiAiYmx1ZSIsICJkYXNoQXJyYXkiOiBudWxsLCAiZGFzaE9mZnNldCI6IG51bGwsICJmaWxsIjogdHJ1ZSwgImZpbGxDb2xvciI6ICIjMzE4NmNjIiwgImZpbGxPcGFjaXR5IjogMC43LCAiZmlsbFJ1bGUiOiAiZXZlbm9kZCIsICJsaW5lQ2FwIjogInJvdW5kIiwgImxpbmVKb2luIjogInJvdW5kIiwgIm9wYWNpdHkiOiAxLjAsICJyYWRpdXMiOiA1LCAic3Ryb2tlIjogdHJ1ZSwgIndlaWdodCI6IDN9CiAgICAgICAgICAgICkuYWRkVG8obWFwX2Q0ZDQzMTUzODI5NTQ4NzU5ZDdjN2QzNTE0NDhlZTY4KTsKICAgICAgICAKICAgIAogICAgICAgIHZhciBwb3B1cF85ZDEzMTYzNWM0NWY0ZjBkYTA1Njk0ZmVkMWQ3NmU4NiA9IEwucG9wdXAoeyJtYXhXaWR0aCI6ICIxMDAlIn0pOwoKICAgICAgICAKICAgICAgICAgICAgdmFyIGh0bWxfNGRhODNmYjE3NTE3NGQxMDk4ZTVhZmQzN2RjZGNmM2YgPSAkKGA8ZGl2IGlkPSJodG1sXzRkYTgzZmIxNzUxNzRkMTA5OGU1YWZkMzdkY2RjZjNmIiBzdHlsZT0id2lkdGg6IDEwMC4wJTsgaGVpZ2h0OiAxMDAuMCU7Ij5Ob3J0aHdvb2QgUGFyaywgWW9yayBVbml2ZXJzaXR5LCBOb3J0aCBZb3JrPC9kaXY+YClbMF07CiAgICAgICAgICAgIHBvcHVwXzlkMTMxNjM1YzQ1ZjRmMGRhMDU2OTRmZWQxZDc2ZTg2LnNldENvbnRlbnQoaHRtbF80ZGE4M2ZiMTc1MTc0ZDEwOThlNWFmZDM3ZGNkY2YzZik7CiAgICAgICAgCgogICAgICAgIGNpcmNsZV9tYXJrZXJfNWE3MzA2OTZlMjllNGRiM2I4OGIxYmZlYzI2YTk5NDIuYmluZFBvcHVwKHBvcHVwXzlkMTMxNjM1YzQ1ZjRmMGRhMDU2OTRmZWQxZDc2ZTg2KQogICAgICAgIDsKCiAgICAgICAgCiAgICAKICAgIAogICAgICAgICAgICB2YXIgY2lyY2xlX21hcmtlcl9jZmY0ZjhjZGMzNGQ0ODhmOGQ0ZWU1Mjc2ZGZjYWJkOCA9IEwuY2lyY2xlTWFya2VyKAogICAgICAgICAgICAgICAgWzQzLjY4NTM0NywgLTc5LjMzODEwNjVdLAogICAgICAgICAgICAgICAgeyJidWJibGluZ01vdXNlRXZlbnRzIjogdHJ1ZSwgImNvbG9yIjogImJsdWUiLCAiZGFzaEFycmF5IjogbnVsbCwgImRhc2hPZmZzZXQiOiBudWxsLCAiZmlsbCI6IHRydWUsICJmaWxsQ29sb3IiOiAiIzMxODZjYyIsICJmaWxsT3BhY2l0eSI6IDAuNywgImZpbGxSdWxlIjogImV2ZW5vZGQiLCAibGluZUNhcCI6ICJyb3VuZCIsICJsaW5lSm9pbiI6ICJyb3VuZCIsICJvcGFjaXR5IjogMS4wLCAicmFkaXVzIjogNSwgInN0cm9rZSI6IHRydWUsICJ3ZWlnaHQiOiAzfQogICAgICAgICAgICApLmFkZFRvKG1hcF9kNGQ0MzE1MzgyOTU0ODc1OWQ3YzdkMzUxNDQ4ZWU2OCk7CiAgICAgICAgCiAgICAKICAgICAgICB2YXIgcG9wdXBfODg3YjkwYWE2MTIyNDczMjk5ZTBjZGRiOTY3OTVmZDIgPSBMLnBvcHVwKHsibWF4V2lkdGgiOiAiMTAwJSJ9KTsKCiAgICAgICAgCiAgICAgICAgICAgIHZhciBodG1sXzc5MTY5YWQzNDNiOTQ0ODRhYzU3MGQzN2ZhZTZiNTUxID0gJChgPGRpdiBpZD0iaHRtbF83OTE2OWFkMzQzYjk0NDg0YWM1NzBkMzdmYWU2YjU1MSIgc3R5bGU9IndpZHRoOiAxMDAuMCU7IGhlaWdodDogMTAwLjAlOyI+RWFzdCBUb3JvbnRvLCBCcm9hZHZpZXcgTm9ydGggKE9sZCBFYXN0IFlvcmspLCBFYXN0IFlvcms8L2Rpdj5gKVswXTsKICAgICAgICAgICAgcG9wdXBfODg3YjkwYWE2MTIyNDczMjk5ZTBjZGRiOTY3OTVmZDIuc2V0Q29udGVudChodG1sXzc5MTY5YWQzNDNiOTQ0ODRhYzU3MGQzN2ZhZTZiNTUxKTsKICAgICAgICAKCiAgICAgICAgY2lyY2xlX21hcmtlcl9jZmY0ZjhjZGMzNGQ0ODhmOGQ0ZWU1Mjc2ZGZjYWJkOC5iaW5kUG9wdXAocG9wdXBfODg3YjkwYWE2MTIyNDczMjk5ZTBjZGRiOTY3OTVmZDIpCiAgICAgICAgOwoKICAgICAgICAKICAgIAogICAgCiAgICAgICAgICAgIHZhciBjaXJjbGVfbWFya2VyX2I3YWQ2OTZlYTE2MzRkY2E5ODViMDg0Yzg4ZmUwZjhiID0gTC5jaXJjbGVNYXJrZXIoCiAgICAgICAgICAgICAgICBbNDMuNjQwODE1NywgLTc5LjM4MTc1MjI5OTk5OTk5XSwKICAgICAgICAgICAgICAgIHsiYnViYmxpbmdNb3VzZUV2ZW50cyI6IHRydWUsICJjb2xvciI6ICJibHVlIiwgImRhc2hBcnJheSI6IG51bGwsICJkYXNoT2Zmc2V0IjogbnVsbCwgImZpbGwiOiB0cnVlLCAiZmlsbENvbG9yIjogIiMzMTg2Y2MiLCAiZmlsbE9wYWNpdHkiOiAwLjcsICJmaWxsUnVsZSI6ICJldmVub2RkIiwgImxpbmVDYXAiOiAicm91bmQiLCAibGluZUpvaW4iOiAicm91bmQiLCAib3BhY2l0eSI6IDEuMCwgInJhZGl1cyI6IDUsICJzdHJva2UiOiB0cnVlLCAid2VpZ2h0IjogM30KICAgICAgICAgICAgKS5hZGRUbyhtYXBfZDRkNDMxNTM4Mjk1NDg3NTlkN2M3ZDM1MTQ0OGVlNjgpOwogICAgICAgIAogICAgCiAgICAgICAgdmFyIHBvcHVwXzMwNDc2ZjBmYzI5YjRkODk5ZDA5NDM5MjUxMWI4NzcwID0gTC5wb3B1cCh7Im1heFdpZHRoIjogIjEwMCUifSk7CgogICAgICAgIAogICAgICAgICAgICB2YXIgaHRtbF8xYjI5MGYwMjJjNDg0ZTRlOTYwNTA0ZWU3NDAxYjAxMCA9ICQoYDxkaXYgaWQ9Imh0bWxfMWIyOTBmMDIyYzQ4NGU0ZTk2MDUwNGVlNzQwMWIwMTAiIHN0eWxlPSJ3aWR0aDogMTAwLjAlOyBoZWlnaHQ6IDEwMC4wJTsiPkhhcmJvdXJmcm9udCBFYXN0LCBVbmlvbiBTdGF0aW9uLCBUb3JvbnRvIElzbGFuZHMsIERvd250b3duIFRvcm9udG88L2Rpdj5gKVswXTsKICAgICAgICAgICAgcG9wdXBfMzA0NzZmMGZjMjliNGQ4OTlkMDk0MzkyNTExYjg3NzAuc2V0Q29udGVudChodG1sXzFiMjkwZjAyMmM0ODRlNGU5NjA1MDRlZTc0MDFiMDEwKTsKICAgICAgICAKCiAgICAgICAgY2lyY2xlX21hcmtlcl9iN2FkNjk2ZWExNjM0ZGNhOTg1YjA4NGM4OGZlMGY4Yi5iaW5kUG9wdXAocG9wdXBfMzA0NzZmMGZjMjliNGQ4OTlkMDk0MzkyNTExYjg3NzApCiAgICAgICAgOwoKICAgICAgICAKICAgIAogICAgCiAgICAgICAgICAgIHZhciBjaXJjbGVfbWFya2VyXzQzZGU0MTkxZTdjZDQ4NGZhNmFhMGI2NGI4ZjYwNDYzID0gTC5jaXJjbGVNYXJrZXIoCiAgICAgICAgICAgICAgICBbNDMuNjQ3OTI2NzAwMDAwMDA2LCAtNzkuNDE5NzQ5N10sCiAgICAgICAgICAgICAgICB7ImJ1YmJsaW5nTW91c2VFdmVudHMiOiB0cnVlLCAiY29sb3IiOiAiYmx1ZSIsICJkYXNoQXJyYXkiOiBudWxsLCAiZGFzaE9mZnNldCI6IG51bGwsICJmaWxsIjogdHJ1ZSwgImZpbGxDb2xvciI6ICIjMzE4NmNjIiwgImZpbGxPcGFjaXR5IjogMC43LCAiZmlsbFJ1bGUiOiAiZXZlbm9kZCIsICJsaW5lQ2FwIjogInJvdW5kIiwgImxpbmVKb2luIjogInJvdW5kIiwgIm9wYWNpdHkiOiAxLjAsICJyYWRpdXMiOiA1LCAic3Ryb2tlIjogdHJ1ZSwgIndlaWdodCI6IDN9CiAgICAgICAgICAgICkuYWRkVG8obWFwX2Q0ZDQzMTUzODI5NTQ4NzU5ZDdjN2QzNTE0NDhlZTY4KTsKICAgICAgICAKICAgIAogICAgICAgIHZhciBwb3B1cF9lODkxMmU2NjVhZjY0ZTExYjZiYjJjNzYyYzRiNzcyZCA9IEwucG9wdXAoeyJtYXhXaWR0aCI6ICIxMDAlIn0pOwoKICAgICAgICAKICAgICAgICAgICAgdmFyIGh0bWxfZjc4MWExYTIyM2YwNDg3ZGEwMGJiMmM4NmFhODFmYTggPSAkKGA8ZGl2IGlkPSJodG1sX2Y3ODFhMWEyMjNmMDQ4N2RhMDBiYjJjODZhYTgxZmE4IiBzdHlsZT0id2lkdGg6IDEwMC4wJTsgaGVpZ2h0OiAxMDAuMCU7Ij5MaXR0bGUgUG9ydHVnYWwsIFRyaW5pdHksIFdlc3QgVG9yb250bzwvZGl2PmApWzBdOwogICAgICAgICAgICBwb3B1cF9lODkxMmU2NjVhZjY0ZTExYjZiYjJjNzYyYzRiNzcyZC5zZXRDb250ZW50KGh0bWxfZjc4MWExYTIyM2YwNDg3ZGEwMGJiMmM4NmFhODFmYTgpOwogICAgICAgIAoKICAgICAgICBjaXJjbGVfbWFya2VyXzQzZGU0MTkxZTdjZDQ4NGZhNmFhMGI2NGI4ZjYwNDYzLmJpbmRQb3B1cChwb3B1cF9lODkxMmU2NjVhZjY0ZTExYjZiYjJjNzYyYzRiNzcyZCkKICAgICAgICA7CgogICAgICAgIAogICAgCiAgICAKICAgICAgICAgICAgdmFyIGNpcmNsZV9tYXJrZXJfMjU4MjBjY2ZlMjZmNDdhNmFmYjQyY2VhMjc3YWRmMjMgPSBMLmNpcmNsZU1hcmtlcigKICAgICAgICAgICAgICAgIFs0My43Mjc5MjkyLCAtNzkuMjYyMDI5NDAwMDAwMDJdLAogICAgICAgICAgICAgICAgeyJidWJibGluZ01vdXNlRXZlbnRzIjogdHJ1ZSwgImNvbG9yIjogImJsdWUiLCAiZGFzaEFycmF5IjogbnVsbCwgImRhc2hPZmZzZXQiOiBudWxsLCAiZmlsbCI6IHRydWUsICJmaWxsQ29sb3IiOiAiIzMxODZjYyIsICJmaWxsT3BhY2l0eSI6IDAuNywgImZpbGxSdWxlIjogImV2ZW5vZGQiLCAibGluZUNhcCI6ICJyb3VuZCIsICJsaW5lSm9pbiI6ICJyb3VuZCIsICJvcGFjaXR5IjogMS4wLCAicmFkaXVzIjogNSwgInN0cm9rZSI6IHRydWUsICJ3ZWlnaHQiOiAzfQogICAgICAgICAgICApLmFkZFRvKG1hcF9kNGQ0MzE1MzgyOTU0ODc1OWQ3YzdkMzUxNDQ4ZWU2OCk7CiAgICAgICAgCiAgICAKICAgICAgICB2YXIgcG9wdXBfZGU2MGI4YWE5M2M4NDk4ZDgxMGRiYjNiNzBjYTgxNmMgPSBMLnBvcHVwKHsibWF4V2lkdGgiOiAiMTAwJSJ9KTsKCiAgICAgICAgCiAgICAgICAgICAgIHZhciBodG1sXzJlMjUwNTQwMWM5MTQxMDdhNGQ1ZGM0ZDg5NzNhZjE1ID0gJChgPGRpdiBpZD0iaHRtbF8yZTI1MDU0MDFjOTE0MTA3YTRkNWRjNGQ4OTczYWYxNSIgc3R5bGU9IndpZHRoOiAxMDAuMCU7IGhlaWdodDogMTAwLjAlOyI+S2VubmVkeSBQYXJrLCBJb252aWV3LCBFYXN0IEJpcmNobW91bnQgUGFyaywgU2NhcmJvcm91Z2g8L2Rpdj5gKVswXTsKICAgICAgICAgICAgcG9wdXBfZGU2MGI4YWE5M2M4NDk4ZDgxMGRiYjNiNzBjYTgxNmMuc2V0Q29udGVudChodG1sXzJlMjUwNTQwMWM5MTQxMDdhNGQ1ZGM0ZDg5NzNhZjE1KTsKICAgICAgICAKCiAgICAgICAgY2lyY2xlX21hcmtlcl8yNTgyMGNjZmUyNmY0N2E2YWZiNDJjZWEyNzdhZGYyMy5iaW5kUG9wdXAocG9wdXBfZGU2MGI4YWE5M2M4NDk4ZDgxMGRiYjNiNzBjYTgxNmMpCiAgICAgICAgOwoKICAgICAgICAKICAgIAogICAgCiAgICAgICAgICAgIHZhciBjaXJjbGVfbWFya2VyXzcxY2ZlOTU1ZGRlNDQ1ZDFiMjhkZTJiNDM1OWRlM2JjID0gTC5jaXJjbGVNYXJrZXIoCiAgICAgICAgICAgICAgICBbNDMuNzg2OTQ3MywgLTc5LjM4NTk3NV0sCiAgICAgICAgICAgICAgICB7ImJ1YmJsaW5nTW91c2VFdmVudHMiOiB0cnVlLCAiY29sb3IiOiAiYmx1ZSIsICJkYXNoQXJyYXkiOiBudWxsLCAiZGFzaE9mZnNldCI6IG51bGwsICJmaWxsIjogdHJ1ZSwgImZpbGxDb2xvciI6ICIjMzE4NmNjIiwgImZpbGxPcGFjaXR5IjogMC43LCAiZmlsbFJ1bGUiOiAiZXZlbm9kZCIsICJsaW5lQ2FwIjogInJvdW5kIiwgImxpbmVKb2luIjogInJvdW5kIiwgIm9wYWNpdHkiOiAxLjAsICJyYWRpdXMiOiA1LCAic3Ryb2tlIjogdHJ1ZSwgIndlaWdodCI6IDN9CiAgICAgICAgICAgICkuYWRkVG8obWFwX2Q0ZDQzMTUzODI5NTQ4NzU5ZDdjN2QzNTE0NDhlZTY4KTsKICAgICAgICAKICAgIAogICAgICAgIHZhciBwb3B1cF9kZWZkZjc4MjkyYWM0YTg2ODNmN2IyN2E5ZWM1NzkzMCA9IEwucG9wdXAoeyJtYXhXaWR0aCI6ICIxMDAlIn0pOwoKICAgICAgICAKICAgICAgICAgICAgdmFyIGh0bWxfMjk1MTAwNGEzODk5NDQyOThiOTE0NTU1YThkNmQ2ODYgPSAkKGA8ZGl2IGlkPSJodG1sXzI5NTEwMDRhMzg5OTQ0Mjk4YjkxNDU1NWE4ZDZkNjg2IiBzdHlsZT0id2lkdGg6IDEwMC4wJTsgaGVpZ2h0OiAxMDAuMCU7Ij5CYXl2aWV3IFZpbGxhZ2UsIE5vcnRoIFlvcms8L2Rpdj5gKVswXTsKICAgICAgICAgICAgcG9wdXBfZGVmZGY3ODI5MmFjNGE4NjgzZjdiMjdhOWVjNTc5MzAuc2V0Q29udGVudChodG1sXzI5NTEwMDRhMzg5OTQ0Mjk4YjkxNDU1NWE4ZDZkNjg2KTsKICAgICAgICAKCiAgICAgICAgY2lyY2xlX21hcmtlcl83MWNmZTk1NWRkZTQ0NWQxYjI4ZGUyYjQzNTlkZTNiYy5iaW5kUG9wdXAocG9wdXBfZGVmZGY3ODI5MmFjNGE4NjgzZjdiMjdhOWVjNTc5MzApCiAgICAgICAgOwoKICAgICAgICAKICAgIAogICAgCiAgICAgICAgICAgIHZhciBjaXJjbGVfbWFya2VyXzY5YmJmZTRlOWNmNTQ1MTFiZTJlZGIwNWE1ZGZlYmUzID0gTC5jaXJjbGVNYXJrZXIoCiAgICAgICAgICAgICAgICBbNDMuNzM3NDczMjAwMDAwMDA0LCAtNzkuNDY0NzYzMjk5OTk5OTldLAogICAgICAgICAgICAgICAgeyJidWJibGluZ01vdXNlRXZlbnRzIjogdHJ1ZSwgImNvbG9yIjogImJsdWUiLCAiZGFzaEFycmF5IjogbnVsbCwgImRhc2hPZmZzZXQiOiBudWxsLCAiZmlsbCI6IHRydWUsICJmaWxsQ29sb3IiOiAiIzMxODZjYyIsICJmaWxsT3BhY2l0eSI6IDAuNywgImZpbGxSdWxlIjogImV2ZW5vZGQiLCAibGluZUNhcCI6ICJyb3VuZCIsICJsaW5lSm9pbiI6ICJyb3VuZCIsICJvcGFjaXR5IjogMS4wLCAicmFkaXVzIjogNSwgInN0cm9rZSI6IHRydWUsICJ3ZWlnaHQiOiAzfQogICAgICAgICAgICApLmFkZFRvKG1hcF9kNGQ0MzE1MzgyOTU0ODc1OWQ3YzdkMzUxNDQ4ZWU2OCk7CiAgICAgICAgCiAgICAKICAgICAgICB2YXIgcG9wdXBfOWRlYjZmMWFlN2ZjNGM4YzkzODA4ZWQ4Y2VhZDdhMzEgPSBMLnBvcHVwKHsibWF4V2lkdGgiOiAiMTAwJSJ9KTsKCiAgICAgICAgCiAgICAgICAgICAgIHZhciBodG1sX2ZlNmFkMmM0YjVmYzRlZmI4NDRiNDBiNTRjYTk5NGVkID0gJChgPGRpdiBpZD0iaHRtbF9mZTZhZDJjNGI1ZmM0ZWZiODQ0YjQwYjU0Y2E5OTRlZCIgc3R5bGU9IndpZHRoOiAxMDAuMCU7IGhlaWdodDogMTAwLjAlOyI+RG93bnN2aWV3LCBOb3J0aCBZb3JrPC9kaXY+YClbMF07CiAgICAgICAgICAgIHBvcHVwXzlkZWI2ZjFhZTdmYzRjOGM5MzgwOGVkOGNlYWQ3YTMxLnNldENvbnRlbnQoaHRtbF9mZTZhZDJjNGI1ZmM0ZWZiODQ0YjQwYjU0Y2E5OTRlZCk7CiAgICAgICAgCgogICAgICAgIGNpcmNsZV9tYXJrZXJfNjliYmZlNGU5Y2Y1NDUxMWJlMmVkYjA1YTVkZmViZTMuYmluZFBvcHVwKHBvcHVwXzlkZWI2ZjFhZTdmYzRjOGM5MzgwOGVkOGNlYWQ3YTMxKQogICAgICAgIDsKCiAgICAgICAgCiAgICAKICAgIAogICAgICAgICAgICB2YXIgY2lyY2xlX21hcmtlcl83NzQ3ZTFlMjg1MDA0Y2M2ODk5YTgxZTc2MDYwNWVjNCA9IEwuY2lyY2xlTWFya2VyKAogICAgICAgICAgICAgICAgWzQzLjY3OTU1NzEsIC03OS4zNTIxODhdLAogICAgICAgICAgICAgICAgeyJidWJibGluZ01vdXNlRXZlbnRzIjogdHJ1ZSwgImNvbG9yIjogImJsdWUiLCAiZGFzaEFycmF5IjogbnVsbCwgImRhc2hPZmZzZXQiOiBudWxsLCAiZmlsbCI6IHRydWUsICJmaWxsQ29sb3IiOiAiIzMxODZjYyIsICJmaWxsT3BhY2l0eSI6IDAuNywgImZpbGxSdWxlIjogImV2ZW5vZGQiLCAibGluZUNhcCI6ICJyb3VuZCIsICJsaW5lSm9pbiI6ICJyb3VuZCIsICJvcGFjaXR5IjogMS4wLCAicmFkaXVzIjogNSwgInN0cm9rZSI6IHRydWUsICJ3ZWlnaHQiOiAzfQogICAgICAgICAgICApLmFkZFRvKG1hcF9kNGQ0MzE1MzgyOTU0ODc1OWQ3YzdkMzUxNDQ4ZWU2OCk7CiAgICAgICAgCiAgICAKICAgICAgICB2YXIgcG9wdXBfODlmMWI3MDU3Y2RlNGVkMTk1YmI1ZWRiNzkzNDZhYmMgPSBMLnBvcHVwKHsibWF4V2lkdGgiOiAiMTAwJSJ9KTsKCiAgICAgICAgCiAgICAgICAgICAgIHZhciBodG1sXzQyOTJkZTQ1YTI4NDQ2NDY4OTZkNTg1OWU4NGViYWI2ID0gJChgPGRpdiBpZD0iaHRtbF80MjkyZGU0NWEyODQ0NjQ2ODk2ZDU4NTllODRlYmFiNiIgc3R5bGU9IndpZHRoOiAxMDAuMCU7IGhlaWdodDogMTAwLjAlOyI+VGhlIERhbmZvcnRoIFdlc3QsIFJpdmVyZGFsZSwgRWFzdCBUb3JvbnRvPC9kaXY+YClbMF07CiAgICAgICAgICAgIHBvcHVwXzg5ZjFiNzA1N2NkZTRlZDE5NWJiNWVkYjc5MzQ2YWJjLnNldENvbnRlbnQoaHRtbF80MjkyZGU0NWEyODQ0NjQ2ODk2ZDU4NTllODRlYmFiNik7CiAgICAgICAgCgogICAgICAgIGNpcmNsZV9tYXJrZXJfNzc0N2UxZTI4NTAwNGNjNjg5OWE4MWU3NjA2MDVlYzQuYmluZFBvcHVwKHBvcHVwXzg5ZjFiNzA1N2NkZTRlZDE5NWJiNWVkYjc5MzQ2YWJjKQogICAgICAgIDsKCiAgICAgICAgCiAgICAKICAgIAogICAgICAgICAgICB2YXIgY2lyY2xlX21hcmtlcl9kYWNhODAwODFiNjk0ZTk3OWNjNGUwMjkyYzQ0M2I0NSA9IEwuY2lyY2xlTWFya2VyKAogICAgICAgICAgICAgICAgWzQzLjY0NzE3NjgsIC03OS4zODE1NzY0MDAwMDAwMV0sCiAgICAgICAgICAgICAgICB7ImJ1YmJsaW5nTW91c2VFdmVudHMiOiB0cnVlLCAiY29sb3IiOiAiYmx1ZSIsICJkYXNoQXJyYXkiOiBudWxsLCAiZGFzaE9mZnNldCI6IG51bGwsICJmaWxsIjogdHJ1ZSwgImZpbGxDb2xvciI6ICIjMzE4NmNjIiwgImZpbGxPcGFjaXR5IjogMC43LCAiZmlsbFJ1bGUiOiAiZXZlbm9kZCIsICJsaW5lQ2FwIjogInJvdW5kIiwgImxpbmVKb2luIjogInJvdW5kIiwgIm9wYWNpdHkiOiAxLjAsICJyYWRpdXMiOiA1LCAic3Ryb2tlIjogdHJ1ZSwgIndlaWdodCI6IDN9CiAgICAgICAgICAgICkuYWRkVG8obWFwX2Q0ZDQzMTUzODI5NTQ4NzU5ZDdjN2QzNTE0NDhlZTY4KTsKICAgICAgICAKICAgIAogICAgICAgIHZhciBwb3B1cF9iMGQwMjAyNTEyMmE0NmYwOTA1MTVhN2YxYTc4ODQ4NSA9IEwucG9wdXAoeyJtYXhXaWR0aCI6ICIxMDAlIn0pOwoKICAgICAgICAKICAgICAgICAgICAgdmFyIGh0bWxfNGY1ZTdjNWQ4NWJiNDcxNTlhZGRkN2YxMmVhODAyMmYgPSAkKGA8ZGl2IGlkPSJodG1sXzRmNWU3YzVkODViYjQ3MTU5YWRkZDdmMTJlYTgwMjJmIiBzdHlsZT0id2lkdGg6IDEwMC4wJTsgaGVpZ2h0OiAxMDAuMCU7Ij5Ub3JvbnRvIERvbWluaW9uIENlbnRyZSwgRGVzaWduIEV4Y2hhbmdlLCBEb3dudG93biBUb3JvbnRvPC9kaXY+YClbMF07CiAgICAgICAgICAgIHBvcHVwX2IwZDAyMDI1MTIyYTQ2ZjA5MDUxNWE3ZjFhNzg4NDg1LnNldENvbnRlbnQoaHRtbF80ZjVlN2M1ZDg1YmI0NzE1OWFkZGQ3ZjEyZWE4MDIyZik7CiAgICAgICAgCgogICAgICAgIGNpcmNsZV9tYXJrZXJfZGFjYTgwMDgxYjY5NGU5NzljYzRlMDI5MmM0NDNiNDUuYmluZFBvcHVwKHBvcHVwX2IwZDAyMDI1MTIyYTQ2ZjA5MDUxNWE3ZjFhNzg4NDg1KQogICAgICAgIDsKCiAgICAgICAgCiAgICAKICAgIAogICAgICAgICAgICB2YXIgY2lyY2xlX21hcmtlcl81NzYzZjZhNjRhYjk0NGQyYjBmMzc4NDY1ZDVlYWMxZSA9IEwuY2lyY2xlTWFya2VyKAogICAgICAgICAgICAgICAgWzQzLjYzNjg0NzIsIC03OS40MjgxOTE0MDAwMDAwMl0sCiAgICAgICAgICAgICAgICB7ImJ1YmJsaW5nTW91c2VFdmVudHMiOiB0cnVlLCAiY29sb3IiOiAiYmx1ZSIsICJkYXNoQXJyYXkiOiBudWxsLCAiZGFzaE9mZnNldCI6IG51bGwsICJmaWxsIjogdHJ1ZSwgImZpbGxDb2xvciI6ICIjMzE4NmNjIiwgImZpbGxPcGFjaXR5IjogMC43LCAiZmlsbFJ1bGUiOiAiZXZlbm9kZCIsICJsaW5lQ2FwIjogInJvdW5kIiwgImxpbmVKb2luIjogInJvdW5kIiwgIm9wYWNpdHkiOiAxLjAsICJyYWRpdXMiOiA1LCAic3Ryb2tlIjogdHJ1ZSwgIndlaWdodCI6IDN9CiAgICAgICAgICAgICkuYWRkVG8obWFwX2Q0ZDQzMTUzODI5NTQ4NzU5ZDdjN2QzNTE0NDhlZTY4KTsKICAgICAgICAKICAgIAogICAgICAgIHZhciBwb3B1cF80ZDZkYWEzZTE0OGU0OWEzYWEzM2U5NzYxOWE3OGI3YiA9IEwucG9wdXAoeyJtYXhXaWR0aCI6ICIxMDAlIn0pOwoKICAgICAgICAKICAgICAgICAgICAgdmFyIGh0bWxfOWI1OWY4NWRkOGUwNDdlN2I3ODIxZWIyNDA2MGMxY2IgPSAkKGA8ZGl2IGlkPSJodG1sXzliNTlmODVkZDhlMDQ3ZTdiNzgyMWViMjQwNjBjMWNiIiBzdHlsZT0id2lkdGg6IDEwMC4wJTsgaGVpZ2h0OiAxMDAuMCU7Ij5Ccm9ja3RvbiwgUGFya2RhbGUgVmlsbGFnZSwgRXhoaWJpdGlvbiBQbGFjZSwgV2VzdCBUb3JvbnRvPC9kaXY+YClbMF07CiAgICAgICAgICAgIHBvcHVwXzRkNmRhYTNlMTQ4ZTQ5YTNhYTMzZTk3NjE5YTc4YjdiLnNldENvbnRlbnQoaHRtbF85YjU5Zjg1ZGQ4ZTA0N2U3Yjc4MjFlYjI0MDYwYzFjYik7CiAgICAgICAgCgogICAgICAgIGNpcmNsZV9tYXJrZXJfNTc2M2Y2YTY0YWI5NDRkMmIwZjM3ODQ2NWQ1ZWFjMWUuYmluZFBvcHVwKHBvcHVwXzRkNmRhYTNlMTQ4ZTQ5YTNhYTMzZTk3NjE5YTc4YjdiKQogICAgICAgIDsKCiAgICAgICAgCiAgICAKICAgIAogICAgICAgICAgICB2YXIgY2lyY2xlX21hcmtlcl81YzhhZGU5ZDY0N2E0OTgzOGZmNDcyZjcwZTY1MTM3NCA9IEwuY2lyY2xlTWFya2VyKAogICAgICAgICAgICAgICAgWzQzLjcxMTExMTcwMDAwMDAwNCwgLTc5LjI4NDU3NzJdLAogICAgICAgICAgICAgICAgeyJidWJibGluZ01vdXNlRXZlbnRzIjogdHJ1ZSwgImNvbG9yIjogImJsdWUiLCAiZGFzaEFycmF5IjogbnVsbCwgImRhc2hPZmZzZXQiOiBudWxsLCAiZmlsbCI6IHRydWUsICJmaWxsQ29sb3IiOiAiIzMxODZjYyIsICJmaWxsT3BhY2l0eSI6IDAuNywgImZpbGxSdWxlIjogImV2ZW5vZGQiLCAibGluZUNhcCI6ICJyb3VuZCIsICJsaW5lSm9pbiI6ICJyb3VuZCIsICJvcGFjaXR5IjogMS4wLCAicmFkaXVzIjogNSwgInN0cm9rZSI6IHRydWUsICJ3ZWlnaHQiOiAzfQogICAgICAgICAgICApLmFkZFRvKG1hcF9kNGQ0MzE1MzgyOTU0ODc1OWQ3YzdkMzUxNDQ4ZWU2OCk7CiAgICAgICAgCiAgICAKICAgICAgICB2YXIgcG9wdXBfMGRjOTcwYjkxNjY2NDYzMDk3N2EzNzQxMDcyOTgzYTAgPSBMLnBvcHVwKHsibWF4V2lkdGgiOiAiMTAwJSJ9KTsKCiAgICAgICAgCiAgICAgICAgICAgIHZhciBodG1sXzY0Nzc5MjgzOGI1MzQ1ZjdhMDExZTFjMTY4YTdhMjgwID0gJChgPGRpdiBpZD0iaHRtbF82NDc3OTI4MzhiNTM0NWY3YTAxMWUxYzE2OGE3YTI4MCIgc3R5bGU9IndpZHRoOiAxMDAuMCU7IGhlaWdodDogMTAwLjAlOyI+R29sZGVuIE1pbGUsIENsYWlybGVhLCBPYWtyaWRnZSwgU2NhcmJvcm91Z2g8L2Rpdj5gKVswXTsKICAgICAgICAgICAgcG9wdXBfMGRjOTcwYjkxNjY2NDYzMDk3N2EzNzQxMDcyOTgzYTAuc2V0Q29udGVudChodG1sXzY0Nzc5MjgzOGI1MzQ1ZjdhMDExZTFjMTY4YTdhMjgwKTsKICAgICAgICAKCiAgICAgICAgY2lyY2xlX21hcmtlcl81YzhhZGU5ZDY0N2E0OTgzOGZmNDcyZjcwZTY1MTM3NC5iaW5kUG9wdXAocG9wdXBfMGRjOTcwYjkxNjY2NDYzMDk3N2EzNzQxMDcyOTgzYTApCiAgICAgICAgOwoKICAgICAgICAKICAgIAogICAgCiAgICAgICAgICAgIHZhciBjaXJjbGVfbWFya2VyX2M0MTJjMTBmNDNkMjQ0ZmJhZDMwMzI0M2U2NjQ0MTEwID0gTC5jaXJjbGVNYXJrZXIoCiAgICAgICAgICAgICAgICBbNDMuNzU3NDkwMiwgLTc5LjM3NDcxNDA5OTk5OTk5XSwKICAgICAgICAgICAgICAgIHsiYnViYmxpbmdNb3VzZUV2ZW50cyI6IHRydWUsICJjb2xvciI6ICJibHVlIiwgImRhc2hBcnJheSI6IG51bGwsICJkYXNoT2Zmc2V0IjogbnVsbCwgImZpbGwiOiB0cnVlLCAiZmlsbENvbG9yIjogIiMzMTg2Y2MiLCAiZmlsbE9wYWNpdHkiOiAwLjcsICJmaWxsUnVsZSI6ICJldmVub2RkIiwgImxpbmVDYXAiOiAicm91bmQiLCAibGluZUpvaW4iOiAicm91bmQiLCAib3BhY2l0eSI6IDEuMCwgInJhZGl1cyI6IDUsICJzdHJva2UiOiB0cnVlLCAid2VpZ2h0IjogM30KICAgICAgICAgICAgKS5hZGRUbyhtYXBfZDRkNDMxNTM4Mjk1NDg3NTlkN2M3ZDM1MTQ0OGVlNjgpOwogICAgICAgIAogICAgCiAgICAgICAgdmFyIHBvcHVwXzlkMGVkNjRmMzcyNDQ4OGZiYjUyNTdmM2E2YmJiOGRkID0gTC5wb3B1cCh7Im1heFdpZHRoIjogIjEwMCUifSk7CgogICAgICAgIAogICAgICAgICAgICB2YXIgaHRtbF85ODJlYjRjYjE2NmY0NWUxYTYwODNlNDE3ZDdiY2M3OSA9ICQoYDxkaXYgaWQ9Imh0bWxfOTgyZWI0Y2IxNjZmNDVlMWE2MDgzZTQxN2Q3YmNjNzkiIHN0eWxlPSJ3aWR0aDogMTAwLjAlOyBoZWlnaHQ6IDEwMC4wJTsiPllvcmsgTWlsbHMsIFNpbHZlciBIaWxscywgTm9ydGggWW9yazwvZGl2PmApWzBdOwogICAgICAgICAgICBwb3B1cF85ZDBlZDY0ZjM3MjQ0ODhmYmI1MjU3ZjNhNmJiYjhkZC5zZXRDb250ZW50KGh0bWxfOTgyZWI0Y2IxNjZmNDVlMWE2MDgzZTQxN2Q3YmNjNzkpOwogICAgICAgIAoKICAgICAgICBjaXJjbGVfbWFya2VyX2M0MTJjMTBmNDNkMjQ0ZmJhZDMwMzI0M2U2NjQ0MTEwLmJpbmRQb3B1cChwb3B1cF85ZDBlZDY0ZjM3MjQ0ODhmYmI1MjU3ZjNhNmJiYjhkZCkKICAgICAgICA7CgogICAgICAgIAogICAgCiAgICAKICAgICAgICAgICAgdmFyIGNpcmNsZV9tYXJrZXJfYjhkNGZkN2YyNzIyNDIwY2FiNzM2OGJjNTU3NjgxNzcgPSBMLmNpcmNsZU1hcmtlcigKICAgICAgICAgICAgICAgIFs0My43MzkwMTQ2LCAtNzkuNTA2OTQzNl0sCiAgICAgICAgICAgICAgICB7ImJ1YmJsaW5nTW91c2VFdmVudHMiOiB0cnVlLCAiY29sb3IiOiAiYmx1ZSIsICJkYXNoQXJyYXkiOiBudWxsLCAiZGFzaE9mZnNldCI6IG51bGwsICJmaWxsIjogdHJ1ZSwgImZpbGxDb2xvciI6ICIjMzE4NmNjIiwgImZpbGxPcGFjaXR5IjogMC43LCAiZmlsbFJ1bGUiOiAiZXZlbm9kZCIsICJsaW5lQ2FwIjogInJvdW5kIiwgImxpbmVKb2luIjogInJvdW5kIiwgIm9wYWNpdHkiOiAxLjAsICJyYWRpdXMiOiA1LCAic3Ryb2tlIjogdHJ1ZSwgIndlaWdodCI6IDN9CiAgICAgICAgICAgICkuYWRkVG8obWFwX2Q0ZDQzMTUzODI5NTQ4NzU5ZDdjN2QzNTE0NDhlZTY4KTsKICAgICAgICAKICAgIAogICAgICAgIHZhciBwb3B1cF9mODY1Y2NiZTJlZDM0YmFiYmRiMWQ0YzU3OTI5ZTIzNyA9IEwucG9wdXAoeyJtYXhXaWR0aCI6ICIxMDAlIn0pOwoKICAgICAgICAKICAgICAgICAgICAgdmFyIGh0bWxfM2Q4YmNhYzFlYjMzNGZmY2JhY2QxNWUyNzQ4YjE1NjMgPSAkKGA8ZGl2IGlkPSJodG1sXzNkOGJjYWMxZWIzMzRmZmNiYWNkMTVlMjc0OGIxNTYzIiBzdHlsZT0id2lkdGg6IDEwMC4wJTsgaGVpZ2h0OiAxMDAuMCU7Ij5Eb3duc3ZpZXcsIE5vcnRoIFlvcms8L2Rpdj5gKVswXTsKICAgICAgICAgICAgcG9wdXBfZjg2NWNjYmUyZWQzNGJhYmJkYjFkNGM1NzkyOWUyMzcuc2V0Q29udGVudChodG1sXzNkOGJjYWMxZWIzMzRmZmNiYWNkMTVlMjc0OGIxNTYzKTsKICAgICAgICAKCiAgICAgICAgY2lyY2xlX21hcmtlcl9iOGQ0ZmQ3ZjI3MjI0MjBjYWI3MzY4YmM1NTc2ODE3Ny5iaW5kUG9wdXAocG9wdXBfZjg2NWNjYmUyZWQzNGJhYmJkYjFkNGM1NzkyOWUyMzcpCiAgICAgICAgOwoKICAgICAgICAKICAgIAogICAgCiAgICAgICAgICAgIHZhciBjaXJjbGVfbWFya2VyXzM0M2NiNjhjMWUwOTRiZTZhZjI5YjNmNjNkMDEyNmRhID0gTC5jaXJjbGVNYXJrZXIoCiAgICAgICAgICAgICAgICBbNDMuNjY4OTk4NSwgLTc5LjMxNTU3MTU5OTk5OTk4XSwKICAgICAgICAgICAgICAgIHsiYnViYmxpbmdNb3VzZUV2ZW50cyI6IHRydWUsICJjb2xvciI6ICJibHVlIiwgImRhc2hBcnJheSI6IG51bGwsICJkYXNoT2Zmc2V0IjogbnVsbCwgImZpbGwiOiB0cnVlLCAiZmlsbENvbG9yIjogIiMzMTg2Y2MiLCAiZmlsbE9wYWNpdHkiOiAwLjcsICJmaWxsUnVsZSI6ICJldmVub2RkIiwgImxpbmVDYXAiOiAicm91bmQiLCAibGluZUpvaW4iOiAicm91bmQiLCAib3BhY2l0eSI6IDEuMCwgInJhZGl1cyI6IDUsICJzdHJva2UiOiB0cnVlLCAid2VpZ2h0IjogM30KICAgICAgICAgICAgKS5hZGRUbyhtYXBfZDRkNDMxNTM4Mjk1NDg3NTlkN2M3ZDM1MTQ0OGVlNjgpOwogICAgICAgIAogICAgCiAgICAgICAgdmFyIHBvcHVwXzE3NDkwMjI5NDJiYzQwOGU5MWMzMTZhY2UxZjcwNjk5ID0gTC5wb3B1cCh7Im1heFdpZHRoIjogIjEwMCUifSk7CgogICAgICAgIAogICAgICAgICAgICB2YXIgaHRtbF8xNDJhMTQwZWVhN2M0YTg0OTAzY2E1NmVjOTVjMmVjMyA9ICQoYDxkaXYgaWQ9Imh0bWxfMTQyYTE0MGVlYTdjNGE4NDkwM2NhNTZlYzk1YzJlYzMiIHN0eWxlPSJ3aWR0aDogMTAwLjAlOyBoZWlnaHQ6IDEwMC4wJTsiPkluZGlhIEJhemFhciwgVGhlIEJlYWNoZXMgV2VzdCwgRWFzdCBUb3JvbnRvPC9kaXY+YClbMF07CiAgICAgICAgICAgIHBvcHVwXzE3NDkwMjI5NDJiYzQwOGU5MWMzMTZhY2UxZjcwNjk5LnNldENvbnRlbnQoaHRtbF8xNDJhMTQwZWVhN2M0YTg0OTAzY2E1NmVjOTVjMmVjMyk7CiAgICAgICAgCgogICAgICAgIGNpcmNsZV9tYXJrZXJfMzQzY2I2OGMxZTA5NGJlNmFmMjliM2Y2M2QwMTI2ZGEuYmluZFBvcHVwKHBvcHVwXzE3NDkwMjI5NDJiYzQwOGU5MWMzMTZhY2UxZjcwNjk5KQogICAgICAgIDsKCiAgICAgICAgCiAgICAKICAgIAogICAgICAgICAgICB2YXIgY2lyY2xlX21hcmtlcl9jNzE4OGQzMTUzODY0ZWVhYWQ5YzNjMWRlMTZjMDcwYiA9IEwuY2lyY2xlTWFya2VyKAogICAgICAgICAgICAgICAgWzQzLjY0ODE5ODUsIC03OS4zNzk4MTY5MDAwMDAwMV0sCiAgICAgICAgICAgICAgICB7ImJ1YmJsaW5nTW91c2VFdmVudHMiOiB0cnVlLCAiY29sb3IiOiAiYmx1ZSIsICJkYXNoQXJyYXkiOiBudWxsLCAiZGFzaE9mZnNldCI6IG51bGwsICJmaWxsIjogdHJ1ZSwgImZpbGxDb2xvciI6ICIjMzE4NmNjIiwgImZpbGxPcGFjaXR5IjogMC43LCAiZmlsbFJ1bGUiOiAiZXZlbm9kZCIsICJsaW5lQ2FwIjogInJvdW5kIiwgImxpbmVKb2luIjogInJvdW5kIiwgIm9wYWNpdHkiOiAxLjAsICJyYWRpdXMiOiA1LCAic3Ryb2tlIjogdHJ1ZSwgIndlaWdodCI6IDN9CiAgICAgICAgICAgICkuYWRkVG8obWFwX2Q0ZDQzMTUzODI5NTQ4NzU5ZDdjN2QzNTE0NDhlZTY4KTsKICAgICAgICAKICAgIAogICAgICAgIHZhciBwb3B1cF82NDk0ZmM1YTRjMmE0MGI3YTA3NDZjYjc1YTEwNTRiNSA9IEwucG9wdXAoeyJtYXhXaWR0aCI6ICIxMDAlIn0pOwoKICAgICAgICAKICAgICAgICAgICAgdmFyIGh0bWxfMzU0YzUzZmMzMjZhNGY2OTk5NmVkMzIxYzIzM2IwNTUgPSAkKGA8ZGl2IGlkPSJodG1sXzM1NGM1M2ZjMzI2YTRmNjk5OTZlZDMyMWMyMzNiMDU1IiBzdHlsZT0id2lkdGg6IDEwMC4wJTsgaGVpZ2h0OiAxMDAuMCU7Ij5Db21tZXJjZSBDb3VydCwgVmljdG9yaWEgSG90ZWwsIERvd250b3duIFRvcm9udG88L2Rpdj5gKVswXTsKICAgICAgICAgICAgcG9wdXBfNjQ5NGZjNWE0YzJhNDBiN2EwNzQ2Y2I3NWExMDU0YjUuc2V0Q29udGVudChodG1sXzM1NGM1M2ZjMzI2YTRmNjk5OTZlZDMyMWMyMzNiMDU1KTsKICAgICAgICAKCiAgICAgICAgY2lyY2xlX21hcmtlcl9jNzE4OGQzMTUzODY0ZWVhYWQ5YzNjMWRlMTZjMDcwYi5iaW5kUG9wdXAocG9wdXBfNjQ5NGZjNWE0YzJhNDBiN2EwNzQ2Y2I3NWExMDU0YjUpCiAgICAgICAgOwoKICAgICAgICAKICAgIAogICAgCiAgICAgICAgICAgIHZhciBjaXJjbGVfbWFya2VyX2ExZjExNDg3MjlkZTRhMzM4ZWE1YjkyMzJmMGUxNjUyID0gTC5jaXJjbGVNYXJrZXIoCiAgICAgICAgICAgICAgICBbNDMuNzEzNzU2MjAwMDAwMDA2LCAtNzkuNDkwMDczOF0sCiAgICAgICAgICAgICAgICB7ImJ1YmJsaW5nTW91c2VFdmVudHMiOiB0cnVlLCAiY29sb3IiOiAiYmx1ZSIsICJkYXNoQXJyYXkiOiBudWxsLCAiZGFzaE9mZnNldCI6IG51bGwsICJmaWxsIjogdHJ1ZSwgImZpbGxDb2xvciI6ICIjMzE4NmNjIiwgImZpbGxPcGFjaXR5IjogMC43LCAiZmlsbFJ1bGUiOiAiZXZlbm9kZCIsICJsaW5lQ2FwIjogInJvdW5kIiwgImxpbmVKb2luIjogInJvdW5kIiwgIm9wYWNpdHkiOiAxLjAsICJyYWRpdXMiOiA1LCAic3Ryb2tlIjogdHJ1ZSwgIndlaWdodCI6IDN9CiAgICAgICAgICAgICkuYWRkVG8obWFwX2Q0ZDQzMTUzODI5NTQ4NzU5ZDdjN2QzNTE0NDhlZTY4KTsKICAgICAgICAKICAgIAogICAgICAgIHZhciBwb3B1cF80MTRmMWQ3MDRjMGI0MjhiYTViZTNkMWM5OGU3NTExOCA9IEwucG9wdXAoeyJtYXhXaWR0aCI6ICIxMDAlIn0pOwoKICAgICAgICAKICAgICAgICAgICAgdmFyIGh0bWxfODRiMzc0NGRkZDk0NGIwYmEzZjY5Zjc1YTc1M2RlZWIgPSAkKGA8ZGl2IGlkPSJodG1sXzg0YjM3NDRkZGQ5NDRiMGJhM2Y2OWY3NWE3NTNkZWViIiBzdHlsZT0id2lkdGg6IDEwMC4wJTsgaGVpZ2h0OiAxMDAuMCU7Ij5Ob3J0aCBQYXJrLCBNYXBsZSBMZWFmIFBhcmssIFVwd29vZCBQYXJrLCBOb3J0aCBZb3JrPC9kaXY+YClbMF07CiAgICAgICAgICAgIHBvcHVwXzQxNGYxZDcwNGMwYjQyOGJhNWJlM2QxYzk4ZTc1MTE4LnNldENvbnRlbnQoaHRtbF84NGIzNzQ0ZGRkOTQ0YjBiYTNmNjlmNzVhNzUzZGVlYik7CiAgICAgICAgCgogICAgICAgIGNpcmNsZV9tYXJrZXJfYTFmMTE0ODcyOWRlNGEzMzhlYTViOTIzMmYwZTE2NTIuYmluZFBvcHVwKHBvcHVwXzQxNGYxZDcwNGMwYjQyOGJhNWJlM2QxYzk4ZTc1MTE4KQogICAgICAgIDsKCiAgICAgICAgCiAgICAKICAgIAogICAgICAgICAgICB2YXIgY2lyY2xlX21hcmtlcl8xYWQ2YjlmMmE1YmM0NjcwYmE1ODlmMTU5NWIwODgwZSA9IEwuY2lyY2xlTWFya2VyKAogICAgICAgICAgICAgICAgWzQzLjc1NjMwMzMsIC03OS41NjU5NjMyOTk5OTk5OV0sCiAgICAgICAgICAgICAgICB7ImJ1YmJsaW5nTW91c2VFdmVudHMiOiB0cnVlLCAiY29sb3IiOiAiYmx1ZSIsICJkYXNoQXJyYXkiOiBudWxsLCAiZGFzaE9mZnNldCI6IG51bGwsICJmaWxsIjogdHJ1ZSwgImZpbGxDb2xvciI6ICIjMzE4NmNjIiwgImZpbGxPcGFjaXR5IjogMC43LCAiZmlsbFJ1bGUiOiAiZXZlbm9kZCIsICJsaW5lQ2FwIjogInJvdW5kIiwgImxpbmVKb2luIjogInJvdW5kIiwgIm9wYWNpdHkiOiAxLjAsICJyYWRpdXMiOiA1LCAic3Ryb2tlIjogdHJ1ZSwgIndlaWdodCI6IDN9CiAgICAgICAgICAgICkuYWRkVG8obWFwX2Q0ZDQzMTUzODI5NTQ4NzU5ZDdjN2QzNTE0NDhlZTY4KTsKICAgICAgICAKICAgIAogICAgICAgIHZhciBwb3B1cF82ZGUwZDc1OTQwYzU0ZmFiOGY4OTQ2ZTkzNjY4NjEzNyA9IEwucG9wdXAoeyJtYXhXaWR0aCI6ICIxMDAlIn0pOwoKICAgICAgICAKICAgICAgICAgICAgdmFyIGh0bWxfZjI0M2Q5NmM2N2ViNGI5NmI3OTkxNTg4MTA4MjM0N2IgPSAkKGA8ZGl2IGlkPSJodG1sX2YyNDNkOTZjNjdlYjRiOTZiNzk5MTU4ODEwODIzNDdiIiBzdHlsZT0id2lkdGg6IDEwMC4wJTsgaGVpZ2h0OiAxMDAuMCU7Ij5IdW1iZXIgU3VtbWl0LCBOb3J0aCBZb3JrPC9kaXY+YClbMF07CiAgICAgICAgICAgIHBvcHVwXzZkZTBkNzU5NDBjNTRmYWI4Zjg5NDZlOTM2Njg2MTM3LnNldENvbnRlbnQoaHRtbF9mMjQzZDk2YzY3ZWI0Yjk2Yjc5OTE1ODgxMDgyMzQ3Yik7CiAgICAgICAgCgogICAgICAgIGNpcmNsZV9tYXJrZXJfMWFkNmI5ZjJhNWJjNDY3MGJhNTg5ZjE1OTViMDg4MGUuYmluZFBvcHVwKHBvcHVwXzZkZTBkNzU5NDBjNTRmYWI4Zjg5NDZlOTM2Njg2MTM3KQogICAgICAgIDsKCiAgICAgICAgCiAgICAKICAgIAogICAgICAgICAgICB2YXIgY2lyY2xlX21hcmtlcl8wMTgxMTc4NDk5NmI0NmZiOGUwMjFmNzAyMzZmMTM1MCA9IEwuY2lyY2xlTWFya2VyKAogICAgICAgICAgICAgICAgWzQzLjcxNjMxNiwgLTc5LjIzOTQ3NjA5OTk5OTk5XSwKICAgICAgICAgICAgICAgIHsiYnViYmxpbmdNb3VzZUV2ZW50cyI6IHRydWUsICJjb2xvciI6ICJibHVlIiwgImRhc2hBcnJheSI6IG51bGwsICJkYXNoT2Zmc2V0IjogbnVsbCwgImZpbGwiOiB0cnVlLCAiZmlsbENvbG9yIjogIiMzMTg2Y2MiLCAiZmlsbE9wYWNpdHkiOiAwLjcsICJmaWxsUnVsZSI6ICJldmVub2RkIiwgImxpbmVDYXAiOiAicm91bmQiLCAibGluZUpvaW4iOiAicm91bmQiLCAib3BhY2l0eSI6IDEuMCwgInJhZGl1cyI6IDUsICJzdHJva2UiOiB0cnVlLCAid2VpZ2h0IjogM30KICAgICAgICAgICAgKS5hZGRUbyhtYXBfZDRkNDMxNTM4Mjk1NDg3NTlkN2M3ZDM1MTQ0OGVlNjgpOwogICAgICAgIAogICAgCiAgICAgICAgdmFyIHBvcHVwXzBhNDgwN2U2YWExNDQ4YWRhMjM4ZGY3ODAzNzU3NTNlID0gTC5wb3B1cCh7Im1heFdpZHRoIjogIjEwMCUifSk7CgogICAgICAgIAogICAgICAgICAgICB2YXIgaHRtbF8xNmJhMzU5Zjc1OTc0YTZhYTMxZDhkOGFmNmQwZGI3MyA9ICQoYDxkaXYgaWQ9Imh0bWxfMTZiYTM1OWY3NTk3NGE2YWEzMWQ4ZDhhZjZkMGRiNzMiIHN0eWxlPSJ3aWR0aDogMTAwLjAlOyBoZWlnaHQ6IDEwMC4wJTsiPkNsaWZmc2lkZSwgQ2xpZmZjcmVzdCwgU2NhcmJvcm91Z2ggVmlsbGFnZSBXZXN0LCBTY2FyYm9yb3VnaDwvZGl2PmApWzBdOwogICAgICAgICAgICBwb3B1cF8wYTQ4MDdlNmFhMTQ0OGFkYTIzOGRmNzgwMzc1NzUzZS5zZXRDb250ZW50KGh0bWxfMTZiYTM1OWY3NTk3NGE2YWEzMWQ4ZDhhZjZkMGRiNzMpOwogICAgICAgIAoKICAgICAgICBjaXJjbGVfbWFya2VyXzAxODExNzg0OTk2YjQ2ZmI4ZTAyMWY3MDIzNmYxMzUwLmJpbmRQb3B1cChwb3B1cF8wYTQ4MDdlNmFhMTQ0OGFkYTIzOGRmNzgwMzc1NzUzZSkKICAgICAgICA7CgogICAgICAgIAogICAgCiAgICAKICAgICAgICAgICAgdmFyIGNpcmNsZV9tYXJrZXJfODU1YWJkMTc0MjRhNDRiNzkwNjFkMzVlYTZlMGQwNzQgPSBMLmNpcmNsZU1hcmtlcigKICAgICAgICAgICAgICAgIFs0My43ODkwNTMsIC03OS40MDg0OTI3OTk5OTk5OV0sCiAgICAgICAgICAgICAgICB7ImJ1YmJsaW5nTW91c2VFdmVudHMiOiB0cnVlLCAiY29sb3IiOiAiYmx1ZSIsICJkYXNoQXJyYXkiOiBudWxsLCAiZGFzaE9mZnNldCI6IG51bGwsICJmaWxsIjogdHJ1ZSwgImZpbGxDb2xvciI6ICIjMzE4NmNjIiwgImZpbGxPcGFjaXR5IjogMC43LCAiZmlsbFJ1bGUiOiAiZXZlbm9kZCIsICJsaW5lQ2FwIjogInJvdW5kIiwgImxpbmVKb2luIjogInJvdW5kIiwgIm9wYWNpdHkiOiAxLjAsICJyYWRpdXMiOiA1LCAic3Ryb2tlIjogdHJ1ZSwgIndlaWdodCI6IDN9CiAgICAgICAgICAgICkuYWRkVG8obWFwX2Q0ZDQzMTUzODI5NTQ4NzU5ZDdjN2QzNTE0NDhlZTY4KTsKICAgICAgICAKICAgIAogICAgICAgIHZhciBwb3B1cF84MDUwOWZlNjBmODU0NzRkOWQxZDJiNzcxN2NmYWVjNSA9IEwucG9wdXAoeyJtYXhXaWR0aCI6ICIxMDAlIn0pOwoKICAgICAgICAKICAgICAgICAgICAgdmFyIGh0bWxfYmRiYzkzOWI3MDhiNGNlNmExZWI5OWQ2YjAyYzUzZTAgPSAkKGA8ZGl2IGlkPSJodG1sX2JkYmM5MzliNzA4YjRjZTZhMWViOTlkNmIwMmM1M2UwIiBzdHlsZT0id2lkdGg6IDEwMC4wJTsgaGVpZ2h0OiAxMDAuMCU7Ij5XaWxsb3dkYWxlLCBOZXd0b25icm9vaywgTm9ydGggWW9yazwvZGl2PmApWzBdOwogICAgICAgICAgICBwb3B1cF84MDUwOWZlNjBmODU0NzRkOWQxZDJiNzcxN2NmYWVjNS5zZXRDb250ZW50KGh0bWxfYmRiYzkzOWI3MDhiNGNlNmExZWI5OWQ2YjAyYzUzZTApOwogICAgICAgIAoKICAgICAgICBjaXJjbGVfbWFya2VyXzg1NWFiZDE3NDI0YTQ0Yjc5MDYxZDM1ZWE2ZTBkMDc0LmJpbmRQb3B1cChwb3B1cF84MDUwOWZlNjBmODU0NzRkOWQxZDJiNzcxN2NmYWVjNSkKICAgICAgICA7CgogICAgICAgIAogICAgCiAgICAKICAgICAgICAgICAgdmFyIGNpcmNsZV9tYXJrZXJfMDI5MTQ0YTA4MmZiNGU2MTg2NGE4ZGFjYWI0ZDc2YTMgPSBMLmNpcmNsZU1hcmtlcigKICAgICAgICAgICAgICAgIFs0My43Mjg0OTY0LCAtNzkuNDk1Njk3NDAwMDAwMDFdLAogICAgICAgICAgICAgICAgeyJidWJibGluZ01vdXNlRXZlbnRzIjogdHJ1ZSwgImNvbG9yIjogImJsdWUiLCAiZGFzaEFycmF5IjogbnVsbCwgImRhc2hPZmZzZXQiOiBudWxsLCAiZmlsbCI6IHRydWUsICJmaWxsQ29sb3IiOiAiIzMxODZjYyIsICJmaWxsT3BhY2l0eSI6IDAuNywgImZpbGxSdWxlIjogImV2ZW5vZGQiLCAibGluZUNhcCI6ICJyb3VuZCIsICJsaW5lSm9pbiI6ICJyb3VuZCIsICJvcGFjaXR5IjogMS4wLCAicmFkaXVzIjogNSwgInN0cm9rZSI6IHRydWUsICJ3ZWlnaHQiOiAzfQogICAgICAgICAgICApLmFkZFRvKG1hcF9kNGQ0MzE1MzgyOTU0ODc1OWQ3YzdkMzUxNDQ4ZWU2OCk7CiAgICAgICAgCiAgICAKICAgICAgICB2YXIgcG9wdXBfZmM2NGNhMWI5MzgwNDM5ZDg5ODFiOTlkOWNiNTM1N2MgPSBMLnBvcHVwKHsibWF4V2lkdGgiOiAiMTAwJSJ9KTsKCiAgICAgICAgCiAgICAgICAgICAgIHZhciBodG1sXzUwNTdmYmEwMDViNjQwZDFiMzRlMTNlOTc0OGQwNzc3ID0gJChgPGRpdiBpZD0iaHRtbF81MDU3ZmJhMDA1YjY0MGQxYjM0ZTEzZTk3NDhkMDc3NyIgc3R5bGU9IndpZHRoOiAxMDAuMCU7IGhlaWdodDogMTAwLjAlOyI+RG93bnN2aWV3LCBOb3J0aCBZb3JrPC9kaXY+YClbMF07CiAgICAgICAgICAgIHBvcHVwX2ZjNjRjYTFiOTM4MDQzOWQ4OTgxYjk5ZDljYjUzNTdjLnNldENvbnRlbnQoaHRtbF81MDU3ZmJhMDA1YjY0MGQxYjM0ZTEzZTk3NDhkMDc3Nyk7CiAgICAgICAgCgogICAgICAgIGNpcmNsZV9tYXJrZXJfMDI5MTQ0YTA4MmZiNGU2MTg2NGE4ZGFjYWI0ZDc2YTMuYmluZFBvcHVwKHBvcHVwX2ZjNjRjYTFiOTM4MDQzOWQ4OTgxYjk5ZDljYjUzNTdjKQogICAgICAgIDsKCiAgICAgICAgCiAgICAKICAgIAogICAgICAgICAgICB2YXIgY2lyY2xlX21hcmtlcl84NTBiM2M3MmRlMjE0YzcwOTE0NmZiMzEwZGRjNDVkMCA9IEwuY2lyY2xlTWFya2VyKAogICAgICAgICAgICAgICAgWzQzLjY1OTUyNTUsIC03OS4zNDA5MjNdLAogICAgICAgICAgICAgICAgeyJidWJibGluZ01vdXNlRXZlbnRzIjogdHJ1ZSwgImNvbG9yIjogImJsdWUiLCAiZGFzaEFycmF5IjogbnVsbCwgImRhc2hPZmZzZXQiOiBudWxsLCAiZmlsbCI6IHRydWUsICJmaWxsQ29sb3IiOiAiIzMxODZjYyIsICJmaWxsT3BhY2l0eSI6IDAuNywgImZpbGxSdWxlIjogImV2ZW5vZGQiLCAibGluZUNhcCI6ICJyb3VuZCIsICJsaW5lSm9pbiI6ICJyb3VuZCIsICJvcGFjaXR5IjogMS4wLCAicmFkaXVzIjogNSwgInN0cm9rZSI6IHRydWUsICJ3ZWlnaHQiOiAzfQogICAgICAgICAgICApLmFkZFRvKG1hcF9kNGQ0MzE1MzgyOTU0ODc1OWQ3YzdkMzUxNDQ4ZWU2OCk7CiAgICAgICAgCiAgICAKICAgICAgICB2YXIgcG9wdXBfMGMxMzlkMjRkNWQyNDMzZTkzZTU5OGNhZWMyMzViNzMgPSBMLnBvcHVwKHsibWF4V2lkdGgiOiAiMTAwJSJ9KTsKCiAgICAgICAgCiAgICAgICAgICAgIHZhciBodG1sX2I5NzBlYzhlNzlmNTQ0OTY5Yjk2MTY1OTQ0NjcwNjNjID0gJChgPGRpdiBpZD0iaHRtbF9iOTcwZWM4ZTc5ZjU0NDk2OWI5NjE2NTk0NDY3MDYzYyIgc3R5bGU9IndpZHRoOiAxMDAuMCU7IGhlaWdodDogMTAwLjAlOyI+U3R1ZGlvIERpc3RyaWN0LCBFYXN0IFRvcm9udG88L2Rpdj5gKVswXTsKICAgICAgICAgICAgcG9wdXBfMGMxMzlkMjRkNWQyNDMzZTkzZTU5OGNhZWMyMzViNzMuc2V0Q29udGVudChodG1sX2I5NzBlYzhlNzlmNTQ0OTY5Yjk2MTY1OTQ0NjcwNjNjKTsKICAgICAgICAKCiAgICAgICAgY2lyY2xlX21hcmtlcl84NTBiM2M3MmRlMjE0YzcwOTE0NmZiMzEwZGRjNDVkMC5iaW5kUG9wdXAocG9wdXBfMGMxMzlkMjRkNWQyNDMzZTkzZTU5OGNhZWMyMzViNzMpCiAgICAgICAgOwoKICAgICAgICAKICAgIAogICAgCiAgICAgICAgICAgIHZhciBjaXJjbGVfbWFya2VyXzkzZTc2YjczNTQ2NDRmMWFiY2ZmYjk3ZTgwMGYwOTVlID0gTC5jaXJjbGVNYXJrZXIoCiAgICAgICAgICAgICAgICBbNDMuNzMzMjgyNSwgLTc5LjQxOTc0OTddLAogICAgICAgICAgICAgICAgeyJidWJibGluZ01vdXNlRXZlbnRzIjogdHJ1ZSwgImNvbG9yIjogImJsdWUiLCAiZGFzaEFycmF5IjogbnVsbCwgImRhc2hPZmZzZXQiOiBudWxsLCAiZmlsbCI6IHRydWUsICJmaWxsQ29sb3IiOiAiIzMxODZjYyIsICJmaWxsT3BhY2l0eSI6IDAuNywgImZpbGxSdWxlIjogImV2ZW5vZGQiLCAibGluZUNhcCI6ICJyb3VuZCIsICJsaW5lSm9pbiI6ICJyb3VuZCIsICJvcGFjaXR5IjogMS4wLCAicmFkaXVzIjogNSwgInN0cm9rZSI6IHRydWUsICJ3ZWlnaHQiOiAzfQogICAgICAgICAgICApLmFkZFRvKG1hcF9kNGQ0MzE1MzgyOTU0ODc1OWQ3YzdkMzUxNDQ4ZWU2OCk7CiAgICAgICAgCiAgICAKICAgICAgICB2YXIgcG9wdXBfNmQ4NGZhYjUzNGVlNGI0OTk3MWVkYWNkZmM2YWFkZWQgPSBMLnBvcHVwKHsibWF4V2lkdGgiOiAiMTAwJSJ9KTsKCiAgICAgICAgCiAgICAgICAgICAgIHZhciBodG1sXzU3YjIxMTdjNmM2ZjRjMGZiMzVjYWMyNzU2MzM0NmVkID0gJChgPGRpdiBpZD0iaHRtbF81N2IyMTE3YzZjNmY0YzBmYjM1Y2FjMjc1NjMzNDZlZCIgc3R5bGU9IndpZHRoOiAxMDAuMCU7IGhlaWdodDogMTAwLjAlOyI+QmVkZm9yZCBQYXJrLCBMYXdyZW5jZSBNYW5vciBFYXN0LCBOb3J0aCBZb3JrPC9kaXY+YClbMF07CiAgICAgICAgICAgIHBvcHVwXzZkODRmYWI1MzRlZTRiNDk5NzFlZGFjZGZjNmFhZGVkLnNldENvbnRlbnQoaHRtbF81N2IyMTE3YzZjNmY0YzBmYjM1Y2FjMjc1NjMzNDZlZCk7CiAgICAgICAgCgogICAgICAgIGNpcmNsZV9tYXJrZXJfOTNlNzZiNzM1NDY0NGYxYWJjZmZiOTdlODAwZjA5NWUuYmluZFBvcHVwKHBvcHVwXzZkODRmYWI1MzRlZTRiNDk5NzFlZGFjZGZjNmFhZGVkKQogICAgICAgIDsKCiAgICAgICAgCiAgICAKICAgIAogICAgICAgICAgICB2YXIgY2lyY2xlX21hcmtlcl8zYzg5OTlhM2ZmNjU0MjY4OGEyNjVkOTg3MDc3NTVmYSA9IEwuY2lyY2xlTWFya2VyKAogICAgICAgICAgICAgICAgWzQzLjY5MTExNTgsIC03OS40NzYwMTMyOTk5OTk5OV0sCiAgICAgICAgICAgICAgICB7ImJ1YmJsaW5nTW91c2VFdmVudHMiOiB0cnVlLCAiY29sb3IiOiAiYmx1ZSIsICJkYXNoQXJyYXkiOiBudWxsLCAiZGFzaE9mZnNldCI6IG51bGwsICJmaWxsIjogdHJ1ZSwgImZpbGxDb2xvciI6ICIjMzE4NmNjIiwgImZpbGxPcGFjaXR5IjogMC43LCAiZmlsbFJ1bGUiOiAiZXZlbm9kZCIsICJsaW5lQ2FwIjogInJvdW5kIiwgImxpbmVKb2luIjogInJvdW5kIiwgIm9wYWNpdHkiOiAxLjAsICJyYWRpdXMiOiA1LCAic3Ryb2tlIjogdHJ1ZSwgIndlaWdodCI6IDN9CiAgICAgICAgICAgICkuYWRkVG8obWFwX2Q0ZDQzMTUzODI5NTQ4NzU5ZDdjN2QzNTE0NDhlZTY4KTsKICAgICAgICAKICAgIAogICAgICAgIHZhciBwb3B1cF8yYjMyYTg2NGM0NjM0MTM2OGEyYjJiZDZiMzUxMGFmZCA9IEwucG9wdXAoeyJtYXhXaWR0aCI6ICIxMDAlIn0pOwoKICAgICAgICAKICAgICAgICAgICAgdmFyIGh0bWxfMzljOTdkYzg2OWY3NGVmNmJkMmQ1YzE3ZjRlMTIyYTcgPSAkKGA8ZGl2IGlkPSJodG1sXzM5Yzk3ZGM4NjlmNzRlZjZiZDJkNWMxN2Y0ZTEyMmE3IiBzdHlsZT0id2lkdGg6IDEwMC4wJTsgaGVpZ2h0OiAxMDAuMCU7Ij5EZWwgUmF5LCBNb3VudCBEZW5uaXMsIEtlZWxzZGFsZSBhbmQgU2lsdmVydGhvcm4sIFlvcms8L2Rpdj5gKVswXTsKICAgICAgICAgICAgcG9wdXBfMmIzMmE4NjRjNDYzNDEzNjhhMmIyYmQ2YjM1MTBhZmQuc2V0Q29udGVudChodG1sXzM5Yzk3ZGM4NjlmNzRlZjZiZDJkNWMxN2Y0ZTEyMmE3KTsKICAgICAgICAKCiAgICAgICAgY2lyY2xlX21hcmtlcl8zYzg5OTlhM2ZmNjU0MjY4OGEyNjVkOTg3MDc3NTVmYS5iaW5kUG9wdXAocG9wdXBfMmIzMmE4NjRjNDYzNDEzNjhhMmIyYmQ2YjM1MTBhZmQpCiAgICAgICAgOwoKICAgICAgICAKICAgIAogICAgCiAgICAgICAgICAgIHZhciBjaXJjbGVfbWFya2VyXzVkNjdlYThhZWNjYzRjZWU5ZWJkYzk1N2RlYjBhYzU2ID0gTC5jaXJjbGVNYXJrZXIoCiAgICAgICAgICAgICAgICBbNDMuNzI0NzY1OSwgLTc5LjUzMjI0MjQwMDAwMDAyXSwKICAgICAgICAgICAgICAgIHsiYnViYmxpbmdNb3VzZUV2ZW50cyI6IHRydWUsICJjb2xvciI6ICJibHVlIiwgImRhc2hBcnJheSI6IG51bGwsICJkYXNoT2Zmc2V0IjogbnVsbCwgImZpbGwiOiB0cnVlLCAiZmlsbENvbG9yIjogIiMzMTg2Y2MiLCAiZmlsbE9wYWNpdHkiOiAwLjcsICJmaWxsUnVsZSI6ICJldmVub2RkIiwgImxpbmVDYXAiOiAicm91bmQiLCAibGluZUpvaW4iOiAicm91bmQiLCAib3BhY2l0eSI6IDEuMCwgInJhZGl1cyI6IDUsICJzdHJva2UiOiB0cnVlLCAid2VpZ2h0IjogM30KICAgICAgICAgICAgKS5hZGRUbyhtYXBfZDRkNDMxNTM4Mjk1NDg3NTlkN2M3ZDM1MTQ0OGVlNjgpOwogICAgICAgIAogICAgCiAgICAgICAgdmFyIHBvcHVwXzM4MDQzYzJmNTBhMDRlZTBiNzJkMTRjZGI4MDQzNDFmID0gTC5wb3B1cCh7Im1heFdpZHRoIjogIjEwMCUifSk7CgogICAgICAgIAogICAgICAgICAgICB2YXIgaHRtbF82ZWJjM2Y0NTFlMjM0MmE5YjUxYzVmODY5NDRkMjBiNiA9ICQoYDxkaXYgaWQ9Imh0bWxfNmViYzNmNDUxZTIzNDJhOWI1MWM1Zjg2OTQ0ZDIwYjYiIHN0eWxlPSJ3aWR0aDogMTAwLjAlOyBoZWlnaHQ6IDEwMC4wJTsiPkh1bWJlcmxlYSwgRW1lcnksIE5vcnRoIFlvcms8L2Rpdj5gKVswXTsKICAgICAgICAgICAgcG9wdXBfMzgwNDNjMmY1MGEwNGVlMGI3MmQxNGNkYjgwNDM0MWYuc2V0Q29udGVudChodG1sXzZlYmMzZjQ1MWUyMzQyYTliNTFjNWY4Njk0NGQyMGI2KTsKICAgICAgICAKCiAgICAgICAgY2lyY2xlX21hcmtlcl81ZDY3ZWE4YWVjY2M0Y2VlOWViZGM5NTdkZWIwYWM1Ni5iaW5kUG9wdXAocG9wdXBfMzgwNDNjMmY1MGEwNGVlMGI3MmQxNGNkYjgwNDM0MWYpCiAgICAgICAgOwoKICAgICAgICAKICAgIAogICAgCiAgICAgICAgICAgIHZhciBjaXJjbGVfbWFya2VyXzM0ZGY5YzIyYTgxNTRlOTdiYTJkOGUzOWIwMjc5ZmI2ID0gTC5jaXJjbGVNYXJrZXIoCiAgICAgICAgICAgICAgICBbNDMuNjkyNjU3MDAwMDAwMDA0LCAtNzkuMjY0ODQ4MV0sCiAgICAgICAgICAgICAgICB7ImJ1YmJsaW5nTW91c2VFdmVudHMiOiB0cnVlLCAiY29sb3IiOiAiYmx1ZSIsICJkYXNoQXJyYXkiOiBudWxsLCAiZGFzaE9mZnNldCI6IG51bGwsICJmaWxsIjogdHJ1ZSwgImZpbGxDb2xvciI6ICIjMzE4NmNjIiwgImZpbGxPcGFjaXR5IjogMC43LCAiZmlsbFJ1bGUiOiAiZXZlbm9kZCIsICJsaW5lQ2FwIjogInJvdW5kIiwgImxpbmVKb2luIjogInJvdW5kIiwgIm9wYWNpdHkiOiAxLjAsICJyYWRpdXMiOiA1LCAic3Ryb2tlIjogdHJ1ZSwgIndlaWdodCI6IDN9CiAgICAgICAgICAgICkuYWRkVG8obWFwX2Q0ZDQzMTUzODI5NTQ4NzU5ZDdjN2QzNTE0NDhlZTY4KTsKICAgICAgICAKICAgIAogICAgICAgIHZhciBwb3B1cF81OGMxZGRkMDEzZWE0NWQzYWE3YjZhNmQ2ZmFjOWNjNSA9IEwucG9wdXAoeyJtYXhXaWR0aCI6ICIxMDAlIn0pOwoKICAgICAgICAKICAgICAgICAgICAgdmFyIGh0bWxfMWQ1YWZkODY5ZDdkNDdlMzhlNTEzM2Q4ZmM1OWE1NGEgPSAkKGA8ZGl2IGlkPSJodG1sXzFkNWFmZDg2OWQ3ZDQ3ZTM4ZTUxMzNkOGZjNTlhNTRhIiBzdHlsZT0id2lkdGg6IDEwMC4wJTsgaGVpZ2h0OiAxMDAuMCU7Ij5CaXJjaCBDbGlmZiwgQ2xpZmZzaWRlIFdlc3QsIFNjYXJib3JvdWdoPC9kaXY+YClbMF07CiAgICAgICAgICAgIHBvcHVwXzU4YzFkZGQwMTNlYTQ1ZDNhYTdiNmE2ZDZmYWM5Y2M1LnNldENvbnRlbnQoaHRtbF8xZDVhZmQ4NjlkN2Q0N2UzOGU1MTMzZDhmYzU5YTU0YSk7CiAgICAgICAgCgogICAgICAgIGNpcmNsZV9tYXJrZXJfMzRkZjljMjJhODE1NGU5N2JhMmQ4ZTM5YjAyNzlmYjYuYmluZFBvcHVwKHBvcHVwXzU4YzFkZGQwMTNlYTQ1ZDNhYTdiNmE2ZDZmYWM5Y2M1KQogICAgICAgIDsKCiAgICAgICAgCiAgICAKICAgIAogICAgICAgICAgICB2YXIgY2lyY2xlX21hcmtlcl9kOGRjNDMxMWIxM2Y0MjFiYTc4OWM5MjBmYmM3MzRhNSA9IEwuY2lyY2xlTWFya2VyKAogICAgICAgICAgICAgICAgWzQzLjc3MDExOTksIC03OS40MDg0OTI3OTk5OTk5OV0sCiAgICAgICAgICAgICAgICB7ImJ1YmJsaW5nTW91c2VFdmVudHMiOiB0cnVlLCAiY29sb3IiOiAiYmx1ZSIsICJkYXNoQXJyYXkiOiBudWxsLCAiZGFzaE9mZnNldCI6IG51bGwsICJmaWxsIjogdHJ1ZSwgImZpbGxDb2xvciI6ICIjMzE4NmNjIiwgImZpbGxPcGFjaXR5IjogMC43LCAiZmlsbFJ1bGUiOiAiZXZlbm9kZCIsICJsaW5lQ2FwIjogInJvdW5kIiwgImxpbmVKb2luIjogInJvdW5kIiwgIm9wYWNpdHkiOiAxLjAsICJyYWRpdXMiOiA1LCAic3Ryb2tlIjogdHJ1ZSwgIndlaWdodCI6IDN9CiAgICAgICAgICAgICkuYWRkVG8obWFwX2Q0ZDQzMTUzODI5NTQ4NzU5ZDdjN2QzNTE0NDhlZTY4KTsKICAgICAgICAKICAgIAogICAgICAgIHZhciBwb3B1cF81ZTBkYzEzMWJlOGQ0ODczOGNmYmZjMDNmYWUyOTBhYiA9IEwucG9wdXAoeyJtYXhXaWR0aCI6ICIxMDAlIn0pOwoKICAgICAgICAKICAgICAgICAgICAgdmFyIGh0bWxfYTBjNzJiY2YwYTM2NDhiNzk5NjI1YTBiZDEzMzRjYTUgPSAkKGA8ZGl2IGlkPSJodG1sX2EwYzcyYmNmMGEzNjQ4Yjc5OTYyNWEwYmQxMzM0Y2E1IiBzdHlsZT0id2lkdGg6IDEwMC4wJTsgaGVpZ2h0OiAxMDAuMCU7Ij5XaWxsb3dkYWxlLCBXaWxsb3dkYWxlIEVhc3QsIE5vcnRoIFlvcms8L2Rpdj5gKVswXTsKICAgICAgICAgICAgcG9wdXBfNWUwZGMxMzFiZThkNDg3MzhjZmJmYzAzZmFlMjkwYWIuc2V0Q29udGVudChodG1sX2EwYzcyYmNmMGEzNjQ4Yjc5OTYyNWEwYmQxMzM0Y2E1KTsKICAgICAgICAKCiAgICAgICAgY2lyY2xlX21hcmtlcl9kOGRjNDMxMWIxM2Y0MjFiYTc4OWM5MjBmYmM3MzRhNS5iaW5kUG9wdXAocG9wdXBfNWUwZGMxMzFiZThkNDg3MzhjZmJmYzAzZmFlMjkwYWIpCiAgICAgICAgOwoKICAgICAgICAKICAgIAogICAgCiAgICAgICAgICAgIHZhciBjaXJjbGVfbWFya2VyX2ZkYTI4OGYwNGQ4YjRkMjhiODkyMjM0OGJiYjhlZTMxID0gTC5jaXJjbGVNYXJrZXIoCiAgICAgICAgICAgICAgICBbNDMuNzYxNjMxMywgLTc5LjUyMDk5OTQwMDAwMDAxXSwKICAgICAgICAgICAgICAgIHsiYnViYmxpbmdNb3VzZUV2ZW50cyI6IHRydWUsICJjb2xvciI6ICJibHVlIiwgImRhc2hBcnJheSI6IG51bGwsICJkYXNoT2Zmc2V0IjogbnVsbCwgImZpbGwiOiB0cnVlLCAiZmlsbENvbG9yIjogIiMzMTg2Y2MiLCAiZmlsbE9wYWNpdHkiOiAwLjcsICJmaWxsUnVsZSI6ICJldmVub2RkIiwgImxpbmVDYXAiOiAicm91bmQiLCAibGluZUpvaW4iOiAicm91bmQiLCAib3BhY2l0eSI6IDEuMCwgInJhZGl1cyI6IDUsICJzdHJva2UiOiB0cnVlLCAid2VpZ2h0IjogM30KICAgICAgICAgICAgKS5hZGRUbyhtYXBfZDRkNDMxNTM4Mjk1NDg3NTlkN2M3ZDM1MTQ0OGVlNjgpOwogICAgICAgIAogICAgCiAgICAgICAgdmFyIHBvcHVwX2NiYjQ1NWIyYjllNjQ4NTFhNzgyNzQ2YTcwNzBhMzdmID0gTC5wb3B1cCh7Im1heFdpZHRoIjogIjEwMCUifSk7CgogICAgICAgIAogICAgICAgICAgICB2YXIgaHRtbF8yZDVhZmUwNjE3YTY0NGRkOThkMTNlYzQzOTIyOTA5ZSA9ICQoYDxkaXYgaWQ9Imh0bWxfMmQ1YWZlMDYxN2E2NDRkZDk4ZDEzZWM0MzkyMjkwOWUiIHN0eWxlPSJ3aWR0aDogMTAwLjAlOyBoZWlnaHQ6IDEwMC4wJTsiPkRvd25zdmlldywgTm9ydGggWW9yazwvZGl2PmApWzBdOwogICAgICAgICAgICBwb3B1cF9jYmI0NTViMmI5ZTY0ODUxYTc4Mjc0NmE3MDcwYTM3Zi5zZXRDb250ZW50KGh0bWxfMmQ1YWZlMDYxN2E2NDRkZDk4ZDEzZWM0MzkyMjkwOWUpOwogICAgICAgIAoKICAgICAgICBjaXJjbGVfbWFya2VyX2ZkYTI4OGYwNGQ4YjRkMjhiODkyMjM0OGJiYjhlZTMxLmJpbmRQb3B1cChwb3B1cF9jYmI0NTViMmI5ZTY0ODUxYTc4Mjc0NmE3MDcwYTM3ZikKICAgICAgICA7CgogICAgICAgIAogICAgCiAgICAKICAgICAgICAgICAgdmFyIGNpcmNsZV9tYXJrZXJfZmM5MDdjMjdkMDNlNDhkOGE3MGFmOWI1MTVlMWEwMzAgPSBMLmNpcmNsZU1hcmtlcigKICAgICAgICAgICAgICAgIFs0My43MjgwMjA1LCAtNzkuMzg4NzkwMV0sCiAgICAgICAgICAgICAgICB7ImJ1YmJsaW5nTW91c2VFdmVudHMiOiB0cnVlLCAiY29sb3IiOiAiYmx1ZSIsICJkYXNoQXJyYXkiOiBudWxsLCAiZGFzaE9mZnNldCI6IG51bGwsICJmaWxsIjogdHJ1ZSwgImZpbGxDb2xvciI6ICIjMzE4NmNjIiwgImZpbGxPcGFjaXR5IjogMC43LCAiZmlsbFJ1bGUiOiAiZXZlbm9kZCIsICJsaW5lQ2FwIjogInJvdW5kIiwgImxpbmVKb2luIjogInJvdW5kIiwgIm9wYWNpdHkiOiAxLjAsICJyYWRpdXMiOiA1LCAic3Ryb2tlIjogdHJ1ZSwgIndlaWdodCI6IDN9CiAgICAgICAgICAgICkuYWRkVG8obWFwX2Q0ZDQzMTUzODI5NTQ4NzU5ZDdjN2QzNTE0NDhlZTY4KTsKICAgICAgICAKICAgIAogICAgICAgIHZhciBwb3B1cF8yMWFkNjNkZDYwMjY0NGI3OTU2MzI4MTc4NTk3NjY1NCA9IEwucG9wdXAoeyJtYXhXaWR0aCI6ICIxMDAlIn0pOwoKICAgICAgICAKICAgICAgICAgICAgdmFyIGh0bWxfMDVlZWIxNmFmOGE0NGY3NzliZmRiZmExZTYyYjcyYjcgPSAkKGA8ZGl2IGlkPSJodG1sXzA1ZWViMTZhZjhhNDRmNzc5YmZkYmZhMWU2MmI3MmI3IiBzdHlsZT0id2lkdGg6IDEwMC4wJTsgaGVpZ2h0OiAxMDAuMCU7Ij5MYXdyZW5jZSBQYXJrLCBDZW50cmFsIFRvcm9udG88L2Rpdj5gKVswXTsKICAgICAgICAgICAgcG9wdXBfMjFhZDYzZGQ2MDI2NDRiNzk1NjMyODE3ODU5NzY2NTQuc2V0Q29udGVudChodG1sXzA1ZWViMTZhZjhhNDRmNzc5YmZkYmZhMWU2MmI3MmI3KTsKICAgICAgICAKCiAgICAgICAgY2lyY2xlX21hcmtlcl9mYzkwN2MyN2QwM2U0OGQ4YTcwYWY5YjUxNWUxYTAzMC5iaW5kUG9wdXAocG9wdXBfMjFhZDYzZGQ2MDI2NDRiNzk1NjMyODE3ODU5NzY2NTQpCiAgICAgICAgOwoKICAgICAgICAKICAgIAogICAgCiAgICAgICAgICAgIHZhciBjaXJjbGVfbWFya2VyX2RlM2NhZjg0NjcxZjQxZWNhMjdmMDI0ZmMzNTJmY2FjID0gTC5jaXJjbGVNYXJrZXIoCiAgICAgICAgICAgICAgICBbNDMuNzExNjk0OCwgLTc5LjQxNjkzNTU5OTk5OTk5XSwKICAgICAgICAgICAgICAgIHsiYnViYmxpbmdNb3VzZUV2ZW50cyI6IHRydWUsICJjb2xvciI6ICJibHVlIiwgImRhc2hBcnJheSI6IG51bGwsICJkYXNoT2Zmc2V0IjogbnVsbCwgImZpbGwiOiB0cnVlLCAiZmlsbENvbG9yIjogIiMzMTg2Y2MiLCAiZmlsbE9wYWNpdHkiOiAwLjcsICJmaWxsUnVsZSI6ICJldmVub2RkIiwgImxpbmVDYXAiOiAicm91bmQiLCAibGluZUpvaW4iOiAicm91bmQiLCAib3BhY2l0eSI6IDEuMCwgInJhZGl1cyI6IDUsICJzdHJva2UiOiB0cnVlLCAid2VpZ2h0IjogM30KICAgICAgICAgICAgKS5hZGRUbyhtYXBfZDRkNDMxNTM4Mjk1NDg3NTlkN2M3ZDM1MTQ0OGVlNjgpOwogICAgICAgIAogICAgCiAgICAgICAgdmFyIHBvcHVwXzA2M2M3Njg3Yzc0MTQ2OTBhNGYxOTM2MmVjMDg5ZGM2ID0gTC5wb3B1cCh7Im1heFdpZHRoIjogIjEwMCUifSk7CgogICAgICAgIAogICAgICAgICAgICB2YXIgaHRtbF8yNWJiYjJiYzNlMGE0NDhjOTM0YTJhOGM5NjBkNDQ5YSA9ICQoYDxkaXYgaWQ9Imh0bWxfMjViYmIyYmMzZTBhNDQ4YzkzNGEyYThjOTYwZDQ0OWEiIHN0eWxlPSJ3aWR0aDogMTAwLjAlOyBoZWlnaHQ6IDEwMC4wJTsiPlJvc2VsYXduLCBDZW50cmFsIFRvcm9udG88L2Rpdj5gKVswXTsKICAgICAgICAgICAgcG9wdXBfMDYzYzc2ODdjNzQxNDY5MGE0ZjE5MzYyZWMwODlkYzYuc2V0Q29udGVudChodG1sXzI1YmJiMmJjM2UwYTQ0OGM5MzRhMmE4Yzk2MGQ0NDlhKTsKICAgICAgICAKCiAgICAgICAgY2lyY2xlX21hcmtlcl9kZTNjYWY4NDY3MWY0MWVjYTI3ZjAyNGZjMzUyZmNhYy5iaW5kUG9wdXAocG9wdXBfMDYzYzc2ODdjNzQxNDY5MGE0ZjE5MzYyZWMwODlkYzYpCiAgICAgICAgOwoKICAgICAgICAKICAgIAogICAgCiAgICAgICAgICAgIHZhciBjaXJjbGVfbWFya2VyX2IzZjAyZjg2ZGFiOTRhYTU4MjM1NGQ3NmRjYjAyM2RjID0gTC5jaXJjbGVNYXJrZXIoCiAgICAgICAgICAgICAgICBbNDMuNjczMTg1Mjk5OTk5OTksIC03OS40ODcyNjE5MDAwMDAwMV0sCiAgICAgICAgICAgICAgICB7ImJ1YmJsaW5nTW91c2VFdmVudHMiOiB0cnVlLCAiY29sb3IiOiAiYmx1ZSIsICJkYXNoQXJyYXkiOiBudWxsLCAiZGFzaE9mZnNldCI6IG51bGwsICJmaWxsIjogdHJ1ZSwgImZpbGxDb2xvciI6ICIjMzE4NmNjIiwgImZpbGxPcGFjaXR5IjogMC43LCAiZmlsbFJ1bGUiOiAiZXZlbm9kZCIsICJsaW5lQ2FwIjogInJvdW5kIiwgImxpbmVKb2luIjogInJvdW5kIiwgIm9wYWNpdHkiOiAxLjAsICJyYWRpdXMiOiA1LCAic3Ryb2tlIjogdHJ1ZSwgIndlaWdodCI6IDN9CiAgICAgICAgICAgICkuYWRkVG8obWFwX2Q0ZDQzMTUzODI5NTQ4NzU5ZDdjN2QzNTE0NDhlZTY4KTsKICAgICAgICAKICAgIAogICAgICAgIHZhciBwb3B1cF9hNjMzOGI4MTIwNDk0MDZiYTU4MzdjYzAxMmMwYmE1MCA9IEwucG9wdXAoeyJtYXhXaWR0aCI6ICIxMDAlIn0pOwoKICAgICAgICAKICAgICAgICAgICAgdmFyIGh0bWxfYTY0M2RkMDZmNDRjNGE0MGJhNDNlZDVjMzYxYTQ3NDMgPSAkKGA8ZGl2IGlkPSJodG1sX2E2NDNkZDA2ZjQ0YzRhNDBiYTQzZWQ1YzM2MWE0NzQzIiBzdHlsZT0id2lkdGg6IDEwMC4wJTsgaGVpZ2h0OiAxMDAuMCU7Ij5SdW5ueW1lZGUsIFRoZSBKdW5jdGlvbiBOb3J0aCwgWW9yazwvZGl2PmApWzBdOwogICAgICAgICAgICBwb3B1cF9hNjMzOGI4MTIwNDk0MDZiYTU4MzdjYzAxMmMwYmE1MC5zZXRDb250ZW50KGh0bWxfYTY0M2RkMDZmNDRjNGE0MGJhNDNlZDVjMzYxYTQ3NDMpOwogICAgICAgIAoKICAgICAgICBjaXJjbGVfbWFya2VyX2IzZjAyZjg2ZGFiOTRhYTU4MjM1NGQ3NmRjYjAyM2RjLmJpbmRQb3B1cChwb3B1cF9hNjMzOGI4MTIwNDk0MDZiYTU4MzdjYzAxMmMwYmE1MCkKICAgICAgICA7CgogICAgICAgIAogICAgCiAgICAKICAgICAgICAgICAgdmFyIGNpcmNsZV9tYXJrZXJfMGUyYzQ4OTQ5MDk0NDY2NTg3MDA3OGNhZDg2OTQyM2YgPSBMLmNpcmNsZU1hcmtlcigKICAgICAgICAgICAgICAgIFs0My43MDY4NzYsIC03OS41MTgxODg0MDAwMDAwMV0sCiAgICAgICAgICAgICAgICB7ImJ1YmJsaW5nTW91c2VFdmVudHMiOiB0cnVlLCAiY29sb3IiOiAiYmx1ZSIsICJkYXNoQXJyYXkiOiBudWxsLCAiZGFzaE9mZnNldCI6IG51bGwsICJmaWxsIjogdHJ1ZSwgImZpbGxDb2xvciI6ICIjMzE4NmNjIiwgImZpbGxPcGFjaXR5IjogMC43LCAiZmlsbFJ1bGUiOiAiZXZlbm9kZCIsICJsaW5lQ2FwIjogInJvdW5kIiwgImxpbmVKb2luIjogInJvdW5kIiwgIm9wYWNpdHkiOiAxLjAsICJyYWRpdXMiOiA1LCAic3Ryb2tlIjogdHJ1ZSwgIndlaWdodCI6IDN9CiAgICAgICAgICAgICkuYWRkVG8obWFwX2Q0ZDQzMTUzODI5NTQ4NzU5ZDdjN2QzNTE0NDhlZTY4KTsKICAgICAgICAKICAgIAogICAgICAgIHZhciBwb3B1cF9mNDg4ZjMxYTNiZDg0Yzk3OGYyMDNmNmU0ZDNmZGY4OSA9IEwucG9wdXAoeyJtYXhXaWR0aCI6ICIxMDAlIn0pOwoKICAgICAgICAKICAgICAgICAgICAgdmFyIGh0bWxfMDdjODMyZDJkZDYwNDhmM2I2Y2QyZDVmYzJjMjk2NjkgPSAkKGA8ZGl2IGlkPSJodG1sXzA3YzgzMmQyZGQ2MDQ4ZjNiNmNkMmQ1ZmMyYzI5NjY5IiBzdHlsZT0id2lkdGg6IDEwMC4wJTsgaGVpZ2h0OiAxMDAuMCU7Ij5XZXN0b24sIFlvcms8L2Rpdj5gKVswXTsKICAgICAgICAgICAgcG9wdXBfZjQ4OGYzMWEzYmQ4NGM5NzhmMjAzZjZlNGQzZmRmODkuc2V0Q29udGVudChodG1sXzA3YzgzMmQyZGQ2MDQ4ZjNiNmNkMmQ1ZmMyYzI5NjY5KTsKICAgICAgICAKCiAgICAgICAgY2lyY2xlX21hcmtlcl8wZTJjNDg5NDkwOTQ0NjY1ODcwMDc4Y2FkODY5NDIzZi5iaW5kUG9wdXAocG9wdXBfZjQ4OGYzMWEzYmQ4NGM5NzhmMjAzZjZlNGQzZmRmODkpCiAgICAgICAgOwoKICAgICAgICAKICAgIAogICAgCiAgICAgICAgICAgIHZhciBjaXJjbGVfbWFya2VyXzBlZDcxODA4NzE3MjQzZmM5MzhjZjVlOGVkMDIwMzA5ID0gTC5jaXJjbGVNYXJrZXIoCiAgICAgICAgICAgICAgICBbNDMuNzU3NDA5NiwgLTc5LjI3MzMwNDAwMDAwMDAxXSwKICAgICAgICAgICAgICAgIHsiYnViYmxpbmdNb3VzZUV2ZW50cyI6IHRydWUsICJjb2xvciI6ICJibHVlIiwgImRhc2hBcnJheSI6IG51bGwsICJkYXNoT2Zmc2V0IjogbnVsbCwgImZpbGwiOiB0cnVlLCAiZmlsbENvbG9yIjogIiMzMTg2Y2MiLCAiZmlsbE9wYWNpdHkiOiAwLjcsICJmaWxsUnVsZSI6ICJldmVub2RkIiwgImxpbmVDYXAiOiAicm91bmQiLCAibGluZUpvaW4iOiAicm91bmQiLCAib3BhY2l0eSI6IDEuMCwgInJhZGl1cyI6IDUsICJzdHJva2UiOiB0cnVlLCAid2VpZ2h0IjogM30KICAgICAgICAgICAgKS5hZGRUbyhtYXBfZDRkNDMxNTM4Mjk1NDg3NTlkN2M3ZDM1MTQ0OGVlNjgpOwogICAgICAgIAogICAgCiAgICAgICAgdmFyIHBvcHVwXzRmNmI5ODYyY2Q4ZTQxOTJhNTRmNjJjYTdkOTNmZDEzID0gTC5wb3B1cCh7Im1heFdpZHRoIjogIjEwMCUifSk7CgogICAgICAgIAogICAgICAgICAgICB2YXIgaHRtbF8wM2UwMTM2YTQ0MWM0YmNmODQyZGJjOGI4ODdmOGNmYiA9ICQoYDxkaXYgaWQ9Imh0bWxfMDNlMDEzNmE0NDFjNGJjZjg0MmRiYzhiODg3ZjhjZmIiIHN0eWxlPSJ3aWR0aDogMTAwLjAlOyBoZWlnaHQ6IDEwMC4wJTsiPkRvcnNldCBQYXJrLCBXZXhmb3JkIEhlaWdodHMsIFNjYXJib3JvdWdoIFRvd24gQ2VudHJlLCBTY2FyYm9yb3VnaDwvZGl2PmApWzBdOwogICAgICAgICAgICBwb3B1cF80ZjZiOTg2MmNkOGU0MTkyYTU0ZjYyY2E3ZDkzZmQxMy5zZXRDb250ZW50KGh0bWxfMDNlMDEzNmE0NDFjNGJjZjg0MmRiYzhiODg3ZjhjZmIpOwogICAgICAgIAoKICAgICAgICBjaXJjbGVfbWFya2VyXzBlZDcxODA4NzE3MjQzZmM5MzhjZjVlOGVkMDIwMzA5LmJpbmRQb3B1cChwb3B1cF80ZjZiOTg2MmNkOGU0MTkyYTU0ZjYyY2E3ZDkzZmQxMykKICAgICAgICA7CgogICAgICAgIAogICAgCiAgICAKICAgICAgICAgICAgdmFyIGNpcmNsZV9tYXJrZXJfZmYwYjdkOWQ0MzUyNDMwMmE0MDNmOTk3ODlkNzk0YmMgPSBMLmNpcmNsZU1hcmtlcigKICAgICAgICAgICAgICAgIFs0My43NTI3NTgyOTk5OTk5OTYsIC03OS40MDAwNDkzXSwKICAgICAgICAgICAgICAgIHsiYnViYmxpbmdNb3VzZUV2ZW50cyI6IHRydWUsICJjb2xvciI6ICJibHVlIiwgImRhc2hBcnJheSI6IG51bGwsICJkYXNoT2Zmc2V0IjogbnVsbCwgImZpbGwiOiB0cnVlLCAiZmlsbENvbG9yIjogIiMzMTg2Y2MiLCAiZmlsbE9wYWNpdHkiOiAwLjcsICJmaWxsUnVsZSI6ICJldmVub2RkIiwgImxpbmVDYXAiOiAicm91bmQiLCAibGluZUpvaW4iOiAicm91bmQiLCAib3BhY2l0eSI6IDEuMCwgInJhZGl1cyI6IDUsICJzdHJva2UiOiB0cnVlLCAid2VpZ2h0IjogM30KICAgICAgICAgICAgKS5hZGRUbyhtYXBfZDRkNDMxNTM4Mjk1NDg3NTlkN2M3ZDM1MTQ0OGVlNjgpOwogICAgICAgIAogICAgCiAgICAgICAgdmFyIHBvcHVwX2RhNGRjYWVhNmE5NTQxMThiN2YzZGY5M2ZmODBjOTBiID0gTC5wb3B1cCh7Im1heFdpZHRoIjogIjEwMCUifSk7CgogICAgICAgIAogICAgICAgICAgICB2YXIgaHRtbF85MDM1Y2VhOGFiNWE0MWIxOTA3MTgyYTlhZWVkZjZkMyA9ICQoYDxkaXYgaWQ9Imh0bWxfOTAzNWNlYThhYjVhNDFiMTkwNzE4MmE5YWVlZGY2ZDMiIHN0eWxlPSJ3aWR0aDogMTAwLjAlOyBoZWlnaHQ6IDEwMC4wJTsiPllvcmsgTWlsbHMgV2VzdCwgTm9ydGggWW9yazwvZGl2PmApWzBdOwogICAgICAgICAgICBwb3B1cF9kYTRkY2FlYTZhOTU0MTE4YjdmM2RmOTNmZjgwYzkwYi5zZXRDb250ZW50KGh0bWxfOTAzNWNlYThhYjVhNDFiMTkwNzE4MmE5YWVlZGY2ZDMpOwogICAgICAgIAoKICAgICAgICBjaXJjbGVfbWFya2VyX2ZmMGI3ZDlkNDM1MjQzMDJhNDAzZjk5Nzg5ZDc5NGJjLmJpbmRQb3B1cChwb3B1cF9kYTRkY2FlYTZhOTU0MTE4YjdmM2RmOTNmZjgwYzkwYikKICAgICAgICA7CgogICAgICAgIAogICAgCiAgICAKICAgICAgICAgICAgdmFyIGNpcmNsZV9tYXJrZXJfZDExMTg3YWEyYzVjNDNhYzk5YjVhZmU0OTc4ODkxOGEgPSBMLmNpcmNsZU1hcmtlcigKICAgICAgICAgICAgICAgIFs0My43MTI3NTExLCAtNzkuMzkwMTk3NV0sCiAgICAgICAgICAgICAgICB7ImJ1YmJsaW5nTW91c2VFdmVudHMiOiB0cnVlLCAiY29sb3IiOiAiYmx1ZSIsICJkYXNoQXJyYXkiOiBudWxsLCAiZGFzaE9mZnNldCI6IG51bGwsICJmaWxsIjogdHJ1ZSwgImZpbGxDb2xvciI6ICIjMzE4NmNjIiwgImZpbGxPcGFjaXR5IjogMC43LCAiZmlsbFJ1bGUiOiAiZXZlbm9kZCIsICJsaW5lQ2FwIjogInJvdW5kIiwgImxpbmVKb2luIjogInJvdW5kIiwgIm9wYWNpdHkiOiAxLjAsICJyYWRpdXMiOiA1LCAic3Ryb2tlIjogdHJ1ZSwgIndlaWdodCI6IDN9CiAgICAgICAgICAgICkuYWRkVG8obWFwX2Q0ZDQzMTUzODI5NTQ4NzU5ZDdjN2QzNTE0NDhlZTY4KTsKICAgICAgICAKICAgIAogICAgICAgIHZhciBwb3B1cF85MTI1ZDJmZTEwMjI0NzMzOTNmYzI5MzA0YTE1NzhmMyA9IEwucG9wdXAoeyJtYXhXaWR0aCI6ICIxMDAlIn0pOwoKICAgICAgICAKICAgICAgICAgICAgdmFyIGh0bWxfNTcxZjcxMDA3N2YwNDQ0MDk2MGFiOTFjMzE5YmFjYTkgPSAkKGA8ZGl2IGlkPSJodG1sXzU3MWY3MTAwNzdmMDQ0NDA5NjBhYjkxYzMxOWJhY2E5IiBzdHlsZT0id2lkdGg6IDEwMC4wJTsgaGVpZ2h0OiAxMDAuMCU7Ij5EYXZpc3ZpbGxlIE5vcnRoLCBDZW50cmFsIFRvcm9udG88L2Rpdj5gKVswXTsKICAgICAgICAgICAgcG9wdXBfOTEyNWQyZmUxMDIyNDczMzkzZmMyOTMwNGExNTc4ZjMuc2V0Q29udGVudChodG1sXzU3MWY3MTAwNzdmMDQ0NDA5NjBhYjkxYzMxOWJhY2E5KTsKICAgICAgICAKCiAgICAgICAgY2lyY2xlX21hcmtlcl9kMTExODdhYTJjNWM0M2FjOTliNWFmZTQ5Nzg4OTE4YS5iaW5kUG9wdXAocG9wdXBfOTEyNWQyZmUxMDIyNDczMzkzZmMyOTMwNGExNTc4ZjMpCiAgICAgICAgOwoKICAgICAgICAKICAgIAogICAgCiAgICAgICAgICAgIHZhciBjaXJjbGVfbWFya2VyXzIyYmFlZTJhZjRjZDQ0MTU4NjNlYmVmNmQwZGVmNTg4ID0gTC5jaXJjbGVNYXJrZXIoCiAgICAgICAgICAgICAgICBbNDMuNjk2OTQ3NiwgLTc5LjQxMTMwNzIwMDAwMDAxXSwKICAgICAgICAgICAgICAgIHsiYnViYmxpbmdNb3VzZUV2ZW50cyI6IHRydWUsICJjb2xvciI6ICJibHVlIiwgImRhc2hBcnJheSI6IG51bGwsICJkYXNoT2Zmc2V0IjogbnVsbCwgImZpbGwiOiB0cnVlLCAiZmlsbENvbG9yIjogIiMzMTg2Y2MiLCAiZmlsbE9wYWNpdHkiOiAwLjcsICJmaWxsUnVsZSI6ICJldmVub2RkIiwgImxpbmVDYXAiOiAicm91bmQiLCAibGluZUpvaW4iOiAicm91bmQiLCAib3BhY2l0eSI6IDEuMCwgInJhZGl1cyI6IDUsICJzdHJva2UiOiB0cnVlLCAid2VpZ2h0IjogM30KICAgICAgICAgICAgKS5hZGRUbyhtYXBfZDRkNDMxNTM4Mjk1NDg3NTlkN2M3ZDM1MTQ0OGVlNjgpOwogICAgICAgIAogICAgCiAgICAgICAgdmFyIHBvcHVwX2Y2OTZhNmMwNGRmZDQ3ZjE4OWE4YjVhYzVmNGFiOTAwID0gTC5wb3B1cCh7Im1heFdpZHRoIjogIjEwMCUifSk7CgogICAgICAgIAogICAgICAgICAgICB2YXIgaHRtbF8xYTY0ZGQ2MWEzZmM0YjlhOGY0OTlhYzdmZWViYzQ0ZiA9ICQoYDxkaXYgaWQ9Imh0bWxfMWE2NGRkNjFhM2ZjNGI5YThmNDk5YWM3ZmVlYmM0NGYiIHN0eWxlPSJ3aWR0aDogMTAwLjAlOyBoZWlnaHQ6IDEwMC4wJTsiPkZvcmVzdCBIaWxsIE5vcnRoICZhbXA7IFdlc3QsIEZvcmVzdCBIaWxsIFJvYWQgUGFyaywgQ2VudHJhbCBUb3JvbnRvPC9kaXY+YClbMF07CiAgICAgICAgICAgIHBvcHVwX2Y2OTZhNmMwNGRmZDQ3ZjE4OWE4YjVhYzVmNGFiOTAwLnNldENvbnRlbnQoaHRtbF8xYTY0ZGQ2MWEzZmM0YjlhOGY0OTlhYzdmZWViYzQ0Zik7CiAgICAgICAgCgogICAgICAgIGNpcmNsZV9tYXJrZXJfMjJiYWVlMmFmNGNkNDQxNTg2M2ViZWY2ZDBkZWY1ODguYmluZFBvcHVwKHBvcHVwX2Y2OTZhNmMwNGRmZDQ3ZjE4OWE4YjVhYzVmNGFiOTAwKQogICAgICAgIDsKCiAgICAgICAgCiAgICAKICAgIAogICAgICAgICAgICB2YXIgY2lyY2xlX21hcmtlcl9kNmI5M2RhZGZlZTc0Yzg2YWFjOGJlNjA3Y2YxNTdjMyA9IEwuY2lyY2xlTWFya2VyKAogICAgICAgICAgICAgICAgWzQzLjY2MTYwODMsIC03OS40NjQ3NjMyOTk5OTk5OV0sCiAgICAgICAgICAgICAgICB7ImJ1YmJsaW5nTW91c2VFdmVudHMiOiB0cnVlLCAiY29sb3IiOiAiYmx1ZSIsICJkYXNoQXJyYXkiOiBudWxsLCAiZGFzaE9mZnNldCI6IG51bGwsICJmaWxsIjogdHJ1ZSwgImZpbGxDb2xvciI6ICIjMzE4NmNjIiwgImZpbGxPcGFjaXR5IjogMC43LCAiZmlsbFJ1bGUiOiAiZXZlbm9kZCIsICJsaW5lQ2FwIjogInJvdW5kIiwgImxpbmVKb2luIjogInJvdW5kIiwgIm9wYWNpdHkiOiAxLjAsICJyYWRpdXMiOiA1LCAic3Ryb2tlIjogdHJ1ZSwgIndlaWdodCI6IDN9CiAgICAgICAgICAgICkuYWRkVG8obWFwX2Q0ZDQzMTUzODI5NTQ4NzU5ZDdjN2QzNTE0NDhlZTY4KTsKICAgICAgICAKICAgIAogICAgICAgIHZhciBwb3B1cF9iNTIwMjBkNDc0NjY0NWJmODRiOTA0ZWIwNTExMTczYiA9IEwucG9wdXAoeyJtYXhXaWR0aCI6ICIxMDAlIn0pOwoKICAgICAgICAKICAgICAgICAgICAgdmFyIGh0bWxfNDliOGIxY2UyZTE0NDgzMmJiNzllODRkYWEyMjU5ZDkgPSAkKGA8ZGl2IGlkPSJodG1sXzQ5YjhiMWNlMmUxNDQ4MzJiYjc5ZTg0ZGFhMjI1OWQ5IiBzdHlsZT0id2lkdGg6IDEwMC4wJTsgaGVpZ2h0OiAxMDAuMCU7Ij5IaWdoIFBhcmssIFRoZSBKdW5jdGlvbiBTb3V0aCwgV2VzdCBUb3JvbnRvPC9kaXY+YClbMF07CiAgICAgICAgICAgIHBvcHVwX2I1MjAyMGQ0NzQ2NjQ1YmY4NGI5MDRlYjA1MTExNzNiLnNldENvbnRlbnQoaHRtbF80OWI4YjFjZTJlMTQ0ODMyYmI3OWU4NGRhYTIyNTlkOSk7CiAgICAgICAgCgogICAgICAgIGNpcmNsZV9tYXJrZXJfZDZiOTNkYWRmZWU3NGM4NmFhYzhiZTYwN2NmMTU3YzMuYmluZFBvcHVwKHBvcHVwX2I1MjAyMGQ0NzQ2NjQ1YmY4NGI5MDRlYjA1MTExNzNiKQogICAgICAgIDsKCiAgICAgICAgCiAgICAKICAgIAogICAgICAgICAgICB2YXIgY2lyY2xlX21hcmtlcl8yODk4M2MwM2ZhZTA0ZmRlOWE0ZmVlNTAzZWIwYmNiOSA9IEwuY2lyY2xlTWFya2VyKAogICAgICAgICAgICAgICAgWzQzLjY5NjMxOSwgLTc5LjUzMjI0MjQwMDAwMDAyXSwKICAgICAgICAgICAgICAgIHsiYnViYmxpbmdNb3VzZUV2ZW50cyI6IHRydWUsICJjb2xvciI6ICJibHVlIiwgImRhc2hBcnJheSI6IG51bGwsICJkYXNoT2Zmc2V0IjogbnVsbCwgImZpbGwiOiB0cnVlLCAiZmlsbENvbG9yIjogIiMzMTg2Y2MiLCAiZmlsbE9wYWNpdHkiOiAwLjcsICJmaWxsUnVsZSI6ICJldmVub2RkIiwgImxpbmVDYXAiOiAicm91bmQiLCAibGluZUpvaW4iOiAicm91bmQiLCAib3BhY2l0eSI6IDEuMCwgInJhZGl1cyI6IDUsICJzdHJva2UiOiB0cnVlLCAid2VpZ2h0IjogM30KICAgICAgICAgICAgKS5hZGRUbyhtYXBfZDRkNDMxNTM4Mjk1NDg3NTlkN2M3ZDM1MTQ0OGVlNjgpOwogICAgICAgIAogICAgCiAgICAgICAgdmFyIHBvcHVwXzRkMDAzNjIyZGQzNzQwM2RiZmU5YjU4ZGFmOGNkMDY4ID0gTC5wb3B1cCh7Im1heFdpZHRoIjogIjEwMCUifSk7CgogICAgICAgIAogICAgICAgICAgICB2YXIgaHRtbF8xYjc4MDYxMmI2NTI0YjU5YWFmYTI2MzEwZDQ4YTViNiA9ICQoYDxkaXYgaWQ9Imh0bWxfMWI3ODA2MTJiNjUyNGI1OWFhZmEyNjMxMGQ0OGE1YjYiIHN0eWxlPSJ3aWR0aDogMTAwLjAlOyBoZWlnaHQ6IDEwMC4wJTsiPldlc3Rtb3VudCwgRXRvYmljb2tlPC9kaXY+YClbMF07CiAgICAgICAgICAgIHBvcHVwXzRkMDAzNjIyZGQzNzQwM2RiZmU5YjU4ZGFmOGNkMDY4LnNldENvbnRlbnQoaHRtbF8xYjc4MDYxMmI2NTI0YjU5YWFmYTI2MzEwZDQ4YTViNik7CiAgICAgICAgCgogICAgICAgIGNpcmNsZV9tYXJrZXJfMjg5ODNjMDNmYWUwNGZkZTlhNGZlZTUwM2ViMGJjYjkuYmluZFBvcHVwKHBvcHVwXzRkMDAzNjIyZGQzNzQwM2RiZmU5YjU4ZGFmOGNkMDY4KQogICAgICAgIDsKCiAgICAgICAgCiAgICAKICAgIAogICAgICAgICAgICB2YXIgY2lyY2xlX21hcmtlcl9lYzAyNmRiZDJiOWU0MDZhYTI1ZmJjMDU0OWRkZDgyOCA9IEwuY2lyY2xlTWFya2VyKAogICAgICAgICAgICAgICAgWzQzLjc1MDA3MTUwMDAwMDAwNCwgLTc5LjI5NTg0OTFdLAogICAgICAgICAgICAgICAgeyJidWJibGluZ01vdXNlRXZlbnRzIjogdHJ1ZSwgImNvbG9yIjogImJsdWUiLCAiZGFzaEFycmF5IjogbnVsbCwgImRhc2hPZmZzZXQiOiBudWxsLCAiZmlsbCI6IHRydWUsICJmaWxsQ29sb3IiOiAiIzMxODZjYyIsICJmaWxsT3BhY2l0eSI6IDAuNywgImZpbGxSdWxlIjogImV2ZW5vZGQiLCAibGluZUNhcCI6ICJyb3VuZCIsICJsaW5lSm9pbiI6ICJyb3VuZCIsICJvcGFjaXR5IjogMS4wLCAicmFkaXVzIjogNSwgInN0cm9rZSI6IHRydWUsICJ3ZWlnaHQiOiAzfQogICAgICAgICAgICApLmFkZFRvKG1hcF9kNGQ0MzE1MzgyOTU0ODc1OWQ3YzdkMzUxNDQ4ZWU2OCk7CiAgICAgICAgCiAgICAKICAgICAgICB2YXIgcG9wdXBfZDExNmUwYzFlY2Q1NDZkOGJhYTZhMTliY2FmMWQ0YTIgPSBMLnBvcHVwKHsibWF4V2lkdGgiOiAiMTAwJSJ9KTsKCiAgICAgICAgCiAgICAgICAgICAgIHZhciBodG1sXzBkMzAzYTVhNjgwNzQ4YmVhYmJhOGU4YTliZGNlOTQwID0gJChgPGRpdiBpZD0iaHRtbF8wZDMwM2E1YTY4MDc0OGJlYWJiYThlOGE5YmRjZTk0MCIgc3R5bGU9IndpZHRoOiAxMDAuMCU7IGhlaWdodDogMTAwLjAlOyI+V2V4Zm9yZCwgTWFyeXZhbGUsIFNjYXJib3JvdWdoPC9kaXY+YClbMF07CiAgICAgICAgICAgIHBvcHVwX2QxMTZlMGMxZWNkNTQ2ZDhiYWE2YTE5YmNhZjFkNGEyLnNldENvbnRlbnQoaHRtbF8wZDMwM2E1YTY4MDc0OGJlYWJiYThlOGE5YmRjZTk0MCk7CiAgICAgICAgCgogICAgICAgIGNpcmNsZV9tYXJrZXJfZWMwMjZkYmQyYjllNDA2YWEyNWZiYzA1NDlkZGQ4MjguYmluZFBvcHVwKHBvcHVwX2QxMTZlMGMxZWNkNTQ2ZDhiYWE2YTE5YmNhZjFkNGEyKQogICAgICAgIDsKCiAgICAgICAgCiAgICAKICAgIAogICAgICAgICAgICB2YXIgY2lyY2xlX21hcmtlcl9kNjk3YTdmNDk4MTY0MjkzODI5OTk3YzE5YjU4OTE1MyA9IEwuY2lyY2xlTWFya2VyKAogICAgICAgICAgICAgICAgWzQzLjc4MjczNjQsIC03OS40NDIyNTkzXSwKICAgICAgICAgICAgICAgIHsiYnViYmxpbmdNb3VzZUV2ZW50cyI6IHRydWUsICJjb2xvciI6ICJibHVlIiwgImRhc2hBcnJheSI6IG51bGwsICJkYXNoT2Zmc2V0IjogbnVsbCwgImZpbGwiOiB0cnVlLCAiZmlsbENvbG9yIjogIiMzMTg2Y2MiLCAiZmlsbE9wYWNpdHkiOiAwLjcsICJmaWxsUnVsZSI6ICJldmVub2RkIiwgImxpbmVDYXAiOiAicm91bmQiLCAibGluZUpvaW4iOiAicm91bmQiLCAib3BhY2l0eSI6IDEuMCwgInJhZGl1cyI6IDUsICJzdHJva2UiOiB0cnVlLCAid2VpZ2h0IjogM30KICAgICAgICAgICAgKS5hZGRUbyhtYXBfZDRkNDMxNTM4Mjk1NDg3NTlkN2M3ZDM1MTQ0OGVlNjgpOwogICAgICAgIAogICAgCiAgICAgICAgdmFyIHBvcHVwX2YwODdkN2Q0NDA5MzQ5ODg5YjRhZjQ1MjhmYWUyMjJkID0gTC5wb3B1cCh7Im1heFdpZHRoIjogIjEwMCUifSk7CgogICAgICAgIAogICAgICAgICAgICB2YXIgaHRtbF9hNDBlMTA5MzZiYjA0NGIwYjE2OTFmYmNlMjNkYWU4YyA9ICQoYDxkaXYgaWQ9Imh0bWxfYTQwZTEwOTM2YmIwNDRiMGIxNjkxZmJjZTIzZGFlOGMiIHN0eWxlPSJ3aWR0aDogMTAwLjAlOyBoZWlnaHQ6IDEwMC4wJTsiPldpbGxvd2RhbGUsIFdpbGxvd2RhbGUgV2VzdCwgTm9ydGggWW9yazwvZGl2PmApWzBdOwogICAgICAgICAgICBwb3B1cF9mMDg3ZDdkNDQwOTM0OTg4OWI0YWY0NTI4ZmFlMjIyZC5zZXRDb250ZW50KGh0bWxfYTQwZTEwOTM2YmIwNDRiMGIxNjkxZmJjZTIzZGFlOGMpOwogICAgICAgIAoKICAgICAgICBjaXJjbGVfbWFya2VyX2Q2OTdhN2Y0OTgxNjQyOTM4Mjk5OTdjMTliNTg5MTUzLmJpbmRQb3B1cChwb3B1cF9mMDg3ZDdkNDQwOTM0OTg4OWI0YWY0NTI4ZmFlMjIyZCkKICAgICAgICA7CgogICAgICAgIAogICAgCiAgICAKICAgICAgICAgICAgdmFyIGNpcmNsZV9tYXJrZXJfNTI2NjJkZDE0ZjJiNDBiYjhiNjcwZjYyYzU0MzEwNjQgPSBMLmNpcmNsZU1hcmtlcigKICAgICAgICAgICAgICAgIFs0My43MTUzODM0LCAtNzkuNDA1Njc4NDAwMDAwMDFdLAogICAgICAgICAgICAgICAgeyJidWJibGluZ01vdXNlRXZlbnRzIjogdHJ1ZSwgImNvbG9yIjogImJsdWUiLCAiZGFzaEFycmF5IjogbnVsbCwgImRhc2hPZmZzZXQiOiBudWxsLCAiZmlsbCI6IHRydWUsICJmaWxsQ29sb3IiOiAiIzMxODZjYyIsICJmaWxsT3BhY2l0eSI6IDAuNywgImZpbGxSdWxlIjogImV2ZW5vZGQiLCAibGluZUNhcCI6ICJyb3VuZCIsICJsaW5lSm9pbiI6ICJyb3VuZCIsICJvcGFjaXR5IjogMS4wLCAicmFkaXVzIjogNSwgInN0cm9rZSI6IHRydWUsICJ3ZWlnaHQiOiAzfQogICAgICAgICAgICApLmFkZFRvKG1hcF9kNGQ0MzE1MzgyOTU0ODc1OWQ3YzdkMzUxNDQ4ZWU2OCk7CiAgICAgICAgCiAgICAKICAgICAgICB2YXIgcG9wdXBfYWJlMTk2YmRiY2FkNDFhMjkyMGZlMDM3YmJhN2EwOWIgPSBMLnBvcHVwKHsibWF4V2lkdGgiOiAiMTAwJSJ9KTsKCiAgICAgICAgCiAgICAgICAgICAgIHZhciBodG1sXzkxMzU0YzFmNWU0OTQ3MWY4MjcyZGI2ZjQ4NWY1MmVkID0gJChgPGRpdiBpZD0iaHRtbF85MTM1NGMxZjVlNDk0NzFmODI3MmRiNmY0ODVmNTJlZCIgc3R5bGU9IndpZHRoOiAxMDAuMCU7IGhlaWdodDogMTAwLjAlOyI+Tm9ydGggVG9yb250byBXZXN0LCBMYXdyZW5jZSBQYXJrLCBDZW50cmFsIFRvcm9udG88L2Rpdj5gKVswXTsKICAgICAgICAgICAgcG9wdXBfYWJlMTk2YmRiY2FkNDFhMjkyMGZlMDM3YmJhN2EwOWIuc2V0Q29udGVudChodG1sXzkxMzU0YzFmNWU0OTQ3MWY4MjcyZGI2ZjQ4NWY1MmVkKTsKICAgICAgICAKCiAgICAgICAgY2lyY2xlX21hcmtlcl81MjY2MmRkMTRmMmI0MGJiOGI2NzBmNjJjNTQzMTA2NC5iaW5kUG9wdXAocG9wdXBfYWJlMTk2YmRiY2FkNDFhMjkyMGZlMDM3YmJhN2EwOWIpCiAgICAgICAgOwoKICAgICAgICAKICAgIAogICAgCiAgICAgICAgICAgIHZhciBjaXJjbGVfbWFya2VyX2MwOTlhMGJjNzI4OTQ0OWU4NWEwMDY0MDNlYTAyYmNkID0gTC5jaXJjbGVNYXJrZXIoCiAgICAgICAgICAgICAgICBbNDMuNjcyNzA5NywgLTc5LjQwNTY3ODQwMDAwMDAxXSwKICAgICAgICAgICAgICAgIHsiYnViYmxpbmdNb3VzZUV2ZW50cyI6IHRydWUsICJjb2xvciI6ICJibHVlIiwgImRhc2hBcnJheSI6IG51bGwsICJkYXNoT2Zmc2V0IjogbnVsbCwgImZpbGwiOiB0cnVlLCAiZmlsbENvbG9yIjogIiMzMTg2Y2MiLCAiZmlsbE9wYWNpdHkiOiAwLjcsICJmaWxsUnVsZSI6ICJldmVub2RkIiwgImxpbmVDYXAiOiAicm91bmQiLCAibGluZUpvaW4iOiAicm91bmQiLCAib3BhY2l0eSI6IDEuMCwgInJhZGl1cyI6IDUsICJzdHJva2UiOiB0cnVlLCAid2VpZ2h0IjogM30KICAgICAgICAgICAgKS5hZGRUbyhtYXBfZDRkNDMxNTM4Mjk1NDg3NTlkN2M3ZDM1MTQ0OGVlNjgpOwogICAgICAgIAogICAgCiAgICAgICAgdmFyIHBvcHVwXzI4ZmUzOTMzMTZhNTRhYTg5MDgzZWRhMmFhOTBmMDk2ID0gTC5wb3B1cCh7Im1heFdpZHRoIjogIjEwMCUifSk7CgogICAgICAgIAogICAgICAgICAgICB2YXIgaHRtbF8wNzk5MmIxNTcyNTQ0NWYxYTg2ZWUxYmVlMTNlYjYzNSA9ICQoYDxkaXYgaWQ9Imh0bWxfMDc5OTJiMTU3MjU0NDVmMWE4NmVlMWJlZTEzZWI2MzUiIHN0eWxlPSJ3aWR0aDogMTAwLjAlOyBoZWlnaHQ6IDEwMC4wJTsiPlRoZSBBbm5leCwgTm9ydGggTWlkdG93biwgWW9ya3ZpbGxlLCBDZW50cmFsIFRvcm9udG88L2Rpdj5gKVswXTsKICAgICAgICAgICAgcG9wdXBfMjhmZTM5MzMxNmE1NGFhODkwODNlZGEyYWE5MGYwOTYuc2V0Q29udGVudChodG1sXzA3OTkyYjE1NzI1NDQ1ZjFhODZlZTFiZWUxM2ViNjM1KTsKICAgICAgICAKCiAgICAgICAgY2lyY2xlX21hcmtlcl9jMDk5YTBiYzcyODk0NDllODVhMDA2NDAzZWEwMmJjZC5iaW5kUG9wdXAocG9wdXBfMjhmZTM5MzMxNmE1NGFhODkwODNlZGEyYWE5MGYwOTYpCiAgICAgICAgOwoKICAgICAgICAKICAgIAogICAgCiAgICAgICAgICAgIHZhciBjaXJjbGVfbWFya2VyXzdhN2IzMWJjZDNjZjQ3M2E4ZTc4NGEwMjZjOTkzNjBlID0gTC5jaXJjbGVNYXJrZXIoCiAgICAgICAgICAgICAgICBbNDMuNjQ4OTU5NywgLTc5LjQ1NjMyNV0sCiAgICAgICAgICAgICAgICB7ImJ1YmJsaW5nTW91c2VFdmVudHMiOiB0cnVlLCAiY29sb3IiOiAiYmx1ZSIsICJkYXNoQXJyYXkiOiBudWxsLCAiZGFzaE9mZnNldCI6IG51bGwsICJmaWxsIjogdHJ1ZSwgImZpbGxDb2xvciI6ICIjMzE4NmNjIiwgImZpbGxPcGFjaXR5IjogMC43LCAiZmlsbFJ1bGUiOiAiZXZlbm9kZCIsICJsaW5lQ2FwIjogInJvdW5kIiwgImxpbmVKb2luIjogInJvdW5kIiwgIm9wYWNpdHkiOiAxLjAsICJyYWRpdXMiOiA1LCAic3Ryb2tlIjogdHJ1ZSwgIndlaWdodCI6IDN9CiAgICAgICAgICAgICkuYWRkVG8obWFwX2Q0ZDQzMTUzODI5NTQ4NzU5ZDdjN2QzNTE0NDhlZTY4KTsKICAgICAgICAKICAgIAogICAgICAgIHZhciBwb3B1cF85YmQxMGE1MTQ3MDk0MWZkODUwYzM2M2MxNmJlZWU0NyA9IEwucG9wdXAoeyJtYXhXaWR0aCI6ICIxMDAlIn0pOwoKICAgICAgICAKICAgICAgICAgICAgdmFyIGh0bWxfOGE3NGE2YTUzNTFmNDgwMjkzZGVkZWFjMmViZTYwZTMgPSAkKGA8ZGl2IGlkPSJodG1sXzhhNzRhNmE1MzUxZjQ4MDI5M2RlZGVhYzJlYmU2MGUzIiBzdHlsZT0id2lkdGg6IDEwMC4wJTsgaGVpZ2h0OiAxMDAuMCU7Ij5QYXJrZGFsZSwgUm9uY2VzdmFsbGVzLCBXZXN0IFRvcm9udG88L2Rpdj5gKVswXTsKICAgICAgICAgICAgcG9wdXBfOWJkMTBhNTE0NzA5NDFmZDg1MGMzNjNjMTZiZWVlNDcuc2V0Q29udGVudChodG1sXzhhNzRhNmE1MzUxZjQ4MDI5M2RlZGVhYzJlYmU2MGUzKTsKICAgICAgICAKCiAgICAgICAgY2lyY2xlX21hcmtlcl83YTdiMzFiY2QzY2Y0NzNhOGU3ODRhMDI2Yzk5MzYwZS5iaW5kUG9wdXAocG9wdXBfOWJkMTBhNTE0NzA5NDFmZDg1MGMzNjNjMTZiZWVlNDcpCiAgICAgICAgOwoKICAgICAgICAKICAgIAogICAgCiAgICAgICAgICAgIHZhciBjaXJjbGVfbWFya2VyX2FmZTQzNWQyN2NlMjQ5M2NiMWYxZmIxMTFjMDc2ZWVkID0gTC5jaXJjbGVNYXJrZXIoCiAgICAgICAgICAgICAgICBbNDMuNjM2OTY1NiwgLTc5LjYxNTgxODk5OTk5OTk5XSwKICAgICAgICAgICAgICAgIHsiYnViYmxpbmdNb3VzZUV2ZW50cyI6IHRydWUsICJjb2xvciI6ICJibHVlIiwgImRhc2hBcnJheSI6IG51bGwsICJkYXNoT2Zmc2V0IjogbnVsbCwgImZpbGwiOiB0cnVlLCAiZmlsbENvbG9yIjogIiMzMTg2Y2MiLCAiZmlsbE9wYWNpdHkiOiAwLjcsICJmaWxsUnVsZSI6ICJldmVub2RkIiwgImxpbmVDYXAiOiAicm91bmQiLCAibGluZUpvaW4iOiAicm91bmQiLCAib3BhY2l0eSI6IDEuMCwgInJhZGl1cyI6IDUsICJzdHJva2UiOiB0cnVlLCAid2VpZ2h0IjogM30KICAgICAgICAgICAgKS5hZGRUbyhtYXBfZDRkNDMxNTM4Mjk1NDg3NTlkN2M3ZDM1MTQ0OGVlNjgpOwogICAgICAgIAogICAgCiAgICAgICAgdmFyIHBvcHVwX2U3YWU0MDc5NzRjNzRkNjE5YzQ2ODViMWNmNDg0N2Q5ID0gTC5wb3B1cCh7Im1heFdpZHRoIjogIjEwMCUifSk7CgogICAgICAgIAogICAgICAgICAgICB2YXIgaHRtbF83MTRjMzY2YTI0MWU0OTYzYTIzMTFjYTJhNjgzZTQzYyA9ICQoYDxkaXYgaWQ9Imh0bWxfNzE0YzM2NmEyNDFlNDk2M2EyMzExY2EyYTY4M2U0M2MiIHN0eWxlPSJ3aWR0aDogMTAwLjAlOyBoZWlnaHQ6IDEwMC4wJTsiPkNhbmFkYSBQb3N0IEdhdGV3YXkgUHJvY2Vzc2luZyBDZW50cmUsIE1pc3Npc3NhdWdhPC9kaXY+YClbMF07CiAgICAgICAgICAgIHBvcHVwX2U3YWU0MDc5NzRjNzRkNjE5YzQ2ODViMWNmNDg0N2Q5LnNldENvbnRlbnQoaHRtbF83MTRjMzY2YTI0MWU0OTYzYTIzMTFjYTJhNjgzZTQzYyk7CiAgICAgICAgCgogICAgICAgIGNpcmNsZV9tYXJrZXJfYWZlNDM1ZDI3Y2UyNDkzY2IxZjFmYjExMWMwNzZlZWQuYmluZFBvcHVwKHBvcHVwX2U3YWU0MDc5NzRjNzRkNjE5YzQ2ODViMWNmNDg0N2Q5KQogICAgICAgIDsKCiAgICAgICAgCiAgICAKICAgIAogICAgICAgICAgICB2YXIgY2lyY2xlX21hcmtlcl85OGQ5MzBhZDIxYmQ0OTI3ODdmNDJkNWRkMWE0MDFlZSA9IEwuY2lyY2xlTWFya2VyKAogICAgICAgICAgICAgICAgWzQzLjY4ODkwNTQsIC03OS41NTQ3MjQ0MDAwMDAwMV0sCiAgICAgICAgICAgICAgICB7ImJ1YmJsaW5nTW91c2VFdmVudHMiOiB0cnVlLCAiY29sb3IiOiAiYmx1ZSIsICJkYXNoQXJyYXkiOiBudWxsLCAiZGFzaE9mZnNldCI6IG51bGwsICJmaWxsIjogdHJ1ZSwgImZpbGxDb2xvciI6ICIjMzE4NmNjIiwgImZpbGxPcGFjaXR5IjogMC43LCAiZmlsbFJ1bGUiOiAiZXZlbm9kZCIsICJsaW5lQ2FwIjogInJvdW5kIiwgImxpbmVKb2luIjogInJvdW5kIiwgIm9wYWNpdHkiOiAxLjAsICJyYWRpdXMiOiA1LCAic3Ryb2tlIjogdHJ1ZSwgIndlaWdodCI6IDN9CiAgICAgICAgICAgICkuYWRkVG8obWFwX2Q0ZDQzMTUzODI5NTQ4NzU5ZDdjN2QzNTE0NDhlZTY4KTsKICAgICAgICAKICAgIAogICAgICAgIHZhciBwb3B1cF8zZDRhYTVkMjE3NzM0OTdiYTI3M2M2YTgwZWU5OTUyMyA9IEwucG9wdXAoeyJtYXhXaWR0aCI6ICIxMDAlIn0pOwoKICAgICAgICAKICAgICAgICAgICAgdmFyIGh0bWxfZDA3ZTc3ODNiYjQwNDdjNzg0NGY0MDY1OGQyMTU0ZmQgPSAkKGA8ZGl2IGlkPSJodG1sX2QwN2U3NzgzYmI0MDQ3Yzc4NDRmNDA2NThkMjE1NGZkIiBzdHlsZT0id2lkdGg6IDEwMC4wJTsgaGVpZ2h0OiAxMDAuMCU7Ij5LaW5nc3ZpZXcgVmlsbGFnZSwgU3QuIFBoaWxsaXBzLCBNYXJ0aW4gR3JvdmUgR2FyZGVucywgUmljaHZpZXcgR2FyZGVucywgRXRvYmljb2tlPC9kaXY+YClbMF07CiAgICAgICAgICAgIHBvcHVwXzNkNGFhNWQyMTc3MzQ5N2JhMjczYzZhODBlZTk5NTIzLnNldENvbnRlbnQoaHRtbF9kMDdlNzc4M2JiNDA0N2M3ODQ0ZjQwNjU4ZDIxNTRmZCk7CiAgICAgICAgCgogICAgICAgIGNpcmNsZV9tYXJrZXJfOThkOTMwYWQyMWJkNDkyNzg3ZjQyZDVkZDFhNDAxZWUuYmluZFBvcHVwKHBvcHVwXzNkNGFhNWQyMTc3MzQ5N2JhMjczYzZhODBlZTk5NTIzKQogICAgICAgIDsKCiAgICAgICAgCiAgICAKICAgIAogICAgICAgICAgICB2YXIgY2lyY2xlX21hcmtlcl8wNGU3NjdiNmEzYTM0MzI0ODM4YTI1Yzc3NjEzODhiMSA9IEwuY2lyY2xlTWFya2VyKAogICAgICAgICAgICAgICAgWzQzLjc5NDIwMDMsIC03OS4yNjIwMjk0MDAwMDAwMl0sCiAgICAgICAgICAgICAgICB7ImJ1YmJsaW5nTW91c2VFdmVudHMiOiB0cnVlLCAiY29sb3IiOiAiYmx1ZSIsICJkYXNoQXJyYXkiOiBudWxsLCAiZGFzaE9mZnNldCI6IG51bGwsICJmaWxsIjogdHJ1ZSwgImZpbGxDb2xvciI6ICIjMzE4NmNjIiwgImZpbGxPcGFjaXR5IjogMC43LCAiZmlsbFJ1bGUiOiAiZXZlbm9kZCIsICJsaW5lQ2FwIjogInJvdW5kIiwgImxpbmVKb2luIjogInJvdW5kIiwgIm9wYWNpdHkiOiAxLjAsICJyYWRpdXMiOiA1LCAic3Ryb2tlIjogdHJ1ZSwgIndlaWdodCI6IDN9CiAgICAgICAgICAgICkuYWRkVG8obWFwX2Q0ZDQzMTUzODI5NTQ4NzU5ZDdjN2QzNTE0NDhlZTY4KTsKICAgICAgICAKICAgIAogICAgICAgIHZhciBwb3B1cF85NDc5YzBkMDg1NjM0YTc5OTYzNTdjOWQ4YjIxMjA0ZSA9IEwucG9wdXAoeyJtYXhXaWR0aCI6ICIxMDAlIn0pOwoKICAgICAgICAKICAgICAgICAgICAgdmFyIGh0bWxfNWQ4OTdlZDcyOTNiNDMwOWI5MzE4OGFlMTUyNDk5YjcgPSAkKGA8ZGl2IGlkPSJodG1sXzVkODk3ZWQ3MjkzYjQzMDliOTMxODhhZTE1MjQ5OWI3IiBzdHlsZT0id2lkdGg6IDEwMC4wJTsgaGVpZ2h0OiAxMDAuMCU7Ij5BZ2luY291cnQsIFNjYXJib3JvdWdoPC9kaXY+YClbMF07CiAgICAgICAgICAgIHBvcHVwXzk0NzljMGQwODU2MzRhNzk5NjM1N2M5ZDhiMjEyMDRlLnNldENvbnRlbnQoaHRtbF81ZDg5N2VkNzI5M2I0MzA5YjkzMTg4YWUxNTI0OTliNyk7CiAgICAgICAgCgogICAgICAgIGNpcmNsZV9tYXJrZXJfMDRlNzY3YjZhM2EzNDMyNDgzOGEyNWM3NzYxMzg4YjEuYmluZFBvcHVwKHBvcHVwXzk0NzljMGQwODU2MzRhNzk5NjM1N2M5ZDhiMjEyMDRlKQogICAgICAgIDsKCiAgICAgICAgCiAgICAKICAgIAogICAgICAgICAgICB2YXIgY2lyY2xlX21hcmtlcl9hMDQyNjkyMTE2OWY0YjQ3OWFmNzgyYzAyOGQxYmVjMCA9IEwuY2lyY2xlTWFya2VyKAogICAgICAgICAgICAgICAgWzQzLjcwNDMyNDQsIC03OS4zODg3OTAxXSwKICAgICAgICAgICAgICAgIHsiYnViYmxpbmdNb3VzZUV2ZW50cyI6IHRydWUsICJjb2xvciI6ICJibHVlIiwgImRhc2hBcnJheSI6IG51bGwsICJkYXNoT2Zmc2V0IjogbnVsbCwgImZpbGwiOiB0cnVlLCAiZmlsbENvbG9yIjogIiMzMTg2Y2MiLCAiZmlsbE9wYWNpdHkiOiAwLjcsICJmaWxsUnVsZSI6ICJldmVub2RkIiwgImxpbmVDYXAiOiAicm91bmQiLCAibGluZUpvaW4iOiAicm91bmQiLCAib3BhY2l0eSI6IDEuMCwgInJhZGl1cyI6IDUsICJzdHJva2UiOiB0cnVlLCAid2VpZ2h0IjogM30KICAgICAgICAgICAgKS5hZGRUbyhtYXBfZDRkNDMxNTM4Mjk1NDg3NTlkN2M3ZDM1MTQ0OGVlNjgpOwogICAgICAgIAogICAgCiAgICAgICAgdmFyIHBvcHVwX2Q0YzA3N2U4ZjY5MzRjZDNiMWQ2YTg2N2MyNTA3MTkzID0gTC5wb3B1cCh7Im1heFdpZHRoIjogIjEwMCUifSk7CgogICAgICAgIAogICAgICAgICAgICB2YXIgaHRtbF9kZDFhYTY5NjQ5M2U0YzM5OWYyOGI1ZGZhMjFiOWJmMCA9ICQoYDxkaXYgaWQ9Imh0bWxfZGQxYWE2OTY0OTNlNGMzOTlmMjhiNWRmYTIxYjliZjAiIHN0eWxlPSJ3aWR0aDogMTAwLjAlOyBoZWlnaHQ6IDEwMC4wJTsiPkRhdmlzdmlsbGUsIENlbnRyYWwgVG9yb250bzwvZGl2PmApWzBdOwogICAgICAgICAgICBwb3B1cF9kNGMwNzdlOGY2OTM0Y2QzYjFkNmE4NjdjMjUwNzE5My5zZXRDb250ZW50KGh0bWxfZGQxYWE2OTY0OTNlNGMzOTlmMjhiNWRmYTIxYjliZjApOwogICAgICAgIAoKICAgICAgICBjaXJjbGVfbWFya2VyX2EwNDI2OTIxMTY5ZjRiNDc5YWY3ODJjMDI4ZDFiZWMwLmJpbmRQb3B1cChwb3B1cF9kNGMwNzdlOGY2OTM0Y2QzYjFkNmE4NjdjMjUwNzE5MykKICAgICAgICA7CgogICAgICAgIAogICAgCiAgICAKICAgICAgICAgICAgdmFyIGNpcmNsZV9tYXJrZXJfM2JkNTk0NTRlMDlhNDBlMjgyM2VhYjNiMjQ2NmQyMGUgPSBMLmNpcmNsZU1hcmtlcigKICAgICAgICAgICAgICAgIFs0My42NjI2OTU2LCAtNzkuNDAwMDQ5M10sCiAgICAgICAgICAgICAgICB7ImJ1YmJsaW5nTW91c2VFdmVudHMiOiB0cnVlLCAiY29sb3IiOiAiYmx1ZSIsICJkYXNoQXJyYXkiOiBudWxsLCAiZGFzaE9mZnNldCI6IG51bGwsICJmaWxsIjogdHJ1ZSwgImZpbGxDb2xvciI6ICIjMzE4NmNjIiwgImZpbGxPcGFjaXR5IjogMC43LCAiZmlsbFJ1bGUiOiAiZXZlbm9kZCIsICJsaW5lQ2FwIjogInJvdW5kIiwgImxpbmVKb2luIjogInJvdW5kIiwgIm9wYWNpdHkiOiAxLjAsICJyYWRpdXMiOiA1LCAic3Ryb2tlIjogdHJ1ZSwgIndlaWdodCI6IDN9CiAgICAgICAgICAgICkuYWRkVG8obWFwX2Q0ZDQzMTUzODI5NTQ4NzU5ZDdjN2QzNTE0NDhlZTY4KTsKICAgICAgICAKICAgIAogICAgICAgIHZhciBwb3B1cF8xZDFkMGY2ZjFmYzg0NTc4ODJlNjhhZGI5MWVmZGZiMyA9IEwucG9wdXAoeyJtYXhXaWR0aCI6ICIxMDAlIn0pOwoKICAgICAgICAKICAgICAgICAgICAgdmFyIGh0bWxfMjBhYjgwMWIyOTQ5NDkwOWFjMzEyOTVkMzA3NDJkMDMgPSAkKGA8ZGl2IGlkPSJodG1sXzIwYWI4MDFiMjk0OTQ5MDlhYzMxMjk1ZDMwNzQyZDAzIiBzdHlsZT0id2lkdGg6IDEwMC4wJTsgaGVpZ2h0OiAxMDAuMCU7Ij5Vbml2ZXJzaXR5IG9mIFRvcm9udG8sIEhhcmJvcmQsIERvd250b3duIFRvcm9udG88L2Rpdj5gKVswXTsKICAgICAgICAgICAgcG9wdXBfMWQxZDBmNmYxZmM4NDU3ODgyZTY4YWRiOTFlZmRmYjMuc2V0Q29udGVudChodG1sXzIwYWI4MDFiMjk0OTQ5MDlhYzMxMjk1ZDMwNzQyZDAzKTsKICAgICAgICAKCiAgICAgICAgY2lyY2xlX21hcmtlcl8zYmQ1OTQ1NGUwOWE0MGUyODIzZWFiM2IyNDY2ZDIwZS5iaW5kUG9wdXAocG9wdXBfMWQxZDBmNmYxZmM4NDU3ODgyZTY4YWRiOTFlZmRmYjMpCiAgICAgICAgOwoKICAgICAgICAKICAgIAogICAgCiAgICAgICAgICAgIHZhciBjaXJjbGVfbWFya2VyXzkxYjNlZmU0NjNkNDQxNzhiNzYyYjY4OTgyMzUwNmQ2ID0gTC5jaXJjbGVNYXJrZXIoCiAgICAgICAgICAgICAgICBbNDMuNjUxNTcwNiwgLTc5LjQ4NDQ0OTldLAogICAgICAgICAgICAgICAgeyJidWJibGluZ01vdXNlRXZlbnRzIjogdHJ1ZSwgImNvbG9yIjogImJsdWUiLCAiZGFzaEFycmF5IjogbnVsbCwgImRhc2hPZmZzZXQiOiBudWxsLCAiZmlsbCI6IHRydWUsICJmaWxsQ29sb3IiOiAiIzMxODZjYyIsICJmaWxsT3BhY2l0eSI6IDAuNywgImZpbGxSdWxlIjogImV2ZW5vZGQiLCAibGluZUNhcCI6ICJyb3VuZCIsICJsaW5lSm9pbiI6ICJyb3VuZCIsICJvcGFjaXR5IjogMS4wLCAicmFkaXVzIjogNSwgInN0cm9rZSI6IHRydWUsICJ3ZWlnaHQiOiAzfQogICAgICAgICAgICApLmFkZFRvKG1hcF9kNGQ0MzE1MzgyOTU0ODc1OWQ3YzdkMzUxNDQ4ZWU2OCk7CiAgICAgICAgCiAgICAKICAgICAgICB2YXIgcG9wdXBfZjdkMmFkYjUzZTRlNGI1ZWFlY2Y4MTU0MGY1YWZiNzggPSBMLnBvcHVwKHsibWF4V2lkdGgiOiAiMTAwJSJ9KTsKCiAgICAgICAgCiAgICAgICAgICAgIHZhciBodG1sXzgxMDc5MmY0N2IwMDRlYjE5ZTRhODQ5ZGQ2MzhmN2UwID0gJChgPGRpdiBpZD0iaHRtbF84MTA3OTJmNDdiMDA0ZWIxOWU0YTg0OWRkNjM4ZjdlMCIgc3R5bGU9IndpZHRoOiAxMDAuMCU7IGhlaWdodDogMTAwLjAlOyI+UnVubnltZWRlLCBTd2Fuc2VhLCBXZXN0IFRvcm9udG88L2Rpdj5gKVswXTsKICAgICAgICAgICAgcG9wdXBfZjdkMmFkYjUzZTRlNGI1ZWFlY2Y4MTU0MGY1YWZiNzguc2V0Q29udGVudChodG1sXzgxMDc5MmY0N2IwMDRlYjE5ZTRhODQ5ZGQ2MzhmN2UwKTsKICAgICAgICAKCiAgICAgICAgY2lyY2xlX21hcmtlcl85MWIzZWZlNDYzZDQ0MTc4Yjc2MmI2ODk4MjM1MDZkNi5iaW5kUG9wdXAocG9wdXBfZjdkMmFkYjUzZTRlNGI1ZWFlY2Y4MTU0MGY1YWZiNzgpCiAgICAgICAgOwoKICAgICAgICAKICAgIAogICAgCiAgICAgICAgICAgIHZhciBjaXJjbGVfbWFya2VyX2JjMTQyOTQ1NmUxMTQyOWRiZThiZGQ0MjI4Y2Q3NWE3ID0gTC5jaXJjbGVNYXJrZXIoCiAgICAgICAgICAgICAgICBbNDMuNzgxNjM3NSwgLTc5LjMwNDMwMjFdLAogICAgICAgICAgICAgICAgeyJidWJibGluZ01vdXNlRXZlbnRzIjogdHJ1ZSwgImNvbG9yIjogImJsdWUiLCAiZGFzaEFycmF5IjogbnVsbCwgImRhc2hPZmZzZXQiOiBudWxsLCAiZmlsbCI6IHRydWUsICJmaWxsQ29sb3IiOiAiIzMxODZjYyIsICJmaWxsT3BhY2l0eSI6IDAuNywgImZpbGxSdWxlIjogImV2ZW5vZGQiLCAibGluZUNhcCI6ICJyb3VuZCIsICJsaW5lSm9pbiI6ICJyb3VuZCIsICJvcGFjaXR5IjogMS4wLCAicmFkaXVzIjogNSwgInN0cm9rZSI6IHRydWUsICJ3ZWlnaHQiOiAzfQogICAgICAgICAgICApLmFkZFRvKG1hcF9kNGQ0MzE1MzgyOTU0ODc1OWQ3YzdkMzUxNDQ4ZWU2OCk7CiAgICAgICAgCiAgICAKICAgICAgICB2YXIgcG9wdXBfY2NhYWMwNGFjODI0NDc3Yzk4YjY3ZGFjYWIzODhlNDAgPSBMLnBvcHVwKHsibWF4V2lkdGgiOiAiMTAwJSJ9KTsKCiAgICAgICAgCiAgICAgICAgICAgIHZhciBodG1sXzdkOTA0ZWIwOWViOTQxYWViMWE1ZWRlYWJiMGUzYzQ4ID0gJChgPGRpdiBpZD0iaHRtbF83ZDkwNGViMDllYjk0MWFlYjFhNWVkZWFiYjBlM2M0OCIgc3R5bGU9IndpZHRoOiAxMDAuMCU7IGhlaWdodDogMTAwLjAlOyI+Q2xhcmtzIENvcm5lcnMsIFRhbSBPJiMzOTtTaGFudGVyLCBTdWxsaXZhbiwgU2NhcmJvcm91Z2g8L2Rpdj5gKVswXTsKICAgICAgICAgICAgcG9wdXBfY2NhYWMwNGFjODI0NDc3Yzk4YjY3ZGFjYWIzODhlNDAuc2V0Q29udGVudChodG1sXzdkOTA0ZWIwOWViOTQxYWViMWE1ZWRlYWJiMGUzYzQ4KTsKICAgICAgICAKCiAgICAgICAgY2lyY2xlX21hcmtlcl9iYzE0Mjk0NTZlMTE0MjlkYmU4YmRkNDIyOGNkNzVhNy5iaW5kUG9wdXAocG9wdXBfY2NhYWMwNGFjODI0NDc3Yzk4YjY3ZGFjYWIzODhlNDApCiAgICAgICAgOwoKICAgICAgICAKICAgIAogICAgCiAgICAgICAgICAgIHZhciBjaXJjbGVfbWFya2VyXzc0NjZmNDU0NTVkYjRjY2ZhNGI3NzFjOGQ5ZDA4NDhkID0gTC5jaXJjbGVNYXJrZXIoCiAgICAgICAgICAgICAgICBbNDMuNjg5NTc0MywgLTc5LjM4MzE1OTkwMDAwMDAxXSwKICAgICAgICAgICAgICAgIHsiYnViYmxpbmdNb3VzZUV2ZW50cyI6IHRydWUsICJjb2xvciI6ICJibHVlIiwgImRhc2hBcnJheSI6IG51bGwsICJkYXNoT2Zmc2V0IjogbnVsbCwgImZpbGwiOiB0cnVlLCAiZmlsbENvbG9yIjogIiMzMTg2Y2MiLCAiZmlsbE9wYWNpdHkiOiAwLjcsICJmaWxsUnVsZSI6ICJldmVub2RkIiwgImxpbmVDYXAiOiAicm91bmQiLCAibGluZUpvaW4iOiAicm91bmQiLCAib3BhY2l0eSI6IDEuMCwgInJhZGl1cyI6IDUsICJzdHJva2UiOiB0cnVlLCAid2VpZ2h0IjogM30KICAgICAgICAgICAgKS5hZGRUbyhtYXBfZDRkNDMxNTM4Mjk1NDg3NTlkN2M3ZDM1MTQ0OGVlNjgpOwogICAgICAgIAogICAgCiAgICAgICAgdmFyIHBvcHVwX2QwYjM3N2UzZTJjNzQ0NGI4NmQ0ZTUwNjFlMGRiNmQzID0gTC5wb3B1cCh7Im1heFdpZHRoIjogIjEwMCUifSk7CgogICAgICAgIAogICAgICAgICAgICB2YXIgaHRtbF9mYTkwNDY2ZGYyODM0MTBlYjNkOWM5NTZmNzNmZGIxYSA9ICQoYDxkaXYgaWQ9Imh0bWxfZmE5MDQ2NmRmMjgzNDEwZWIzZDljOTU2ZjczZmRiMWEiIHN0eWxlPSJ3aWR0aDogMTAwLjAlOyBoZWlnaHQ6IDEwMC4wJTsiPk1vb3JlIFBhcmssIFN1bW1lcmhpbGwgRWFzdCwgQ2VudHJhbCBUb3JvbnRvPC9kaXY+YClbMF07CiAgICAgICAgICAgIHBvcHVwX2QwYjM3N2UzZTJjNzQ0NGI4NmQ0ZTUwNjFlMGRiNmQzLnNldENvbnRlbnQoaHRtbF9mYTkwNDY2ZGYyODM0MTBlYjNkOWM5NTZmNzNmZGIxYSk7CiAgICAgICAgCgogICAgICAgIGNpcmNsZV9tYXJrZXJfNzQ2NmY0NTQ1NWRiNGNjZmE0Yjc3MWM4ZDlkMDg0OGQuYmluZFBvcHVwKHBvcHVwX2QwYjM3N2UzZTJjNzQ0NGI4NmQ0ZTUwNjFlMGRiNmQzKQogICAgICAgIDsKCiAgICAgICAgCiAgICAKICAgIAogICAgICAgICAgICB2YXIgY2lyY2xlX21hcmtlcl84YTBjYmM2OTQyMDI0ZjAyYmVjY2FhMzkwY2Y0ODk4YiA9IEwuY2lyY2xlTWFya2VyKAogICAgICAgICAgICAgICAgWzQzLjY1MzIwNTcsIC03OS40MDAwNDkzXSwKICAgICAgICAgICAgICAgIHsiYnViYmxpbmdNb3VzZUV2ZW50cyI6IHRydWUsICJjb2xvciI6ICJibHVlIiwgImRhc2hBcnJheSI6IG51bGwsICJkYXNoT2Zmc2V0IjogbnVsbCwgImZpbGwiOiB0cnVlLCAiZmlsbENvbG9yIjogIiMzMTg2Y2MiLCAiZmlsbE9wYWNpdHkiOiAwLjcsICJmaWxsUnVsZSI6ICJldmVub2RkIiwgImxpbmVDYXAiOiAicm91bmQiLCAibGluZUpvaW4iOiAicm91bmQiLCAib3BhY2l0eSI6IDEuMCwgInJhZGl1cyI6IDUsICJzdHJva2UiOiB0cnVlLCAid2VpZ2h0IjogM30KICAgICAgICAgICAgKS5hZGRUbyhtYXBfZDRkNDMxNTM4Mjk1NDg3NTlkN2M3ZDM1MTQ0OGVlNjgpOwogICAgICAgIAogICAgCiAgICAgICAgdmFyIHBvcHVwXzk4Y2FmY2FlYmRkYzQ1NDhhZDJkMzk1OTJiNDIwZmY1ID0gTC5wb3B1cCh7Im1heFdpZHRoIjogIjEwMCUifSk7CgogICAgICAgIAogICAgICAgICAgICB2YXIgaHRtbF80ZTUxZWFmYjcwNjc0NmZkODMxMzYzNjdhOGYwMWFlNSA9ICQoYDxkaXYgaWQ9Imh0bWxfNGU1MWVhZmI3MDY3NDZmZDgzMTM2MzY3YThmMDFhZTUiIHN0eWxlPSJ3aWR0aDogMTAwLjAlOyBoZWlnaHQ6IDEwMC4wJTsiPktlbnNpbmd0b24gTWFya2V0LCBDaGluYXRvd24sIEdyYW5nZSBQYXJrLCBEb3dudG93biBUb3JvbnRvPC9kaXY+YClbMF07CiAgICAgICAgICAgIHBvcHVwXzk4Y2FmY2FlYmRkYzQ1NDhhZDJkMzk1OTJiNDIwZmY1LnNldENvbnRlbnQoaHRtbF80ZTUxZWFmYjcwNjc0NmZkODMxMzYzNjdhOGYwMWFlNSk7CiAgICAgICAgCgogICAgICAgIGNpcmNsZV9tYXJrZXJfOGEwY2JjNjk0MjAyNGYwMmJlY2NhYTM5MGNmNDg5OGIuYmluZFBvcHVwKHBvcHVwXzk4Y2FmY2FlYmRkYzQ1NDhhZDJkMzk1OTJiNDIwZmY1KQogICAgICAgIDsKCiAgICAgICAgCiAgICAKICAgIAogICAgICAgICAgICB2YXIgY2lyY2xlX21hcmtlcl8xNjE3ZTEwYzhhMzk0MjUyYTg4OTExY2U0OTgwNGRmNyA9IEwuY2lyY2xlTWFya2VyKAogICAgICAgICAgICAgICAgWzQzLjgxNTI1MjIsIC03OS4yODQ1NzcyXSwKICAgICAgICAgICAgICAgIHsiYnViYmxpbmdNb3VzZUV2ZW50cyI6IHRydWUsICJjb2xvciI6ICJibHVlIiwgImRhc2hBcnJheSI6IG51bGwsICJkYXNoT2Zmc2V0IjogbnVsbCwgImZpbGwiOiB0cnVlLCAiZmlsbENvbG9yIjogIiMzMTg2Y2MiLCAiZmlsbE9wYWNpdHkiOiAwLjcsICJmaWxsUnVsZSI6ICJldmVub2RkIiwgImxpbmVDYXAiOiAicm91bmQiLCAibGluZUpvaW4iOiAicm91bmQiLCAib3BhY2l0eSI6IDEuMCwgInJhZGl1cyI6IDUsICJzdHJva2UiOiB0cnVlLCAid2VpZ2h0IjogM30KICAgICAgICAgICAgKS5hZGRUbyhtYXBfZDRkNDMxNTM4Mjk1NDg3NTlkN2M3ZDM1MTQ0OGVlNjgpOwogICAgICAgIAogICAgCiAgICAgICAgdmFyIHBvcHVwX2MxZjQ1YTk0N2Y2MTRkNzQ4MzM0MmJhYjM3YzQxZjBiID0gTC5wb3B1cCh7Im1heFdpZHRoIjogIjEwMCUifSk7CgogICAgICAgIAogICAgICAgICAgICB2YXIgaHRtbF83Nzk5NzM4ZjQzN2I0MDU2YWZjNTZjNWMyZDgwMzc1YSA9ICQoYDxkaXYgaWQ9Imh0bWxfNzc5OTczOGY0MzdiNDA1NmFmYzU2YzVjMmQ4MDM3NWEiIHN0eWxlPSJ3aWR0aDogMTAwLjAlOyBoZWlnaHQ6IDEwMC4wJTsiPk1pbGxpa2VuLCBBZ2luY291cnQgTm9ydGgsIFN0ZWVsZXMgRWFzdCwgTCYjMzk7QW1vcmVhdXggRWFzdCwgU2NhcmJvcm91Z2g8L2Rpdj5gKVswXTsKICAgICAgICAgICAgcG9wdXBfYzFmNDVhOTQ3ZjYxNGQ3NDgzMzQyYmFiMzdjNDFmMGIuc2V0Q29udGVudChodG1sXzc3OTk3MzhmNDM3YjQwNTZhZmM1NmM1YzJkODAzNzVhKTsKICAgICAgICAKCiAgICAgICAgY2lyY2xlX21hcmtlcl8xNjE3ZTEwYzhhMzk0MjUyYTg4OTExY2U0OTgwNGRmNy5iaW5kUG9wdXAocG9wdXBfYzFmNDVhOTQ3ZjYxNGQ3NDgzMzQyYmFiMzdjNDFmMGIpCiAgICAgICAgOwoKICAgICAgICAKICAgIAogICAgCiAgICAgICAgICAgIHZhciBjaXJjbGVfbWFya2VyXzNiNGE0MzE3NTM4MjRjNTM5NmM5NDhiYzY0YTkzMzdkID0gTC5jaXJjbGVNYXJrZXIoCiAgICAgICAgICAgICAgICBbNDMuNjg2NDEyMjk5OTk5OTksIC03OS40MDAwNDkzXSwKICAgICAgICAgICAgICAgIHsiYnViYmxpbmdNb3VzZUV2ZW50cyI6IHRydWUsICJjb2xvciI6ICJibHVlIiwgImRhc2hBcnJheSI6IG51bGwsICJkYXNoT2Zmc2V0IjogbnVsbCwgImZpbGwiOiB0cnVlLCAiZmlsbENvbG9yIjogIiMzMTg2Y2MiLCAiZmlsbE9wYWNpdHkiOiAwLjcsICJmaWxsUnVsZSI6ICJldmVub2RkIiwgImxpbmVDYXAiOiAicm91bmQiLCAibGluZUpvaW4iOiAicm91bmQiLCAib3BhY2l0eSI6IDEuMCwgInJhZGl1cyI6IDUsICJzdHJva2UiOiB0cnVlLCAid2VpZ2h0IjogM30KICAgICAgICAgICAgKS5hZGRUbyhtYXBfZDRkNDMxNTM4Mjk1NDg3NTlkN2M3ZDM1MTQ0OGVlNjgpOwogICAgICAgIAogICAgCiAgICAgICAgdmFyIHBvcHVwXzI4YmVmY2EzNzljZjRhOWZiY2MyNzBjMTcyYjE2YTNhID0gTC5wb3B1cCh7Im1heFdpZHRoIjogIjEwMCUifSk7CgogICAgICAgIAogICAgICAgICAgICB2YXIgaHRtbF8wZTY5YjM1MDFiMjU0MTcyODcxNjRjOTUyMjMwZGJmMSA9ICQoYDxkaXYgaWQ9Imh0bWxfMGU2OWIzNTAxYjI1NDE3Mjg3MTY0Yzk1MjIzMGRiZjEiIHN0eWxlPSJ3aWR0aDogMTAwLjAlOyBoZWlnaHQ6IDEwMC4wJTsiPlN1bW1lcmhpbGwgV2VzdCwgUmF0aG5lbGx5LCBTb3V0aCBIaWxsLCBGb3Jlc3QgSGlsbCBTRSwgRGVlciBQYXJrLCBDZW50cmFsIFRvcm9udG88L2Rpdj5gKVswXTsKICAgICAgICAgICAgcG9wdXBfMjhiZWZjYTM3OWNmNGE5ZmJjYzI3MGMxNzJiMTZhM2Euc2V0Q29udGVudChodG1sXzBlNjliMzUwMWIyNTQxNzI4NzE2NGM5NTIyMzBkYmYxKTsKICAgICAgICAKCiAgICAgICAgY2lyY2xlX21hcmtlcl8zYjRhNDMxNzUzODI0YzUzOTZjOTQ4YmM2NGE5MzM3ZC5iaW5kUG9wdXAocG9wdXBfMjhiZWZjYTM3OWNmNGE5ZmJjYzI3MGMxNzJiMTZhM2EpCiAgICAgICAgOwoKICAgICAgICAKICAgIAogICAgCiAgICAgICAgICAgIHZhciBjaXJjbGVfbWFya2VyX2QzNDA4OThhZmRmODRhOTg4MmE4ZTNmMDJiZDgyZDE1ID0gTC5jaXJjbGVNYXJrZXIoCiAgICAgICAgICAgICAgICBbNDMuNjI4OTQ2NywgLTc5LjM5NDQxOTldLAogICAgICAgICAgICAgICAgeyJidWJibGluZ01vdXNlRXZlbnRzIjogdHJ1ZSwgImNvbG9yIjogImJsdWUiLCAiZGFzaEFycmF5IjogbnVsbCwgImRhc2hPZmZzZXQiOiBudWxsLCAiZmlsbCI6IHRydWUsICJmaWxsQ29sb3IiOiAiIzMxODZjYyIsICJmaWxsT3BhY2l0eSI6IDAuNywgImZpbGxSdWxlIjogImV2ZW5vZGQiLCAibGluZUNhcCI6ICJyb3VuZCIsICJsaW5lSm9pbiI6ICJyb3VuZCIsICJvcGFjaXR5IjogMS4wLCAicmFkaXVzIjogNSwgInN0cm9rZSI6IHRydWUsICJ3ZWlnaHQiOiAzfQogICAgICAgICAgICApLmFkZFRvKG1hcF9kNGQ0MzE1MzgyOTU0ODc1OWQ3YzdkMzUxNDQ4ZWU2OCk7CiAgICAgICAgCiAgICAKICAgICAgICB2YXIgcG9wdXBfZDBhZmRiMTM4MzU3NGRkNTk3ZDUyM2UzYTc0MGRiNGQgPSBMLnBvcHVwKHsibWF4V2lkdGgiOiAiMTAwJSJ9KTsKCiAgICAgICAgCiAgICAgICAgICAgIHZhciBodG1sXzY4YjE0YjVmYzE4NDQ1YjRhYzllMmVkMzE0ZmU1OGJlID0gJChgPGRpdiBpZD0iaHRtbF82OGIxNGI1ZmMxODQ0NWI0YWM5ZTJlZDMxNGZlNThiZSIgc3R5bGU9IndpZHRoOiAxMDAuMCU7IGhlaWdodDogMTAwLjAlOyI+Q04gVG93ZXIsIEtpbmcgYW5kIFNwYWRpbmEsIFJhaWx3YXkgTGFuZHMsIEhhcmJvdXJmcm9udCBXZXN0LCBCYXRodXJzdCBRdWF5LCBTb3V0aCBOaWFnYXJhLCBJc2xhbmQgYWlycG9ydCwgRG93bnRvd24gVG9yb250bzwvZGl2PmApWzBdOwogICAgICAgICAgICBwb3B1cF9kMGFmZGIxMzgzNTc0ZGQ1OTdkNTIzZTNhNzQwZGI0ZC5zZXRDb250ZW50KGh0bWxfNjhiMTRiNWZjMTg0NDViNGFjOWUyZWQzMTRmZTU4YmUpOwogICAgICAgIAoKICAgICAgICBjaXJjbGVfbWFya2VyX2QzNDA4OThhZmRmODRhOTg4MmE4ZTNmMDJiZDgyZDE1LmJpbmRQb3B1cChwb3B1cF9kMGFmZGIxMzgzNTc0ZGQ1OTdkNTIzZTNhNzQwZGI0ZCkKICAgICAgICA7CgogICAgICAgIAogICAgCiAgICAKICAgICAgICAgICAgdmFyIGNpcmNsZV9tYXJrZXJfY2Q2YTk2ZDk2NzIyNGFjOWFhNmRjM2FhYTE5NWEyZDEgPSBMLmNpcmNsZU1hcmtlcigKICAgICAgICAgICAgICAgIFs0My42MDU2NDY2LCAtNzkuNTAxMzIwNzAwMDAwMDFdLAogICAgICAgICAgICAgICAgeyJidWJibGluZ01vdXNlRXZlbnRzIjogdHJ1ZSwgImNvbG9yIjogImJsdWUiLCAiZGFzaEFycmF5IjogbnVsbCwgImRhc2hPZmZzZXQiOiBudWxsLCAiZmlsbCI6IHRydWUsICJmaWxsQ29sb3IiOiAiIzMxODZjYyIsICJmaWxsT3BhY2l0eSI6IDAuNywgImZpbGxSdWxlIjogImV2ZW5vZGQiLCAibGluZUNhcCI6ICJyb3VuZCIsICJsaW5lSm9pbiI6ICJyb3VuZCIsICJvcGFjaXR5IjogMS4wLCAicmFkaXVzIjogNSwgInN0cm9rZSI6IHRydWUsICJ3ZWlnaHQiOiAzfQogICAgICAgICAgICApLmFkZFRvKG1hcF9kNGQ0MzE1MzgyOTU0ODc1OWQ3YzdkMzUxNDQ4ZWU2OCk7CiAgICAgICAgCiAgICAKICAgICAgICB2YXIgcG9wdXBfZTQ1MDE3OWNlOGY2NGQ3ZWI1OTdkYjU2MDNlMTIyNjQgPSBMLnBvcHVwKHsibWF4V2lkdGgiOiAiMTAwJSJ9KTsKCiAgICAgICAgCiAgICAgICAgICAgIHZhciBodG1sXzk1YzEyZjFkM2IyNjQyOTM4ZjM0ODNmNzkwMGI4OWQzID0gJChgPGRpdiBpZD0iaHRtbF85NWMxMmYxZDNiMjY0MjkzOGYzNDgzZjc5MDBiODlkMyIgc3R5bGU9IndpZHRoOiAxMDAuMCU7IGhlaWdodDogMTAwLjAlOyI+TmV3IFRvcm9udG8sIE1pbWljbyBTb3V0aCwgSHVtYmVyIEJheSBTaG9yZXMsIEV0b2JpY29rZTwvZGl2PmApWzBdOwogICAgICAgICAgICBwb3B1cF9lNDUwMTc5Y2U4ZjY0ZDdlYjU5N2RiNTYwM2UxMjI2NC5zZXRDb250ZW50KGh0bWxfOTVjMTJmMWQzYjI2NDI5MzhmMzQ4M2Y3OTAwYjg5ZDMpOwogICAgICAgIAoKICAgICAgICBjaXJjbGVfbWFya2VyX2NkNmE5NmQ5NjcyMjRhYzlhYTZkYzNhYWExOTVhMmQxLmJpbmRQb3B1cChwb3B1cF9lNDUwMTc5Y2U4ZjY0ZDdlYjU5N2RiNTYwM2UxMjI2NCkKICAgICAgICA7CgogICAgICAgIAogICAgCiAgICAKICAgICAgICAgICAgdmFyIGNpcmNsZV9tYXJrZXJfMTE2YjY4NzNkM2ViNGJlZjllNTE2YzBiMDdmMWJmYjggPSBMLmNpcmNsZU1hcmtlcigKICAgICAgICAgICAgICAgIFs0My43Mzk0MTYzOTk5OTk5OTYsIC03OS41ODg0MzY5XSwKICAgICAgICAgICAgICAgIHsiYnViYmxpbmdNb3VzZUV2ZW50cyI6IHRydWUsICJjb2xvciI6ICJibHVlIiwgImRhc2hBcnJheSI6IG51bGwsICJkYXNoT2Zmc2V0IjogbnVsbCwgImZpbGwiOiB0cnVlLCAiZmlsbENvbG9yIjogIiMzMTg2Y2MiLCAiZmlsbE9wYWNpdHkiOiAwLjcsICJmaWxsUnVsZSI6ICJldmVub2RkIiwgImxpbmVDYXAiOiAicm91bmQiLCAibGluZUpvaW4iOiAicm91bmQiLCAib3BhY2l0eSI6IDEuMCwgInJhZGl1cyI6IDUsICJzdHJva2UiOiB0cnVlLCAid2VpZ2h0IjogM30KICAgICAgICAgICAgKS5hZGRUbyhtYXBfZDRkNDMxNTM4Mjk1NDg3NTlkN2M3ZDM1MTQ0OGVlNjgpOwogICAgICAgIAogICAgCiAgICAgICAgdmFyIHBvcHVwXzBmODQwM2EyYzZmNTQ2NGZiMmYyNjhkMmZiYTU2ZjExID0gTC5wb3B1cCh7Im1heFdpZHRoIjogIjEwMCUifSk7CgogICAgICAgIAogICAgICAgICAgICB2YXIgaHRtbF81M2U1MDE2OTRjMjY0ODI3OTA1ZTRhYTM4NzE4MTRjNCA9ICQoYDxkaXYgaWQ9Imh0bWxfNTNlNTAxNjk0YzI2NDgyNzkwNWU0YWEzODcxODE0YzQiIHN0eWxlPSJ3aWR0aDogMTAwLjAlOyBoZWlnaHQ6IDEwMC4wJTsiPlNvdXRoIFN0ZWVsZXMsIFNpbHZlcnN0b25lLCBIdW1iZXJnYXRlLCBKYW1lc3Rvd24sIE1vdW50IE9saXZlLCBCZWF1bW9uZCBIZWlnaHRzLCBUaGlzdGxldG93biwgQWxiaW9uIEdhcmRlbnMsIEV0b2JpY29rZTwvZGl2PmApWzBdOwogICAgICAgICAgICBwb3B1cF8wZjg0MDNhMmM2ZjU0NjRmYjJmMjY4ZDJmYmE1NmYxMS5zZXRDb250ZW50KGh0bWxfNTNlNTAxNjk0YzI2NDgyNzkwNWU0YWEzODcxODE0YzQpOwogICAgICAgIAoKICAgICAgICBjaXJjbGVfbWFya2VyXzExNmI2ODczZDNlYjRiZWY5ZTUxNmMwYjA3ZjFiZmI4LmJpbmRQb3B1cChwb3B1cF8wZjg0MDNhMmM2ZjU0NjRmYjJmMjY4ZDJmYmE1NmYxMSkKICAgICAgICA7CgogICAgICAgIAogICAgCiAgICAKICAgICAgICAgICAgdmFyIGNpcmNsZV9tYXJrZXJfYTI4NTBlMWE0MzFiNDQyYjg1MWUzYjRhMmM5NjEyMjEgPSBMLmNpcmNsZU1hcmtlcigKICAgICAgICAgICAgICAgIFs0My43OTk1MjUyMDAwMDAwMDUsIC03OS4zMTgzODg3XSwKICAgICAgICAgICAgICAgIHsiYnViYmxpbmdNb3VzZUV2ZW50cyI6IHRydWUsICJjb2xvciI6ICJibHVlIiwgImRhc2hBcnJheSI6IG51bGwsICJkYXNoT2Zmc2V0IjogbnVsbCwgImZpbGwiOiB0cnVlLCAiZmlsbENvbG9yIjogIiMzMTg2Y2MiLCAiZmlsbE9wYWNpdHkiOiAwLjcsICJmaWxsUnVsZSI6ICJldmVub2RkIiwgImxpbmVDYXAiOiAicm91bmQiLCAibGluZUpvaW4iOiAicm91bmQiLCAib3BhY2l0eSI6IDEuMCwgInJhZGl1cyI6IDUsICJzdHJva2UiOiB0cnVlLCAid2VpZ2h0IjogM30KICAgICAgICAgICAgKS5hZGRUbyhtYXBfZDRkNDMxNTM4Mjk1NDg3NTlkN2M3ZDM1MTQ0OGVlNjgpOwogICAgICAgIAogICAgCiAgICAgICAgdmFyIHBvcHVwXzUwZjQ2NDhhOGJjYjQwNWU5ZjYwOTY5NWEzZWE1OWNlID0gTC5wb3B1cCh7Im1heFdpZHRoIjogIjEwMCUifSk7CgogICAgICAgIAogICAgICAgICAgICB2YXIgaHRtbF83YmEzMWM1M2M3NmM0YzkwOTExZjVmNzIzYjJlOTM2ZiA9ICQoYDxkaXYgaWQ9Imh0bWxfN2JhMzFjNTNjNzZjNGM5MDkxMWY1ZjcyM2IyZTkzNmYiIHN0eWxlPSJ3aWR0aDogMTAwLjAlOyBoZWlnaHQ6IDEwMC4wJTsiPlN0ZWVsZXMgV2VzdCwgTCYjMzk7QW1vcmVhdXggV2VzdCwgU2NhcmJvcm91Z2g8L2Rpdj5gKVswXTsKICAgICAgICAgICAgcG9wdXBfNTBmNDY0OGE4YmNiNDA1ZTlmNjA5Njk1YTNlYTU5Y2Uuc2V0Q29udGVudChodG1sXzdiYTMxYzUzYzc2YzRjOTA5MTFmNWY3MjNiMmU5MzZmKTsKICAgICAgICAKCiAgICAgICAgY2lyY2xlX21hcmtlcl9hMjg1MGUxYTQzMWI0NDJiODUxZTNiNGEyYzk2MTIyMS5iaW5kUG9wdXAocG9wdXBfNTBmNDY0OGE4YmNiNDA1ZTlmNjA5Njk1YTNlYTU5Y2UpCiAgICAgICAgOwoKICAgICAgICAKICAgIAogICAgCiAgICAgICAgICAgIHZhciBjaXJjbGVfbWFya2VyX2I4ZjJjMDlkYzM5MDQ5YTRiMmRkODFkZGM2YmM4ZWFjID0gTC5jaXJjbGVNYXJrZXIoCiAgICAgICAgICAgICAgICBbNDMuNjc5NTYyNiwgLTc5LjM3NzUyOTQwMDAwMDAxXSwKICAgICAgICAgICAgICAgIHsiYnViYmxpbmdNb3VzZUV2ZW50cyI6IHRydWUsICJjb2xvciI6ICJibHVlIiwgImRhc2hBcnJheSI6IG51bGwsICJkYXNoT2Zmc2V0IjogbnVsbCwgImZpbGwiOiB0cnVlLCAiZmlsbENvbG9yIjogIiMzMTg2Y2MiLCAiZmlsbE9wYWNpdHkiOiAwLjcsICJmaWxsUnVsZSI6ICJldmVub2RkIiwgImxpbmVDYXAiOiAicm91bmQiLCAibGluZUpvaW4iOiAicm91bmQiLCAib3BhY2l0eSI6IDEuMCwgInJhZGl1cyI6IDUsICJzdHJva2UiOiB0cnVlLCAid2VpZ2h0IjogM30KICAgICAgICAgICAgKS5hZGRUbyhtYXBfZDRkNDMxNTM4Mjk1NDg3NTlkN2M3ZDM1MTQ0OGVlNjgpOwogICAgICAgIAogICAgCiAgICAgICAgdmFyIHBvcHVwXzdlOWU4MDc0ODJhZDQ0ZmI5OWU5OTUwZDdkMzZiYjJmID0gTC5wb3B1cCh7Im1heFdpZHRoIjogIjEwMCUifSk7CgogICAgICAgIAogICAgICAgICAgICB2YXIgaHRtbF9kOTM5YjViZjdlNzk0ZmExYWQxYzMyMTAzZTBhNjgzOSA9ICQoYDxkaXYgaWQ9Imh0bWxfZDkzOWI1YmY3ZTc5NGZhMWFkMWMzMjEwM2UwYTY4MzkiIHN0eWxlPSJ3aWR0aDogMTAwLjAlOyBoZWlnaHQ6IDEwMC4wJTsiPlJvc2VkYWxlLCBEb3dudG93biBUb3JvbnRvPC9kaXY+YClbMF07CiAgICAgICAgICAgIHBvcHVwXzdlOWU4MDc0ODJhZDQ0ZmI5OWU5OTUwZDdkMzZiYjJmLnNldENvbnRlbnQoaHRtbF9kOTM5YjViZjdlNzk0ZmExYWQxYzMyMTAzZTBhNjgzOSk7CiAgICAgICAgCgogICAgICAgIGNpcmNsZV9tYXJrZXJfYjhmMmMwOWRjMzkwNDlhNGIyZGQ4MWRkYzZiYzhlYWMuYmluZFBvcHVwKHBvcHVwXzdlOWU4MDc0ODJhZDQ0ZmI5OWU5OTUwZDdkMzZiYjJmKQogICAgICAgIDsKCiAgICAgICAgCiAgICAKICAgIAogICAgICAgICAgICB2YXIgY2lyY2xlX21hcmtlcl80ZDYzZWFlMjAzYzc0YTk1OTgzZjcxZWU1MDI2NDNhNyA9IEwuY2lyY2xlTWFya2VyKAogICAgICAgICAgICAgICAgWzQzLjY0NjQzNTIsIC03OS4zNzQ4NDU5OTk5OTk5OV0sCiAgICAgICAgICAgICAgICB7ImJ1YmJsaW5nTW91c2VFdmVudHMiOiB0cnVlLCAiY29sb3IiOiAiYmx1ZSIsICJkYXNoQXJyYXkiOiBudWxsLCAiZGFzaE9mZnNldCI6IG51bGwsICJmaWxsIjogdHJ1ZSwgImZpbGxDb2xvciI6ICIjMzE4NmNjIiwgImZpbGxPcGFjaXR5IjogMC43LCAiZmlsbFJ1bGUiOiAiZXZlbm9kZCIsICJsaW5lQ2FwIjogInJvdW5kIiwgImxpbmVKb2luIjogInJvdW5kIiwgIm9wYWNpdHkiOiAxLjAsICJyYWRpdXMiOiA1LCAic3Ryb2tlIjogdHJ1ZSwgIndlaWdodCI6IDN9CiAgICAgICAgICAgICkuYWRkVG8obWFwX2Q0ZDQzMTUzODI5NTQ4NzU5ZDdjN2QzNTE0NDhlZTY4KTsKICAgICAgICAKICAgIAogICAgICAgIHZhciBwb3B1cF8yZGM4NWU1YmE3YWM0ZDM3OTc3NGJmY2YzMDE0MWRiYSA9IEwucG9wdXAoeyJtYXhXaWR0aCI6ICIxMDAlIn0pOwoKICAgICAgICAKICAgICAgICAgICAgdmFyIGh0bWxfZGIyYzViNzIwMzZkNGI3OTlmYjk0NzZjOWJmMTUwZjQgPSAkKGA8ZGl2IGlkPSJodG1sX2RiMmM1YjcyMDM2ZDRiNzk5ZmI5NDc2YzliZjE1MGY0IiBzdHlsZT0id2lkdGg6IDEwMC4wJTsgaGVpZ2h0OiAxMDAuMCU7Ij5TdG4gQSBQTyBCb3hlcywgRG93bnRvd24gVG9yb250bzwvZGl2PmApWzBdOwogICAgICAgICAgICBwb3B1cF8yZGM4NWU1YmE3YWM0ZDM3OTc3NGJmY2YzMDE0MWRiYS5zZXRDb250ZW50KGh0bWxfZGIyYzViNzIwMzZkNGI3OTlmYjk0NzZjOWJmMTUwZjQpOwogICAgICAgIAoKICAgICAgICBjaXJjbGVfbWFya2VyXzRkNjNlYWUyMDNjNzRhOTU5ODNmNzFlZTUwMjY0M2E3LmJpbmRQb3B1cChwb3B1cF8yZGM4NWU1YmE3YWM0ZDM3OTc3NGJmY2YzMDE0MWRiYSkKICAgICAgICA7CgogICAgICAgIAogICAgCiAgICAKICAgICAgICAgICAgdmFyIGNpcmNsZV9tYXJrZXJfZjQwMDFiODU3MzcwNDMyNThjNzVkNzkwMDk5NmQ1NzMgPSBMLmNpcmNsZU1hcmtlcigKICAgICAgICAgICAgICAgIFs0My42MDI0MTM3MDAwMDAwMSwgLTc5LjU0MzQ4NDA5OTk5OTk5XSwKICAgICAgICAgICAgICAgIHsiYnViYmxpbmdNb3VzZUV2ZW50cyI6IHRydWUsICJjb2xvciI6ICJibHVlIiwgImRhc2hBcnJheSI6IG51bGwsICJkYXNoT2Zmc2V0IjogbnVsbCwgImZpbGwiOiB0cnVlLCAiZmlsbENvbG9yIjogIiMzMTg2Y2MiLCAiZmlsbE9wYWNpdHkiOiAwLjcsICJmaWxsUnVsZSI6ICJldmVub2RkIiwgImxpbmVDYXAiOiAicm91bmQiLCAibGluZUpvaW4iOiAicm91bmQiLCAib3BhY2l0eSI6IDEuMCwgInJhZGl1cyI6IDUsICJzdHJva2UiOiB0cnVlLCAid2VpZ2h0IjogM30KICAgICAgICAgICAgKS5hZGRUbyhtYXBfZDRkNDMxNTM4Mjk1NDg3NTlkN2M3ZDM1MTQ0OGVlNjgpOwogICAgICAgIAogICAgCiAgICAgICAgdmFyIHBvcHVwXzczMDkwNTE0YzczZjQyYzc4NDI5ZWJiYTNmOThmMzdmID0gTC5wb3B1cCh7Im1heFdpZHRoIjogIjEwMCUifSk7CgogICAgICAgIAogICAgICAgICAgICB2YXIgaHRtbF8xYTU4NDA2YjlmNmE0YTk5Yjk4MjBmZmEzMjI5MGY0ZCA9ICQoYDxkaXYgaWQ9Imh0bWxfMWE1ODQwNmI5ZjZhNGE5OWI5ODIwZmZhMzIyOTBmNGQiIHN0eWxlPSJ3aWR0aDogMTAwLjAlOyBoZWlnaHQ6IDEwMC4wJTsiPkFsZGVyd29vZCwgTG9uZyBCcmFuY2gsIEV0b2JpY29rZTwvZGl2PmApWzBdOwogICAgICAgICAgICBwb3B1cF83MzA5MDUxNGM3M2Y0MmM3ODQyOWViYmEzZjk4ZjM3Zi5zZXRDb250ZW50KGh0bWxfMWE1ODQwNmI5ZjZhNGE5OWI5ODIwZmZhMzIyOTBmNGQpOwogICAgICAgIAoKICAgICAgICBjaXJjbGVfbWFya2VyX2Y0MDAxYjg1NzM3MDQzMjU4Yzc1ZDc5MDA5OTZkNTczLmJpbmRQb3B1cChwb3B1cF83MzA5MDUxNGM3M2Y0MmM3ODQyOWViYmEzZjk4ZjM3ZikKICAgICAgICA7CgogICAgICAgIAogICAgCiAgICAKICAgICAgICAgICAgdmFyIGNpcmNsZV9tYXJrZXJfODNiOWM4ODhkNzY1NDRhMDg3NDk1MzkyMWI4ODhmMTIgPSBMLmNpcmNsZU1hcmtlcigKICAgICAgICAgICAgICAgIFs0My43MDY3NDgyOTk5OTk5OTQsIC03OS41OTQwNTQ0XSwKICAgICAgICAgICAgICAgIHsiYnViYmxpbmdNb3VzZUV2ZW50cyI6IHRydWUsICJjb2xvciI6ICJibHVlIiwgImRhc2hBcnJheSI6IG51bGwsICJkYXNoT2Zmc2V0IjogbnVsbCwgImZpbGwiOiB0cnVlLCAiZmlsbENvbG9yIjogIiMzMTg2Y2MiLCAiZmlsbE9wYWNpdHkiOiAwLjcsICJmaWxsUnVsZSI6ICJldmVub2RkIiwgImxpbmVDYXAiOiAicm91bmQiLCAibGluZUpvaW4iOiAicm91bmQiLCAib3BhY2l0eSI6IDEuMCwgInJhZGl1cyI6IDUsICJzdHJva2UiOiB0cnVlLCAid2VpZ2h0IjogM30KICAgICAgICAgICAgKS5hZGRUbyhtYXBfZDRkNDMxNTM4Mjk1NDg3NTlkN2M3ZDM1MTQ0OGVlNjgpOwogICAgICAgIAogICAgCiAgICAgICAgdmFyIHBvcHVwX2U4Nzc1YWUzODVmNTQxNGZhNjc3OTdkYmQxZDQ4OWM3ID0gTC5wb3B1cCh7Im1heFdpZHRoIjogIjEwMCUifSk7CgogICAgICAgIAogICAgICAgICAgICB2YXIgaHRtbF8zMWFiM2VlNWIyYTc0YmFjYjNhZWQ4YWQ0ZGM2ODliZiA9ICQoYDxkaXYgaWQ9Imh0bWxfMzFhYjNlZTViMmE3NGJhY2IzYWVkOGFkNGRjNjg5YmYiIHN0eWxlPSJ3aWR0aDogMTAwLjAlOyBoZWlnaHQ6IDEwMC4wJTsiPk5vcnRod2VzdCwgV2VzdCBIdW1iZXIgLSBDbGFpcnZpbGxlLCBFdG9iaWNva2U8L2Rpdj5gKVswXTsKICAgICAgICAgICAgcG9wdXBfZTg3NzVhZTM4NWY1NDE0ZmE2Nzc5N2RiZDFkNDg5Yzcuc2V0Q29udGVudChodG1sXzMxYWIzZWU1YjJhNzRiYWNiM2FlZDhhZDRkYzY4OWJmKTsKICAgICAgICAKCiAgICAgICAgY2lyY2xlX21hcmtlcl84M2I5Yzg4OGQ3NjU0NGEwODc0OTUzOTIxYjg4OGYxMi5iaW5kUG9wdXAocG9wdXBfZTg3NzVhZTM4NWY1NDE0ZmE2Nzc5N2RiZDFkNDg5YzcpCiAgICAgICAgOwoKICAgICAgICAKICAgIAogICAgCiAgICAgICAgICAgIHZhciBjaXJjbGVfbWFya2VyX2Q1MzY3YmM4NGRiODQ5ZGM4NGI5YjM3YjRkYzQzOWJhID0gTC5jaXJjbGVNYXJrZXIoCiAgICAgICAgICAgICAgICBbNDMuODM2MTI0NzAwMDAwMDA2LCAtNzkuMjA1NjM2MDk5OTk5OTldLAogICAgICAgICAgICAgICAgeyJidWJibGluZ01vdXNlRXZlbnRzIjogdHJ1ZSwgImNvbG9yIjogImJsdWUiLCAiZGFzaEFycmF5IjogbnVsbCwgImRhc2hPZmZzZXQiOiBudWxsLCAiZmlsbCI6IHRydWUsICJmaWxsQ29sb3IiOiAiIzMxODZjYyIsICJmaWxsT3BhY2l0eSI6IDAuNywgImZpbGxSdWxlIjogImV2ZW5vZGQiLCAibGluZUNhcCI6ICJyb3VuZCIsICJsaW5lSm9pbiI6ICJyb3VuZCIsICJvcGFjaXR5IjogMS4wLCAicmFkaXVzIjogNSwgInN0cm9rZSI6IHRydWUsICJ3ZWlnaHQiOiAzfQogICAgICAgICAgICApLmFkZFRvKG1hcF9kNGQ0MzE1MzgyOTU0ODc1OWQ3YzdkMzUxNDQ4ZWU2OCk7CiAgICAgICAgCiAgICAKICAgICAgICB2YXIgcG9wdXBfMWY1MTc0NjJkNzg1NDc2YThhMmMzYjJiMjZkNGVjMjUgPSBMLnBvcHVwKHsibWF4V2lkdGgiOiAiMTAwJSJ9KTsKCiAgICAgICAgCiAgICAgICAgICAgIHZhciBodG1sXzhhYThmOTA3NmY5OTRhY2ZiY2NlNjkxYzY5MzNkNGZmID0gJChgPGRpdiBpZD0iaHRtbF84YWE4ZjkwNzZmOTk0YWNmYmNjZTY5MWM2OTMzZDRmZiIgc3R5bGU9IndpZHRoOiAxMDAuMCU7IGhlaWdodDogMTAwLjAlOyI+VXBwZXIgUm91Z2UsIFNjYXJib3JvdWdoPC9kaXY+YClbMF07CiAgICAgICAgICAgIHBvcHVwXzFmNTE3NDYyZDc4NTQ3NmE4YTJjM2IyYjI2ZDRlYzI1LnNldENvbnRlbnQoaHRtbF84YWE4ZjkwNzZmOTk0YWNmYmNjZTY5MWM2OTMzZDRmZik7CiAgICAgICAgCgogICAgICAgIGNpcmNsZV9tYXJrZXJfZDUzNjdiYzg0ZGI4NDlkYzg0YjliMzdiNGRjNDM5YmEuYmluZFBvcHVwKHBvcHVwXzFmNTE3NDYyZDc4NTQ3NmE4YTJjM2IyYjI2ZDRlYzI1KQogICAgICAgIDsKCiAgICAgICAgCiAgICAKICAgIAogICAgICAgICAgICB2YXIgY2lyY2xlX21hcmtlcl8yZGM2ODI2ZjRiYjA0MjcyYWNkYzc1ZTY1ODc0MzI4YiA9IEwuY2lyY2xlTWFya2VyKAogICAgICAgICAgICAgICAgWzQzLjY2Nzk2NywgLTc5LjM2NzY3NTNdLAogICAgICAgICAgICAgICAgeyJidWJibGluZ01vdXNlRXZlbnRzIjogdHJ1ZSwgImNvbG9yIjogImJsdWUiLCAiZGFzaEFycmF5IjogbnVsbCwgImRhc2hPZmZzZXQiOiBudWxsLCAiZmlsbCI6IHRydWUsICJmaWxsQ29sb3IiOiAiIzMxODZjYyIsICJmaWxsT3BhY2l0eSI6IDAuNywgImZpbGxSdWxlIjogImV2ZW5vZGQiLCAibGluZUNhcCI6ICJyb3VuZCIsICJsaW5lSm9pbiI6ICJyb3VuZCIsICJvcGFjaXR5IjogMS4wLCAicmFkaXVzIjogNSwgInN0cm9rZSI6IHRydWUsICJ3ZWlnaHQiOiAzfQogICAgICAgICAgICApLmFkZFRvKG1hcF9kNGQ0MzE1MzgyOTU0ODc1OWQ3YzdkMzUxNDQ4ZWU2OCk7CiAgICAgICAgCiAgICAKICAgICAgICB2YXIgcG9wdXBfZjIxNDYzMWU5MWQ3NDQyOGJkN2UzMTQxZTI1ZDQ1OWMgPSBMLnBvcHVwKHsibWF4V2lkdGgiOiAiMTAwJSJ9KTsKCiAgICAgICAgCiAgICAgICAgICAgIHZhciBodG1sXzBjMWEyZmU2MWQ5ODQxZDViNzRiYWI5YjJkNjQzOWFiID0gJChgPGRpdiBpZD0iaHRtbF8wYzFhMmZlNjFkOTg0MWQ1Yjc0YmFiOWIyZDY0MzlhYiIgc3R5bGU9IndpZHRoOiAxMDAuMCU7IGhlaWdodDogMTAwLjAlOyI+U3QuIEphbWVzIFRvd24sIENhYmJhZ2V0b3duLCBEb3dudG93biBUb3JvbnRvPC9kaXY+YClbMF07CiAgICAgICAgICAgIHBvcHVwX2YyMTQ2MzFlOTFkNzQ0MjhiZDdlMzE0MWUyNWQ0NTljLnNldENvbnRlbnQoaHRtbF8wYzFhMmZlNjFkOTg0MWQ1Yjc0YmFiOWIyZDY0MzlhYik7CiAgICAgICAgCgogICAgICAgIGNpcmNsZV9tYXJrZXJfMmRjNjgyNmY0YmIwNDI3MmFjZGM3NWU2NTg3NDMyOGIuYmluZFBvcHVwKHBvcHVwX2YyMTQ2MzFlOTFkNzQ0MjhiZDdlMzE0MWUyNWQ0NTljKQogICAgICAgIDsKCiAgICAgICAgCiAgICAKICAgIAogICAgICAgICAgICB2YXIgY2lyY2xlX21hcmtlcl9mNmE0ODg4MzljODc0MjMzYjQzNDU4YzM5Y2I2MDIyMiA9IEwuY2lyY2xlTWFya2VyKAogICAgICAgICAgICAgICAgWzQzLjY0ODQyOTIsIC03OS4zODIyODAyXSwKICAgICAgICAgICAgICAgIHsiYnViYmxpbmdNb3VzZUV2ZW50cyI6IHRydWUsICJjb2xvciI6ICJibHVlIiwgImRhc2hBcnJheSI6IG51bGwsICJkYXNoT2Zmc2V0IjogbnVsbCwgImZpbGwiOiB0cnVlLCAiZmlsbENvbG9yIjogIiMzMTg2Y2MiLCAiZmlsbE9wYWNpdHkiOiAwLjcsICJmaWxsUnVsZSI6ICJldmVub2RkIiwgImxpbmVDYXAiOiAicm91bmQiLCAibGluZUpvaW4iOiAicm91bmQiLCAib3BhY2l0eSI6IDEuMCwgInJhZGl1cyI6IDUsICJzdHJva2UiOiB0cnVlLCAid2VpZ2h0IjogM30KICAgICAgICAgICAgKS5hZGRUbyhtYXBfZDRkNDMxNTM4Mjk1NDg3NTlkN2M3ZDM1MTQ0OGVlNjgpOwogICAgICAgIAogICAgCiAgICAgICAgdmFyIHBvcHVwX2U3YzVhMTEzZGYwYzQxOTI4Nzc3ZmNhODJlZjAxZmY1ID0gTC5wb3B1cCh7Im1heFdpZHRoIjogIjEwMCUifSk7CgogICAgICAgIAogICAgICAgICAgICB2YXIgaHRtbF9iZWJlOGIyM2M1YmE0Nzk5YmMzMzI5NjUzYWY4ZjEyNyA9ICQoYDxkaXYgaWQ9Imh0bWxfYmViZThiMjNjNWJhNDc5OWJjMzMyOTY1M2FmOGYxMjciIHN0eWxlPSJ3aWR0aDogMTAwLjAlOyBoZWlnaHQ6IDEwMC4wJTsiPkZpcnN0IENhbmFkaWFuIFBsYWNlLCBVbmRlcmdyb3VuZCBjaXR5LCBEb3dudG93biBUb3JvbnRvPC9kaXY+YClbMF07CiAgICAgICAgICAgIHBvcHVwX2U3YzVhMTEzZGYwYzQxOTI4Nzc3ZmNhODJlZjAxZmY1LnNldENvbnRlbnQoaHRtbF9iZWJlOGIyM2M1YmE0Nzk5YmMzMzI5NjUzYWY4ZjEyNyk7CiAgICAgICAgCgogICAgICAgIGNpcmNsZV9tYXJrZXJfZjZhNDg4ODM5Yzg3NDIzM2I0MzQ1OGMzOWNiNjAyMjIuYmluZFBvcHVwKHBvcHVwX2U3YzVhMTEzZGYwYzQxOTI4Nzc3ZmNhODJlZjAxZmY1KQogICAgICAgIDsKCiAgICAgICAgCiAgICAKICAgIAogICAgICAgICAgICB2YXIgY2lyY2xlX21hcmtlcl9jMjU5MTEwYzUxNGU0Y2Y4OTE3NjI3OTBmMDQwOWQwYSA9IEwuY2lyY2xlTWFya2VyKAogICAgICAgICAgICAgICAgWzQzLjY1MzY1MzYwMDAwMDAwNSwgLTc5LjUwNjk0MzZdLAogICAgICAgICAgICAgICAgeyJidWJibGluZ01vdXNlRXZlbnRzIjogdHJ1ZSwgImNvbG9yIjogImJsdWUiLCAiZGFzaEFycmF5IjogbnVsbCwgImRhc2hPZmZzZXQiOiBudWxsLCAiZmlsbCI6IHRydWUsICJmaWxsQ29sb3IiOiAiIzMxODZjYyIsICJmaWxsT3BhY2l0eSI6IDAuNywgImZpbGxSdWxlIjogImV2ZW5vZGQiLCAibGluZUNhcCI6ICJyb3VuZCIsICJsaW5lSm9pbiI6ICJyb3VuZCIsICJvcGFjaXR5IjogMS4wLCAicmFkaXVzIjogNSwgInN0cm9rZSI6IHRydWUsICJ3ZWlnaHQiOiAzfQogICAgICAgICAgICApLmFkZFRvKG1hcF9kNGQ0MzE1MzgyOTU0ODc1OWQ3YzdkMzUxNDQ4ZWU2OCk7CiAgICAgICAgCiAgICAKICAgICAgICB2YXIgcG9wdXBfMjc2ZjE2ODM3NDM2NDE5MzgzZmU0OWMzYzQxNWVhZjAgPSBMLnBvcHVwKHsibWF4V2lkdGgiOiAiMTAwJSJ9KTsKCiAgICAgICAgCiAgICAgICAgICAgIHZhciBodG1sXzc4NzhmY2IyOTExMDQzMWY4YWY0OTE3YzFkNTM5OWYxID0gJChgPGRpdiBpZD0iaHRtbF83ODc4ZmNiMjkxMTA0MzFmOGFmNDkxN2MxZDUzOTlmMSIgc3R5bGU9IndpZHRoOiAxMDAuMCU7IGhlaWdodDogMTAwLjAlOyI+VGhlIEtpbmdzd2F5LCBNb250Z29tZXJ5IFJvYWQsIE9sZCBNaWxsIE5vcnRoLCBFdG9iaWNva2U8L2Rpdj5gKVswXTsKICAgICAgICAgICAgcG9wdXBfMjc2ZjE2ODM3NDM2NDE5MzgzZmU0OWMzYzQxNWVhZjAuc2V0Q29udGVudChodG1sXzc4NzhmY2IyOTExMDQzMWY4YWY0OTE3YzFkNTM5OWYxKTsKICAgICAgICAKCiAgICAgICAgY2lyY2xlX21hcmtlcl9jMjU5MTEwYzUxNGU0Y2Y4OTE3NjI3OTBmMDQwOWQwYS5iaW5kUG9wdXAocG9wdXBfMjc2ZjE2ODM3NDM2NDE5MzgzZmU0OWMzYzQxNWVhZjApCiAgICAgICAgOwoKICAgICAgICAKICAgIAogICAgCiAgICAgICAgICAgIHZhciBjaXJjbGVfbWFya2VyX2JkMjA5N2YyYjM1ODQ3YjY4ZTcwZTU0ZWIxMWQ5M2U5ID0gTC5jaXJjbGVNYXJrZXIoCiAgICAgICAgICAgICAgICBbNDMuNjY1ODU5OSwgLTc5LjM4MzE1OTkwMDAwMDAxXSwKICAgICAgICAgICAgICAgIHsiYnViYmxpbmdNb3VzZUV2ZW50cyI6IHRydWUsICJjb2xvciI6ICJibHVlIiwgImRhc2hBcnJheSI6IG51bGwsICJkYXNoT2Zmc2V0IjogbnVsbCwgImZpbGwiOiB0cnVlLCAiZmlsbENvbG9yIjogIiMzMTg2Y2MiLCAiZmlsbE9wYWNpdHkiOiAwLjcsICJmaWxsUnVsZSI6ICJldmVub2RkIiwgImxpbmVDYXAiOiAicm91bmQiLCAibGluZUpvaW4iOiAicm91bmQiLCAib3BhY2l0eSI6IDEuMCwgInJhZGl1cyI6IDUsICJzdHJva2UiOiB0cnVlLCAid2VpZ2h0IjogM30KICAgICAgICAgICAgKS5hZGRUbyhtYXBfZDRkNDMxNTM4Mjk1NDg3NTlkN2M3ZDM1MTQ0OGVlNjgpOwogICAgICAgIAogICAgCiAgICAgICAgdmFyIHBvcHVwX2NkZjQ4NTE4NDdkMTQ1ZGU5ZTk2Y2ExMmIxNzRhZTlkID0gTC5wb3B1cCh7Im1heFdpZHRoIjogIjEwMCUifSk7CgogICAgICAgIAogICAgICAgICAgICB2YXIgaHRtbF8zNDM2OThjYWUzOTg0YTk0YWM5ODBlMmM4MjczNjNmZiA9ICQoYDxkaXYgaWQ9Imh0bWxfMzQzNjk4Y2FlMzk4NGE5NGFjOTgwZTJjODI3MzYzZmYiIHN0eWxlPSJ3aWR0aDogMTAwLjAlOyBoZWlnaHQ6IDEwMC4wJTsiPkNodXJjaCBhbmQgV2VsbGVzbGV5LCBEb3dudG93biBUb3JvbnRvPC9kaXY+YClbMF07CiAgICAgICAgICAgIHBvcHVwX2NkZjQ4NTE4NDdkMTQ1ZGU5ZTk2Y2ExMmIxNzRhZTlkLnNldENvbnRlbnQoaHRtbF8zNDM2OThjYWUzOTg0YTk0YWM5ODBlMmM4MjczNjNmZik7CiAgICAgICAgCgogICAgICAgIGNpcmNsZV9tYXJrZXJfYmQyMDk3ZjJiMzU4NDdiNjhlNzBlNTRlYjExZDkzZTkuYmluZFBvcHVwKHBvcHVwX2NkZjQ4NTE4NDdkMTQ1ZGU5ZTk2Y2ExMmIxNzRhZTlkKQogICAgICAgIDsKCiAgICAgICAgCiAgICAKICAgIAogICAgICAgICAgICB2YXIgY2lyY2xlX21hcmtlcl9iYWNkZmVkYmQzNDI0ZmZlYWU0NjNjNjY2MzIxYTllYiA9IEwuY2lyY2xlTWFya2VyKAogICAgICAgICAgICAgICAgWzQzLjY2Mjc0MzksIC03OS4zMjE1NThdLAogICAgICAgICAgICAgICAgeyJidWJibGluZ01vdXNlRXZlbnRzIjogdHJ1ZSwgImNvbG9yIjogImJsdWUiLCAiZGFzaEFycmF5IjogbnVsbCwgImRhc2hPZmZzZXQiOiBudWxsLCAiZmlsbCI6IHRydWUsICJmaWxsQ29sb3IiOiAiIzMxODZjYyIsICJmaWxsT3BhY2l0eSI6IDAuNywgImZpbGxSdWxlIjogImV2ZW5vZGQiLCAibGluZUNhcCI6ICJyb3VuZCIsICJsaW5lSm9pbiI6ICJyb3VuZCIsICJvcGFjaXR5IjogMS4wLCAicmFkaXVzIjogNSwgInN0cm9rZSI6IHRydWUsICJ3ZWlnaHQiOiAzfQogICAgICAgICAgICApLmFkZFRvKG1hcF9kNGQ0MzE1MzgyOTU0ODc1OWQ3YzdkMzUxNDQ4ZWU2OCk7CiAgICAgICAgCiAgICAKICAgICAgICB2YXIgcG9wdXBfNzY3MWM0N2EwMmZhNGI3ZWJkOTBiMTYxNGU4YTQ4ZjQgPSBMLnBvcHVwKHsibWF4V2lkdGgiOiAiMTAwJSJ9KTsKCiAgICAgICAgCiAgICAgICAgICAgIHZhciBodG1sXzFmMjY5NDdmZjY3NTQ0YmY5MGU3MDRkMjIyNjc5MDYyID0gJChgPGRpdiBpZD0iaHRtbF8xZjI2OTQ3ZmY2NzU0NGJmOTBlNzA0ZDIyMjY3OTA2MiIgc3R5bGU9IndpZHRoOiAxMDAuMCU7IGhlaWdodDogMTAwLjAlOyI+QnVzaW5lc3MgcmVwbHkgbWFpbCBQcm9jZXNzaW5nIENlbnRyZSwgU291dGggQ2VudHJhbCBMZXR0ZXIgUHJvY2Vzc2luZyBQbGFudCBUb3JvbnRvLCBFYXN0IFRvcm9udG88L2Rpdj5gKVswXTsKICAgICAgICAgICAgcG9wdXBfNzY3MWM0N2EwMmZhNGI3ZWJkOTBiMTYxNGU4YTQ4ZjQuc2V0Q29udGVudChodG1sXzFmMjY5NDdmZjY3NTQ0YmY5MGU3MDRkMjIyNjc5MDYyKTsKICAgICAgICAKCiAgICAgICAgY2lyY2xlX21hcmtlcl9iYWNkZmVkYmQzNDI0ZmZlYWU0NjNjNjY2MzIxYTllYi5iaW5kUG9wdXAocG9wdXBfNzY3MWM0N2EwMmZhNGI3ZWJkOTBiMTYxNGU4YTQ4ZjQpCiAgICAgICAgOwoKICAgICAgICAKICAgIAogICAgCiAgICAgICAgICAgIHZhciBjaXJjbGVfbWFya2VyXzFmMGQxNTIwNTA4NTRkZTE4NDIzODAzZDUwOGMxNmRhID0gTC5jaXJjbGVNYXJrZXIoCiAgICAgICAgICAgICAgICBbNDMuNjM2MjU3OSwgLTc5LjQ5ODUwOTA5OTk5OTk5XSwKICAgICAgICAgICAgICAgIHsiYnViYmxpbmdNb3VzZUV2ZW50cyI6IHRydWUsICJjb2xvciI6ICJibHVlIiwgImRhc2hBcnJheSI6IG51bGwsICJkYXNoT2Zmc2V0IjogbnVsbCwgImZpbGwiOiB0cnVlLCAiZmlsbENvbG9yIjogIiMzMTg2Y2MiLCAiZmlsbE9wYWNpdHkiOiAwLjcsICJmaWxsUnVsZSI6ICJldmVub2RkIiwgImxpbmVDYXAiOiAicm91bmQiLCAibGluZUpvaW4iOiAicm91bmQiLCAib3BhY2l0eSI6IDEuMCwgInJhZGl1cyI6IDUsICJzdHJva2UiOiB0cnVlLCAid2VpZ2h0IjogM30KICAgICAgICAgICAgKS5hZGRUbyhtYXBfZDRkNDMxNTM4Mjk1NDg3NTlkN2M3ZDM1MTQ0OGVlNjgpOwogICAgICAgIAogICAgCiAgICAgICAgdmFyIHBvcHVwXzA5M2VlY2IyYmNlNjQyZDA5OWY4NTlhNjBjZmVhZWE2ID0gTC5wb3B1cCh7Im1heFdpZHRoIjogIjEwMCUifSk7CgogICAgICAgIAogICAgICAgICAgICB2YXIgaHRtbF8wMGY5N2EwNDM3YTU0MDI0ODlmNzA4ZmMwMDViZTE3ZCA9ICQoYDxkaXYgaWQ9Imh0bWxfMDBmOTdhMDQzN2E1NDAyNDg5ZjcwOGZjMDA1YmUxN2QiIHN0eWxlPSJ3aWR0aDogMTAwLjAlOyBoZWlnaHQ6IDEwMC4wJTsiPk9sZCBNaWxsIFNvdXRoLCBLaW5nJiMzOTtzIE1pbGwgUGFyaywgU3VubnlsZWEsIEh1bWJlciBCYXksIE1pbWljbyBORSwgVGhlIFF1ZWVuc3dheSBFYXN0LCBSb3lhbCBZb3JrIFNvdXRoIEVhc3QsIEtpbmdzd2F5IFBhcmsgU291dGggRWFzdCwgRXRvYmljb2tlPC9kaXY+YClbMF07CiAgICAgICAgICAgIHBvcHVwXzA5M2VlY2IyYmNlNjQyZDA5OWY4NTlhNjBjZmVhZWE2LnNldENvbnRlbnQoaHRtbF8wMGY5N2EwNDM3YTU0MDI0ODlmNzA4ZmMwMDViZTE3ZCk7CiAgICAgICAgCgogICAgICAgIGNpcmNsZV9tYXJrZXJfMWYwZDE1MjA1MDg1NGRlMTg0MjM4MDNkNTA4YzE2ZGEuYmluZFBvcHVwKHBvcHVwXzA5M2VlY2IyYmNlNjQyZDA5OWY4NTlhNjBjZmVhZWE2KQogICAgICAgIDsKCiAgICAgICAgCiAgICAKICAgIAogICAgICAgICAgICB2YXIgY2lyY2xlX21hcmtlcl9hMmQ0ZjU3ODMzMzg0NDg5YmFkYjA2ZjVmMjhkNGQxNyA9IEwuY2lyY2xlTWFya2VyKAogICAgICAgICAgICAgICAgWzQzLjYyODg0MDgsIC03OS41MjA5OTk0MDAwMDAwMV0sCiAgICAgICAgICAgICAgICB7ImJ1YmJsaW5nTW91c2VFdmVudHMiOiB0cnVlLCAiY29sb3IiOiAiYmx1ZSIsICJkYXNoQXJyYXkiOiBudWxsLCAiZGFzaE9mZnNldCI6IG51bGwsICJmaWxsIjogdHJ1ZSwgImZpbGxDb2xvciI6ICIjMzE4NmNjIiwgImZpbGxPcGFjaXR5IjogMC43LCAiZmlsbFJ1bGUiOiAiZXZlbm9kZCIsICJsaW5lQ2FwIjogInJvdW5kIiwgImxpbmVKb2luIjogInJvdW5kIiwgIm9wYWNpdHkiOiAxLjAsICJyYWRpdXMiOiA1LCAic3Ryb2tlIjogdHJ1ZSwgIndlaWdodCI6IDN9CiAgICAgICAgICAgICkuYWRkVG8obWFwX2Q0ZDQzMTUzODI5NTQ4NzU5ZDdjN2QzNTE0NDhlZTY4KTsKICAgICAgICAKICAgIAogICAgICAgIHZhciBwb3B1cF8zOGQ3NTgyZDc0MWQ0YWVhOGM5ZWM1M2YxOGQ4YTE4NyA9IEwucG9wdXAoeyJtYXhXaWR0aCI6ICIxMDAlIn0pOwoKICAgICAgICAKICAgICAgICAgICAgdmFyIGh0bWxfOThjMTQ1NmY3ZDFiNDk0OGI0YTRlZjlkMjZhMjkwNGEgPSAkKGA8ZGl2IGlkPSJodG1sXzk4YzE0NTZmN2QxYjQ5NDhiNGE0ZWY5ZDI2YTI5MDRhIiBzdHlsZT0id2lkdGg6IDEwMC4wJTsgaGVpZ2h0OiAxMDAuMCU7Ij5NaW1pY28gTlcsIFRoZSBRdWVlbnN3YXkgV2VzdCwgU291dGggb2YgQmxvb3IsIEtpbmdzd2F5IFBhcmsgU291dGggV2VzdCwgUm95YWwgWW9yayBTb3V0aCBXZXN0LCBFdG9iaWNva2U8L2Rpdj5gKVswXTsKICAgICAgICAgICAgcG9wdXBfMzhkNzU4MmQ3NDFkNGFlYThjOWVjNTNmMThkOGExODcuc2V0Q29udGVudChodG1sXzk4YzE0NTZmN2QxYjQ5NDhiNGE0ZWY5ZDI2YTI5MDRhKTsKICAgICAgICAKCiAgICAgICAgY2lyY2xlX21hcmtlcl9hMmQ0ZjU3ODMzMzg0NDg5YmFkYjA2ZjVmMjhkNGQxNy5iaW5kUG9wdXAocG9wdXBfMzhkNzU4MmQ3NDFkNGFlYThjOWVjNTNmMThkOGExODcpCiAgICAgICAgOwoKICAgICAgICAKICAgIAo8L3NjcmlwdD4=\" style=\"position:absolute;width:100%;height:100%;left:0;top:0;border:none !important;\" allowfullscreen webkitallowfullscreen mozallowfullscreen></iframe></div></div>"
      ],
      "text/plain": [
       "<folium.folium.Map at 0x1ea455a7b38>"
      ]
     },
     "execution_count": 19,
     "metadata": {},
     "output_type": "execute_result"
    }
   ],
   "source": [
    "for lat, lng, borough, neighborhood in zip(df['Latitude'], df['Longitude'], df['Borough'], df['Neighborhood']):\n",
    "    label = '{}, {}'.format(neighborhood, borough)\n",
    "    label = folium.Popup(label, parse_html=True)\n",
    "    folium.CircleMarker(\n",
    "        [lat, lng],\n",
    "        radius=5,\n",
    "        popup=label,\n",
    "        color='blue',\n",
    "        fill=True,\n",
    "        fill_color='#3186cc',\n",
    "        fill_opacity=0.7,\n",
    "        parse_html=False).add_to(canada_map)  \n",
    "    \n",
    "canada_map"
   ]
  },
  {
   "cell_type": "code",
   "execution_count": 20,
   "metadata": {},
   "outputs": [
    {
     "data": {
      "text/html": [
       "<div>\n",
       "<style scoped>\n",
       "    .dataframe tbody tr th:only-of-type {\n",
       "        vertical-align: middle;\n",
       "    }\n",
       "\n",
       "    .dataframe tbody tr th {\n",
       "        vertical-align: top;\n",
       "    }\n",
       "\n",
       "    .dataframe thead th {\n",
       "        text-align: right;\n",
       "    }\n",
       "</style>\n",
       "<table border=\"1\" class=\"dataframe\">\n",
       "  <thead>\n",
       "    <tr style=\"text-align: right;\">\n",
       "      <th></th>\n",
       "      <th>Postal Code</th>\n",
       "      <th>Borough</th>\n",
       "      <th>Neighborhood</th>\n",
       "      <th>Latitude</th>\n",
       "      <th>Longitude</th>\n",
       "    </tr>\n",
       "  </thead>\n",
       "  <tbody>\n",
       "    <tr>\n",
       "      <th>0</th>\n",
       "      <td>M5A</td>\n",
       "      <td>Downtown Toronto</td>\n",
       "      <td>Regent Park, Harbourfront</td>\n",
       "      <td>43.654260</td>\n",
       "      <td>-79.360636</td>\n",
       "    </tr>\n",
       "    <tr>\n",
       "      <th>1</th>\n",
       "      <td>M7A</td>\n",
       "      <td>Downtown Toronto</td>\n",
       "      <td>Queen's Park, Ontario Provincial Government</td>\n",
       "      <td>43.662301</td>\n",
       "      <td>-79.389494</td>\n",
       "    </tr>\n",
       "    <tr>\n",
       "      <th>2</th>\n",
       "      <td>M5B</td>\n",
       "      <td>Downtown Toronto</td>\n",
       "      <td>Garden District, Ryerson</td>\n",
       "      <td>43.657162</td>\n",
       "      <td>-79.378937</td>\n",
       "    </tr>\n",
       "    <tr>\n",
       "      <th>3</th>\n",
       "      <td>M5C</td>\n",
       "      <td>Downtown Toronto</td>\n",
       "      <td>St. James Town</td>\n",
       "      <td>43.651494</td>\n",
       "      <td>-79.375418</td>\n",
       "    </tr>\n",
       "    <tr>\n",
       "      <th>4</th>\n",
       "      <td>M5E</td>\n",
       "      <td>Downtown Toronto</td>\n",
       "      <td>Berczy Park</td>\n",
       "      <td>43.644771</td>\n",
       "      <td>-79.373306</td>\n",
       "    </tr>\n",
       "    <tr>\n",
       "      <th>5</th>\n",
       "      <td>M5G</td>\n",
       "      <td>Downtown Toronto</td>\n",
       "      <td>Central Bay Street</td>\n",
       "      <td>43.657952</td>\n",
       "      <td>-79.387383</td>\n",
       "    </tr>\n",
       "    <tr>\n",
       "      <th>6</th>\n",
       "      <td>M6G</td>\n",
       "      <td>Downtown Toronto</td>\n",
       "      <td>Christie</td>\n",
       "      <td>43.669542</td>\n",
       "      <td>-79.422564</td>\n",
       "    </tr>\n",
       "    <tr>\n",
       "      <th>7</th>\n",
       "      <td>M5H</td>\n",
       "      <td>Downtown Toronto</td>\n",
       "      <td>Richmond, Adelaide, King</td>\n",
       "      <td>43.650571</td>\n",
       "      <td>-79.384568</td>\n",
       "    </tr>\n",
       "    <tr>\n",
       "      <th>8</th>\n",
       "      <td>M5J</td>\n",
       "      <td>Downtown Toronto</td>\n",
       "      <td>Harbourfront East, Union Station, Toronto Islands</td>\n",
       "      <td>43.640816</td>\n",
       "      <td>-79.381752</td>\n",
       "    </tr>\n",
       "    <tr>\n",
       "      <th>9</th>\n",
       "      <td>M5K</td>\n",
       "      <td>Downtown Toronto</td>\n",
       "      <td>Toronto Dominion Centre, Design Exchange</td>\n",
       "      <td>43.647177</td>\n",
       "      <td>-79.381576</td>\n",
       "    </tr>\n",
       "    <tr>\n",
       "      <th>10</th>\n",
       "      <td>M5L</td>\n",
       "      <td>Downtown Toronto</td>\n",
       "      <td>Commerce Court, Victoria Hotel</td>\n",
       "      <td>43.648198</td>\n",
       "      <td>-79.379817</td>\n",
       "    </tr>\n",
       "    <tr>\n",
       "      <th>11</th>\n",
       "      <td>M5S</td>\n",
       "      <td>Downtown Toronto</td>\n",
       "      <td>University of Toronto, Harbord</td>\n",
       "      <td>43.662696</td>\n",
       "      <td>-79.400049</td>\n",
       "    </tr>\n",
       "    <tr>\n",
       "      <th>12</th>\n",
       "      <td>M5T</td>\n",
       "      <td>Downtown Toronto</td>\n",
       "      <td>Kensington Market, Chinatown, Grange Park</td>\n",
       "      <td>43.653206</td>\n",
       "      <td>-79.400049</td>\n",
       "    </tr>\n",
       "    <tr>\n",
       "      <th>13</th>\n",
       "      <td>M5V</td>\n",
       "      <td>Downtown Toronto</td>\n",
       "      <td>CN Tower, King and Spadina, Railway Lands, Har...</td>\n",
       "      <td>43.628947</td>\n",
       "      <td>-79.394420</td>\n",
       "    </tr>\n",
       "    <tr>\n",
       "      <th>14</th>\n",
       "      <td>M4W</td>\n",
       "      <td>Downtown Toronto</td>\n",
       "      <td>Rosedale</td>\n",
       "      <td>43.679563</td>\n",
       "      <td>-79.377529</td>\n",
       "    </tr>\n",
       "    <tr>\n",
       "      <th>15</th>\n",
       "      <td>M5W</td>\n",
       "      <td>Downtown Toronto</td>\n",
       "      <td>Stn A PO Boxes</td>\n",
       "      <td>43.646435</td>\n",
       "      <td>-79.374846</td>\n",
       "    </tr>\n",
       "    <tr>\n",
       "      <th>16</th>\n",
       "      <td>M4X</td>\n",
       "      <td>Downtown Toronto</td>\n",
       "      <td>St. James Town, Cabbagetown</td>\n",
       "      <td>43.667967</td>\n",
       "      <td>-79.367675</td>\n",
       "    </tr>\n",
       "    <tr>\n",
       "      <th>17</th>\n",
       "      <td>M5X</td>\n",
       "      <td>Downtown Toronto</td>\n",
       "      <td>First Canadian Place, Underground city</td>\n",
       "      <td>43.648429</td>\n",
       "      <td>-79.382280</td>\n",
       "    </tr>\n",
       "    <tr>\n",
       "      <th>18</th>\n",
       "      <td>M4Y</td>\n",
       "      <td>Downtown Toronto</td>\n",
       "      <td>Church and Wellesley</td>\n",
       "      <td>43.665860</td>\n",
       "      <td>-79.383160</td>\n",
       "    </tr>\n",
       "  </tbody>\n",
       "</table>\n",
       "</div>"
      ],
      "text/plain": [
       "   Postal Code           Borough  \\\n",
       "0          M5A  Downtown Toronto   \n",
       "1          M7A  Downtown Toronto   \n",
       "2          M5B  Downtown Toronto   \n",
       "3          M5C  Downtown Toronto   \n",
       "4          M5E  Downtown Toronto   \n",
       "5          M5G  Downtown Toronto   \n",
       "6          M6G  Downtown Toronto   \n",
       "7          M5H  Downtown Toronto   \n",
       "8          M5J  Downtown Toronto   \n",
       "9          M5K  Downtown Toronto   \n",
       "10         M5L  Downtown Toronto   \n",
       "11         M5S  Downtown Toronto   \n",
       "12         M5T  Downtown Toronto   \n",
       "13         M5V  Downtown Toronto   \n",
       "14         M4W  Downtown Toronto   \n",
       "15         M5W  Downtown Toronto   \n",
       "16         M4X  Downtown Toronto   \n",
       "17         M5X  Downtown Toronto   \n",
       "18         M4Y  Downtown Toronto   \n",
       "\n",
       "                                         Neighborhood   Latitude  Longitude  \n",
       "0                           Regent Park, Harbourfront  43.654260 -79.360636  \n",
       "1         Queen's Park, Ontario Provincial Government  43.662301 -79.389494  \n",
       "2                            Garden District, Ryerson  43.657162 -79.378937  \n",
       "3                                      St. James Town  43.651494 -79.375418  \n",
       "4                                         Berczy Park  43.644771 -79.373306  \n",
       "5                                  Central Bay Street  43.657952 -79.387383  \n",
       "6                                            Christie  43.669542 -79.422564  \n",
       "7                            Richmond, Adelaide, King  43.650571 -79.384568  \n",
       "8   Harbourfront East, Union Station, Toronto Islands  43.640816 -79.381752  \n",
       "9            Toronto Dominion Centre, Design Exchange  43.647177 -79.381576  \n",
       "10                     Commerce Court, Victoria Hotel  43.648198 -79.379817  \n",
       "11                     University of Toronto, Harbord  43.662696 -79.400049  \n",
       "12          Kensington Market, Chinatown, Grange Park  43.653206 -79.400049  \n",
       "13  CN Tower, King and Spadina, Railway Lands, Har...  43.628947 -79.394420  \n",
       "14                                           Rosedale  43.679563 -79.377529  \n",
       "15                                     Stn A PO Boxes  43.646435 -79.374846  \n",
       "16                        St. James Town, Cabbagetown  43.667967 -79.367675  \n",
       "17             First Canadian Place, Underground city  43.648429 -79.382280  \n",
       "18                               Church and Wellesley  43.665860 -79.383160  "
      ]
     },
     "execution_count": 20,
     "metadata": {},
     "output_type": "execute_result"
    }
   ],
   "source": [
    "downtown = df[df['Borough']=='Downtown Toronto']. reset_index(drop=True)\n",
    "downtown"
   ]
  },
  {
   "cell_type": "markdown",
   "metadata": {},
   "source": [
    "Let's get the latitude and longitude location of Downtown Toronto"
   ]
  },
  {
   "cell_type": "code",
   "execution_count": 21,
   "metadata": {},
   "outputs": [],
   "source": [
    "from geopy.geocoders import Nominatim"
   ]
  },
  {
   "cell_type": "code",
   "execution_count": 22,
   "metadata": {},
   "outputs": [
    {
     "name": "stdout",
     "output_type": "stream",
     "text": [
      "the geographical cordinates of downTown Toronto are 43.6541737,-79.38081164513409\n"
     ]
    }
   ],
   "source": [
    "address = 'Downtown Toronto'\n",
    "geolocator = Nominatim(user_agent ='To_explorer')\n",
    "location = geolocator.geocode(address)\n",
    "latitude = location.latitude\n",
    "longitude = location.longitude\n",
    "print ('the geographical cordinates of DownTown Toronto are {},{}'.format(latitude, longitude))\n"
   ]
  },
  {
   "cell_type": "code",
   "execution_count": 24,
   "metadata": {},
   "outputs": [
    {
     "ename": "AttributeError",
     "evalue": "module 'folium' has no attribute 'popup'",
     "output_type": "error",
     "traceback": [
      "\u001b[1;31m---------------------------------------------------------------------------\u001b[0m",
      "\u001b[1;31mAttributeError\u001b[0m                            Traceback (most recent call last)",
      "\u001b[1;32m<ipython-input-24-db47a5d57f1f>\u001b[0m in \u001b[0;36m<module>\u001b[1;34m\u001b[0m\n\u001b[0;32m      2\u001b[0m \u001b[1;33m\u001b[0m\u001b[0m\n\u001b[0;32m      3\u001b[0m \u001b[1;32mfor\u001b[0m \u001b[0mlat\u001b[0m\u001b[1;33m,\u001b[0m \u001b[0mlng\u001b[0m\u001b[1;33m,\u001b[0m \u001b[0mlabel\u001b[0m \u001b[1;32min\u001b[0m \u001b[0mzip\u001b[0m\u001b[1;33m(\u001b[0m\u001b[0mdowntown\u001b[0m\u001b[1;33m[\u001b[0m\u001b[1;34m'Latitude'\u001b[0m\u001b[1;33m]\u001b[0m\u001b[1;33m,\u001b[0m \u001b[0mdowntown\u001b[0m\u001b[1;33m[\u001b[0m\u001b[1;34m'Longitude'\u001b[0m\u001b[1;33m]\u001b[0m\u001b[1;33m,\u001b[0m\u001b[0mdowntown\u001b[0m\u001b[1;33m[\u001b[0m\u001b[1;34m'Neighborhood'\u001b[0m\u001b[1;33m]\u001b[0m\u001b[1;33m)\u001b[0m\u001b[1;33m:\u001b[0m\u001b[1;33m\u001b[0m\u001b[1;33m\u001b[0m\u001b[0m\n\u001b[1;32m----> 4\u001b[1;33m     \u001b[0mlabel\u001b[0m \u001b[1;33m=\u001b[0m \u001b[0mfolium\u001b[0m\u001b[1;33m.\u001b[0m\u001b[0mpopup\u001b[0m\u001b[1;33m(\u001b[0m\u001b[0mlabel\u001b[0m\u001b[1;33m,\u001b[0m \u001b[0mparse_html\u001b[0m\u001b[1;33m=\u001b[0m\u001b[1;32mTrue\u001b[0m\u001b[1;33m)\u001b[0m\u001b[1;33m\u001b[0m\u001b[1;33m\u001b[0m\u001b[0m\n\u001b[0m\u001b[0;32m      5\u001b[0m     folium.CircleMarker(\n\u001b[0;32m      6\u001b[0m     \u001b[1;33m[\u001b[0m\u001b[0mlat\u001b[0m\u001b[1;33m,\u001b[0m \u001b[0mlng\u001b[0m\u001b[1;33m]\u001b[0m\u001b[1;33m,\u001b[0m\u001b[1;33m\u001b[0m\u001b[1;33m\u001b[0m\u001b[0m\n",
      "\u001b[1;31mAttributeError\u001b[0m: module 'folium' has no attribute 'popup'"
     ]
    }
   ],
   "source": [
    "downtown_map = folium.Map(location=[latitude, longitude], zoom_start = 13)\n",
    "\n",
    "for lat, lng, label in zip(downtown['Latitude'], downtown['Longitude'],downtown['Neighborhood']):\n",
    "    label = folium.popup(label, parse_html=True)\n",
    "    folium.CircleMarker(\n",
    "    [lat, lng],\n",
    "    radius=5,\n",
    "    popup=label,\n",
    "    color='red',\n",
    "    fill=True,\n",
    "    fill_color='#3186cc',\n",
    "    fill_opacity=0.7,\n",
    "    parse_html=False).add_to(downtown_map)\n",
    "downtown_map"
   ]
  },
  {
   "cell_type": "code",
   "execution_count": null,
   "metadata": {},
   "outputs": [],
   "source": []
  }
 ],
 "metadata": {
  "kernelspec": {
   "display_name": "Python 3",
   "language": "python",
   "name": "python3"
  },
  "language_info": {
   "codemirror_mode": {
    "name": "ipython",
    "version": 3
   },
   "file_extension": ".py",
   "mimetype": "text/x-python",
   "name": "python",
   "nbconvert_exporter": "python",
   "pygments_lexer": "ipython3",
   "version": "3.7.3"
  },
  "toc": {
   "base_numbering": 1,
   "nav_menu": {},
   "number_sections": true,
   "sideBar": true,
   "skip_h1_title": false,
   "title_cell": "Table of Contents",
   "title_sidebar": "Contents",
   "toc_cell": false,
   "toc_position": {},
   "toc_section_display": true,
   "toc_window_display": false
  }
 },
 "nbformat": 4,
 "nbformat_minor": 2
}
