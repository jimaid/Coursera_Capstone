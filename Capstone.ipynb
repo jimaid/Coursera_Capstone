{
 "cells": [
  {
   "cell_type": "markdown",
   "metadata": {},
   "source": [
    "This is the final Project of the Coursera IBM Data Science Certificate Course. "
   ]
  },
  {
   "cell_type": "code",
   "execution_count": 1,
   "metadata": {},
   "outputs": [],
   "source": [
    "import pandas as pd"
   ]
  },
  {
   "cell_type": "code",
   "execution_count": 2,
   "metadata": {},
   "outputs": [],
   "source": [
    "import numpy as np"
   ]
  },
  {
   "cell_type": "code",
   "execution_count": 3,
   "metadata": {},
   "outputs": [
    {
     "name": "stdout",
     "output_type": "stream",
     "text": [
      "Hello Capstone Project Course!\n"
     ]
    }
   ],
   "source": [
    "print('Hello Capstone Project Course!')"
   ]
  },
  {
   "cell_type": "markdown",
   "metadata": {},
   "source": [
    "This is the beginning of the Segmentation and Clustering of Neighborhoods in Toronto project.\n",
    "\n",
    "I will start by scraping the dataset from Wikipedia"
   ]
  },
  {
   "cell_type": "code",
   "execution_count": 4,
   "metadata": {},
   "outputs": [],
   "source": [
    "#Import libraries and dependencies\n",
    "import requests\n",
    "from bs4 import BeautifulSoup\n",
    "from pandas.io.html import read_html"
   ]
  },
  {
   "cell_type": "markdown",
   "metadata": {},
   "source": [
    "### extracting dataset from the Wikipage"
   ]
  },
  {
   "cell_type": "code",
   "execution_count": 5,
   "metadata": {},
   "outputs": [],
   "source": [
    "url ='https://en.wikipedia.org/wiki/List_of_postal_codes_of_Canada:_M'"
   ]
  },
  {
   "cell_type": "code",
   "execution_count": 6,
   "metadata": {},
   "outputs": [],
   "source": [
    "tables = read_html(url, attrs = {\"class\":\"wikitable\"})"
   ]
  },
  {
   "cell_type": "code",
   "execution_count": 7,
   "metadata": {},
   "outputs": [
    {
     "data": {
      "text/html": [
       "<div>\n",
       "<style scoped>\n",
       "    .dataframe tbody tr th:only-of-type {\n",
       "        vertical-align: middle;\n",
       "    }\n",
       "\n",
       "    .dataframe tbody tr th {\n",
       "        vertical-align: top;\n",
       "    }\n",
       "\n",
       "    .dataframe thead th {\n",
       "        text-align: right;\n",
       "    }\n",
       "</style>\n",
       "<table border=\"1\" class=\"dataframe\">\n",
       "  <thead>\n",
       "    <tr style=\"text-align: right;\">\n",
       "      <th></th>\n",
       "      <th>Postal Code</th>\n",
       "      <th>Borough</th>\n",
       "      <th>Neighborhood</th>\n",
       "    </tr>\n",
       "  </thead>\n",
       "  <tbody>\n",
       "    <tr>\n",
       "      <th>0</th>\n",
       "      <td>M1A</td>\n",
       "      <td>Not assigned</td>\n",
       "      <td>NaN</td>\n",
       "    </tr>\n",
       "    <tr>\n",
       "      <th>1</th>\n",
       "      <td>M2A</td>\n",
       "      <td>Not assigned</td>\n",
       "      <td>NaN</td>\n",
       "    </tr>\n",
       "    <tr>\n",
       "      <th>2</th>\n",
       "      <td>M3A</td>\n",
       "      <td>North York</td>\n",
       "      <td>Parkwoods</td>\n",
       "    </tr>\n",
       "    <tr>\n",
       "      <th>3</th>\n",
       "      <td>M4A</td>\n",
       "      <td>North York</td>\n",
       "      <td>Victoria Village</td>\n",
       "    </tr>\n",
       "    <tr>\n",
       "      <th>4</th>\n",
       "      <td>M5A</td>\n",
       "      <td>Downtown Toronto</td>\n",
       "      <td>Regent Park, Harbourfront</td>\n",
       "    </tr>\n",
       "  </tbody>\n",
       "</table>\n",
       "</div>"
      ],
      "text/plain": [
       "  Postal Code           Borough               Neighborhood\n",
       "0         M1A      Not assigned                        NaN\n",
       "1         M2A      Not assigned                        NaN\n",
       "2         M3A        North York                  Parkwoods\n",
       "3         M4A        North York           Victoria Village\n",
       "4         M5A  Downtown Toronto  Regent Park, Harbourfront"
      ]
     },
     "execution_count": 7,
     "metadata": {},
     "output_type": "execute_result"
    }
   ],
   "source": [
    "tables[0].head()"
   ]
  },
  {
   "cell_type": "markdown",
   "metadata": {},
   "source": [
    "### Converting table to a Dataframe"
   ]
  },
  {
   "cell_type": "code",
   "execution_count": 8,
   "metadata": {},
   "outputs": [
    {
     "data": {
      "text/html": [
       "<div>\n",
       "<style scoped>\n",
       "    .dataframe tbody tr th:only-of-type {\n",
       "        vertical-align: middle;\n",
       "    }\n",
       "\n",
       "    .dataframe tbody tr th {\n",
       "        vertical-align: top;\n",
       "    }\n",
       "\n",
       "    .dataframe thead th {\n",
       "        text-align: right;\n",
       "    }\n",
       "</style>\n",
       "<table border=\"1\" class=\"dataframe\">\n",
       "  <thead>\n",
       "    <tr style=\"text-align: right;\">\n",
       "      <th></th>\n",
       "      <th>Postal Code</th>\n",
       "      <th>Borough</th>\n",
       "      <th>Neighborhood</th>\n",
       "    </tr>\n",
       "  </thead>\n",
       "  <tbody>\n",
       "    <tr>\n",
       "      <th>0</th>\n",
       "      <td>M1A</td>\n",
       "      <td>Not assigned</td>\n",
       "      <td>NaN</td>\n",
       "    </tr>\n",
       "    <tr>\n",
       "      <th>1</th>\n",
       "      <td>M2A</td>\n",
       "      <td>Not assigned</td>\n",
       "      <td>NaN</td>\n",
       "    </tr>\n",
       "    <tr>\n",
       "      <th>2</th>\n",
       "      <td>M3A</td>\n",
       "      <td>North York</td>\n",
       "      <td>Parkwoods</td>\n",
       "    </tr>\n",
       "    <tr>\n",
       "      <th>3</th>\n",
       "      <td>M4A</td>\n",
       "      <td>North York</td>\n",
       "      <td>Victoria Village</td>\n",
       "    </tr>\n",
       "    <tr>\n",
       "      <th>4</th>\n",
       "      <td>M5A</td>\n",
       "      <td>Downtown Toronto</td>\n",
       "      <td>Regent Park, Harbourfront</td>\n",
       "    </tr>\n",
       "  </tbody>\n",
       "</table>\n",
       "</div>"
      ],
      "text/plain": [
       "  Postal Code           Borough               Neighborhood\n",
       "0         M1A      Not assigned                        NaN\n",
       "1         M2A      Not assigned                        NaN\n",
       "2         M3A        North York                  Parkwoods\n",
       "3         M4A        North York           Victoria Village\n",
       "4         M5A  Downtown Toronto  Regent Park, Harbourfront"
      ]
     },
     "execution_count": 8,
     "metadata": {},
     "output_type": "execute_result"
    }
   ],
   "source": [
    "canada= pd.DataFrame(tables[0])\n",
    "canada.head()"
   ]
  },
  {
   "cell_type": "markdown",
   "metadata": {},
   "source": [
    "### Removing all Boroughs Not assigned"
   ]
  },
  {
   "cell_type": "code",
   "execution_count": 9,
   "metadata": {},
   "outputs": [
    {
     "data": {
      "text/html": [
       "<div>\n",
       "<style scoped>\n",
       "    .dataframe tbody tr th:only-of-type {\n",
       "        vertical-align: middle;\n",
       "    }\n",
       "\n",
       "    .dataframe tbody tr th {\n",
       "        vertical-align: top;\n",
       "    }\n",
       "\n",
       "    .dataframe thead th {\n",
       "        text-align: right;\n",
       "    }\n",
       "</style>\n",
       "<table border=\"1\" class=\"dataframe\">\n",
       "  <thead>\n",
       "    <tr style=\"text-align: right;\">\n",
       "      <th></th>\n",
       "      <th>Postal Code</th>\n",
       "      <th>Borough</th>\n",
       "      <th>Neighborhood</th>\n",
       "    </tr>\n",
       "  </thead>\n",
       "  <tbody>\n",
       "    <tr>\n",
       "      <th>2</th>\n",
       "      <td>M3A</td>\n",
       "      <td>North York</td>\n",
       "      <td>Parkwoods</td>\n",
       "    </tr>\n",
       "    <tr>\n",
       "      <th>3</th>\n",
       "      <td>M4A</td>\n",
       "      <td>North York</td>\n",
       "      <td>Victoria Village</td>\n",
       "    </tr>\n",
       "    <tr>\n",
       "      <th>4</th>\n",
       "      <td>M5A</td>\n",
       "      <td>Downtown Toronto</td>\n",
       "      <td>Regent Park, Harbourfront</td>\n",
       "    </tr>\n",
       "    <tr>\n",
       "      <th>5</th>\n",
       "      <td>M6A</td>\n",
       "      <td>North York</td>\n",
       "      <td>Lawrence Manor, Lawrence Heights</td>\n",
       "    </tr>\n",
       "    <tr>\n",
       "      <th>6</th>\n",
       "      <td>M7A</td>\n",
       "      <td>Downtown Toronto</td>\n",
       "      <td>Queen's Park, Ontario Provincial Government</td>\n",
       "    </tr>\n",
       "    <tr>\n",
       "      <th>8</th>\n",
       "      <td>M9A</td>\n",
       "      <td>Etobicoke</td>\n",
       "      <td>Islington Avenue</td>\n",
       "    </tr>\n",
       "    <tr>\n",
       "      <th>9</th>\n",
       "      <td>M1B</td>\n",
       "      <td>Scarborough</td>\n",
       "      <td>Malvern, Rouge</td>\n",
       "    </tr>\n",
       "    <tr>\n",
       "      <th>11</th>\n",
       "      <td>M3B</td>\n",
       "      <td>North York</td>\n",
       "      <td>Don Mills</td>\n",
       "    </tr>\n",
       "    <tr>\n",
       "      <th>12</th>\n",
       "      <td>M4B</td>\n",
       "      <td>East York</td>\n",
       "      <td>Parkview Hill, Woodbine Gardens</td>\n",
       "    </tr>\n",
       "    <tr>\n",
       "      <th>13</th>\n",
       "      <td>M5B</td>\n",
       "      <td>Downtown Toronto</td>\n",
       "      <td>Garden District, Ryerson</td>\n",
       "    </tr>\n",
       "  </tbody>\n",
       "</table>\n",
       "</div>"
      ],
      "text/plain": [
       "   Postal Code           Borough                                 Neighborhood\n",
       "2          M3A        North York                                    Parkwoods\n",
       "3          M4A        North York                             Victoria Village\n",
       "4          M5A  Downtown Toronto                    Regent Park, Harbourfront\n",
       "5          M6A        North York             Lawrence Manor, Lawrence Heights\n",
       "6          M7A  Downtown Toronto  Queen's Park, Ontario Provincial Government\n",
       "8          M9A         Etobicoke                             Islington Avenue\n",
       "9          M1B       Scarborough                               Malvern, Rouge\n",
       "11         M3B        North York                                    Don Mills\n",
       "12         M4B         East York              Parkview Hill, Woodbine Gardens\n",
       "13         M5B  Downtown Toronto                     Garden District, Ryerson"
      ]
     },
     "execution_count": 9,
     "metadata": {},
     "output_type": "execute_result"
    }
   ],
   "source": [
    "df1=canada.loc[lambda x:x['Borough']!='Not assigned']\n",
    "df1.head(10)"
   ]
  },
  {
   "cell_type": "code",
   "execution_count": 10,
   "metadata": {},
   "outputs": [
    {
     "data": {
      "text/plain": [
       "(103, 3)"
      ]
     },
     "execution_count": 10,
     "metadata": {},
     "output_type": "execute_result"
    }
   ],
   "source": [
    "df1.shape"
   ]
  },
  {
   "cell_type": "code",
   "execution_count": 11,
   "metadata": {},
   "outputs": [
    {
     "data": {
      "text/html": [
       "<div>\n",
       "<style scoped>\n",
       "    .dataframe tbody tr th:only-of-type {\n",
       "        vertical-align: middle;\n",
       "    }\n",
       "\n",
       "    .dataframe tbody tr th {\n",
       "        vertical-align: top;\n",
       "    }\n",
       "\n",
       "    .dataframe thead th {\n",
       "        text-align: right;\n",
       "    }\n",
       "</style>\n",
       "<table border=\"1\" class=\"dataframe\">\n",
       "  <thead>\n",
       "    <tr style=\"text-align: right;\">\n",
       "      <th></th>\n",
       "      <th>Postal Code</th>\n",
       "      <th>Borough</th>\n",
       "      <th>Neighborhood</th>\n",
       "    </tr>\n",
       "  </thead>\n",
       "  <tbody>\n",
       "    <tr>\n",
       "      <th>0</th>\n",
       "      <td>M3A</td>\n",
       "      <td>North York</td>\n",
       "      <td>Parkwoods</td>\n",
       "    </tr>\n",
       "    <tr>\n",
       "      <th>1</th>\n",
       "      <td>M4A</td>\n",
       "      <td>North York</td>\n",
       "      <td>Victoria Village</td>\n",
       "    </tr>\n",
       "    <tr>\n",
       "      <th>2</th>\n",
       "      <td>M5A</td>\n",
       "      <td>Downtown Toronto</td>\n",
       "      <td>Regent Park, Harbourfront</td>\n",
       "    </tr>\n",
       "    <tr>\n",
       "      <th>3</th>\n",
       "      <td>M6A</td>\n",
       "      <td>North York</td>\n",
       "      <td>Lawrence Manor, Lawrence Heights</td>\n",
       "    </tr>\n",
       "    <tr>\n",
       "      <th>4</th>\n",
       "      <td>M7A</td>\n",
       "      <td>Downtown Toronto</td>\n",
       "      <td>Queen's Park, Ontario Provincial Government</td>\n",
       "    </tr>\n",
       "    <tr>\n",
       "      <th>5</th>\n",
       "      <td>M9A</td>\n",
       "      <td>Etobicoke</td>\n",
       "      <td>Islington Avenue</td>\n",
       "    </tr>\n",
       "    <tr>\n",
       "      <th>6</th>\n",
       "      <td>M1B</td>\n",
       "      <td>Scarborough</td>\n",
       "      <td>Malvern, Rouge</td>\n",
       "    </tr>\n",
       "    <tr>\n",
       "      <th>7</th>\n",
       "      <td>M3B</td>\n",
       "      <td>North York</td>\n",
       "      <td>Don Mills</td>\n",
       "    </tr>\n",
       "    <tr>\n",
       "      <th>8</th>\n",
       "      <td>M4B</td>\n",
       "      <td>East York</td>\n",
       "      <td>Parkview Hill, Woodbine Gardens</td>\n",
       "    </tr>\n",
       "    <tr>\n",
       "      <th>9</th>\n",
       "      <td>M5B</td>\n",
       "      <td>Downtown Toronto</td>\n",
       "      <td>Garden District, Ryerson</td>\n",
       "    </tr>\n",
       "  </tbody>\n",
       "</table>\n",
       "</div>"
      ],
      "text/plain": [
       "  Postal Code           Borough                                 Neighborhood\n",
       "0         M3A        North York                                    Parkwoods\n",
       "1         M4A        North York                             Victoria Village\n",
       "2         M5A  Downtown Toronto                    Regent Park, Harbourfront\n",
       "3         M6A        North York             Lawrence Manor, Lawrence Heights\n",
       "4         M7A  Downtown Toronto  Queen's Park, Ontario Provincial Government\n",
       "5         M9A         Etobicoke                             Islington Avenue\n",
       "6         M1B       Scarborough                               Malvern, Rouge\n",
       "7         M3B        North York                                    Don Mills\n",
       "8         M4B         East York              Parkview Hill, Woodbine Gardens\n",
       "9         M5B  Downtown Toronto                     Garden District, Ryerson"
      ]
     },
     "execution_count": 11,
     "metadata": {},
     "output_type": "execute_result"
    }
   ],
   "source": [
    "df1.reset_index(drop=True).head(10)"
   ]
  },
  {
   "cell_type": "code",
   "execution_count": 12,
   "metadata": {},
   "outputs": [
    {
     "data": {
      "text/plain": [
       "(103, 3)"
      ]
     },
     "execution_count": 12,
     "metadata": {},
     "output_type": "execute_result"
    }
   ],
   "source": [
    "df1.shape"
   ]
  },
  {
   "cell_type": "markdown",
   "metadata": {},
   "source": [
    "### Import Location Coordinates"
   ]
  },
  {
   "cell_type": "code",
   "execution_count": 13,
   "metadata": {},
   "outputs": [
    {
     "data": {
      "text/html": [
       "<div>\n",
       "<style scoped>\n",
       "    .dataframe tbody tr th:only-of-type {\n",
       "        vertical-align: middle;\n",
       "    }\n",
       "\n",
       "    .dataframe tbody tr th {\n",
       "        vertical-align: top;\n",
       "    }\n",
       "\n",
       "    .dataframe thead th {\n",
       "        text-align: right;\n",
       "    }\n",
       "</style>\n",
       "<table border=\"1\" class=\"dataframe\">\n",
       "  <thead>\n",
       "    <tr style=\"text-align: right;\">\n",
       "      <th></th>\n",
       "      <th>Postal Code</th>\n",
       "      <th>Latitude</th>\n",
       "      <th>Longitude</th>\n",
       "    </tr>\n",
       "  </thead>\n",
       "  <tbody>\n",
       "    <tr>\n",
       "      <th>0</th>\n",
       "      <td>M1B</td>\n",
       "      <td>43.806686</td>\n",
       "      <td>-79.194353</td>\n",
       "    </tr>\n",
       "    <tr>\n",
       "      <th>1</th>\n",
       "      <td>M1C</td>\n",
       "      <td>43.784535</td>\n",
       "      <td>-79.160497</td>\n",
       "    </tr>\n",
       "    <tr>\n",
       "      <th>2</th>\n",
       "      <td>M1E</td>\n",
       "      <td>43.763573</td>\n",
       "      <td>-79.188711</td>\n",
       "    </tr>\n",
       "    <tr>\n",
       "      <th>3</th>\n",
       "      <td>M1G</td>\n",
       "      <td>43.770992</td>\n",
       "      <td>-79.216917</td>\n",
       "    </tr>\n",
       "    <tr>\n",
       "      <th>4</th>\n",
       "      <td>M1H</td>\n",
       "      <td>43.773136</td>\n",
       "      <td>-79.239476</td>\n",
       "    </tr>\n",
       "  </tbody>\n",
       "</table>\n",
       "</div>"
      ],
      "text/plain": [
       "  Postal Code   Latitude  Longitude\n",
       "0         M1B  43.806686 -79.194353\n",
       "1         M1C  43.784535 -79.160497\n",
       "2         M1E  43.763573 -79.188711\n",
       "3         M1G  43.770992 -79.216917\n",
       "4         M1H  43.773136 -79.239476"
      ]
     },
     "execution_count": 13,
     "metadata": {},
     "output_type": "execute_result"
    }
   ],
   "source": [
    "df2= pd.read_csv('Geospatial_Coordinates.csv')\n",
    "df2.head()"
   ]
  },
  {
   "cell_type": "markdown",
   "metadata": {},
   "source": [
    "### Merge the dataframes to create new dataframe with Longitude and Latitude Coordinates"
   ]
  },
  {
   "cell_type": "code",
   "execution_count": 15,
   "metadata": {},
   "outputs": [
    {
     "data": {
      "text/html": [
       "<div>\n",
       "<style scoped>\n",
       "    .dataframe tbody tr th:only-of-type {\n",
       "        vertical-align: middle;\n",
       "    }\n",
       "\n",
       "    .dataframe tbody tr th {\n",
       "        vertical-align: top;\n",
       "    }\n",
       "\n",
       "    .dataframe thead th {\n",
       "        text-align: right;\n",
       "    }\n",
       "</style>\n",
       "<table border=\"1\" class=\"dataframe\">\n",
       "  <thead>\n",
       "    <tr style=\"text-align: right;\">\n",
       "      <th></th>\n",
       "      <th>Postal Code</th>\n",
       "      <th>Borough</th>\n",
       "      <th>Neighborhood</th>\n",
       "      <th>Latitude</th>\n",
       "      <th>Longitude</th>\n",
       "    </tr>\n",
       "  </thead>\n",
       "  <tbody>\n",
       "    <tr>\n",
       "      <th>0</th>\n",
       "      <td>M3A</td>\n",
       "      <td>North York</td>\n",
       "      <td>Parkwoods</td>\n",
       "      <td>43.753259</td>\n",
       "      <td>-79.329656</td>\n",
       "    </tr>\n",
       "    <tr>\n",
       "      <th>1</th>\n",
       "      <td>M4A</td>\n",
       "      <td>North York</td>\n",
       "      <td>Victoria Village</td>\n",
       "      <td>43.725882</td>\n",
       "      <td>-79.315572</td>\n",
       "    </tr>\n",
       "    <tr>\n",
       "      <th>2</th>\n",
       "      <td>M5A</td>\n",
       "      <td>Downtown Toronto</td>\n",
       "      <td>Regent Park, Harbourfront</td>\n",
       "      <td>43.654260</td>\n",
       "      <td>-79.360636</td>\n",
       "    </tr>\n",
       "    <tr>\n",
       "      <th>3</th>\n",
       "      <td>M6A</td>\n",
       "      <td>North York</td>\n",
       "      <td>Lawrence Manor, Lawrence Heights</td>\n",
       "      <td>43.718518</td>\n",
       "      <td>-79.464763</td>\n",
       "    </tr>\n",
       "    <tr>\n",
       "      <th>4</th>\n",
       "      <td>M7A</td>\n",
       "      <td>Downtown Toronto</td>\n",
       "      <td>Queen's Park, Ontario Provincial Government</td>\n",
       "      <td>43.662301</td>\n",
       "      <td>-79.389494</td>\n",
       "    </tr>\n",
       "    <tr>\n",
       "      <th>5</th>\n",
       "      <td>M9A</td>\n",
       "      <td>Etobicoke</td>\n",
       "      <td>Islington Avenue</td>\n",
       "      <td>43.667856</td>\n",
       "      <td>-79.532242</td>\n",
       "    </tr>\n",
       "    <tr>\n",
       "      <th>6</th>\n",
       "      <td>M1B</td>\n",
       "      <td>Scarborough</td>\n",
       "      <td>Malvern, Rouge</td>\n",
       "      <td>43.806686</td>\n",
       "      <td>-79.194353</td>\n",
       "    </tr>\n",
       "    <tr>\n",
       "      <th>7</th>\n",
       "      <td>M3B</td>\n",
       "      <td>North York</td>\n",
       "      <td>Don Mills</td>\n",
       "      <td>43.745906</td>\n",
       "      <td>-79.352188</td>\n",
       "    </tr>\n",
       "    <tr>\n",
       "      <th>8</th>\n",
       "      <td>M4B</td>\n",
       "      <td>East York</td>\n",
       "      <td>Parkview Hill, Woodbine Gardens</td>\n",
       "      <td>43.706397</td>\n",
       "      <td>-79.309937</td>\n",
       "    </tr>\n",
       "    <tr>\n",
       "      <th>9</th>\n",
       "      <td>M5B</td>\n",
       "      <td>Downtown Toronto</td>\n",
       "      <td>Garden District, Ryerson</td>\n",
       "      <td>43.657162</td>\n",
       "      <td>-79.378937</td>\n",
       "    </tr>\n",
       "    <tr>\n",
       "      <th>10</th>\n",
       "      <td>M6B</td>\n",
       "      <td>North York</td>\n",
       "      <td>Glencairn</td>\n",
       "      <td>43.709577</td>\n",
       "      <td>-79.445073</td>\n",
       "    </tr>\n",
       "    <tr>\n",
       "      <th>11</th>\n",
       "      <td>M9B</td>\n",
       "      <td>Etobicoke</td>\n",
       "      <td>West Deane Park, Princess Gardens, Martin Grov...</td>\n",
       "      <td>43.650943</td>\n",
       "      <td>-79.554724</td>\n",
       "    </tr>\n",
       "  </tbody>\n",
       "</table>\n",
       "</div>"
      ],
      "text/plain": [
       "   Postal Code           Borough  \\\n",
       "0          M3A        North York   \n",
       "1          M4A        North York   \n",
       "2          M5A  Downtown Toronto   \n",
       "3          M6A        North York   \n",
       "4          M7A  Downtown Toronto   \n",
       "5          M9A         Etobicoke   \n",
       "6          M1B       Scarborough   \n",
       "7          M3B        North York   \n",
       "8          M4B         East York   \n",
       "9          M5B  Downtown Toronto   \n",
       "10         M6B        North York   \n",
       "11         M9B         Etobicoke   \n",
       "\n",
       "                                         Neighborhood   Latitude  Longitude  \n",
       "0                                           Parkwoods  43.753259 -79.329656  \n",
       "1                                    Victoria Village  43.725882 -79.315572  \n",
       "2                           Regent Park, Harbourfront  43.654260 -79.360636  \n",
       "3                    Lawrence Manor, Lawrence Heights  43.718518 -79.464763  \n",
       "4         Queen's Park, Ontario Provincial Government  43.662301 -79.389494  \n",
       "5                                    Islington Avenue  43.667856 -79.532242  \n",
       "6                                      Malvern, Rouge  43.806686 -79.194353  \n",
       "7                                           Don Mills  43.745906 -79.352188  \n",
       "8                     Parkview Hill, Woodbine Gardens  43.706397 -79.309937  \n",
       "9                            Garden District, Ryerson  43.657162 -79.378937  \n",
       "10                                          Glencairn  43.709577 -79.445073  \n",
       "11  West Deane Park, Princess Gardens, Martin Grov...  43.650943 -79.554724  "
      ]
     },
     "execution_count": 15,
     "metadata": {},
     "output_type": "execute_result"
    }
   ],
   "source": [
    "df=pd.merge(df1,df2, on='Postal Code')\n",
    "df.head(12)"
   ]
  },
  {
   "cell_type": "markdown",
   "metadata": {},
   "source": [
    "### Creating a map of To"
   ]
  },
  {
   "cell_type": "code",
   "execution_count": 16,
   "metadata": {},
   "outputs": [],
   "source": [
    "import folium"
   ]
  },
  {
   "cell_type": "code",
   "execution_count": 28,
   "metadata": {},
   "outputs": [],
   "source": [
    "from geopy.geocoders import Nominatim"
   ]
  },
  {
   "cell_type": "code",
   "execution_count": 29,
   "metadata": {},
   "outputs": [
    {
     "name": "stdout",
     "output_type": "stream",
     "text": [
      "The geograpical coordinate of Toronto City are 43.6534817, -79.3839347.\n"
     ]
    }
   ],
   "source": [
    "address = 'Toronto, ON'\n",
    "\n",
    "geolocator = Nominatim(user_agent=\"ca_explorer\")\n",
    "location = geolocator.geocode(address)\n",
    "latitude = location.latitude\n",
    "longitude = location.longitude\n",
    "print('The geograpical coordinate of Toronto City are {}, {}.'.format(latitude, longitude))"
   ]
  },
  {
   "cell_type": "code",
   "execution_count": 32,
   "metadata": {},
   "outputs": [],
   "source": [
    "canada_map = folium.Map(location=[latitude, longitude], zoom_start = 11)\n"
   ]
  },
  {
   "cell_type": "code",
   "execution_count": 33,
   "metadata": {},
   "outputs": [
    {
     "data": {
      "text/html": [
       "<div style=\"width:100%;\"><div style=\"position:relative;width:100%;height:0;padding-bottom:60%;\"><iframe src=\"data:text/html;charset=utf-8;base64,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\" style=\"position:absolute;width:100%;height:100%;left:0;top:0;border:none !important;\" allowfullscreen webkitallowfullscreen mozallowfullscreen></iframe></div></div>"
      ],
      "text/plain": [
       "<folium.folium.Map at 0x26d74d674e0>"
      ]
     },
     "execution_count": 33,
     "metadata": {},
     "output_type": "execute_result"
    }
   ],
   "source": [
    "for lat, lng, borough, neighborhood in zip(df['Latitude'], df['Longitude'], df['Borough'], df['Neighborhood']):\n",
    "    label = '{}, {}'.format(neighborhood, borough)\n",
    "    label = folium.Popup(label, parse_html=True)\n",
    "    folium.CircleMarker(\n",
    "        [lat, lng],\n",
    "        radius=5,\n",
    "        popup=label,\n",
    "        color='blue',\n",
    "        fill=True,\n",
    "        fill_color='#3186cc',\n",
    "        fill_opacity=0.7,\n",
    "        parse_html=False).add_to(canada_map)  \n",
    "    \n",
    "canada_map"
   ]
  },
  {
   "cell_type": "code",
   "execution_count": null,
   "metadata": {},
   "outputs": [],
   "source": []
  }
 ],
 "metadata": {
  "kernelspec": {
   "display_name": "Python 3",
   "language": "python",
   "name": "python3"
  },
  "language_info": {
   "codemirror_mode": {
    "name": "ipython",
    "version": 3
   },
   "file_extension": ".py",
   "mimetype": "text/x-python",
   "name": "python",
   "nbconvert_exporter": "python",
   "pygments_lexer": "ipython3",
   "version": "3.7.3"
  },
  "toc": {
   "base_numbering": 1,
   "nav_menu": {},
   "number_sections": true,
   "sideBar": true,
   "skip_h1_title": false,
   "title_cell": "Table of Contents",
   "title_sidebar": "Contents",
   "toc_cell": false,
   "toc_position": {},
   "toc_section_display": true,
   "toc_window_display": false
  }
 },
 "nbformat": 4,
 "nbformat_minor": 2
}
